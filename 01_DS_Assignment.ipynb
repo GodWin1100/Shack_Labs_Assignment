{
 "cells": [
  {
   "cell_type": "markdown",
   "metadata": {},
   "source": [
    "**Name:** Shivam Panchal  \n",
    "**Company:** Shack Labs  \n",
    "**Position:** Data Science Internship\n"
   ]
  },
  {
   "cell_type": "markdown",
   "metadata": {},
   "source": [
    "# Problem Statement\n",
    "\n",
    "- The goal is to understand the relationship between house features and how these variables affect the house price.\n"
   ]
  },
  {
   "cell_type": "markdown",
   "metadata": {},
   "source": [
    "## Importing Libraries\n"
   ]
  },
  {
   "cell_type": "code",
   "execution_count": 4,
   "metadata": {},
   "outputs": [],
   "source": [
    "# %pip install sklearn pandas numpy plotly seaborn matploblib catboost xgboost\n"
   ]
  },
  {
   "cell_type": "code",
   "execution_count": 5,
   "metadata": {},
   "outputs": [],
   "source": [
    "import pandas as pd\n",
    "import numpy as np\n",
    "from matplotlib import pyplot as plt\n",
    "import seaborn as sns\n",
    "import plotly.express as px\n",
    "import plotly.io as pio\n",
    "\n",
    "pio.templates.default = \"plotly_dark\"\n",
    "sns.set_theme(style=\"darkgrid\", font_scale=1.4)\n"
   ]
  },
  {
   "cell_type": "markdown",
   "metadata": {},
   "source": [
    "## Importing Data\n"
   ]
  },
  {
   "cell_type": "code",
   "execution_count": 6,
   "metadata": {},
   "outputs": [
    {
     "data": {
      "text/html": [
       "<div>\n",
       "<style scoped>\n",
       "    .dataframe tbody tr th:only-of-type {\n",
       "        vertical-align: middle;\n",
       "    }\n",
       "\n",
       "    .dataframe tbody tr th {\n",
       "        vertical-align: top;\n",
       "    }\n",
       "\n",
       "    .dataframe thead th {\n",
       "        text-align: right;\n",
       "    }\n",
       "</style>\n",
       "<table border=\"1\" class=\"dataframe\">\n",
       "  <thead>\n",
       "    <tr style=\"text-align: right;\">\n",
       "      <th></th>\n",
       "      <th>Transaction date</th>\n",
       "      <th>House Age</th>\n",
       "      <th>Distance from nearest Metro station (km)</th>\n",
       "      <th>Number of convenience stores</th>\n",
       "      <th>latitude</th>\n",
       "      <th>longitude</th>\n",
       "      <th>Number of bedrooms</th>\n",
       "      <th>House size (sqft)</th>\n",
       "      <th>House price of unit area</th>\n",
       "    </tr>\n",
       "  </thead>\n",
       "  <tbody>\n",
       "    <tr>\n",
       "      <th>0</th>\n",
       "      <td>2012.916667</td>\n",
       "      <td>32.0</td>\n",
       "      <td>84.87882</td>\n",
       "      <td>10</td>\n",
       "      <td>24.98298</td>\n",
       "      <td>121.54024</td>\n",
       "      <td>1</td>\n",
       "      <td>575</td>\n",
       "      <td>37.9</td>\n",
       "    </tr>\n",
       "    <tr>\n",
       "      <th>1</th>\n",
       "      <td>2012.916667</td>\n",
       "      <td>19.5</td>\n",
       "      <td>306.59470</td>\n",
       "      <td>9</td>\n",
       "      <td>24.98034</td>\n",
       "      <td>121.53951</td>\n",
       "      <td>2</td>\n",
       "      <td>1240</td>\n",
       "      <td>42.2</td>\n",
       "    </tr>\n",
       "    <tr>\n",
       "      <th>2</th>\n",
       "      <td>2013.583333</td>\n",
       "      <td>13.3</td>\n",
       "      <td>561.98450</td>\n",
       "      <td>5</td>\n",
       "      <td>24.98746</td>\n",
       "      <td>121.54391</td>\n",
       "      <td>3</td>\n",
       "      <td>1060</td>\n",
       "      <td>47.3</td>\n",
       "    </tr>\n",
       "    <tr>\n",
       "      <th>3</th>\n",
       "      <td>2013.500000</td>\n",
       "      <td>13.3</td>\n",
       "      <td>561.98450</td>\n",
       "      <td>5</td>\n",
       "      <td>24.98746</td>\n",
       "      <td>121.54391</td>\n",
       "      <td>2</td>\n",
       "      <td>875</td>\n",
       "      <td>54.8</td>\n",
       "    </tr>\n",
       "    <tr>\n",
       "      <th>4</th>\n",
       "      <td>2012.833333</td>\n",
       "      <td>5.0</td>\n",
       "      <td>390.56840</td>\n",
       "      <td>5</td>\n",
       "      <td>24.97937</td>\n",
       "      <td>121.54245</td>\n",
       "      <td>1</td>\n",
       "      <td>491</td>\n",
       "      <td>43.1</td>\n",
       "    </tr>\n",
       "  </tbody>\n",
       "</table>\n",
       "</div>"
      ],
      "text/plain": [
       "   Transaction date  House Age  Distance from nearest Metro station (km)  \\\n",
       "0       2012.916667       32.0                                  84.87882   \n",
       "1       2012.916667       19.5                                 306.59470   \n",
       "2       2013.583333       13.3                                 561.98450   \n",
       "3       2013.500000       13.3                                 561.98450   \n",
       "4       2012.833333        5.0                                 390.56840   \n",
       "\n",
       "   Number of convenience stores  latitude  longitude  Number of bedrooms  \\\n",
       "0                            10  24.98298  121.54024                   1   \n",
       "1                             9  24.98034  121.53951                   2   \n",
       "2                             5  24.98746  121.54391                   3   \n",
       "3                             5  24.98746  121.54391                   2   \n",
       "4                             5  24.97937  121.54245                   1   \n",
       "\n",
       "   House size (sqft)  House price of unit area  \n",
       "0                575                      37.9  \n",
       "1               1240                      42.2  \n",
       "2               1060                      47.3  \n",
       "3                875                      54.8  \n",
       "4                491                      43.1  "
      ]
     },
     "execution_count": 6,
     "metadata": {},
     "output_type": "execute_result"
    }
   ],
   "source": [
    "FILE_PATH = \"./DS - Assignment Part 1 data set.xlsx\"\n",
    "dataset = pd.read_excel(FILE_PATH)\n",
    "dataset.head()\n"
   ]
  },
  {
   "cell_type": "markdown",
   "metadata": {},
   "source": [
    "**OBSERVATION**\n",
    "\n",
    "- Target = `House price of unit area`\n"
   ]
  },
  {
   "cell_type": "markdown",
   "metadata": {},
   "source": [
    "## Dataset Summary\n"
   ]
  },
  {
   "cell_type": "code",
   "execution_count": 7,
   "metadata": {},
   "outputs": [
    {
     "name": "stdout",
     "output_type": "stream",
     "text": [
      "<class 'pandas.core.frame.DataFrame'>\n",
      "RangeIndex: 414 entries, 0 to 413\n",
      "Data columns (total 9 columns):\n",
      " #   Column                                    Non-Null Count  Dtype  \n",
      "---  ------                                    --------------  -----  \n",
      " 0   Transaction date                          414 non-null    float64\n",
      " 1   House Age                                 414 non-null    float64\n",
      " 2   Distance from nearest Metro station (km)  414 non-null    float64\n",
      " 3   Number of convenience stores              414 non-null    int64  \n",
      " 4   latitude                                  414 non-null    float64\n",
      " 5   longitude                                 414 non-null    float64\n",
      " 6   Number of bedrooms                        414 non-null    int64  \n",
      " 7   House size (sqft)                         414 non-null    int64  \n",
      " 8   House price of unit area                  414 non-null    float64\n",
      "dtypes: float64(6), int64(3)\n",
      "memory usage: 29.2 KB\n"
     ]
    }
   ],
   "source": [
    "dataset.info()\n"
   ]
  },
  {
   "cell_type": "code",
   "execution_count": 8,
   "metadata": {},
   "outputs": [
    {
     "data": {
      "text/html": [
       "<div>\n",
       "<style scoped>\n",
       "    .dataframe tbody tr th:only-of-type {\n",
       "        vertical-align: middle;\n",
       "    }\n",
       "\n",
       "    .dataframe tbody tr th {\n",
       "        vertical-align: top;\n",
       "    }\n",
       "\n",
       "    .dataframe thead th {\n",
       "        text-align: right;\n",
       "    }\n",
       "</style>\n",
       "<table border=\"1\" class=\"dataframe\">\n",
       "  <thead>\n",
       "    <tr style=\"text-align: right;\">\n",
       "      <th></th>\n",
       "      <th>Transaction date</th>\n",
       "      <th>House Age</th>\n",
       "      <th>Distance from nearest Metro station (km)</th>\n",
       "      <th>Number of convenience stores</th>\n",
       "      <th>latitude</th>\n",
       "      <th>longitude</th>\n",
       "      <th>Number of bedrooms</th>\n",
       "      <th>House size (sqft)</th>\n",
       "      <th>House price of unit area</th>\n",
       "    </tr>\n",
       "  </thead>\n",
       "  <tbody>\n",
       "    <tr>\n",
       "      <th>count</th>\n",
       "      <td>414.000000</td>\n",
       "      <td>414.000000</td>\n",
       "      <td>414.000000</td>\n",
       "      <td>414.000000</td>\n",
       "      <td>414.000000</td>\n",
       "      <td>414.000000</td>\n",
       "      <td>414.000000</td>\n",
       "      <td>414.000000</td>\n",
       "      <td>414.000000</td>\n",
       "    </tr>\n",
       "    <tr>\n",
       "      <th>mean</th>\n",
       "      <td>2013.148953</td>\n",
       "      <td>17.712560</td>\n",
       "      <td>1083.885689</td>\n",
       "      <td>4.094203</td>\n",
       "      <td>24.969030</td>\n",
       "      <td>121.533361</td>\n",
       "      <td>1.987923</td>\n",
       "      <td>931.475845</td>\n",
       "      <td>37.980193</td>\n",
       "    </tr>\n",
       "    <tr>\n",
       "      <th>std</th>\n",
       "      <td>0.281995</td>\n",
       "      <td>11.392485</td>\n",
       "      <td>1262.109595</td>\n",
       "      <td>2.945562</td>\n",
       "      <td>0.012410</td>\n",
       "      <td>0.015347</td>\n",
       "      <td>0.818875</td>\n",
       "      <td>348.910269</td>\n",
       "      <td>13.606488</td>\n",
       "    </tr>\n",
       "    <tr>\n",
       "      <th>min</th>\n",
       "      <td>2012.666667</td>\n",
       "      <td>0.000000</td>\n",
       "      <td>23.382840</td>\n",
       "      <td>0.000000</td>\n",
       "      <td>24.932070</td>\n",
       "      <td>121.473530</td>\n",
       "      <td>1.000000</td>\n",
       "      <td>402.000000</td>\n",
       "      <td>7.600000</td>\n",
       "    </tr>\n",
       "    <tr>\n",
       "      <th>25%</th>\n",
       "      <td>2012.916667</td>\n",
       "      <td>9.025000</td>\n",
       "      <td>289.324800</td>\n",
       "      <td>1.000000</td>\n",
       "      <td>24.963000</td>\n",
       "      <td>121.528085</td>\n",
       "      <td>1.000000</td>\n",
       "      <td>548.000000</td>\n",
       "      <td>27.700000</td>\n",
       "    </tr>\n",
       "    <tr>\n",
       "      <th>50%</th>\n",
       "      <td>2013.166667</td>\n",
       "      <td>16.100000</td>\n",
       "      <td>492.231300</td>\n",
       "      <td>4.000000</td>\n",
       "      <td>24.971100</td>\n",
       "      <td>121.538630</td>\n",
       "      <td>2.000000</td>\n",
       "      <td>975.000000</td>\n",
       "      <td>38.450000</td>\n",
       "    </tr>\n",
       "    <tr>\n",
       "      <th>75%</th>\n",
       "      <td>2013.416667</td>\n",
       "      <td>28.150000</td>\n",
       "      <td>1454.279000</td>\n",
       "      <td>6.000000</td>\n",
       "      <td>24.977455</td>\n",
       "      <td>121.543305</td>\n",
       "      <td>3.000000</td>\n",
       "      <td>1234.750000</td>\n",
       "      <td>46.600000</td>\n",
       "    </tr>\n",
       "    <tr>\n",
       "      <th>max</th>\n",
       "      <td>2013.583333</td>\n",
       "      <td>43.800000</td>\n",
       "      <td>6488.021000</td>\n",
       "      <td>10.000000</td>\n",
       "      <td>25.014590</td>\n",
       "      <td>121.566270</td>\n",
       "      <td>3.000000</td>\n",
       "      <td>1500.000000</td>\n",
       "      <td>117.500000</td>\n",
       "    </tr>\n",
       "  </tbody>\n",
       "</table>\n",
       "</div>"
      ],
      "text/plain": [
       "       Transaction date   House Age  Distance from nearest Metro station (km)  \\\n",
       "count        414.000000  414.000000                                414.000000   \n",
       "mean        2013.148953   17.712560                               1083.885689   \n",
       "std            0.281995   11.392485                               1262.109595   \n",
       "min         2012.666667    0.000000                                 23.382840   \n",
       "25%         2012.916667    9.025000                                289.324800   \n",
       "50%         2013.166667   16.100000                                492.231300   \n",
       "75%         2013.416667   28.150000                               1454.279000   \n",
       "max         2013.583333   43.800000                               6488.021000   \n",
       "\n",
       "       Number of convenience stores    latitude   longitude  \\\n",
       "count                    414.000000  414.000000  414.000000   \n",
       "mean                       4.094203   24.969030  121.533361   \n",
       "std                        2.945562    0.012410    0.015347   \n",
       "min                        0.000000   24.932070  121.473530   \n",
       "25%                        1.000000   24.963000  121.528085   \n",
       "50%                        4.000000   24.971100  121.538630   \n",
       "75%                        6.000000   24.977455  121.543305   \n",
       "max                       10.000000   25.014590  121.566270   \n",
       "\n",
       "       Number of bedrooms  House size (sqft)  House price of unit area  \n",
       "count          414.000000         414.000000                414.000000  \n",
       "mean             1.987923         931.475845                 37.980193  \n",
       "std              0.818875         348.910269                 13.606488  \n",
       "min              1.000000         402.000000                  7.600000  \n",
       "25%              1.000000         548.000000                 27.700000  \n",
       "50%              2.000000         975.000000                 38.450000  \n",
       "75%              3.000000        1234.750000                 46.600000  \n",
       "max              3.000000        1500.000000                117.500000  "
      ]
     },
     "execution_count": 8,
     "metadata": {},
     "output_type": "execute_result"
    }
   ],
   "source": [
    "dataset.describe()\n"
   ]
  },
  {
   "cell_type": "code",
   "execution_count": 9,
   "metadata": {},
   "outputs": [
    {
     "name": "stdout",
     "output_type": "stream",
     "text": [
      "Are there any Null Values? False\n"
     ]
    }
   ],
   "source": [
    "print(f\"Are there any Null Values? {dataset.isna().sum().any()}\")\n"
   ]
  },
  {
   "cell_type": "code",
   "execution_count": 10,
   "metadata": {},
   "outputs": [
    {
     "name": "stdout",
     "output_type": "stream",
     "text": [
      "Are there any Duplicate Entries? False\n"
     ]
    }
   ],
   "source": [
    "print(f\"Are there any Duplicate Entries? {dataset.duplicated().any()}\")\n"
   ]
  },
  {
   "cell_type": "markdown",
   "metadata": {},
   "source": [
    "**OBSERVATION**\n",
    "\n",
    "- Dataset has **no null values**.\n",
    "- Dataset has **no duplicate entries**.\n",
    "- Dataset does not contain any **categorical feature**.\n",
    "- `Transaction date` is **Temporal feature** but it is ambiguous for month and day.\n",
    "\n",
    "**TODO**\n",
    "\n",
    "- Extract `Year` from `Transaction date` which will remove ambiguous format of month and day.\n"
   ]
  },
  {
   "cell_type": "markdown",
   "metadata": {},
   "source": [
    "## Extract `Year` from `Transaction date`\n"
   ]
  },
  {
   "cell_type": "code",
   "execution_count": 11,
   "metadata": {},
   "outputs": [
    {
     "data": {
      "text/html": [
       "<div>\n",
       "<style scoped>\n",
       "    .dataframe tbody tr th:only-of-type {\n",
       "        vertical-align: middle;\n",
       "    }\n",
       "\n",
       "    .dataframe tbody tr th {\n",
       "        vertical-align: top;\n",
       "    }\n",
       "\n",
       "    .dataframe thead th {\n",
       "        text-align: right;\n",
       "    }\n",
       "</style>\n",
       "<table border=\"1\" class=\"dataframe\">\n",
       "  <thead>\n",
       "    <tr style=\"text-align: right;\">\n",
       "      <th></th>\n",
       "      <th>House Age</th>\n",
       "      <th>Distance from nearest Metro station (km)</th>\n",
       "      <th>Number of convenience stores</th>\n",
       "      <th>latitude</th>\n",
       "      <th>longitude</th>\n",
       "      <th>Number of bedrooms</th>\n",
       "      <th>House size (sqft)</th>\n",
       "      <th>House price of unit area</th>\n",
       "      <th>Transaction_year</th>\n",
       "    </tr>\n",
       "  </thead>\n",
       "  <tbody>\n",
       "    <tr>\n",
       "      <th>0</th>\n",
       "      <td>32.0</td>\n",
       "      <td>84.87882</td>\n",
       "      <td>10</td>\n",
       "      <td>24.98298</td>\n",
       "      <td>121.54024</td>\n",
       "      <td>1</td>\n",
       "      <td>575</td>\n",
       "      <td>37.9</td>\n",
       "      <td>2012</td>\n",
       "    </tr>\n",
       "    <tr>\n",
       "      <th>1</th>\n",
       "      <td>19.5</td>\n",
       "      <td>306.59470</td>\n",
       "      <td>9</td>\n",
       "      <td>24.98034</td>\n",
       "      <td>121.53951</td>\n",
       "      <td>2</td>\n",
       "      <td>1240</td>\n",
       "      <td>42.2</td>\n",
       "      <td>2012</td>\n",
       "    </tr>\n",
       "    <tr>\n",
       "      <th>2</th>\n",
       "      <td>13.3</td>\n",
       "      <td>561.98450</td>\n",
       "      <td>5</td>\n",
       "      <td>24.98746</td>\n",
       "      <td>121.54391</td>\n",
       "      <td>3</td>\n",
       "      <td>1060</td>\n",
       "      <td>47.3</td>\n",
       "      <td>2013</td>\n",
       "    </tr>\n",
       "    <tr>\n",
       "      <th>3</th>\n",
       "      <td>13.3</td>\n",
       "      <td>561.98450</td>\n",
       "      <td>5</td>\n",
       "      <td>24.98746</td>\n",
       "      <td>121.54391</td>\n",
       "      <td>2</td>\n",
       "      <td>875</td>\n",
       "      <td>54.8</td>\n",
       "      <td>2013</td>\n",
       "    </tr>\n",
       "    <tr>\n",
       "      <th>4</th>\n",
       "      <td>5.0</td>\n",
       "      <td>390.56840</td>\n",
       "      <td>5</td>\n",
       "      <td>24.97937</td>\n",
       "      <td>121.54245</td>\n",
       "      <td>1</td>\n",
       "      <td>491</td>\n",
       "      <td>43.1</td>\n",
       "      <td>2012</td>\n",
       "    </tr>\n",
       "  </tbody>\n",
       "</table>\n",
       "</div>"
      ],
      "text/plain": [
       "   House Age  Distance from nearest Metro station (km)  \\\n",
       "0       32.0                                  84.87882   \n",
       "1       19.5                                 306.59470   \n",
       "2       13.3                                 561.98450   \n",
       "3       13.3                                 561.98450   \n",
       "4        5.0                                 390.56840   \n",
       "\n",
       "   Number of convenience stores  latitude  longitude  Number of bedrooms  \\\n",
       "0                            10  24.98298  121.54024                   1   \n",
       "1                             9  24.98034  121.53951                   2   \n",
       "2                             5  24.98746  121.54391                   3   \n",
       "3                             5  24.98746  121.54391                   2   \n",
       "4                             5  24.97937  121.54245                   1   \n",
       "\n",
       "   House size (sqft)  House price of unit area  Transaction_year  \n",
       "0                575                      37.9              2012  \n",
       "1               1240                      42.2              2012  \n",
       "2               1060                      47.3              2013  \n",
       "3                875                      54.8              2013  \n",
       "4                491                      43.1              2012  "
      ]
     },
     "execution_count": 11,
     "metadata": {},
     "output_type": "execute_result"
    }
   ],
   "source": [
    "data = dataset.copy()\n",
    "data[\"Transaction_year\"] = pd.to_datetime(data[\"Transaction date\"], format=\"%Y\").dt.year\n",
    "data.drop(\"Transaction date\", axis=1, inplace=True)\n",
    "data.head()\n"
   ]
  },
  {
   "cell_type": "markdown",
   "metadata": {},
   "source": [
    "**OBSERVATION**\n",
    "\n",
    "- `Year` is extracted from `Transaction date`\n",
    "\n",
    "**TODO**\n",
    "\n",
    "- Rename column names to short names\n"
   ]
  },
  {
   "cell_type": "markdown",
   "metadata": {},
   "source": [
    "## Renaming column names\n"
   ]
  },
  {
   "cell_type": "code",
   "execution_count": 12,
   "metadata": {},
   "outputs": [
    {
     "data": {
      "text/html": [
       "<div>\n",
       "<style scoped>\n",
       "    .dataframe tbody tr th:only-of-type {\n",
       "        vertical-align: middle;\n",
       "    }\n",
       "\n",
       "    .dataframe tbody tr th {\n",
       "        vertical-align: top;\n",
       "    }\n",
       "\n",
       "    .dataframe thead th {\n",
       "        text-align: right;\n",
       "    }\n",
       "</style>\n",
       "<table border=\"1\" class=\"dataframe\">\n",
       "  <thead>\n",
       "    <tr style=\"text-align: right;\">\n",
       "      <th></th>\n",
       "      <th>house_age</th>\n",
       "      <th>metro_dist</th>\n",
       "      <th>n_conv_store</th>\n",
       "      <th>lat</th>\n",
       "      <th>long</th>\n",
       "      <th>n_bedrooms</th>\n",
       "      <th>house_size</th>\n",
       "      <th>house_price_unit_area</th>\n",
       "      <th>transaction_year</th>\n",
       "    </tr>\n",
       "  </thead>\n",
       "  <tbody>\n",
       "    <tr>\n",
       "      <th>0</th>\n",
       "      <td>32.0</td>\n",
       "      <td>84.87882</td>\n",
       "      <td>10</td>\n",
       "      <td>24.98298</td>\n",
       "      <td>121.54024</td>\n",
       "      <td>1</td>\n",
       "      <td>575</td>\n",
       "      <td>37.9</td>\n",
       "      <td>2012</td>\n",
       "    </tr>\n",
       "    <tr>\n",
       "      <th>1</th>\n",
       "      <td>19.5</td>\n",
       "      <td>306.59470</td>\n",
       "      <td>9</td>\n",
       "      <td>24.98034</td>\n",
       "      <td>121.53951</td>\n",
       "      <td>2</td>\n",
       "      <td>1240</td>\n",
       "      <td>42.2</td>\n",
       "      <td>2012</td>\n",
       "    </tr>\n",
       "    <tr>\n",
       "      <th>2</th>\n",
       "      <td>13.3</td>\n",
       "      <td>561.98450</td>\n",
       "      <td>5</td>\n",
       "      <td>24.98746</td>\n",
       "      <td>121.54391</td>\n",
       "      <td>3</td>\n",
       "      <td>1060</td>\n",
       "      <td>47.3</td>\n",
       "      <td>2013</td>\n",
       "    </tr>\n",
       "    <tr>\n",
       "      <th>3</th>\n",
       "      <td>13.3</td>\n",
       "      <td>561.98450</td>\n",
       "      <td>5</td>\n",
       "      <td>24.98746</td>\n",
       "      <td>121.54391</td>\n",
       "      <td>2</td>\n",
       "      <td>875</td>\n",
       "      <td>54.8</td>\n",
       "      <td>2013</td>\n",
       "    </tr>\n",
       "    <tr>\n",
       "      <th>4</th>\n",
       "      <td>5.0</td>\n",
       "      <td>390.56840</td>\n",
       "      <td>5</td>\n",
       "      <td>24.97937</td>\n",
       "      <td>121.54245</td>\n",
       "      <td>1</td>\n",
       "      <td>491</td>\n",
       "      <td>43.1</td>\n",
       "      <td>2012</td>\n",
       "    </tr>\n",
       "  </tbody>\n",
       "</table>\n",
       "</div>"
      ],
      "text/plain": [
       "   house_age  metro_dist  n_conv_store       lat       long  n_bedrooms  \\\n",
       "0       32.0    84.87882            10  24.98298  121.54024           1   \n",
       "1       19.5   306.59470             9  24.98034  121.53951           2   \n",
       "2       13.3   561.98450             5  24.98746  121.54391           3   \n",
       "3       13.3   561.98450             5  24.98746  121.54391           2   \n",
       "4        5.0   390.56840             5  24.97937  121.54245           1   \n",
       "\n",
       "   house_size  house_price_unit_area  transaction_year  \n",
       "0         575                   37.9              2012  \n",
       "1        1240                   42.2              2012  \n",
       "2        1060                   47.3              2013  \n",
       "3         875                   54.8              2013  \n",
       "4         491                   43.1              2012  "
      ]
     },
     "execution_count": 12,
     "metadata": {},
     "output_type": "execute_result"
    }
   ],
   "source": [
    "df = data.copy()\n",
    "\n",
    "column_map = {\n",
    "    \"House Age\": \"house_age\",\n",
    "    \"Distance from nearest Metro station (km)\": \"metro_dist\",\n",
    "    \"Number of convenience stores\": \"n_conv_store\",\n",
    "    \"latitude\": \"lat\",\n",
    "    \"longitude\": \"long\",\n",
    "    \"Number of bedrooms\": \"n_bedrooms\",\n",
    "    \"House size (sqft)\": \"house_size\",\n",
    "    \"House price of unit area\": \"house_price_unit_area\",\n",
    "    \"Transaction_year\": \"transaction_year\",\n",
    "}\n",
    "df.rename(columns=column_map, inplace=True)\n",
    "df.head()\n"
   ]
  },
  {
   "cell_type": "markdown",
   "metadata": {},
   "source": [
    "**OBSERVATION**\n",
    "\n",
    "- Target = `house_price_unit_area`\n"
   ]
  },
  {
   "cell_type": "markdown",
   "metadata": {},
   "source": [
    "## EDA\n"
   ]
  },
  {
   "cell_type": "markdown",
   "metadata": {},
   "source": [
    "### Correlation Plot\n"
   ]
  },
  {
   "cell_type": "code",
   "execution_count": 13,
   "metadata": {},
   "outputs": [],
   "source": [
    "def plot_corr(corr_data: pd.DataFrame) -> plt.Axes:\n",
    "    \"\"\"Return correlation plot\n",
    "\n",
    "    Args:\n",
    "        corr_data (pd.DataFrame): Correlation Dataframe\n",
    "\n",
    "    Returns:\n",
    "        plt.Axes: correlation plot axes\n",
    "    \"\"\"\n",
    "    plt.figure(figsize=(15, 10))\n",
    "    mask = np.triu(np.ones_like(corr_data))\n",
    "    ax = sns.heatmap(\n",
    "        corr_data,\n",
    "        mask=mask,\n",
    "        fmt=\".2f\",\n",
    "        annot=True,\n",
    "        linewidths=0.5,\n",
    "        vmin=-1,\n",
    "        vmax=1,\n",
    "        cmap=sns.diverging_palette(20, 220, as_cmap=True),\n",
    "        square=True,\n",
    "        # cmap=\"PuOr\",\n",
    "        center=0,\n",
    "        lw=1,\n",
    "        linecolor=\"k\",\n",
    "    )\n",
    "    ax.set_title(\"Correlation Plot\")\n",
    "    return ax\n"
   ]
  },
  {
   "cell_type": "code",
   "execution_count": 14,
   "metadata": {},
   "outputs": [
    {
     "data": {
      "text/plain": [
       "<AxesSubplot:title={'center':'Correlation Plot'}>"
      ]
     },
     "execution_count": 14,
     "metadata": {},
     "output_type": "execute_result"
    },
    {
     "data": {
      "image/png": "[encoded data removed]",
      "text/plain": [
       "<Figure size 1080x720 with 2 Axes>"
      ]
     },
     "metadata": {},
     "output_type": "display_data"
    }
   ],
   "source": [
    "plot_corr(df.corr())\n"
   ]
  },
  {
   "cell_type": "markdown",
   "metadata": {},
   "source": [
    "**OBSERVATION**\n",
    "\n",
    "- `long` is negatively correlated with `metro_dist` i.e. `-0.81`.\n",
    "  - Area falling under specific longitude could define development level of that area i.e. area falling under longitude would be developed or undeveloped regions.\n",
    "- `house_size` is positively correlation with `n_bedrooms`.\n",
    "- `metro_dist` is negatively correlated with `house_price_unit_area` and is having highest correlated index among other feature.\n",
    "- `lat`, `long` and `n_conv_store` are moderately correlated with `house_price_unit_area`.\n",
    "- `n_bedrooms` is not correlated with `house_price_unit_area`.\n",
    "- `house_size` is not correlated with `house_price_unit_area` because price is provided per unit area.\n",
    "  - If we create new column as `house_price` i.e. $\\text{house\\_size} \\times \\text{house\\_price\\_unit\\_area}$ it will become highly correlated with `house_size` as it's multiple of it.\n",
    "\n",
    "**CONCLUSION**\n",
    "\n",
    "- No feature is highly correlated with each other.\n",
    "- No need to drop feature due to collinearity. (For linear statistical models)\n",
    "- We can drop feature which are less(negligible) correlated (significant contribution) with `house_price_unit_area`\n"
   ]
  },
  {
   "cell_type": "markdown",
   "metadata": {},
   "source": [
    "### Outlier\n"
   ]
  },
  {
   "cell_type": "code",
   "execution_count": 15,
   "metadata": {},
   "outputs": [
    {
     "data": {
      "application/vnd.plotly.v1+json": {
       "config": {
        "plotlyServerURL": "https://plot.ly"
       },
       "data": [
        {
         "alignmentgroup": "True",
         "hovertemplate": "variable=%{x}<br>value=%{y}<extra></extra>",
         "legendgroup": "",
         "marker": {
          "color": "#636efa"
         },
         "name": "",
         "notched": false,
         "offsetgroup": "",
         "orientation": "v",
         "showlegend": false,
         "type": "box",
         "x": [
          "house_age",
          "house_age",
          "house_age",
          "house_age",
          "house_age",
          "house_age",
          "house_age",
          "house_age",
          "house_age",
          "house_age",
          "house_age",
          "house_age",
          "house_age",
          "house_age",
          "house_age",
          "house_age",
          "house_age",
          "house_age",
          "house_age",
          "house_age",
          "house_age",
          "house_age",
          "house_age",
          "house_age",
          "house_age",
          "house_age",
          "house_age",
          "house_age",
          "house_age",
          "house_age",
          "house_age",
          "house_age",
          "house_age",
          "house_age",
          "house_age",
          "house_age",
          "house_age",
          "house_age",
          "house_age",
          "house_age",
          "house_age",
          "house_age",
          "house_age",
          "house_age",
          "house_age",
          "house_age",
          "house_age",
          "house_age",
          "house_age",
          "house_age",
          "house_age",
          "house_age",
          "house_age",
          "house_age",
          "house_age",
          "house_age",
          "house_age",
          "house_age",
          "house_age",
          "house_age",
          "house_age",
          "house_age",
          "house_age",
          "house_age",
          "house_age",
          "house_age",
          "house_age",
          "house_age",
          "house_age",
          "house_age",
          "house_age",
          "house_age",
          "house_age",
          "house_age",
          "house_age",
          "house_age",
          "house_age",
          "house_age",
          "house_age",
          "house_age",
          "house_age",
          "house_age",
          "house_age",
          "house_age",
          "house_age",
          "house_age",
          "house_age",
          "house_age",
          "house_age",
          "house_age",
          "house_age",
          "house_age",
          "house_age",
          "house_age",
          "house_age",
          "house_age",
          "house_age",
          "house_age",
          "house_age",
          "house_age",
          "house_age",
          "house_age",
          "house_age",
          "house_age",
          "house_age",
          "house_age",
          "house_age",
          "house_age",
          "house_age",
          "house_age",
          "house_age",
          "house_age",
          "house_age",
          "house_age",
          "house_age",
          "house_age",
          "house_age",
          "house_age",
          "house_age",
          "house_age",
          "house_age",
          "house_age",
          "house_age",
          "house_age",
          "house_age",
          "house_age",
          "house_age",
          "house_age",
          "house_age",
          "house_age",
          "house_age",
          "house_age",
          "house_age",
          "house_age",
          "house_age",
          "house_age",
          "house_age",
          "house_age",
          "house_age",
          "house_age",
          "house_age",
          "house_age",
          "house_age",
          "house_age",
          "house_age",
          "house_age",
          "house_age",
          "house_age",
          "house_age",
          "house_age",
          "house_age",
          "house_age",
          "house_age",
          "house_age",
          "house_age",
          "house_age",
          "house_age",
          "house_age",
          "house_age",
          "house_age",
          "house_age",
          "house_age",
          "house_age",
          "house_age",
          "house_age",
          "house_age",
          "house_age",
          "house_age",
          "house_age",
          "house_age",
          "house_age",
          "house_age",
          "house_age",
          "house_age",
          "house_age",
          "house_age",
          "house_age",
          "house_age",
          "house_age",
          "house_age",
          "house_age",
          "house_age",
          "house_age",
          "house_age",
          "house_age",
          "house_age",
          "house_age",
          "house_age",
          "house_age",
          "house_age",
          "house_age",
          "house_age",
          "house_age",
          "house_age",
          "house_age",
          "house_age",
          "house_age",
          "house_age",
          "house_age",
          "house_age",
          "house_age",
          "house_age",
          "house_age",
          "house_age",
          "house_age",
          "house_age",
          "house_age",
          "house_age",
          "house_age",
          "house_age",
          "house_age",
          "house_age",
          "house_age",
          "house_age",
          "house_age",
          "house_age",
          "house_age",
          "house_age",
          "house_age",
          "house_age",
          "house_age",
          "house_age",
          "house_age",
          "house_age",
          "house_age",
          "house_age",
          "house_age",
          "house_age",
          "house_age",
          "house_age",
          "house_age",
          "house_age",
          "house_age",
          "house_age",
          "house_age",
          "house_age",
          "house_age",
          "house_age",
          "house_age",
          "house_age",
          "house_age",
          "house_age",
          "house_age",
          "house_age",
          "house_age",
          "house_age",
          "house_age",
          "house_age",
          "house_age",
          "house_age",
          "house_age",
          "house_age",
          "house_age",
          "house_age",
          "house_age",
          "house_age",
          "house_age",
          "house_age",
          "house_age",
          "house_age",
          "house_age",
          "house_age",
          "house_age",
          "house_age",
          "house_age",
          "house_age",
          "house_age",
          "house_age",
          "house_age",
          "house_age",
          "house_age",
          "house_age",
          "house_age",
          "house_age",
          "house_age",
          "house_age",
          "house_age",
          "house_age",
          "house_age",
          "house_age",
          "house_age",
          "house_age",
          "house_age",
          "house_age",
          "house_age",
          "house_age",
          "house_age",
          "house_age",
          "house_age",
          "house_age",
          "house_age",
          "house_age",
          "house_age",
          "house_age",
          "house_age",
          "house_age",
          "house_age",
          "house_age",
          "house_age",
          "house_age",
          "house_age",
          "house_age",
          "house_age",
          "house_age",
          "house_age",
          "house_age",
          "house_age",
          "house_age",
          "house_age",
          "house_age",
          "house_age",
          "house_age",
          "house_age",
          "house_age",
          "house_age",
          "house_age",
          "house_age",
          "house_age",
          "house_age",
          "house_age",
          "house_age",
          "house_age",
          "house_age",
          "house_age",
          "house_age",
          "house_age",
          "house_age",
          "house_age",
          "house_age",
          "house_age",
          "house_age",
          "house_age",
          "house_age",
          "house_age",
          "house_age",
          "house_age",
          "house_age",
          "house_age",
          "house_age",
          "house_age",
          "house_age",
          "house_age",
          "house_age",
          "house_age",
          "house_age",
          "house_age",
          "house_age",
          "house_age",
          "house_age",
          "house_age",
          "house_age",
          "house_age",
          "house_age",
          "house_age",
          "house_age",
          "house_age",
          "house_age",
          "house_age",
          "house_age",
          "house_age",
          "house_age",
          "house_age",
          "house_age",
          "house_age",
          "house_age",
          "house_age",
          "house_age",
          "house_age",
          "house_age",
          "house_age",
          "house_age",
          "house_age",
          "house_age",
          "house_age",
          "house_age",
          "house_age",
          "house_age",
          "house_age",
          "house_age",
          "house_age",
          "house_age",
          "house_age",
          "house_age",
          "house_age",
          "house_age",
          "house_age",
          "house_age",
          "house_age",
          "house_age",
          "house_age",
          "house_age",
          "house_age",
          "house_age",
          "house_age",
          "house_age",
          "house_age",
          "house_age",
          "house_age",
          "house_age",
          "house_age",
          "house_age",
          "house_age",
          "house_age",
          "house_age",
          "house_age",
          "house_age",
          "house_age",
          "house_age",
          "house_age",
          "house_age",
          "house_age",
          "house_age",
          "house_age",
          "house_age",
          "metro_dist",
          "metro_dist",
          "metro_dist",
          "metro_dist",
          "metro_dist",
          "metro_dist",
          "metro_dist",
          "metro_dist",
          "metro_dist",
          "metro_dist",
          "metro_dist",
          "metro_dist",
          "metro_dist",
          "metro_dist",
          "metro_dist",
          "metro_dist",
          "metro_dist",
          "metro_dist",
          "metro_dist",
          "metro_dist",
          "metro_dist",
          "metro_dist",
          "metro_dist",
          "metro_dist",
          "metro_dist",
          "metro_dist",
          "metro_dist",
          "metro_dist",
          "metro_dist",
          "metro_dist",
          "metro_dist",
          "metro_dist",
          "metro_dist",
          "metro_dist",
          "metro_dist",
          "metro_dist",
          "metro_dist",
          "metro_dist",
          "metro_dist",
          "metro_dist",
          "metro_dist",
          "metro_dist",
          "metro_dist",
          "metro_dist",
          "metro_dist",
          "metro_dist",
          "metro_dist",
          "metro_dist",
          "metro_dist",
          "metro_dist",
          "metro_dist",
          "metro_dist",
          "metro_dist",
          "metro_dist",
          "metro_dist",
          "metro_dist",
          "metro_dist",
          "metro_dist",
          "metro_dist",
          "metro_dist",
          "metro_dist",
          "metro_dist",
          "metro_dist",
          "metro_dist",
          "metro_dist",
          "metro_dist",
          "metro_dist",
          "metro_dist",
          "metro_dist",
          "metro_dist",
          "metro_dist",
          "metro_dist",
          "metro_dist",
          "metro_dist",
          "metro_dist",
          "metro_dist",
          "metro_dist",
          "metro_dist",
          "metro_dist",
          "metro_dist",
          "metro_dist",
          "metro_dist",
          "metro_dist",
          "metro_dist",
          "metro_dist",
          "metro_dist",
          "metro_dist",
          "metro_dist",
          "metro_dist",
          "metro_dist",
          "metro_dist",
          "metro_dist",
          "metro_dist",
          "metro_dist",
          "metro_dist",
          "metro_dist",
          "metro_dist",
          "metro_dist",
          "metro_dist",
          "metro_dist",
          "metro_dist",
          "metro_dist",
          "metro_dist",
          "metro_dist",
          "metro_dist",
          "metro_dist",
          "metro_dist",
          "metro_dist",
          "metro_dist",
          "metro_dist",
          "metro_dist",
          "metro_dist",
          "metro_dist",
          "metro_dist",
          "metro_dist",
          "metro_dist",
          "metro_dist",
          "metro_dist",
          "metro_dist",
          "metro_dist",
          "metro_dist",
          "metro_dist",
          "metro_dist",
          "metro_dist",
          "metro_dist",
          "metro_dist",
          "metro_dist",
          "metro_dist",
          "metro_dist",
          "metro_dist",
          "metro_dist",
          "metro_dist",
          "metro_dist",
          "metro_dist",
          "metro_dist",
          "metro_dist",
          "metro_dist",
          "metro_dist",
          "metro_dist",
          "metro_dist",
          "metro_dist",
          "metro_dist",
          "metro_dist",
          "metro_dist",
          "metro_dist",
          "metro_dist",
          "metro_dist",
          "metro_dist",
          "metro_dist",
          "metro_dist",
          "metro_dist",
          "metro_dist",
          "metro_dist",
          "metro_dist",
          "metro_dist",
          "metro_dist",
          "metro_dist",
          "metro_dist",
          "metro_dist",
          "metro_dist",
          "metro_dist",
          "metro_dist",
          "metro_dist",
          "metro_dist",
          "metro_dist",
          "metro_dist",
          "metro_dist",
          "metro_dist",
          "metro_dist",
          "metro_dist",
          "metro_dist",
          "metro_dist",
          "metro_dist",
          "metro_dist",
          "metro_dist",
          "metro_dist",
          "metro_dist",
          "metro_dist",
          "metro_dist",
          "metro_dist",
          "metro_dist",
          "metro_dist",
          "metro_dist",
          "metro_dist",
          "metro_dist",
          "metro_dist",
          "metro_dist",
          "metro_dist",
          "metro_dist",
          "metro_dist",
          "metro_dist",
          "metro_dist",
          "metro_dist",
          "metro_dist",
          "metro_dist",
          "metro_dist",
          "metro_dist",
          "metro_dist",
          "metro_dist",
          "metro_dist",
          "metro_dist",
          "metro_dist",
          "metro_dist",
          "metro_dist",
          "metro_dist",
          "metro_dist",
          "metro_dist",
          "metro_dist",
          "metro_dist",
          "metro_dist",
          "metro_dist",
          "metro_dist",
          "metro_dist",
          "metro_dist",
          "metro_dist",
          "metro_dist",
          "metro_dist",
          "metro_dist",
          "metro_dist",
          "metro_dist",
          "metro_dist",
          "metro_dist",
          "metro_dist",
          "metro_dist",
          "metro_dist",
          "metro_dist",
          "metro_dist",
          "metro_dist",
          "metro_dist",
          "metro_dist",
          "metro_dist",
          "metro_dist",
          "metro_dist",
          "metro_dist",
          "metro_dist",
          "metro_dist",
          "metro_dist",
          "metro_dist",
          "metro_dist",
          "metro_dist",
          "metro_dist",
          "metro_dist",
          "metro_dist",
          "metro_dist",
          "metro_dist",
          "metro_dist",
          "metro_dist",
          "metro_dist",
          "metro_dist",
          "metro_dist",
          "metro_dist",
          "metro_dist",
          "metro_dist",
          "metro_dist",
          "metro_dist",
          "metro_dist",
          "metro_dist",
          "metro_dist",
          "metro_dist",
          "metro_dist",
          "metro_dist",
          "metro_dist",
          "metro_dist",
          "metro_dist",
          "metro_dist",
          "metro_dist",
          "metro_dist",
          "metro_dist",
          "metro_dist",
          "metro_dist",
          "metro_dist",
          "metro_dist",
          "metro_dist",
          "metro_dist",
          "metro_dist",
          "metro_dist",
          "metro_dist",
          "metro_dist",
          "metro_dist",
          "metro_dist",
          "metro_dist",
          "metro_dist",
          "metro_dist",
          "metro_dist",
          "metro_dist",
          "metro_dist",
          "metro_dist",
          "metro_dist",
          "metro_dist",
          "metro_dist",
          "metro_dist",
          "metro_dist",
          "metro_dist",
          "metro_dist",
          "metro_dist",
          "metro_dist",
          "metro_dist",
          "metro_dist",
          "metro_dist",
          "metro_dist",
          "metro_dist",
          "metro_dist",
          "metro_dist",
          "metro_dist",
          "metro_dist",
          "metro_dist",
          "metro_dist",
          "metro_dist",
          "metro_dist",
          "metro_dist",
          "metro_dist",
          "metro_dist",
          "metro_dist",
          "metro_dist",
          "metro_dist",
          "metro_dist",
          "metro_dist",
          "metro_dist",
          "metro_dist",
          "metro_dist",
          "metro_dist",
          "metro_dist",
          "metro_dist",
          "metro_dist",
          "metro_dist",
          "metro_dist",
          "metro_dist",
          "metro_dist",
          "metro_dist",
          "metro_dist",
          "metro_dist",
          "metro_dist",
          "metro_dist",
          "metro_dist",
          "metro_dist",
          "metro_dist",
          "metro_dist",
          "metro_dist",
          "metro_dist",
          "metro_dist",
          "metro_dist",
          "metro_dist",
          "metro_dist",
          "metro_dist",
          "metro_dist",
          "metro_dist",
          "metro_dist",
          "metro_dist",
          "metro_dist",
          "metro_dist",
          "metro_dist",
          "metro_dist",
          "metro_dist",
          "metro_dist",
          "metro_dist",
          "metro_dist",
          "metro_dist",
          "metro_dist",
          "metro_dist",
          "metro_dist",
          "metro_dist",
          "metro_dist",
          "metro_dist",
          "metro_dist",
          "metro_dist",
          "metro_dist",
          "metro_dist",
          "metro_dist",
          "metro_dist",
          "metro_dist",
          "metro_dist",
          "metro_dist",
          "metro_dist",
          "metro_dist",
          "metro_dist",
          "metro_dist",
          "metro_dist",
          "metro_dist",
          "metro_dist",
          "metro_dist",
          "metro_dist",
          "metro_dist",
          "metro_dist",
          "metro_dist",
          "metro_dist",
          "metro_dist",
          "metro_dist",
          "metro_dist",
          "metro_dist",
          "metro_dist",
          "metro_dist",
          "metro_dist",
          "metro_dist",
          "metro_dist",
          "metro_dist",
          "metro_dist",
          "metro_dist",
          "metro_dist",
          "metro_dist",
          "metro_dist",
          "metro_dist",
          "metro_dist",
          "metro_dist",
          "metro_dist",
          "metro_dist",
          "metro_dist",
          "metro_dist",
          "metro_dist",
          "metro_dist",
          "metro_dist",
          "metro_dist",
          "metro_dist",
          "metro_dist",
          "metro_dist",
          "n_conv_store",
          "n_conv_store",
          "n_conv_store",
          "n_conv_store",
          "n_conv_store",
          "n_conv_store",
          "n_conv_store",
          "n_conv_store",
          "n_conv_store",
          "n_conv_store",
          "n_conv_store",
          "n_conv_store",
          "n_conv_store",
          "n_conv_store",
          "n_conv_store",
          "n_conv_store",
          "n_conv_store",
          "n_conv_store",
          "n_conv_store",
          "n_conv_store",
          "n_conv_store",
          "n_conv_store",
          "n_conv_store",
          "n_conv_store",
          "n_conv_store",
          "n_conv_store",
          "n_conv_store",
          "n_conv_store",
          "n_conv_store",
          "n_conv_store",
          "n_conv_store",
          "n_conv_store",
          "n_conv_store",
          "n_conv_store",
          "n_conv_store",
          "n_conv_store",
          "n_conv_store",
          "n_conv_store",
          "n_conv_store",
          "n_conv_store",
          "n_conv_store",
          "n_conv_store",
          "n_conv_store",
          "n_conv_store",
          "n_conv_store",
          "n_conv_store",
          "n_conv_store",
          "n_conv_store",
          "n_conv_store",
          "n_conv_store",
          "n_conv_store",
          "n_conv_store",
          "n_conv_store",
          "n_conv_store",
          "n_conv_store",
          "n_conv_store",
          "n_conv_store",
          "n_conv_store",
          "n_conv_store",
          "n_conv_store",
          "n_conv_store",
          "n_conv_store",
          "n_conv_store",
          "n_conv_store",
          "n_conv_store",
          "n_conv_store",
          "n_conv_store",
          "n_conv_store",
          "n_conv_store",
          "n_conv_store",
          "n_conv_store",
          "n_conv_store",
          "n_conv_store",
          "n_conv_store",
          "n_conv_store",
          "n_conv_store",
          "n_conv_store",
          "n_conv_store",
          "n_conv_store",
          "n_conv_store",
          "n_conv_store",
          "n_conv_store",
          "n_conv_store",
          "n_conv_store",
          "n_conv_store",
          "n_conv_store",
          "n_conv_store",
          "n_conv_store",
          "n_conv_store",
          "n_conv_store",
          "n_conv_store",
          "n_conv_store",
          "n_conv_store",
          "n_conv_store",
          "n_conv_store",
          "n_conv_store",
          "n_conv_store",
          "n_conv_store",
          "n_conv_store",
          "n_conv_store",
          "n_conv_store",
          "n_conv_store",
          "n_conv_store",
          "n_conv_store",
          "n_conv_store",
          "n_conv_store",
          "n_conv_store",
          "n_conv_store",
          "n_conv_store",
          "n_conv_store",
          "n_conv_store",
          "n_conv_store",
          "n_conv_store",
          "n_conv_store",
          "n_conv_store",
          "n_conv_store",
          "n_conv_store",
          "n_conv_store",
          "n_conv_store",
          "n_conv_store",
          "n_conv_store",
          "n_conv_store",
          "n_conv_store",
          "n_conv_store",
          "n_conv_store",
          "n_conv_store",
          "n_conv_store",
          "n_conv_store",
          "n_conv_store",
          "n_conv_store",
          "n_conv_store",
          "n_conv_store",
          "n_conv_store",
          "n_conv_store",
          "n_conv_store",
          "n_conv_store",
          "n_conv_store",
          "n_conv_store",
          "n_conv_store",
          "n_conv_store",
          "n_conv_store",
          "n_conv_store",
          "n_conv_store",
          "n_conv_store",
          "n_conv_store",
          "n_conv_store",
          "n_conv_store",
          "n_conv_store",
          "n_conv_store",
          "n_conv_store",
          "n_conv_store",
          "n_conv_store",
          "n_conv_store",
          "n_conv_store",
          "n_conv_store",
          "n_conv_store",
          "n_conv_store",
          "n_conv_store",
          "n_conv_store",
          "n_conv_store",
          "n_conv_store",
          "n_conv_store",
          "n_conv_store",
          "n_conv_store",
          "n_conv_store",
          "n_conv_store",
          "n_conv_store",
          "n_conv_store",
          "n_conv_store",
          "n_conv_store",
          "n_conv_store",
          "n_conv_store",
          "n_conv_store",
          "n_conv_store",
          "n_conv_store",
          "n_conv_store",
          "n_conv_store",
          "n_conv_store",
          "n_conv_store",
          "n_conv_store",
          "n_conv_store",
          "n_conv_store",
          "n_conv_store",
          "n_conv_store",
          "n_conv_store",
          "n_conv_store",
          "n_conv_store",
          "n_conv_store",
          "n_conv_store",
          "n_conv_store",
          "n_conv_store",
          "n_conv_store",
          "n_conv_store",
          "n_conv_store",
          "n_conv_store",
          "n_conv_store",
          "n_conv_store",
          "n_conv_store",
          "n_conv_store",
          "n_conv_store",
          "n_conv_store",
          "n_conv_store",
          "n_conv_store",
          "n_conv_store",
          "n_conv_store",
          "n_conv_store",
          "n_conv_store",
          "n_conv_store",
          "n_conv_store",
          "n_conv_store",
          "n_conv_store",
          "n_conv_store",
          "n_conv_store",
          "n_conv_store",
          "n_conv_store",
          "n_conv_store",
          "n_conv_store",
          "n_conv_store",
          "n_conv_store",
          "n_conv_store",
          "n_conv_store",
          "n_conv_store",
          "n_conv_store",
          "n_conv_store",
          "n_conv_store",
          "n_conv_store",
          "n_conv_store",
          "n_conv_store",
          "n_conv_store",
          "n_conv_store",
          "n_conv_store",
          "n_conv_store",
          "n_conv_store",
          "n_conv_store",
          "n_conv_store",
          "n_conv_store",
          "n_conv_store",
          "n_conv_store",
          "n_conv_store",
          "n_conv_store",
          "n_conv_store",
          "n_conv_store",
          "n_conv_store",
          "n_conv_store",
          "n_conv_store",
          "n_conv_store",
          "n_conv_store",
          "n_conv_store",
          "n_conv_store",
          "n_conv_store",
          "n_conv_store",
          "n_conv_store",
          "n_conv_store",
          "n_conv_store",
          "n_conv_store",
          "n_conv_store",
          "n_conv_store",
          "n_conv_store",
          "n_conv_store",
          "n_conv_store",
          "n_conv_store",
          "n_conv_store",
          "n_conv_store",
          "n_conv_store",
          "n_conv_store",
          "n_conv_store",
          "n_conv_store",
          "n_conv_store",
          "n_conv_store",
          "n_conv_store",
          "n_conv_store",
          "n_conv_store",
          "n_conv_store",
          "n_conv_store",
          "n_conv_store",
          "n_conv_store",
          "n_conv_store",
          "n_conv_store",
          "n_conv_store",
          "n_conv_store",
          "n_conv_store",
          "n_conv_store",
          "n_conv_store",
          "n_conv_store",
          "n_conv_store",
          "n_conv_store",
          "n_conv_store",
          "n_conv_store",
          "n_conv_store",
          "n_conv_store",
          "n_conv_store",
          "n_conv_store",
          "n_conv_store",
          "n_conv_store",
          "n_conv_store",
          "n_conv_store",
          "n_conv_store",
          "n_conv_store",
          "n_conv_store",
          "n_conv_store",
          "n_conv_store",
          "n_conv_store",
          "n_conv_store",
          "n_conv_store",
          "n_conv_store",
          "n_conv_store",
          "n_conv_store",
          "n_conv_store",
          "n_conv_store",
          "n_conv_store",
          "n_conv_store",
          "n_conv_store",
          "n_conv_store",
          "n_conv_store",
          "n_conv_store",
          "n_conv_store",
          "n_conv_store",
          "n_conv_store",
          "n_conv_store",
          "n_conv_store",
          "n_conv_store",
          "n_conv_store",
          "n_conv_store",
          "n_conv_store",
          "n_conv_store",
          "n_conv_store",
          "n_conv_store",
          "n_conv_store",
          "n_conv_store",
          "n_conv_store",
          "n_conv_store",
          "n_conv_store",
          "n_conv_store",
          "n_conv_store",
          "n_conv_store",
          "n_conv_store",
          "n_conv_store",
          "n_conv_store",
          "n_conv_store",
          "n_conv_store",
          "n_conv_store",
          "n_conv_store",
          "n_conv_store",
          "n_conv_store",
          "n_conv_store",
          "n_conv_store",
          "n_conv_store",
          "n_conv_store",
          "n_conv_store",
          "n_conv_store",
          "n_conv_store",
          "n_conv_store",
          "n_conv_store",
          "n_conv_store",
          "n_conv_store",
          "n_conv_store",
          "n_conv_store",
          "n_conv_store",
          "n_conv_store",
          "n_conv_store",
          "n_conv_store",
          "n_conv_store",
          "n_conv_store",
          "n_conv_store",
          "n_conv_store",
          "n_conv_store",
          "n_conv_store",
          "n_conv_store",
          "n_conv_store",
          "n_conv_store",
          "n_conv_store",
          "n_conv_store",
          "n_conv_store",
          "n_conv_store",
          "n_conv_store",
          "n_conv_store",
          "n_conv_store",
          "n_conv_store",
          "n_conv_store",
          "n_conv_store",
          "n_conv_store",
          "n_conv_store",
          "n_conv_store",
          "n_conv_store",
          "n_conv_store",
          "n_conv_store",
          "n_conv_store",
          "n_conv_store",
          "n_conv_store",
          "n_conv_store",
          "n_conv_store",
          "n_conv_store",
          "n_conv_store",
          "n_conv_store",
          "n_conv_store",
          "n_conv_store",
          "n_conv_store",
          "n_conv_store",
          "n_conv_store",
          "n_conv_store",
          "n_conv_store",
          "n_conv_store",
          "n_conv_store",
          "n_conv_store",
          "n_conv_store",
          "n_conv_store",
          "n_conv_store",
          "n_conv_store",
          "n_conv_store",
          "n_conv_store",
          "n_conv_store",
          "n_conv_store",
          "n_conv_store",
          "n_conv_store",
          "lat",
          "lat",
          "lat",
          "lat",
          "lat",
          "lat",
          "lat",
          "lat",
          "lat",
          "lat",
          "lat",
          "lat",
          "lat",
          "lat",
          "lat",
          "lat",
          "lat",
          "lat",
          "lat",
          "lat",
          "lat",
          "lat",
          "lat",
          "lat",
          "lat",
          "lat",
          "lat",
          "lat",
          "lat",
          "lat",
          "lat",
          "lat",
          "lat",
          "lat",
          "lat",
          "lat",
          "lat",
          "lat",
          "lat",
          "lat",
          "lat",
          "lat",
          "lat",
          "lat",
          "lat",
          "lat",
          "lat",
          "lat",
          "lat",
          "lat",
          "lat",
          "lat",
          "lat",
          "lat",
          "lat",
          "lat",
          "lat",
          "lat",
          "lat",
          "lat",
          "lat",
          "lat",
          "lat",
          "lat",
          "lat",
          "lat",
          "lat",
          "lat",
          "lat",
          "lat",
          "lat",
          "lat",
          "lat",
          "lat",
          "lat",
          "lat",
          "lat",
          "lat",
          "lat",
          "lat",
          "lat",
          "lat",
          "lat",
          "lat",
          "lat",
          "lat",
          "lat",
          "lat",
          "lat",
          "lat",
          "lat",
          "lat",
          "lat",
          "lat",
          "lat",
          "lat",
          "lat",
          "lat",
          "lat",
          "lat",
          "lat",
          "lat",
          "lat",
          "lat",
          "lat",
          "lat",
          "lat",
          "lat",
          "lat",
          "lat",
          "lat",
          "lat",
          "lat",
          "lat",
          "lat",
          "lat",
          "lat",
          "lat",
          "lat",
          "lat",
          "lat",
          "lat",
          "lat",
          "lat",
          "lat",
          "lat",
          "lat",
          "lat",
          "lat",
          "lat",
          "lat",
          "lat",
          "lat",
          "lat",
          "lat",
          "lat",
          "lat",
          "lat",
          "lat",
          "lat",
          "lat",
          "lat",
          "lat",
          "lat",
          "lat",
          "lat",
          "lat",
          "lat",
          "lat",
          "lat",
          "lat",
          "lat",
          "lat",
          "lat",
          "lat",
          "lat",
          "lat",
          "lat",
          "lat",
          "lat",
          "lat",
          "lat",
          "lat",
          "lat",
          "lat",
          "lat",
          "lat",
          "lat",
          "lat",
          "lat",
          "lat",
          "lat",
          "lat",
          "lat",
          "lat",
          "lat",
          "lat",
          "lat",
          "lat",
          "lat",
          "lat",
          "lat",
          "lat",
          "lat",
          "lat",
          "lat",
          "lat",
          "lat",
          "lat",
          "lat",
          "lat",
          "lat",
          "lat",
          "lat",
          "lat",
          "lat",
          "lat",
          "lat",
          "lat",
          "lat",
          "lat",
          "lat",
          "lat",
          "lat",
          "lat",
          "lat",
          "lat",
          "lat",
          "lat",
          "lat",
          "lat",
          "lat",
          "lat",
          "lat",
          "lat",
          "lat",
          "lat",
          "lat",
          "lat",
          "lat",
          "lat",
          "lat",
          "lat",
          "lat",
          "lat",
          "lat",
          "lat",
          "lat",
          "lat",
          "lat",
          "lat",
          "lat",
          "lat",
          "lat",
          "lat",
          "lat",
          "lat",
          "lat",
          "lat",
          "lat",
          "lat",
          "lat",
          "lat",
          "lat",
          "lat",
          "lat",
          "lat",
          "lat",
          "lat",
          "lat",
          "lat",
          "lat",
          "lat",
          "lat",
          "lat",
          "lat",
          "lat",
          "lat",
          "lat",
          "lat",
          "lat",
          "lat",
          "lat",
          "lat",
          "lat",
          "lat",
          "lat",
          "lat",
          "lat",
          "lat",
          "lat",
          "lat",
          "lat",
          "lat",
          "lat",
          "lat",
          "lat",
          "lat",
          "lat",
          "lat",
          "lat",
          "lat",
          "lat",
          "lat",
          "lat",
          "lat",
          "lat",
          "lat",
          "lat",
          "lat",
          "lat",
          "lat",
          "lat",
          "lat",
          "lat",
          "lat",
          "lat",
          "lat",
          "lat",
          "lat",
          "lat",
          "lat",
          "lat",
          "lat",
          "lat",
          "lat",
          "lat",
          "lat",
          "lat",
          "lat",
          "lat",
          "lat",
          "lat",
          "lat",
          "lat",
          "lat",
          "lat",
          "lat",
          "lat",
          "lat",
          "lat",
          "lat",
          "lat",
          "lat",
          "lat",
          "lat",
          "lat",
          "lat",
          "lat",
          "lat",
          "lat",
          "lat",
          "lat",
          "lat",
          "lat",
          "lat",
          "lat",
          "lat",
          "lat",
          "lat",
          "lat",
          "lat",
          "lat",
          "lat",
          "lat",
          "lat",
          "lat",
          "lat",
          "lat",
          "lat",
          "lat",
          "lat",
          "lat",
          "lat",
          "lat",
          "lat",
          "lat",
          "lat",
          "lat",
          "lat",
          "lat",
          "lat",
          "lat",
          "lat",
          "lat",
          "lat",
          "lat",
          "lat",
          "lat",
          "lat",
          "lat",
          "lat",
          "lat",
          "lat",
          "lat",
          "lat",
          "lat",
          "lat",
          "lat",
          "lat",
          "lat",
          "lat",
          "lat",
          "lat",
          "lat",
          "lat",
          "lat",
          "lat",
          "lat",
          "lat",
          "lat",
          "lat",
          "lat",
          "lat",
          "lat",
          "lat",
          "lat",
          "lat",
          "lat",
          "lat",
          "lat",
          "lat",
          "lat",
          "lat",
          "lat",
          "lat",
          "lat",
          "lat",
          "lat",
          "lat",
          "lat",
          "lat",
          "lat",
          "lat",
          "long",
          "long",
          "long",
          "long",
          "long",
          "long",
          "long",
          "long",
          "long",
          "long",
          "long",
          "long",
          "long",
          "long",
          "long",
          "long",
          "long",
          "long",
          "long",
          "long",
          "long",
          "long",
          "long",
          "long",
          "long",
          "long",
          "long",
          "long",
          "long",
          "long",
          "long",
          "long",
          "long",
          "long",
          "long",
          "long",
          "long",
          "long",
          "long",
          "long",
          "long",
          "long",
          "long",
          "long",
          "long",
          "long",
          "long",
          "long",
          "long",
          "long",
          "long",
          "long",
          "long",
          "long",
          "long",
          "long",
          "long",
          "long",
          "long",
          "long",
          "long",
          "long",
          "long",
          "long",
          "long",
          "long",
          "long",
          "long",
          "long",
          "long",
          "long",
          "long",
          "long",
          "long",
          "long",
          "long",
          "long",
          "long",
          "long",
          "long",
          "long",
          "long",
          "long",
          "long",
          "long",
          "long",
          "long",
          "long",
          "long",
          "long",
          "long",
          "long",
          "long",
          "long",
          "long",
          "long",
          "long",
          "long",
          "long",
          "long",
          "long",
          "long",
          "long",
          "long",
          "long",
          "long",
          "long",
          "long",
          "long",
          "long",
          "long",
          "long",
          "long",
          "long",
          "long",
          "long",
          "long",
          "long",
          "long",
          "long",
          "long",
          "long",
          "long",
          "long",
          "long",
          "long",
          "long",
          "long",
          "long",
          "long",
          "long",
          "long",
          "long",
          "long",
          "long",
          "long",
          "long",
          "long",
          "long",
          "long",
          "long",
          "long",
          "long",
          "long",
          "long",
          "long",
          "long",
          "long",
          "long",
          "long",
          "long",
          "long",
          "long",
          "long",
          "long",
          "long",
          "long",
          "long",
          "long",
          "long",
          "long",
          "long",
          "long",
          "long",
          "long",
          "long",
          "long",
          "long",
          "long",
          "long",
          "long",
          "long",
          "long",
          "long",
          "long",
          "long",
          "long",
          "long",
          "long",
          "long",
          "long",
          "long",
          "long",
          "long",
          "long",
          "long",
          "long",
          "long",
          "long",
          "long",
          "long",
          "long",
          "long",
          "long",
          "long",
          "long",
          "long",
          "long",
          "long",
          "long",
          "long",
          "long",
          "long",
          "long",
          "long",
          "long",
          "long",
          "long",
          "long",
          "long",
          "long",
          "long",
          "long",
          "long",
          "long",
          "long",
          "long",
          "long",
          "long",
          "long",
          "long",
          "long",
          "long",
          "long",
          "long",
          "long",
          "long",
          "long",
          "long",
          "long",
          "long",
          "long",
          "long",
          "long",
          "long",
          "long",
          "long",
          "long",
          "long",
          "long",
          "long",
          "long",
          "long",
          "long",
          "long",
          "long",
          "long",
          "long",
          "long",
          "long",
          "long",
          "long",
          "long",
          "long",
          "long",
          "long",
          "long",
          "long",
          "long",
          "long",
          "long",
          "long",
          "long",
          "long",
          "long",
          "long",
          "long",
          "long",
          "long",
          "long",
          "long",
          "long",
          "long",
          "long",
          "long",
          "long",
          "long",
          "long",
          "long",
          "long",
          "long",
          "long",
          "long",
          "long",
          "long",
          "long",
          "long",
          "long",
          "long",
          "long",
          "long",
          "long",
          "long",
          "long",
          "long",
          "long",
          "long",
          "long",
          "long",
          "long",
          "long",
          "long",
          "long",
          "long",
          "long",
          "long",
          "long",
          "long",
          "long",
          "long",
          "long",
          "long",
          "long",
          "long",
          "long",
          "long",
          "long",
          "long",
          "long",
          "long",
          "long",
          "long",
          "long",
          "long",
          "long",
          "long",
          "long",
          "long",
          "long",
          "long",
          "long",
          "long",
          "long",
          "long",
          "long",
          "long",
          "long",
          "long",
          "long",
          "long",
          "long",
          "long",
          "long",
          "long",
          "long",
          "long",
          "long",
          "long",
          "long",
          "long",
          "long",
          "long",
          "long",
          "long",
          "long",
          "long",
          "long",
          "long",
          "long",
          "long",
          "long",
          "long",
          "long",
          "long",
          "long",
          "long",
          "long",
          "long",
          "long",
          "long",
          "long",
          "long",
          "long",
          "long",
          "long",
          "long",
          "long",
          "long",
          "long",
          "long",
          "long",
          "long",
          "long",
          "long",
          "long",
          "long",
          "long",
          "long",
          "long",
          "long",
          "long",
          "long",
          "long",
          "long",
          "long",
          "long",
          "long",
          "long",
          "long",
          "long",
          "long",
          "long",
          "long",
          "long",
          "long",
          "long",
          "long",
          "long",
          "long",
          "long",
          "long",
          "long",
          "long",
          "long",
          "n_bedrooms",
          "n_bedrooms",
          "n_bedrooms",
          "n_bedrooms",
          "n_bedrooms",
          "n_bedrooms",
          "n_bedrooms",
          "n_bedrooms",
          "n_bedrooms",
          "n_bedrooms",
          "n_bedrooms",
          "n_bedrooms",
          "n_bedrooms",
          "n_bedrooms",
          "n_bedrooms",
          "n_bedrooms",
          "n_bedrooms",
          "n_bedrooms",
          "n_bedrooms",
          "n_bedrooms",
          "n_bedrooms",
          "n_bedrooms",
          "n_bedrooms",
          "n_bedrooms",
          "n_bedrooms",
          "n_bedrooms",
          "n_bedrooms",
          "n_bedrooms",
          "n_bedrooms",
          "n_bedrooms",
          "n_bedrooms",
          "n_bedrooms",
          "n_bedrooms",
          "n_bedrooms",
          "n_bedrooms",
          "n_bedrooms",
          "n_bedrooms",
          "n_bedrooms",
          "n_bedrooms",
          "n_bedrooms",
          "n_bedrooms",
          "n_bedrooms",
          "n_bedrooms",
          "n_bedrooms",
          "n_bedrooms",
          "n_bedrooms",
          "n_bedrooms",
          "n_bedrooms",
          "n_bedrooms",
          "n_bedrooms",
          "n_bedrooms",
          "n_bedrooms",
          "n_bedrooms",
          "n_bedrooms",
          "n_bedrooms",
          "n_bedrooms",
          "n_bedrooms",
          "n_bedrooms",
          "n_bedrooms",
          "n_bedrooms",
          "n_bedrooms",
          "n_bedrooms",
          "n_bedrooms",
          "n_bedrooms",
          "n_bedrooms",
          "n_bedrooms",
          "n_bedrooms",
          "n_bedrooms",
          "n_bedrooms",
          "n_bedrooms",
          "n_bedrooms",
          "n_bedrooms",
          "n_bedrooms",
          "n_bedrooms",
          "n_bedrooms",
          "n_bedrooms",
          "n_bedrooms",
          "n_bedrooms",
          "n_bedrooms",
          "n_bedrooms",
          "n_bedrooms",
          "n_bedrooms",
          "n_bedrooms",
          "n_bedrooms",
          "n_bedrooms",
          "n_bedrooms",
          "n_bedrooms",
          "n_bedrooms",
          "n_bedrooms",
          "n_bedrooms",
          "n_bedrooms",
          "n_bedrooms",
          "n_bedrooms",
          "n_bedrooms",
          "n_bedrooms",
          "n_bedrooms",
          "n_bedrooms",
          "n_bedrooms",
          "n_bedrooms",
          "n_bedrooms",
          "n_bedrooms",
          "n_bedrooms",
          "n_bedrooms",
          "n_bedrooms",
          "n_bedrooms",
          "n_bedrooms",
          "n_bedrooms",
          "n_bedrooms",
          "n_bedrooms",
          "n_bedrooms",
          "n_bedrooms",
          "n_bedrooms",
          "n_bedrooms",
          "n_bedrooms",
          "n_bedrooms",
          "n_bedrooms",
          "n_bedrooms",
          "n_bedrooms",
          "n_bedrooms",
          "n_bedrooms",
          "n_bedrooms",
          "n_bedrooms",
          "n_bedrooms",
          "n_bedrooms",
          "n_bedrooms",
          "n_bedrooms",
          "n_bedrooms",
          "n_bedrooms",
          "n_bedrooms",
          "n_bedrooms",
          "n_bedrooms",
          "n_bedrooms",
          "n_bedrooms",
          "n_bedrooms",
          "n_bedrooms",
          "n_bedrooms",
          "n_bedrooms",
          "n_bedrooms",
          "n_bedrooms",
          "n_bedrooms",
          "n_bedrooms",
          "n_bedrooms",
          "n_bedrooms",
          "n_bedrooms",
          "n_bedrooms",
          "n_bedrooms",
          "n_bedrooms",
          "n_bedrooms",
          "n_bedrooms",
          "n_bedrooms",
          "n_bedrooms",
          "n_bedrooms",
          "n_bedrooms",
          "n_bedrooms",
          "n_bedrooms",
          "n_bedrooms",
          "n_bedrooms",
          "n_bedrooms",
          "n_bedrooms",
          "n_bedrooms",
          "n_bedrooms",
          "n_bedrooms",
          "n_bedrooms",
          "n_bedrooms",
          "n_bedrooms",
          "n_bedrooms",
          "n_bedrooms",
          "n_bedrooms",
          "n_bedrooms",
          "n_bedrooms",
          "n_bedrooms",
          "n_bedrooms",
          "n_bedrooms",
          "n_bedrooms",
          "n_bedrooms",
          "n_bedrooms",
          "n_bedrooms",
          "n_bedrooms",
          "n_bedrooms",
          "n_bedrooms",
          "n_bedrooms",
          "n_bedrooms",
          "n_bedrooms",
          "n_bedrooms",
          "n_bedrooms",
          "n_bedrooms",
          "n_bedrooms",
          "n_bedrooms",
          "n_bedrooms",
          "n_bedrooms",
          "n_bedrooms",
          "n_bedrooms",
          "n_bedrooms",
          "n_bedrooms",
          "n_bedrooms",
          "n_bedrooms",
          "n_bedrooms",
          "n_bedrooms",
          "n_bedrooms",
          "n_bedrooms",
          "n_bedrooms",
          "n_bedrooms",
          "n_bedrooms",
          "n_bedrooms",
          "n_bedrooms",
          "n_bedrooms",
          "n_bedrooms",
          "n_bedrooms",
          "n_bedrooms",
          "n_bedrooms",
          "n_bedrooms",
          "n_bedrooms",
          "n_bedrooms",
          "n_bedrooms",
          "n_bedrooms",
          "n_bedrooms",
          "n_bedrooms",
          "n_bedrooms",
          "n_bedrooms",
          "n_bedrooms",
          "n_bedrooms",
          "n_bedrooms",
          "n_bedrooms",
          "n_bedrooms",
          "n_bedrooms",
          "n_bedrooms",
          "n_bedrooms",
          "n_bedrooms",
          "n_bedrooms",
          "n_bedrooms",
          "n_bedrooms",
          "n_bedrooms",
          "n_bedrooms",
          "n_bedrooms",
          "n_bedrooms",
          "n_bedrooms",
          "n_bedrooms",
          "n_bedrooms",
          "n_bedrooms",
          "n_bedrooms",
          "n_bedrooms",
          "n_bedrooms",
          "n_bedrooms",
          "n_bedrooms",
          "n_bedrooms",
          "n_bedrooms",
          "n_bedrooms",
          "n_bedrooms",
          "n_bedrooms",
          "n_bedrooms",
          "n_bedrooms",
          "n_bedrooms",
          "n_bedrooms",
          "n_bedrooms",
          "n_bedrooms",
          "n_bedrooms",
          "n_bedrooms",
          "n_bedrooms",
          "n_bedrooms",
          "n_bedrooms",
          "n_bedrooms",
          "n_bedrooms",
          "n_bedrooms",
          "n_bedrooms",
          "n_bedrooms",
          "n_bedrooms",
          "n_bedrooms",
          "n_bedrooms",
          "n_bedrooms",
          "n_bedrooms",
          "n_bedrooms",
          "n_bedrooms",
          "n_bedrooms",
          "n_bedrooms",
          "n_bedrooms",
          "n_bedrooms",
          "n_bedrooms",
          "n_bedrooms",
          "n_bedrooms",
          "n_bedrooms",
          "n_bedrooms",
          "n_bedrooms",
          "n_bedrooms",
          "n_bedrooms",
          "n_bedrooms",
          "n_bedrooms",
          "n_bedrooms",
          "n_bedrooms",
          "n_bedrooms",
          "n_bedrooms",
          "n_bedrooms",
          "n_bedrooms",
          "n_bedrooms",
          "n_bedrooms",
          "n_bedrooms",
          "n_bedrooms",
          "n_bedrooms",
          "n_bedrooms",
          "n_bedrooms",
          "n_bedrooms",
          "n_bedrooms",
          "n_bedrooms",
          "n_bedrooms",
          "n_bedrooms",
          "n_bedrooms",
          "n_bedrooms",
          "n_bedrooms",
          "n_bedrooms",
          "n_bedrooms",
          "n_bedrooms",
          "n_bedrooms",
          "n_bedrooms",
          "n_bedrooms",
          "n_bedrooms",
          "n_bedrooms",
          "n_bedrooms",
          "n_bedrooms",
          "n_bedrooms",
          "n_bedrooms",
          "n_bedrooms",
          "n_bedrooms",
          "n_bedrooms",
          "n_bedrooms",
          "n_bedrooms",
          "n_bedrooms",
          "n_bedrooms",
          "n_bedrooms",
          "n_bedrooms",
          "n_bedrooms",
          "n_bedrooms",
          "n_bedrooms",
          "n_bedrooms",
          "n_bedrooms",
          "n_bedrooms",
          "n_bedrooms",
          "n_bedrooms",
          "n_bedrooms",
          "n_bedrooms",
          "n_bedrooms",
          "n_bedrooms",
          "n_bedrooms",
          "n_bedrooms",
          "n_bedrooms",
          "n_bedrooms",
          "n_bedrooms",
          "n_bedrooms",
          "n_bedrooms",
          "n_bedrooms",
          "n_bedrooms",
          "n_bedrooms",
          "n_bedrooms",
          "n_bedrooms",
          "n_bedrooms",
          "n_bedrooms",
          "n_bedrooms",
          "n_bedrooms",
          "n_bedrooms",
          "n_bedrooms",
          "n_bedrooms",
          "n_bedrooms",
          "n_bedrooms",
          "n_bedrooms",
          "n_bedrooms",
          "n_bedrooms",
          "n_bedrooms",
          "n_bedrooms",
          "n_bedrooms",
          "n_bedrooms",
          "n_bedrooms",
          "n_bedrooms",
          "n_bedrooms",
          "n_bedrooms",
          "n_bedrooms",
          "n_bedrooms",
          "n_bedrooms",
          "n_bedrooms",
          "n_bedrooms",
          "n_bedrooms",
          "n_bedrooms",
          "n_bedrooms",
          "n_bedrooms",
          "n_bedrooms",
          "n_bedrooms",
          "n_bedrooms",
          "n_bedrooms",
          "n_bedrooms",
          "n_bedrooms",
          "n_bedrooms",
          "n_bedrooms",
          "n_bedrooms",
          "n_bedrooms",
          "n_bedrooms",
          "n_bedrooms",
          "n_bedrooms",
          "n_bedrooms",
          "n_bedrooms",
          "n_bedrooms",
          "n_bedrooms",
          "n_bedrooms",
          "n_bedrooms",
          "n_bedrooms",
          "n_bedrooms",
          "n_bedrooms",
          "n_bedrooms",
          "n_bedrooms",
          "n_bedrooms",
          "n_bedrooms",
          "n_bedrooms",
          "n_bedrooms",
          "n_bedrooms",
          "n_bedrooms",
          "n_bedrooms",
          "n_bedrooms",
          "n_bedrooms",
          "house_size",
          "house_size",
          "house_size",
          "house_size",
          "house_size",
          "house_size",
          "house_size",
          "house_size",
          "house_size",
          "house_size",
          "house_size",
          "house_size",
          "house_size",
          "house_size",
          "house_size",
          "house_size",
          "house_size",
          "house_size",
          "house_size",
          "house_size",
          "house_size",
          "house_size",
          "house_size",
          "house_size",
          "house_size",
          "house_size",
          "house_size",
          "house_size",
          "house_size",
          "house_size",
          "house_size",
          "house_size",
          "house_size",
          "house_size",
          "house_size",
          "house_size",
          "house_size",
          "house_size",
          "house_size",
          "house_size",
          "house_size",
          "house_size",
          "house_size",
          "house_size",
          "house_size",
          "house_size",
          "house_size",
          "house_size",
          "house_size",
          "house_size",
          "house_size",
          "house_size",
          "house_size",
          "house_size",
          "house_size",
          "house_size",
          "house_size",
          "house_size",
          "house_size",
          "house_size",
          "house_size",
          "house_size",
          "house_size",
          "house_size",
          "house_size",
          "house_size",
          "house_size",
          "house_size",
          "house_size",
          "house_size",
          "house_size",
          "house_size",
          "house_size",
          "house_size",
          "house_size",
          "house_size",
          "house_size",
          "house_size",
          "house_size",
          "house_size",
          "house_size",
          "house_size",
          "house_size",
          "house_size",
          "house_size",
          "house_size",
          "house_size",
          "house_size",
          "house_size",
          "house_size",
          "house_size",
          "house_size",
          "house_size",
          "house_size",
          "house_size",
          "house_size",
          "house_size",
          "house_size",
          "house_size",
          "house_size",
          "house_size",
          "house_size",
          "house_size",
          "house_size",
          "house_size",
          "house_size",
          "house_size",
          "house_size",
          "house_size",
          "house_size",
          "house_size",
          "house_size",
          "house_size",
          "house_size",
          "house_size",
          "house_size",
          "house_size",
          "house_size",
          "house_size",
          "house_size",
          "house_size",
          "house_size",
          "house_size",
          "house_size",
          "house_size",
          "house_size",
          "house_size",
          "house_size",
          "house_size",
          "house_size",
          "house_size",
          "house_size",
          "house_size",
          "house_size",
          "house_size",
          "house_size",
          "house_size",
          "house_size",
          "house_size",
          "house_size",
          "house_size",
          "house_size",
          "house_size",
          "house_size",
          "house_size",
          "house_size",
          "house_size",
          "house_size",
          "house_size",
          "house_size",
          "house_size",
          "house_size",
          "house_size",
          "house_size",
          "house_size",
          "house_size",
          "house_size",
          "house_size",
          "house_size",
          "house_size",
          "house_size",
          "house_size",
          "house_size",
          "house_size",
          "house_size",
          "house_size",
          "house_size",
          "house_size",
          "house_size",
          "house_size",
          "house_size",
          "house_size",
          "house_size",
          "house_size",
          "house_size",
          "house_size",
          "house_size",
          "house_size",
          "house_size",
          "house_size",
          "house_size",
          "house_size",
          "house_size",
          "house_size",
          "house_size",
          "house_size",
          "house_size",
          "house_size",
          "house_size",
          "house_size",
          "house_size",
          "house_size",
          "house_size",
          "house_size",
          "house_size",
          "house_size",
          "house_size",
          "house_size",
          "house_size",
          "house_size",
          "house_size",
          "house_size",
          "house_size",
          "house_size",
          "house_size",
          "house_size",
          "house_size",
          "house_size",
          "house_size",
          "house_size",
          "house_size",
          "house_size",
          "house_size",
          "house_size",
          "house_size",
          "house_size",
          "house_size",
          "house_size",
          "house_size",
          "house_size",
          "house_size",
          "house_size",
          "house_size",
          "house_size",
          "house_size",
          "house_size",
          "house_size",
          "house_size",
          "house_size",
          "house_size",
          "house_size",
          "house_size",
          "house_size",
          "house_size",
          "house_size",
          "house_size",
          "house_size",
          "house_size",
          "house_size",
          "house_size",
          "house_size",
          "house_size",
          "house_size",
          "house_size",
          "house_size",
          "house_size",
          "house_size",
          "house_size",
          "house_size",
          "house_size",
          "house_size",
          "house_size",
          "house_size",
          "house_size",
          "house_size",
          "house_size",
          "house_size",
          "house_size",
          "house_size",
          "house_size",
          "house_size",
          "house_size",
          "house_size",
          "house_size",
          "house_size",
          "house_size",
          "house_size",
          "house_size",
          "house_size",
          "house_size",
          "house_size",
          "house_size",
          "house_size",
          "house_size",
          "house_size",
          "house_size",
          "house_size",
          "house_size",
          "house_size",
          "house_size",
          "house_size",
          "house_size",
          "house_size",
          "house_size",
          "house_size",
          "house_size",
          "house_size",
          "house_size",
          "house_size",
          "house_size",
          "house_size",
          "house_size",
          "house_size",
          "house_size",
          "house_size",
          "house_size",
          "house_size",
          "house_size",
          "house_size",
          "house_size",
          "house_size",
          "house_size",
          "house_size",
          "house_size",
          "house_size",
          "house_size",
          "house_size",
          "house_size",
          "house_size",
          "house_size",
          "house_size",
          "house_size",
          "house_size",
          "house_size",
          "house_size",
          "house_size",
          "house_size",
          "house_size",
          "house_size",
          "house_size",
          "house_size",
          "house_size",
          "house_size",
          "house_size",
          "house_size",
          "house_size",
          "house_size",
          "house_size",
          "house_size",
          "house_size",
          "house_size",
          "house_size",
          "house_size",
          "house_size",
          "house_size",
          "house_size",
          "house_size",
          "house_size",
          "house_size",
          "house_size",
          "house_size",
          "house_size",
          "house_size",
          "house_size",
          "house_size",
          "house_size",
          "house_size",
          "house_size",
          "house_size",
          "house_size",
          "house_size",
          "house_size",
          "house_size",
          "house_size",
          "house_size",
          "house_size",
          "house_size",
          "house_size",
          "house_size",
          "house_size",
          "house_size",
          "house_size",
          "house_size",
          "house_size",
          "house_size",
          "house_size",
          "house_size",
          "house_size",
          "house_size",
          "house_size",
          "house_size",
          "house_size",
          "house_size",
          "house_size",
          "house_size",
          "house_size",
          "house_size",
          "house_size",
          "house_size",
          "house_size",
          "house_size",
          "house_size",
          "house_size",
          "house_size",
          "house_size",
          "house_size",
          "house_size",
          "house_size",
          "house_size",
          "house_size",
          "house_size",
          "house_size",
          "house_size",
          "house_size",
          "house_size",
          "house_size",
          "house_size",
          "house_size",
          "house_size",
          "house_size",
          "house_size",
          "house_size",
          "house_size",
          "house_size",
          "house_size",
          "house_size",
          "house_size",
          "house_size",
          "house_size",
          "house_size",
          "house_size",
          "house_size",
          "house_size",
          "house_size",
          "house_price_unit_area",
          "house_price_unit_area",
          "house_price_unit_area",
          "house_price_unit_area",
          "house_price_unit_area",
          "house_price_unit_area",
          "house_price_unit_area",
          "house_price_unit_area",
          "house_price_unit_area",
          "house_price_unit_area",
          "house_price_unit_area",
          "house_price_unit_area",
          "house_price_unit_area",
          "house_price_unit_area",
          "house_price_unit_area",
          "house_price_unit_area",
          "house_price_unit_area",
          "house_price_unit_area",
          "house_price_unit_area",
          "house_price_unit_area",
          "house_price_unit_area",
          "house_price_unit_area",
          "house_price_unit_area",
          "house_price_unit_area",
          "house_price_unit_area",
          "house_price_unit_area",
          "house_price_unit_area",
          "house_price_unit_area",
          "house_price_unit_area",
          "house_price_unit_area",
          "house_price_unit_area",
          "house_price_unit_area",
          "house_price_unit_area",
          "house_price_unit_area",
          "house_price_unit_area",
          "house_price_unit_area",
          "house_price_unit_area",
          "house_price_unit_area",
          "house_price_unit_area",
          "house_price_unit_area",
          "house_price_unit_area",
          "house_price_unit_area",
          "house_price_unit_area",
          "house_price_unit_area",
          "house_price_unit_area",
          "house_price_unit_area",
          "house_price_unit_area",
          "house_price_unit_area",
          "house_price_unit_area",
          "house_price_unit_area",
          "house_price_unit_area",
          "house_price_unit_area",
          "house_price_unit_area",
          "house_price_unit_area",
          "house_price_unit_area",
          "house_price_unit_area",
          "house_price_unit_area",
          "house_price_unit_area",
          "house_price_unit_area",
          "house_price_unit_area",
          "house_price_unit_area",
          "house_price_unit_area",
          "house_price_unit_area",
          "house_price_unit_area",
          "house_price_unit_area",
          "house_price_unit_area",
          "house_price_unit_area",
          "house_price_unit_area",
          "house_price_unit_area",
          "house_price_unit_area",
          "house_price_unit_area",
          "house_price_unit_area",
          "house_price_unit_area",
          "house_price_unit_area",
          "house_price_unit_area",
          "house_price_unit_area",
          "house_price_unit_area",
          "house_price_unit_area",
          "house_price_unit_area",
          "house_price_unit_area",
          "house_price_unit_area",
          "house_price_unit_area",
          "house_price_unit_area",
          "house_price_unit_area",
          "house_price_unit_area",
          "house_price_unit_area",
          "house_price_unit_area",
          "house_price_unit_area",
          "house_price_unit_area",
          "house_price_unit_area",
          "house_price_unit_area",
          "house_price_unit_area",
          "house_price_unit_area",
          "house_price_unit_area",
          "house_price_unit_area",
          "house_price_unit_area",
          "house_price_unit_area",
          "house_price_unit_area",
          "house_price_unit_area",
          "house_price_unit_area",
          "house_price_unit_area",
          "house_price_unit_area",
          "house_price_unit_area",
          "house_price_unit_area",
          "house_price_unit_area",
          "house_price_unit_area",
          "house_price_unit_area",
          "house_price_unit_area",
          "house_price_unit_area",
          "house_price_unit_area",
          "house_price_unit_area",
          "house_price_unit_area",
          "house_price_unit_area",
          "house_price_unit_area",
          "house_price_unit_area",
          "house_price_unit_area",
          "house_price_unit_area",
          "house_price_unit_area",
          "house_price_unit_area",
          "house_price_unit_area",
          "house_price_unit_area",
          "house_price_unit_area",
          "house_price_unit_area",
          "house_price_unit_area",
          "house_price_unit_area",
          "house_price_unit_area",
          "house_price_unit_area",
          "house_price_unit_area",
          "house_price_unit_area",
          "house_price_unit_area",
          "house_price_unit_area",
          "house_price_unit_area",
          "house_price_unit_area",
          "house_price_unit_area",
          "house_price_unit_area",
          "house_price_unit_area",
          "house_price_unit_area",
          "house_price_unit_area",
          "house_price_unit_area",
          "house_price_unit_area",
          "house_price_unit_area",
          "house_price_unit_area",
          "house_price_unit_area",
          "house_price_unit_area",
          "house_price_unit_area",
          "house_price_unit_area",
          "house_price_unit_area",
          "house_price_unit_area",
          "house_price_unit_area",
          "house_price_unit_area",
          "house_price_unit_area",
          "house_price_unit_area",
          "house_price_unit_area",
          "house_price_unit_area",
          "house_price_unit_area",
          "house_price_unit_area",
          "house_price_unit_area",
          "house_price_unit_area",
          "house_price_unit_area",
          "house_price_unit_area",
          "house_price_unit_area",
          "house_price_unit_area",
          "house_price_unit_area",
          "house_price_unit_area",
          "house_price_unit_area",
          "house_price_unit_area",
          "house_price_unit_area",
          "house_price_unit_area",
          "house_price_unit_area",
          "house_price_unit_area",
          "house_price_unit_area",
          "house_price_unit_area",
          "house_price_unit_area",
          "house_price_unit_area",
          "house_price_unit_area",
          "house_price_unit_area",
          "house_price_unit_area",
          "house_price_unit_area",
          "house_price_unit_area",
          "house_price_unit_area",
          "house_price_unit_area",
          "house_price_unit_area",
          "house_price_unit_area",
          "house_price_unit_area",
          "house_price_unit_area",
          "house_price_unit_area",
          "house_price_unit_area",
          "house_price_unit_area",
          "house_price_unit_area",
          "house_price_unit_area",
          "house_price_unit_area",
          "house_price_unit_area",
          "house_price_unit_area",
          "house_price_unit_area",
          "house_price_unit_area",
          "house_price_unit_area",
          "house_price_unit_area",
          "house_price_unit_area",
          "house_price_unit_area",
          "house_price_unit_area",
          "house_price_unit_area",
          "house_price_unit_area",
          "house_price_unit_area",
          "house_price_unit_area",
          "house_price_unit_area",
          "house_price_unit_area",
          "house_price_unit_area",
          "house_price_unit_area",
          "house_price_unit_area",
          "house_price_unit_area",
          "house_price_unit_area",
          "house_price_unit_area",
          "house_price_unit_area",
          "house_price_unit_area",
          "house_price_unit_area",
          "house_price_unit_area",
          "house_price_unit_area",
          "house_price_unit_area",
          "house_price_unit_area",
          "house_price_unit_area",
          "house_price_unit_area",
          "house_price_unit_area",
          "house_price_unit_area",
          "house_price_unit_area",
          "house_price_unit_area",
          "house_price_unit_area",
          "house_price_unit_area",
          "house_price_unit_area",
          "house_price_unit_area",
          "house_price_unit_area",
          "house_price_unit_area",
          "house_price_unit_area",
          "house_price_unit_area",
          "house_price_unit_area",
          "house_price_unit_area",
          "house_price_unit_area",
          "house_price_unit_area",
          "house_price_unit_area",
          "house_price_unit_area",
          "house_price_unit_area",
          "house_price_unit_area",
          "house_price_unit_area",
          "house_price_unit_area",
          "house_price_unit_area",
          "house_price_unit_area",
          "house_price_unit_area",
          "house_price_unit_area",
          "house_price_unit_area",
          "house_price_unit_area",
          "house_price_unit_area",
          "house_price_unit_area",
          "house_price_unit_area",
          "house_price_unit_area",
          "house_price_unit_area",
          "house_price_unit_area",
          "house_price_unit_area",
          "house_price_unit_area",
          "house_price_unit_area",
          "house_price_unit_area",
          "house_price_unit_area",
          "house_price_unit_area",
          "house_price_unit_area",
          "house_price_unit_area",
          "house_price_unit_area",
          "house_price_unit_area",
          "house_price_unit_area",
          "house_price_unit_area",
          "house_price_unit_area",
          "house_price_unit_area",
          "house_price_unit_area",
          "house_price_unit_area",
          "house_price_unit_area",
          "house_price_unit_area",
          "house_price_unit_area",
          "house_price_unit_area",
          "house_price_unit_area",
          "house_price_unit_area",
          "house_price_unit_area",
          "house_price_unit_area",
          "house_price_unit_area",
          "house_price_unit_area",
          "house_price_unit_area",
          "house_price_unit_area",
          "house_price_unit_area",
          "house_price_unit_area",
          "house_price_unit_area",
          "house_price_unit_area",
          "house_price_unit_area",
          "house_price_unit_area",
          "house_price_unit_area",
          "house_price_unit_area",
          "house_price_unit_area",
          "house_price_unit_area",
          "house_price_unit_area",
          "house_price_unit_area",
          "house_price_unit_area",
          "house_price_unit_area",
          "house_price_unit_area",
          "house_price_unit_area",
          "house_price_unit_area",
          "house_price_unit_area",
          "house_price_unit_area",
          "house_price_unit_area",
          "house_price_unit_area",
          "house_price_unit_area",
          "house_price_unit_area",
          "house_price_unit_area",
          "house_price_unit_area",
          "house_price_unit_area",
          "house_price_unit_area",
          "house_price_unit_area",
          "house_price_unit_area",
          "house_price_unit_area",
          "house_price_unit_area",
          "house_price_unit_area",
          "house_price_unit_area",
          "house_price_unit_area",
          "house_price_unit_area",
          "house_price_unit_area",
          "house_price_unit_area",
          "house_price_unit_area",
          "house_price_unit_area",
          "house_price_unit_area",
          "house_price_unit_area",
          "house_price_unit_area",
          "house_price_unit_area",
          "house_price_unit_area",
          "house_price_unit_area",
          "house_price_unit_area",
          "house_price_unit_area",
          "house_price_unit_area",
          "house_price_unit_area",
          "house_price_unit_area",
          "house_price_unit_area",
          "house_price_unit_area",
          "house_price_unit_area",
          "house_price_unit_area",
          "house_price_unit_area",
          "house_price_unit_area",
          "house_price_unit_area",
          "house_price_unit_area",
          "house_price_unit_area",
          "house_price_unit_area",
          "house_price_unit_area",
          "house_price_unit_area",
          "house_price_unit_area",
          "house_price_unit_area",
          "house_price_unit_area",
          "house_price_unit_area",
          "house_price_unit_area",
          "house_price_unit_area",
          "house_price_unit_area",
          "house_price_unit_area",
          "house_price_unit_area",
          "house_price_unit_area",
          "house_price_unit_area",
          "house_price_unit_area",
          "house_price_unit_area",
          "house_price_unit_area",
          "house_price_unit_area",
          "house_price_unit_area",
          "house_price_unit_area",
          "house_price_unit_area",
          "house_price_unit_area",
          "house_price_unit_area",
          "house_price_unit_area",
          "house_price_unit_area",
          "house_price_unit_area",
          "house_price_unit_area",
          "house_price_unit_area",
          "house_price_unit_area",
          "house_price_unit_area",
          "house_price_unit_area",
          "house_price_unit_area",
          "house_price_unit_area",
          "house_price_unit_area",
          "house_price_unit_area",
          "house_price_unit_area",
          "house_price_unit_area",
          "house_price_unit_area",
          "house_price_unit_area",
          "house_price_unit_area",
          "house_price_unit_area",
          "house_price_unit_area",
          "house_price_unit_area",
          "house_price_unit_area",
          "house_price_unit_area",
          "house_price_unit_area",
          "house_price_unit_area",
          "house_price_unit_area",
          "house_price_unit_area",
          "house_price_unit_area",
          "house_price_unit_area",
          "house_price_unit_area",
          "house_price_unit_area",
          "house_price_unit_area",
          "house_price_unit_area",
          "house_price_unit_area",
          "house_price_unit_area",
          "house_price_unit_area",
          "house_price_unit_area",
          "house_price_unit_area",
          "house_price_unit_area",
          "house_price_unit_area",
          "house_price_unit_area",
          "house_price_unit_area",
          "house_price_unit_area",
          "house_price_unit_area",
          "house_price_unit_area",
          "house_price_unit_area",
          "house_price_unit_area",
          "house_price_unit_area",
          "house_price_unit_area",
          "house_price_unit_area",
          "transaction_year",
          "transaction_year",
          "transaction_year",
          "transaction_year",
          "transaction_year",
          "transaction_year",
          "transaction_year",
          "transaction_year",
          "transaction_year",
          "transaction_year",
          "transaction_year",
          "transaction_year",
          "transaction_year",
          "transaction_year",
          "transaction_year",
          "transaction_year",
          "transaction_year",
          "transaction_year",
          "transaction_year",
          "transaction_year",
          "transaction_year",
          "transaction_year",
          "transaction_year",
          "transaction_year",
          "transaction_year",
          "transaction_year",
          "transaction_year",
          "transaction_year",
          "transaction_year",
          "transaction_year",
          "transaction_year",
          "transaction_year",
          "transaction_year",
          "transaction_year",
          "transaction_year",
          "transaction_year",
          "transaction_year",
          "transaction_year",
          "transaction_year",
          "transaction_year",
          "transaction_year",
          "transaction_year",
          "transaction_year",
          "transaction_year",
          "transaction_year",
          "transaction_year",
          "transaction_year",
          "transaction_year",
          "transaction_year",
          "transaction_year",
          "transaction_year",
          "transaction_year",
          "transaction_year",
          "transaction_year",
          "transaction_year",
          "transaction_year",
          "transaction_year",
          "transaction_year",
          "transaction_year",
          "transaction_year",
          "transaction_year",
          "transaction_year",
          "transaction_year",
          "transaction_year",
          "transaction_year",
          "transaction_year",
          "transaction_year",
          "transaction_year",
          "transaction_year",
          "transaction_year",
          "transaction_year",
          "transaction_year",
          "transaction_year",
          "transaction_year",
          "transaction_year",
          "transaction_year",
          "transaction_year",
          "transaction_year",
          "transaction_year",
          "transaction_year",
          "transaction_year",
          "transaction_year",
          "transaction_year",
          "transaction_year",
          "transaction_year",
          "transaction_year",
          "transaction_year",
          "transaction_year",
          "transaction_year",
          "transaction_year",
          "transaction_year",
          "transaction_year",
          "transaction_year",
          "transaction_year",
          "transaction_year",
          "transaction_year",
          "transaction_year",
          "transaction_year",
          "transaction_year",
          "transaction_year",
          "transaction_year",
          "transaction_year",
          "transaction_year",
          "transaction_year",
          "transaction_year",
          "transaction_year",
          "transaction_year",
          "transaction_year",
          "transaction_year",
          "transaction_year",
          "transaction_year",
          "transaction_year",
          "transaction_year",
          "transaction_year",
          "transaction_year",
          "transaction_year",
          "transaction_year",
          "transaction_year",
          "transaction_year",
          "transaction_year",
          "transaction_year",
          "transaction_year",
          "transaction_year",
          "transaction_year",
          "transaction_year",
          "transaction_year",
          "transaction_year",
          "transaction_year",
          "transaction_year",
          "transaction_year",
          "transaction_year",
          "transaction_year",
          "transaction_year",
          "transaction_year",
          "transaction_year",
          "transaction_year",
          "transaction_year",
          "transaction_year",
          "transaction_year",
          "transaction_year",
          "transaction_year",
          "transaction_year",
          "transaction_year",
          "transaction_year",
          "transaction_year",
          "transaction_year",
          "transaction_year",
          "transaction_year",
          "transaction_year",
          "transaction_year",
          "transaction_year",
          "transaction_year",
          "transaction_year",
          "transaction_year",
          "transaction_year",
          "transaction_year",
          "transaction_year",
          "transaction_year",
          "transaction_year",
          "transaction_year",
          "transaction_year",
          "transaction_year",
          "transaction_year",
          "transaction_year",
          "transaction_year",
          "transaction_year",
          "transaction_year",
          "transaction_year",
          "transaction_year",
          "transaction_year",
          "transaction_year",
          "transaction_year",
          "transaction_year",
          "transaction_year",
          "transaction_year",
          "transaction_year",
          "transaction_year",
          "transaction_year",
          "transaction_year",
          "transaction_year",
          "transaction_year",
          "transaction_year",
          "transaction_year",
          "transaction_year",
          "transaction_year",
          "transaction_year",
          "transaction_year",
          "transaction_year",
          "transaction_year",
          "transaction_year",
          "transaction_year",
          "transaction_year",
          "transaction_year",
          "transaction_year",
          "transaction_year",
          "transaction_year",
          "transaction_year",
          "transaction_year",
          "transaction_year",
          "transaction_year",
          "transaction_year",
          "transaction_year",
          "transaction_year",
          "transaction_year",
          "transaction_year",
          "transaction_year",
          "transaction_year",
          "transaction_year",
          "transaction_year",
          "transaction_year",
          "transaction_year",
          "transaction_year",
          "transaction_year",
          "transaction_year",
          "transaction_year",
          "transaction_year",
          "transaction_year",
          "transaction_year",
          "transaction_year",
          "transaction_year",
          "transaction_year",
          "transaction_year",
          "transaction_year",
          "transaction_year",
          "transaction_year",
          "transaction_year",
          "transaction_year",
          "transaction_year",
          "transaction_year",
          "transaction_year",
          "transaction_year",
          "transaction_year",
          "transaction_year",
          "transaction_year",
          "transaction_year",
          "transaction_year",
          "transaction_year",
          "transaction_year",
          "transaction_year",
          "transaction_year",
          "transaction_year",
          "transaction_year",
          "transaction_year",
          "transaction_year",
          "transaction_year",
          "transaction_year",
          "transaction_year",
          "transaction_year",
          "transaction_year",
          "transaction_year",
          "transaction_year",
          "transaction_year",
          "transaction_year",
          "transaction_year",
          "transaction_year",
          "transaction_year",
          "transaction_year",
          "transaction_year",
          "transaction_year",
          "transaction_year",
          "transaction_year",
          "transaction_year",
          "transaction_year",
          "transaction_year",
          "transaction_year",
          "transaction_year",
          "transaction_year",
          "transaction_year",
          "transaction_year",
          "transaction_year",
          "transaction_year",
          "transaction_year",
          "transaction_year",
          "transaction_year",
          "transaction_year",
          "transaction_year",
          "transaction_year",
          "transaction_year",
          "transaction_year",
          "transaction_year",
          "transaction_year",
          "transaction_year",
          "transaction_year",
          "transaction_year",
          "transaction_year",
          "transaction_year",
          "transaction_year",
          "transaction_year",
          "transaction_year",
          "transaction_year",
          "transaction_year",
          "transaction_year",
          "transaction_year",
          "transaction_year",
          "transaction_year",
          "transaction_year",
          "transaction_year",
          "transaction_year",
          "transaction_year",
          "transaction_year",
          "transaction_year",
          "transaction_year",
          "transaction_year",
          "transaction_year",
          "transaction_year",
          "transaction_year",
          "transaction_year",
          "transaction_year",
          "transaction_year",
          "transaction_year",
          "transaction_year",
          "transaction_year",
          "transaction_year",
          "transaction_year",
          "transaction_year",
          "transaction_year",
          "transaction_year",
          "transaction_year",
          "transaction_year",
          "transaction_year",
          "transaction_year",
          "transaction_year",
          "transaction_year",
          "transaction_year",
          "transaction_year",
          "transaction_year",
          "transaction_year",
          "transaction_year",
          "transaction_year",
          "transaction_year",
          "transaction_year",
          "transaction_year",
          "transaction_year",
          "transaction_year",
          "transaction_year",
          "transaction_year",
          "transaction_year",
          "transaction_year",
          "transaction_year",
          "transaction_year",
          "transaction_year",
          "transaction_year",
          "transaction_year",
          "transaction_year",
          "transaction_year",
          "transaction_year",
          "transaction_year",
          "transaction_year",
          "transaction_year",
          "transaction_year",
          "transaction_year",
          "transaction_year",
          "transaction_year",
          "transaction_year",
          "transaction_year",
          "transaction_year",
          "transaction_year",
          "transaction_year",
          "transaction_year",
          "transaction_year",
          "transaction_year",
          "transaction_year",
          "transaction_year",
          "transaction_year",
          "transaction_year",
          "transaction_year",
          "transaction_year",
          "transaction_year",
          "transaction_year",
          "transaction_year",
          "transaction_year",
          "transaction_year",
          "transaction_year",
          "transaction_year",
          "transaction_year",
          "transaction_year",
          "transaction_year",
          "transaction_year",
          "transaction_year",
          "transaction_year",
          "transaction_year",
          "transaction_year",
          "transaction_year",
          "transaction_year",
          "transaction_year",
          "transaction_year",
          "transaction_year",
          "transaction_year",
          "transaction_year",
          "transaction_year",
          "transaction_year",
          "transaction_year",
          "transaction_year",
          "transaction_year",
          "transaction_year",
          "transaction_year",
          "transaction_year",
          "transaction_year",
          "transaction_year",
          "transaction_year",
          "transaction_year",
          "transaction_year",
          "transaction_year",
          "transaction_year",
          "transaction_year",
          "transaction_year",
          "transaction_year",
          "transaction_year",
          "transaction_year",
          "transaction_year",
          "transaction_year",
          "transaction_year",
          "transaction_year",
          "transaction_year"
         ],
         "x0": " ",
         "xaxis": "x",
         "y": [
          32,
          19.5,
          13.3,
          13.3,
          5,
          7.1,
          34.5,
          20.3,
          31.7,
          17.9,
          34.8,
          6.3,
          13,
          20.4,
          13.2,
          35.7,
          0,
          17.7,
          16.9,
          1.5,
          4.5,
          10.5,
          14.7,
          10.1,
          39.6,
          29.3,
          3.1,
          10.4,
          19.2,
          7.1,
          25.9,
          29.6,
          37.9,
          16.5,
          15.4,
          13.9,
          14.7,
          12,
          3.1,
          16.2,
          13.6,
          16.8,
          36.1,
          34.4,
          2.7,
          36.6,
          21.7,
          35.9,
          24.2,
          29.4,
          21.7,
          31.3,
          32.1,
          13.3,
          16.1,
          31.7,
          33.6,
          3.5,
          30.3,
          13.3,
          11,
          5.3,
          17.2,
          2.6,
          17.5,
          40.1,
          1,
          8.5,
          30.4,
          12.5,
          6.6,
          35.5,
          32.5,
          13.8,
          6.8,
          12.3,
          35.9,
          20.5,
          38.2,
          18,
          11.8,
          30.8,
          13.2,
          25.3,
          15.1,
          0,
          1.8,
          16.9,
          8.9,
          23,
          0,
          9.1,
          20.6,
          31.9,
          40.9,
          8,
          6.4,
          28.4,
          16.4,
          6.4,
          17.5,
          12.7,
          1.1,
          0,
          32.7,
          0,
          17.2,
          12.2,
          31.4,
          4,
          8.1,
          33.3,
          9.9,
          14.8,
          30.6,
          20.6,
          30.9,
          13.6,
          25.3,
          16.6,
          13.3,
          13.6,
          31.5,
          0,
          9.9,
          1.1,
          38.6,
          3.8,
          41.3,
          38.5,
          29.6,
          4,
          26.6,
          18,
          33.4,
          18.9,
          11.4,
          13.6,
          10,
          12.9,
          16.2,
          5.1,
          19.8,
          13.6,
          11.9,
          2.1,
          0,
          3.2,
          16.4,
          34.9,
          35.8,
          4.9,
          12,
          6.5,
          16.9,
          13.8,
          30.7,
          16.1,
          11.6,
          15.5,
          3.5,
          19.2,
          16,
          8.5,
          0,
          13.7,
          0,
          28.2,
          27.6,
          8.4,
          24,
          3.6,
          6.6,
          41.3,
          4.3,
          30.2,
          13.9,
          33,
          13.1,
          14,
          26.9,
          11.6,
          13.5,
          17,
          14.1,
          31.4,
          20.9,
          8.9,
          34.8,
          16.3,
          35.3,
          13.2,
          43.8,
          9.7,
          15.2,
          15.2,
          22.8,
          34.4,
          34,
          18.2,
          17.4,
          13.1,
          38.3,
          15.6,
          18,
          12.8,
          22.2,
          38.5,
          11.5,
          34.8,
          5.2,
          0,
          17.6,
          6.2,
          18.1,
          19.2,
          37.8,
          28,
          13.6,
          29.3,
          37.2,
          9,
          30.6,
          9.1,
          34.5,
          1.1,
          16.5,
          32.4,
          11.9,
          31,
          4,
          16.2,
          27.1,
          39.7,
          8,
          12.9,
          3.6,
          13,
          12.8,
          18.1,
          11,
          13.7,
          2,
          32.8,
          4.8,
          7.5,
          16.4,
          21.7,
          19,
          18,
          39.2,
          31.7,
          5.9,
          30.4,
          1.1,
          31.5,
          14.6,
          17.3,
          0,
          17.7,
          17,
          16.2,
          15.9,
          3.9,
          32.6,
          15.7,
          17.8,
          34.7,
          17.2,
          17.6,
          10.8,
          17.7,
          13,
          13.2,
          27.5,
          1.5,
          19.1,
          21.2,
          0,
          2.6,
          2.3,
          4.7,
          2,
          33.5,
          15,
          30.1,
          5.9,
          19.2,
          16.6,
          13.9,
          37.7,
          3.4,
          17.5,
          12.6,
          26.4,
          18.2,
          12.5,
          34.9,
          16.7,
          33.2,
          2.5,
          38,
          16.5,
          38.3,
          20,
          16.2,
          14.4,
          10.3,
          16.4,
          30.3,
          16.4,
          21.3,
          35.4,
          8.3,
          3.7,
          15.6,
          13.3,
          15.6,
          7.1,
          34.6,
          13.5,
          16.9,
          12.9,
          28.6,
          12.4,
          36.6,
          4.1,
          3.5,
          15.9,
          13.6,
          32,
          25.6,
          39.8,
          7.8,
          30,
          27.3,
          5.1,
          31.3,
          31.5,
          1.7,
          33.6,
          13,
          5.7,
          33.5,
          34.6,
          0,
          13.2,
          17.4,
          4.6,
          7.8,
          13.2,
          4,
          18.4,
          4.1,
          12.2,
          3.8,
          10.3,
          0,
          1.1,
          5.6,
          32.9,
          41.4,
          17.1,
          32.3,
          35.3,
          17.3,
          14.2,
          15,
          18.2,
          20.2,
          15.9,
          4.1,
          33.9,
          0,
          5.4,
          21.7,
          14.7,
          3.9,
          37.3,
          0,
          14.1,
          8,
          16.3,
          29.1,
          16.1,
          18.3,
          0,
          16.2,
          10.4,
          40.9,
          32.8,
          6.2,
          42.7,
          16.9,
          32.6,
          21.2,
          37.1,
          13.1,
          14.7,
          12.7,
          26.8,
          7.6,
          12.7,
          30.9,
          16.4,
          23,
          1.9,
          5.2,
          18.5,
          13.7,
          5.6,
          18.8,
          8.1,
          6.5,
          84.87882,
          306.5947,
          561.9845,
          561.9845,
          390.5684,
          2175.03,
          623.4731,
          287.6025,
          5512.038,
          1783.18,
          405.2134,
          90.45606,
          492.2313,
          2469.645,
          1164.838,
          579.2083,
          292.9978,
          350.8515,
          368.1363,
          23.38284,
          2275.877,
          279.1726,
          1360.139,
          279.1726,
          480.6977,
          1487.868,
          383.8624,
          276.449,
          557.478,
          451.2438,
          4519.69,
          769.4034,
          488.5727,
          323.655,
          205.367,
          4079.418,
          1935.009,
          1360.139,
          577.9615,
          289.3248,
          4082.015,
          4066.587,
          519.4617,
          512.7871,
          533.4762,
          488.8193,
          463.9623,
          640.7391,
          4605.749,
          4510.359,
          512.5487,
          1758.406,
          1438.579,
          492.2313,
          289.3248,
          1160.632,
          371.2495,
          56.47425,
          4510.359,
          336.0532,
          1931.207,
          259.6607,
          2175.877,
          533.4762,
          995.7554,
          123.7429,
          193.5845,
          104.8101,
          464.223,
          561.9845,
          90.45606,
          640.7391,
          424.5442,
          4082.015,
          379.5575,
          1360.139,
          616.4004,
          2185.128,
          552.4371,
          1414.837,
          533.4762,
          377.7956,
          150.9347,
          2707.392,
          383.2805,
          338.9679,
          1455.798,
          4066.587,
          1406.43,
          3947.945,
          274.0144,
          1402.016,
          2469.645,
          1146.329,
          167.5989,
          104.8101,
          90.45606,
          617.4424,
          289.3248,
          90.45606,
          964.7496,
          170.1289,
          193.5845,
          208.3905,
          392.4459,
          292.9978,
          189.5181,
          1360.139,
          592.5006,
          2147.376,
          104.8101,
          196.6172,
          2102.427,
          393.2606,
          143.8383,
          737.9161,
          6396.283,
          4197.349,
          1583.722,
          289.3248,
          492.2313,
          492.2313,
          414.9476,
          185.4296,
          279.1726,
          193.5845,
          804.6897,
          383.8624,
          124.9912,
          216.8329,
          535.527,
          2147.376,
          482.7581,
          373.3937,
          186.9686,
          1009.235,
          390.5684,
          319.0708,
          942.4664,
          492.2313,
          289.3248,
          1559.827,
          640.6071,
          492.2313,
          1360.139,
          451.2438,
          185.4296,
          489.8821,
          3780.59,
          179.4538,
          170.7311,
          387.7721,
          1360.139,
          376.1709,
          4066.587,
          4082.015,
          1264.73,
          815.9314,
          390.5684,
          815.9314,
          49.66105,
          616.4004,
          4066.587,
          104.8101,
          185.4296,
          1236.564,
          292.9978,
          330.0854,
          515.1122,
          1962.628,
          4527.687,
          383.8624,
          90.45606,
          401.8807,
          432.0385,
          472.1745,
          4573.779,
          181.0766,
          1144.436,
          438.8513,
          4449.27,
          201.8939,
          2147.376,
          4082.015,
          2615.465,
          1447.286,
          2185.128,
          3078.176,
          190.0392,
          4066.587,
          616.5735,
          750.0704,
          57.58945,
          421.479,
          3771.895,
          461.1016,
          707.9067,
          126.7286,
          157.6052,
          451.6419,
          995.7554,
          561.9845,
          642.6985,
          289.3248,
          1414.837,
          1449.722,
          379.5575,
          665.0636,
          1360.139,
          175.6294,
          390.5684,
          274.0144,
          1805.665,
          90.45606,
          1783.18,
          383.7129,
          590.9292,
          372.6242,
          492.2313,
          529.7771,
          186.5101,
          1402.016,
          431.1114,
          1402.016,
          324.9419,
          193.5845,
          4082.015,
          265.0609,
          3171.329,
          1156.412,
          2147.376,
          4074.736,
          4412.765,
          333.3679,
          2216.612,
          250.631,
          373.8389,
          732.8528,
          732.8528,
          837.7233,
          1712.632,
          250.631,
          2077.39,
          204.1705,
          1559.827,
          639.6198,
          389.8219,
          1055.067,
          1009.235,
          6306.153,
          424.7132,
          1159.454,
          90.45606,
          1735.595,
          329.9747,
          5512.038,
          339.2289,
          444.1334,
          292.9978,
          837.7233,
          1485.097,
          2288.011,
          289.3248,
          2147.376,
          493.657,
          815.9314,
          1783.18,
          482.7581,
          390.5684,
          837.7233,
          252.5822,
          451.6419,
          492.2313,
          170.1289,
          394.0173,
          23.38284,
          461.1016,
          2185.128,
          208.3905,
          1554.25,
          184.3302,
          387.7721,
          1455.798,
          1978.671,
          383.2805,
          718.2937,
          90.45606,
          461.1016,
          323.6912,
          289.3248,
          490.3446,
          56.47425,
          395.6747,
          383.2805,
          335.5273,
          2179.59,
          1144.436,
          567.0349,
          4082.015,
          121.7262,
          156.2442,
          461.7848,
          2288.011,
          439.7105,
          1626.083,
          289.3248,
          169.9803,
          3079.89,
          289.3248,
          1264.73,
          1643.499,
          537.7971,
          318.5292,
          104.8101,
          577.9615,
          1756.411,
          250.631,
          752.7669,
          379.5575,
          272.6783,
          4197.349,
          964.7496,
          187.4823,
          197.1338,
          1712.632,
          488.8193,
          56.47425,
          757.3377,
          1497.713,
          4197.349,
          1156.777,
          4519.69,
          617.7134,
          104.8101,
          1013.341,
          337.6016,
          1867.233,
          600.8604,
          258.186,
          329.9747,
          270.8895,
          750.0704,
          90.45606,
          563.2854,
          3085.17,
          185.4296,
          1712.632,
          6488.021,
          259.6607,
          104.8101,
          492.2313,
          2180.245,
          2674.961,
          2147.376,
          1360.139,
          383.8624,
          211.4473,
          338.9679,
          193.5845,
          2408.993,
          87.30222,
          281.205,
          967.4,
          109.9455,
          614.1394,
          2261.432,
          1801.544,
          1828.319,
          350.8515,
          2185.128,
          289.3248,
          312.8963,
          157.6052,
          274.0144,
          390.5684,
          1157.988,
          1717.193,
          49.66105,
          587.8877,
          292.9978,
          289.3248,
          132.5469,
          3529.564,
          506.1144,
          4066.587,
          82.88643,
          185.4296,
          2103.555,
          2251.938,
          122.3619,
          377.8302,
          1939.749,
          443.802,
          967.4,
          4136.271,
          512.5487,
          918.6357,
          1164.838,
          1717.193,
          170.1289,
          482.7581,
          2175.03,
          187.4823,
          161.942,
          289.3248,
          130.9945,
          372.1386,
          2408.993,
          2175.744,
          4082.015,
          90.45606,
          390.9696,
          104.8101,
          90.45606,
          10,
          9,
          5,
          5,
          5,
          3,
          7,
          6,
          1,
          3,
          1,
          9,
          5,
          4,
          4,
          2,
          6,
          1,
          8,
          7,
          3,
          7,
          1,
          7,
          4,
          2,
          5,
          5,
          4,
          5,
          0,
          7,
          1,
          6,
          7,
          0,
          2,
          1,
          6,
          5,
          0,
          0,
          5,
          6,
          4,
          8,
          9,
          3,
          0,
          1,
          4,
          1,
          3,
          5,
          5,
          0,
          8,
          7,
          1,
          5,
          2,
          6,
          3,
          4,
          0,
          8,
          6,
          5,
          6,
          5,
          9,
          3,
          8,
          0,
          10,
          1,
          3,
          3,
          2,
          1,
          4,
          6,
          7,
          3,
          7,
          9,
          1,
          0,
          0,
          0,
          1,
          0,
          4,
          0,
          5,
          5,
          9,
          3,
          5,
          9,
          4,
          1,
          6,
          6,
          6,
          6,
          8,
          1,
          2,
          3,
          5,
          7,
          3,
          6,
          8,
          2,
          1,
          0,
          3,
          5,
          5,
          5,
          4,
          0,
          7,
          6,
          4,
          5,
          6,
          7,
          8,
          3,
          5,
          8,
          6,
          0,
          5,
          6,
          0,
          5,
          5,
          3,
          5,
          5,
          1,
          5,
          0,
          8,
          0,
          8,
          7,
          9,
          1,
          6,
          0,
          0,
          0,
          4,
          5,
          4,
          8,
          3,
          0,
          5,
          0,
          1,
          6,
          8,
          5,
          1,
          0,
          5,
          9,
          4,
          7,
          3,
          0,
          9,
          4,
          1,
          0,
          8,
          3,
          0,
          0,
          3,
          3,
          0,
          8,
          0,
          8,
          2,
          7,
          5,
          0,
          5,
          2,
          8,
          7,
          8,
          0,
          5,
          3,
          5,
          1,
          3,
          10,
          3,
          1,
          8,
          5,
          1,
          2,
          9,
          3,
          8,
          1,
          6,
          5,
          8,
          9,
          0,
          10,
          0,
          6,
          6,
          0,
          8,
          0,
          0,
          3,
          0,
          1,
          9,
          4,
          7,
          10,
          0,
          0,
          0,
          2,
          7,
          3,
          8,
          3,
          5,
          6,
          0,
          0,
          1,
          7,
          0,
          9,
          2,
          5,
          1,
          1,
          1,
          6,
          0,
          4,
          3,
          5,
          3,
          7,
          4,
          3,
          5,
          5,
          0,
          1,
          8,
          5,
          1,
          7,
          7,
          5,
          3,
          6,
          3,
          6,
          9,
          1,
          2,
          7,
          3,
          9,
          5,
          6,
          5,
          0,
          7,
          5,
          7,
          6,
          3,
          4,
          4,
          0,
          10,
          4,
          0,
          3,
          0,
          3,
          5,
          1,
          0,
          5,
          0,
          2,
          4,
          9,
          5,
          6,
          2,
          7,
          2,
          10,
          5,
          0,
          4,
          1,
          6,
          2,
          8,
          7,
          3,
          3,
          0,
          0,
          0,
          2,
          5,
          5,
          6,
          2,
          5,
          9,
          5,
          0,
          2,
          9,
          8,
          0,
          0,
          2,
          1,
          6,
          5,
          5,
          3,
          3,
          3,
          1,
          5,
          1,
          9,
          6,
          0,
          10,
          8,
          4,
          10,
          7,
          4,
          1,
          2,
          1,
          3,
          5,
          5,
          7,
          1,
          5,
          0,
          2,
          8,
          8,
          6,
          5,
          9,
          0,
          4,
          0,
          10,
          0,
          3,
          4,
          8,
          9,
          1,
          6,
          4,
          1,
          4,
          1,
          4,
          2,
          1,
          5,
          3,
          1,
          9,
          5,
          6,
          7,
          0,
          3,
          0,
          9,
          7,
          5,
          9,
          24.98298,
          24.98034,
          24.98746,
          24.98746,
          24.97937,
          24.96305,
          24.97933,
          24.98042,
          24.95095,
          24.96731,
          24.97349,
          24.97433,
          24.96515,
          24.96108,
          24.99156,
          24.9824,
          24.97744,
          24.97544,
          24.9675,
          24.96772,
          24.96314,
          24.97528,
          24.95204,
          24.97528,
          24.97353,
          24.97542,
          24.98085,
          24.95593,
          24.97419,
          24.97563,
          24.94826,
          24.98281,
          24.97349,
          24.97841,
          24.98419,
          25.01459,
          24.96386,
          24.95204,
          24.97201,
          24.98203,
          24.94155,
          24.94297,
          24.96305,
          24.98748,
          24.97445,
          24.97015,
          24.9703,
          24.97563,
          24.94684,
          24.94925,
          24.974,
          24.95402,
          24.97419,
          24.96515,
          24.98203,
          24.94968,
          24.97254,
          24.95744,
          24.94925,
          24.95776,
          24.96365,
          24.97585,
          24.96303,
          24.97445,
          24.96305,
          24.97635,
          24.96571,
          24.96674,
          24.97964,
          24.98746,
          24.97433,
          24.97563,
          24.97587,
          24.94155,
          24.98343,
          24.95204,
          24.97723,
          24.96322,
          24.97598,
          24.95182,
          24.97445,
          24.96427,
          24.96725,
          24.96056,
          24.96735,
          24.96853,
          24.9512,
          24.94297,
          24.98573,
          24.94783,
          24.9748,
          24.98569,
          24.96108,
          24.9492,
          24.9663,
          24.96674,
          24.97433,
          24.97746,
          24.98203,
          24.97433,
          24.98872,
          24.97371,
          24.96571,
          24.95618,
          24.96398,
          24.97744,
          24.97707,
          24.95204,
          24.9726,
          24.96299,
          24.96674,
          24.97701,
          24.96044,
          24.96172,
          24.98155,
          24.98092,
          24.94375,
          24.93885,
          24.96622,
          24.98203,
          24.96515,
          24.96515,
          24.98199,
          24.9711,
          24.97528,
          24.96571,
          24.97838,
          24.98085,
          24.96674,
          24.98086,
          24.98092,
          24.96299,
          24.97433,
          24.9866,
          24.96604,
          24.96357,
          24.97937,
          24.96495,
          24.97843,
          24.96515,
          24.98203,
          24.97213,
          24.97017,
          24.96515,
          24.95204,
          24.97563,
          24.9711,
          24.97017,
          24.93293,
          24.97349,
          24.96719,
          24.98118,
          24.95204,
          24.95418,
          24.94297,
          24.94155,
          24.94883,
          24.97886,
          24.97937,
          24.97886,
          24.95836,
          24.97723,
          24.94297,
          24.96674,
          24.9711,
          24.97694,
          24.97744,
          24.97408,
          24.96299,
          24.95468,
          24.94741,
          24.98085,
          24.97433,
          24.98326,
          24.9805,
          24.97005,
          24.94867,
          24.97697,
          24.99176,
          24.97493,
          24.94898,
          24.98489,
          24.96299,
          24.94155,
          24.95495,
          24.97285,
          24.96322,
          24.95464,
          24.97707,
          24.94297,
          24.97945,
          24.97371,
          24.9675,
          24.98246,
          24.93363,
          24.95425,
          24.981,
          24.96881,
          24.96628,
          24.96945,
          24.96305,
          24.98746,
          24.97559,
          24.98203,
          24.95182,
          24.97289,
          24.98343,
          24.97503,
          24.95204,
          24.97347,
          24.97937,
          24.9748,
          24.98672,
          24.97433,
          24.96731,
          24.972,
          24.97153,
          24.97838,
          24.96515,
          24.98102,
          24.97703,
          24.98569,
          24.98123,
          24.98569,
          24.97814,
          24.96571,
          24.94155,
          24.98059,
          25.00115,
          24.9489,
          24.96299,
          24.94235,
          24.95032,
          24.98016,
          24.96007,
          24.96606,
          24.98322,
          24.97668,
          24.97668,
          24.96334,
          24.96412,
          24.96606,
          24.96357,
          24.98236,
          24.97213,
          24.97258,
          24.96412,
          24.96211,
          24.96357,
          24.95743,
          24.97429,
          24.9496,
          24.97433,
          24.96464,
          24.98254,
          24.95095,
          24.97519,
          24.97501,
          24.97744,
          24.96334,
          24.97073,
          24.95885,
          24.98203,
          24.96299,
          24.96968,
          24.97886,
          24.96731,
          24.97433,
          24.97937,
          24.96334,
          24.9746,
          24.96945,
          24.96515,
          24.97371,
          24.97305,
          24.96772,
          24.95425,
          24.96322,
          24.95618,
          24.97026,
          24.96581,
          24.98118,
          24.9512,
          24.98674,
          24.96735,
          24.97509,
          24.97433,
          24.95425,
          24.97841,
          24.98203,
          24.97217,
          24.95744,
          24.95674,
          24.96735,
          24.9796,
          24.96299,
          24.99176,
          24.97003,
          24.94155,
          24.98178,
          24.96696,
          24.97229,
          24.95885,
          24.97161,
          24.96622,
          24.98203,
          24.97369,
          24.9546,
          24.98203,
          24.94883,
          24.95394,
          24.97425,
          24.97071,
          24.96674,
          24.97201,
          24.9832,
          24.96606,
          24.97795,
          24.98343,
          24.95562,
          24.93885,
          24.98872,
          24.97388,
          24.97631,
          24.96412,
          24.97015,
          24.95744,
          24.97538,
          24.97003,
          24.93885,
          24.94935,
          24.94826,
          24.97577,
          24.96674,
          24.99006,
          24.96431,
          24.98407,
          24.96871,
          24.96867,
          24.98254,
          24.97281,
          24.97371,
          24.97433,
          24.98223,
          24.998,
          24.9711,
          24.96412,
          24.95719,
          24.97585,
          24.96674,
          24.96515,
          24.96324,
          24.96143,
          24.96299,
          24.95204,
          24.98085,
          24.97417,
          24.96853,
          24.96571,
          24.95505,
          24.983,
          24.97345,
          24.98872,
          24.98182,
          24.97913,
          24.96182,
          24.95153,
          24.96464,
          24.97544,
          24.96322,
          24.98203,
          24.95591,
          24.96628,
          24.9748,
          24.97937,
          24.96165,
          24.96447,
          24.95836,
          24.97077,
          24.97744,
          24.98203,
          24.98298,
          24.93207,
          24.97845,
          24.94297,
          24.983,
          24.9711,
          24.96042,
          24.95957,
          24.96756,
          24.97151,
          24.95155,
          24.97927,
          24.98872,
          24.95544,
          24.974,
          24.97198,
          24.99156,
          24.96447,
          24.97371,
          24.97433,
          24.96305,
          24.97388,
          24.98353,
          24.98203,
          24.95663,
          24.97293,
          24.95505,
          24.9633,
          24.94155,
          24.97433,
          24.97923,
          24.96674,
          24.97433,
          121.54024,
          121.53951,
          121.54391,
          121.54391,
          121.54245,
          121.51254,
          121.53642,
          121.54228,
          121.48458,
          121.51486,
          121.53372,
          121.5431,
          121.53737,
          121.51046,
          121.53406,
          121.54619,
          121.54458,
          121.53119,
          121.54451,
          121.54102,
          121.51151,
          121.54541,
          121.54842,
          121.54541,
          121.53885,
          121.51726,
          121.54391,
          121.53913,
          121.53797,
          121.54694,
          121.49587,
          121.53408,
          121.53451,
          121.54281,
          121.54243,
          121.51816,
          121.51458,
          121.54842,
          121.54722,
          121.54348,
          121.50381,
          121.50342,
          121.53758,
          121.54301,
          121.54765,
          121.54494,
          121.54458,
          121.53715,
          121.49578,
          121.49542,
          121.53842,
          121.55282,
          121.5175,
          121.53737,
          121.54348,
          121.53009,
          121.54059,
          121.53711,
          121.49542,
          121.53438,
          121.51471,
          121.54516,
          121.51254,
          121.54765,
          121.54915,
          121.54329,
          121.54089,
          121.54067,
          121.53805,
          121.54391,
          121.5431,
          121.53715,
          121.53913,
          121.50381,
          121.53762,
          121.54842,
          121.53767,
          121.51237,
          121.53381,
          121.54887,
          121.54765,
          121.53964,
          121.54252,
          121.50831,
          121.54464,
          121.54413,
          121.549,
          121.50342,
          121.52758,
          121.50243,
          121.53059,
          121.5276,
          121.51046,
          121.53076,
          121.54026,
          121.54067,
          121.5431,
          121.53299,
          121.54348,
          121.5431,
          121.53411,
          121.52984,
          121.54089,
          121.53844,
          121.5425,
          121.54458,
          121.54308,
          121.54842,
          121.53561,
          121.51284,
          121.54067,
          121.54224,
          121.51462,
          121.53812,
          121.54142,
          121.54739,
          121.47883,
          121.50383,
          121.51709,
          121.54348,
          121.53737,
          121.53737,
          121.54464,
          121.5317,
          121.54541,
          121.54089,
          121.53477,
          121.54391,
          121.54039,
          121.54162,
          121.53653,
          121.51284,
          121.53863,
          121.54082,
          121.54211,
          121.54951,
          121.54245,
          121.54277,
          121.52406,
          121.53737,
          121.54348,
          121.51627,
          121.54647,
          121.53737,
          121.54842,
          121.54694,
          121.5317,
          121.54494,
          121.51203,
          121.54245,
          121.54269,
          121.53788,
          121.54842,
          121.53713,
          121.50342,
          121.50381,
          121.52954,
          121.53464,
          121.54245,
          121.53464,
          121.53756,
          121.53767,
          121.50342,
          121.54067,
          121.5317,
          121.55391,
          121.54458,
          121.54011,
          121.5432,
          121.55481,
          121.49628,
          121.54391,
          121.5431,
          121.5446,
          121.53778,
          121.53758,
          121.49507,
          121.54262,
          121.53456,
          121.5273,
          121.49621,
          121.54121,
          121.51284,
          121.50381,
          121.56174,
          121.5173,
          121.51237,
          121.56627,
          121.54312,
          121.50342,
          121.53642,
          121.54951,
          121.54069,
          121.54477,
          121.51158,
          121.5399,
          121.54713,
          121.54089,
          121.54196,
          121.5449,
          121.54915,
          121.54391,
          121.53713,
          121.54348,
          121.54887,
          121.51728,
          121.53762,
          121.53692,
          121.54842,
          121.54271,
          121.54245,
          121.53059,
          121.52091,
          121.5431,
          121.51486,
          121.54477,
          121.53559,
          121.54119,
          121.53737,
          121.53655,
          121.54265,
          121.5276,
          121.53743,
          121.5276,
          121.5417,
          121.54089,
          121.50381,
          121.53986,
          121.51776,
          121.53095,
          121.51284,
          121.50357,
          121.49587,
          121.53932,
          121.51361,
          121.54297,
          121.53765,
          121.52518,
          121.52518,
          121.54767,
          121.5167,
          121.54297,
          121.51329,
          121.53923,
          121.51627,
          121.54814,
          121.54273,
          121.54928,
          121.54951,
          121.47516,
          121.53917,
          121.53018,
          121.5431,
          121.51623,
          121.54395,
          121.48458,
          121.53151,
          121.5273,
          121.54458,
          121.54767,
          121.517,
          121.51359,
          121.54348,
          121.51284,
          121.54522,
          121.53464,
          121.51486,
          121.53863,
          121.54245,
          121.54767,
          121.53046,
          121.5449,
          121.53737,
          121.52984,
          121.53994,
          121.54102,
          121.5399,
          121.51237,
          121.53844,
          121.51642,
          121.54086,
          121.53788,
          121.549,
          121.51844,
          121.54464,
          121.53644,
          121.5431,
          121.5399,
          121.5428,
          121.54348,
          121.53471,
          121.53711,
          121.534,
          121.54464,
          121.5414,
          121.51252,
          121.53456,
          121.5458,
          121.50381,
          121.54059,
          121.53992,
          121.53445,
          121.51359,
          121.53423,
          121.51668,
          121.54348,
          121.52979,
          121.56627,
          121.54348,
          121.52954,
          121.55174,
          121.53814,
          121.54069,
          121.54067,
          121.54722,
          121.51812,
          121.54297,
          121.53451,
          121.53762,
          121.53872,
          121.50383,
          121.53411,
          121.52981,
          121.54436,
          121.5167,
          121.54494,
          121.53711,
          121.54971,
          121.51696,
          121.50383,
          121.53046,
          121.49587,
          121.53475,
          121.54067,
          121.5346,
          121.54063,
          121.51748,
          121.54651,
          121.54331,
          121.54395,
          121.53265,
          121.54951,
          121.5431,
          121.53597,
          121.5155,
          121.5317,
          121.5167,
          121.47353,
          121.54516,
          121.54067,
          121.53737,
          121.51241,
          121.50827,
          121.51284,
          121.54842,
          121.54391,
          121.52999,
          121.54413,
          121.54089,
          121.55964,
          121.54022,
          121.54093,
          121.53408,
          121.54086,
          121.53666,
          121.51222,
          121.55254,
          121.51531,
          121.53119,
          121.51237,
          121.54348,
          121.53956,
          121.54196,
          121.53059,
          121.54245,
          121.55011,
          121.51649,
          121.53756,
          121.54634,
          121.54458,
          121.54348,
          121.53981,
          121.51597,
          121.53889,
          121.50342,
          121.54026,
          121.5317,
          121.51462,
          121.51353,
          121.5423,
          121.5435,
          121.55387,
          121.53874,
          121.53408,
          121.4963,
          121.53842,
          121.55063,
          121.53406,
          121.51649,
          121.52984,
          121.53863,
          121.51254,
          121.52981,
          121.53966,
          121.54348,
          121.53765,
          121.54026,
          121.55964,
          121.51243,
          121.50381,
          121.5431,
          121.53986,
          121.54067,
          121.5431,
          1,
          2,
          3,
          2,
          1,
          3,
          3,
          3,
          1,
          2,
          1,
          3,
          3,
          3,
          1,
          2,
          3,
          1,
          3,
          2,
          2,
          3,
          3,
          2,
          1,
          3,
          3,
          3,
          3,
          1,
          2,
          2,
          3,
          1,
          3,
          2,
          2,
          1,
          1,
          3,
          1,
          2,
          3,
          1,
          3,
          1,
          1,
          3,
          1,
          2,
          3,
          2,
          2,
          1,
          2,
          3,
          3,
          1,
          2,
          2,
          1,
          3,
          3,
          2,
          2,
          3,
          2,
          2,
          3,
          1,
          3,
          1,
          2,
          3,
          3,
          1,
          2,
          2,
          1,
          2,
          1,
          1,
          2,
          3,
          2,
          2,
          1,
          3,
          2,
          1,
          2,
          1,
          3,
          1,
          2,
          3,
          3,
          3,
          3,
          1,
          2,
          3,
          3,
          1,
          1,
          1,
          3,
          3,
          2,
          2,
          2,
          2,
          1,
          2,
          3,
          1,
          1,
          3,
          1,
          1,
          3,
          1,
          3,
          3,
          1,
          2,
          1,
          2,
          1,
          2,
          3,
          1,
          3,
          1,
          3,
          2,
          1,
          1,
          3,
          1,
          1,
          2,
          1,
          2,
          3,
          1,
          2,
          1,
          3,
          2,
          1,
          2,
          2,
          2,
          1,
          2,
          3,
          1,
          1,
          1,
          2,
          2,
          1,
          1,
          3,
          3,
          3,
          3,
          1,
          2,
          2,
          1,
          3,
          3,
          3,
          1,
          3,
          1,
          2,
          1,
          2,
          3,
          2,
          2,
          1,
          1,
          1,
          3,
          1,
          2,
          3,
          2,
          3,
          2,
          2,
          2,
          1,
          1,
          3,
          1,
          1,
          2,
          1,
          1,
          3,
          2,
          1,
          3,
          1,
          3,
          3,
          3,
          2,
          2,
          1,
          1,
          3,
          3,
          2,
          1,
          2,
          1,
          3,
          2,
          2,
          1,
          1,
          3,
          2,
          1,
          1,
          2,
          2,
          3,
          1,
          2,
          3,
          1,
          3,
          3,
          1,
          1,
          3,
          1,
          3,
          2,
          1,
          1,
          2,
          2,
          1,
          2,
          3,
          2,
          2,
          2,
          2,
          2,
          2,
          3,
          1,
          1,
          1,
          1,
          3,
          3,
          2,
          3,
          2,
          1,
          2,
          3,
          3,
          2,
          1,
          3,
          2,
          3,
          2,
          1,
          2,
          1,
          3,
          2,
          1,
          3,
          1,
          2,
          1,
          2,
          3,
          3,
          2,
          2,
          3,
          3,
          1,
          2,
          2,
          3,
          1,
          1,
          3,
          2,
          3,
          2,
          3,
          2,
          1,
          1,
          3,
          2,
          1,
          3,
          2,
          2,
          2,
          1,
          3,
          1,
          2,
          2,
          1,
          1,
          2,
          2,
          1,
          2,
          1,
          1,
          3,
          1,
          2,
          3,
          1,
          2,
          3,
          2,
          1,
          3,
          3,
          3,
          1,
          3,
          3,
          2,
          3,
          3,
          3,
          2,
          2,
          1,
          2,
          2,
          3,
          1,
          1,
          3,
          2,
          2,
          3,
          1,
          1,
          2,
          3,
          1,
          1,
          3,
          3,
          3,
          2,
          2,
          1,
          2,
          3,
          3,
          3,
          3,
          2,
          3,
          2,
          3,
          1,
          2,
          2,
          3,
          1,
          2,
          1,
          1,
          2,
          3,
          3,
          1,
          1,
          3,
          2,
          3,
          1,
          1,
          3,
          2,
          1,
          1,
          2,
          3,
          2,
          1,
          1,
          3,
          2,
          1,
          1,
          2,
          575,
          1240,
          1060,
          875,
          491,
          828,
          1115,
          1316,
          588,
          1075,
          466,
          1423,
          1172,
          928,
          512,
          1322,
          1441,
          568,
          1291,
          1223,
          1487,
          1496,
          1437,
          1262,
          443,
          1011,
          1133,
          941,
          1130,
          476,
          1024,
          1478,
          978,
          566,
          1206,
          1249,
          1131,
          511,
          599,
          1236,
          558,
          1333,
          975,
          447,
          1314,
          572,
          557,
          867,
          470,
          1227,
          1077,
          1016,
          809,
          421,
          1193,
          1036,
          883,
          548,
          1167,
          1046,
          450,
          1083,
          1073,
          1309,
          862,
          1351,
          1144,
          1425,
          1303,
          581,
          927,
          533,
          1392,
          1176,
          1084,
          492,
          1262,
          1308,
          459,
          958,
          488,
          466,
          1339,
          1186,
          1154,
          1145,
          515,
          878,
          915,
          471,
          954,
          426,
          1316,
          536,
          984,
          1250,
          1158,
          828,
          1323,
          514,
          926,
          879,
          1028,
          554,
          471,
          570,
          871,
          913,
          945,
          1044,
          847,
          1136,
          414,
          1365,
          1222,
          441,
          495,
          1207,
          470,
          548,
          1224,
          443,
          840,
          818,
          493,
          952,
          472,
          1136,
          417,
          1284,
          1190,
          565,
          1166,
          406,
          1246,
          1147,
          453,
          429,
          1340,
          538,
          486,
          1147,
          447,
          1202,
          1336,
          422,
          1356,
          518,
          975,
          1411,
          540,
          949,
          1098,
          870,
          532,
          1292,
          1110,
          477,
          461,
          532,
          970,
          1400,
          469,
          565,
          1312,
          1494,
          1448,
          1088,
          580,
          1342,
          1462,
          411,
          842,
          889,
          1239,
          503,
          1206,
          542,
          1490,
          580,
          1331,
          1482,
          1002,
          923,
          442,
          516,
          436,
          1175,
          492,
          996,
          810,
          1256,
          1000,
          1089,
          1287,
          1081,
          537,
          548,
          1368,
          458,
          410,
          1339,
          585,
          544,
          1100,
          945,
          456,
          1053,
          452,
          1349,
          836,
          1118,
          1377,
          1354,
          586,
          428,
          1140,
          1291,
          1455,
          583,
          1187,
          417,
          1145,
          1270,
          880,
          462,
          588,
          1380,
          1204,
          559,
          569,
          1189,
          1140,
          975,
          494,
          1035,
          1117,
          578,
          1244,
          1074,
          421,
          492,
          1189,
          478,
          1262,
          1219,
          506,
          465,
          1123,
          1439,
          420,
          970,
          1164,
          1120,
          965,
          1368,
          1154,
          1388,
          1205,
          1013,
          513,
          453,
          590,
          475,
          949,
          1395,
          1423,
          847,
          844,
          541,
          1373,
          978,
          890,
          1299,
          544,
          1385,
          1315,
          1318,
          1448,
          440,
          1034,
          539,
          1154,
          897,
          533,
          1470,
          436,
          1469,
          439,
          1446,
          1194,
          1208,
          876,
          927,
          1330,
          899,
          585,
          1358,
          1379,
          1297,
          543,
          498,
          1054,
          1144,
          970,
          914,
          1305,
          812,
          490,
          554,
          886,
          876,
          433,
          952,
          1491,
          924,
          1307,
          548,
          1407,
          402,
          1222,
          1235,
          480,
          594,
          1124,
          1166,
          470,
          1343,
          506,
          458,
          970,
          426,
          1491,
          1498,
          484,
          1337,
          817,
          1333,
          540,
          1173,
          1031,
          800,
          492,
          1284,
          1012,
          839,
          1400,
          933,
          1183,
          889,
          1146,
          524,
          1007,
          901,
          1343,
          493,
          424,
          1319,
          1021,
          876,
          1071,
          533,
          550,
          1135,
          1369,
          565,
          589,
          840,
          1246,
          1350,
          1060,
          864,
          570,
          1172,
          1057,
          1276,
          984,
          1325,
          1040,
          1410,
          1149,
          1451,
          411,
          1130,
          1500,
          839,
          565,
          1405,
          505,
          579,
          1438,
          1494,
          1234,
          413,
          421,
          1088,
          907,
          1230,
          425,
          489,
          964,
          1247,
          537,
          549,
          1420,
          808,
          1268,
          587,
          477,
          803,
          1278,
          503,
          597,
          1097,
          37.9,
          42.2,
          47.3,
          54.8,
          43.1,
          32.1,
          40.3,
          46.7,
          18.8,
          22.1,
          41.4,
          58.1,
          39.3,
          23.8,
          34.3,
          50.5,
          70.1,
          37.4,
          42.3,
          47.7,
          29.3,
          51.6,
          24.6,
          47.9,
          38.8,
          27,
          56.2,
          33.6,
          47,
          57.1,
          22.1,
          25,
          34.2,
          49.3,
          55.1,
          27.3,
          22.9,
          25.3,
          47.7,
          46.2,
          15.9,
          18.2,
          34.7,
          34.1,
          53.9,
          38.3,
          42,
          61.5,
          13.4,
          13.2,
          44.2,
          20.7,
          27,
          38.9,
          51.7,
          13.7,
          41.9,
          53.5,
          22.6,
          42.4,
          21.3,
          63.2,
          27.7,
          55,
          25.3,
          44.3,
          50.7,
          56.8,
          36.2,
          42,
          59,
          40.8,
          36.3,
          20,
          54.4,
          29.5,
          36.8,
          25.6,
          29.8,
          26.5,
          40.3,
          36.8,
          48.1,
          17.7,
          43.7,
          50.8,
          27,
          18.3,
          48,
          25.3,
          45.4,
          43.2,
          21.8,
          16.1,
          41,
          51.8,
          59.5,
          34.6,
          51,
          62.2,
          38.2,
          32.9,
          54.4,
          45.7,
          30.5,
          71,
          47.1,
          26.6,
          34.1,
          28.4,
          51.6,
          39.4,
          23.1,
          7.6,
          53.3,
          46.4,
          12.2,
          13,
          30.6,
          59.6,
          31.3,
          48,
          32.5,
          45.5,
          57.4,
          48.6,
          62.9,
          55,
          60.7,
          41,
          37.5,
          30.7,
          37.5,
          39.5,
          42.2,
          20.8,
          46.8,
          47.4,
          43.5,
          42.5,
          51.4,
          28.9,
          37.5,
          40.1,
          28.4,
          45.5,
          52.2,
          43.2,
          45.1,
          39.7,
          48.5,
          44.7,
          28.9,
          40.9,
          20.7,
          15.6,
          18.3,
          35.6,
          39.4,
          37.4,
          57.8,
          39.6,
          11.6,
          55.5,
          55.2,
          30.6,
          73.6,
          43.4,
          37.4,
          23.5,
          14.4,
          58.8,
          58.1,
          35.1,
          45.2,
          36.5,
          19.2,
          42,
          36.7,
          42.6,
          15.5,
          55.9,
          23.6,
          18.8,
          21.8,
          21.5,
          25.7,
          22,
          44.3,
          20.5,
          42.3,
          37.8,
          42.7,
          49.3,
          29.3,
          34.6,
          36.6,
          48.2,
          39.1,
          31.6,
          25.5,
          45.9,
          31.5,
          46.1,
          26.6,
          21.4,
          44,
          34.2,
          26.2,
          40.9,
          52.2,
          43.5,
          31.1,
          58,
          20.9,
          48.1,
          39.7,
          40.8,
          43.8,
          40.2,
          78.3,
          38.5,
          48.5,
          42.3,
          46,
          49,
          12.8,
          40.2,
          46.6,
          19,
          33.4,
          14.7,
          17.4,
          32.4,
          23.9,
          39.3,
          61.9,
          39,
          40.6,
          29.7,
          28.8,
          41.4,
          33.4,
          48.2,
          21.7,
          40.8,
          40.6,
          23.1,
          22.3,
          15,
          30,
          13.8,
          52.7,
          25.9,
          51.8,
          17.4,
          26.5,
          43.9,
          63.3,
          28.8,
          30.7,
          24.4,
          53,
          31.7,
          40.6,
          38.1,
          23.7,
          41.1,
          40.1,
          23,
          117.5,
          26.5,
          40.5,
          29.3,
          41,
          49.7,
          34,
          27.7,
          44,
          31.1,
          45.4,
          44.8,
          25.6,
          23.5,
          34.4,
          55.3,
          56.3,
          32.9,
          51,
          44.5,
          37,
          54.4,
          24.5,
          42.5,
          38.1,
          21.8,
          34.1,
          28.5,
          16.7,
          46.1,
          36.9,
          35.7,
          23.2,
          38.4,
          29.4,
          55,
          50.2,
          24.7,
          53,
          19.1,
          24.7,
          42.2,
          78,
          42.8,
          41.6,
          27.3,
          42,
          37.5,
          49.8,
          26.9,
          18.6,
          37.7,
          33.1,
          42.5,
          31.3,
          38.1,
          62.1,
          36.7,
          23.6,
          19.2,
          12.8,
          15.6,
          39.6,
          38.4,
          22.8,
          36.5,
          35.6,
          30.9,
          36.3,
          50.4,
          42.9,
          37,
          53.5,
          46.6,
          41.2,
          37.9,
          30.8,
          11.2,
          53.7,
          47,
          42.3,
          28.6,
          25.7,
          31.3,
          30.1,
          60.7,
          45.3,
          44.9,
          45.1,
          24.7,
          47.1,
          63.3,
          40,
          48,
          33.1,
          29.5,
          24.8,
          20.9,
          43.1,
          22.8,
          42.1,
          51.7,
          41.5,
          52.2,
          49.5,
          23.8,
          30.5,
          56.8,
          37.4,
          69.7,
          53.3,
          47.3,
          29.3,
          40.3,
          12.9,
          46.6,
          55.3,
          25.6,
          27.3,
          67.7,
          38.6,
          31.3,
          35.3,
          40.3,
          24.7,
          42.5,
          31.9,
          32.2,
          23,
          37.3,
          35.5,
          27.7,
          28.5,
          39.7,
          41.2,
          37.2,
          40.5,
          22.3,
          28.1,
          15.4,
          50,
          40.6,
          52.5,
          63.9,
          2012,
          2012,
          2013,
          2013,
          2012,
          2012,
          2012,
          2013,
          2013,
          2013,
          2013,
          2013,
          2012,
          2012,
          2013,
          2013,
          2013,
          2012,
          2013,
          2012,
          2013,
          2013,
          2012,
          2013,
          2013,
          2013,
          2012,
          2013,
          2013,
          2013,
          2013,
          2012,
          2012,
          2013,
          2012,
          2013,
          2012,
          2013,
          2012,
          2013,
          2013,
          2013,
          2013,
          2012,
          2013,
          2013,
          2013,
          2013,
          2013,
          2012,
          2013,
          2013,
          2013,
          2013,
          2013,
          2012,
          2013,
          2012,
          2013,
          2013,
          2013,
          2013,
          2012,
          2013,
          2013,
          2013,
          2013,
          2013,
          2013,
          2012,
          2013,
          2013,
          2013,
          2013,
          2012,
          2013,
          2013,
          2012,
          2012,
          2013,
          2013,
          2013,
          2013,
          2012,
          2013,
          2012,
          2012,
          2013,
          2012,
          2013,
          2012,
          2013,
          2012,
          2012,
          2012,
          2012,
          2013,
          2013,
          2013,
          2013,
          2013,
          2012,
          2013,
          2012,
          2012,
          2012,
          2013,
          2013,
          2013,
          2013,
          2013,
          2013,
          2013,
          2013,
          2012,
          2013,
          2013,
          2013,
          2013,
          2013,
          2013,
          2013,
          2013,
          2013,
          2012,
          2013,
          2013,
          2013,
          2013,
          2013,
          2013,
          2013,
          2013,
          2012,
          2012,
          2012,
          2012,
          2013,
          2013,
          2012,
          2013,
          2013,
          2013,
          2013,
          2013,
          2012,
          2012,
          2012,
          2013,
          2012,
          2013,
          2013,
          2013,
          2013,
          2013,
          2013,
          2013,
          2013,
          2013,
          2012,
          2012,
          2013,
          2012,
          2013,
          2012,
          2012,
          2013,
          2013,
          2013,
          2013,
          2013,
          2013,
          2013,
          2013,
          2013,
          2013,
          2012,
          2013,
          2013,
          2013,
          2012,
          2013,
          2013,
          2013,
          2012,
          2012,
          2013,
          2013,
          2012,
          2012,
          2013,
          2013,
          2013,
          2013,
          2013,
          2013,
          2013,
          2013,
          2013,
          2013,
          2013,
          2013,
          2012,
          2012,
          2013,
          2013,
          2013,
          2013,
          2012,
          2012,
          2013,
          2013,
          2013,
          2013,
          2013,
          2013,
          2013,
          2012,
          2013,
          2012,
          2013,
          2013,
          2013,
          2013,
          2013,
          2013,
          2013,
          2012,
          2013,
          2013,
          2013,
          2012,
          2012,
          2013,
          2013,
          2012,
          2013,
          2013,
          2013,
          2013,
          2013,
          2013,
          2012,
          2013,
          2013,
          2013,
          2013,
          2013,
          2013,
          2012,
          2013,
          2012,
          2012,
          2012,
          2012,
          2013,
          2012,
          2013,
          2013,
          2013,
          2013,
          2013,
          2012,
          2013,
          2013,
          2012,
          2013,
          2012,
          2013,
          2013,
          2013,
          2012,
          2012,
          2013,
          2013,
          2012,
          2013,
          2013,
          2012,
          2013,
          2013,
          2013,
          2012,
          2013,
          2012,
          2013,
          2012,
          2013,
          2013,
          2013,
          2013,
          2012,
          2013,
          2012,
          2013,
          2013,
          2012,
          2012,
          2013,
          2013,
          2013,
          2012,
          2013,
          2013,
          2013,
          2013,
          2013,
          2012,
          2013,
          2013,
          2013,
          2013,
          2013,
          2013,
          2013,
          2013,
          2013,
          2012,
          2013,
          2013,
          2012,
          2012,
          2013,
          2013,
          2012,
          2013,
          2013,
          2013,
          2012,
          2013,
          2013,
          2013,
          2013,
          2012,
          2012,
          2013,
          2012,
          2012,
          2012,
          2013,
          2013,
          2013,
          2012,
          2013,
          2013,
          2012,
          2013,
          2013,
          2012,
          2012,
          2013,
          2012,
          2012,
          2013,
          2013,
          2013,
          2012,
          2013,
          2013,
          2013,
          2012,
          2013,
          2013,
          2013,
          2013,
          2012,
          2012,
          2012,
          2013,
          2012,
          2012,
          2013,
          2013,
          2013,
          2013,
          2013,
          2013,
          2013,
          2013,
          2013,
          2013,
          2013,
          2013,
          2012,
          2012,
          2013,
          2012,
          2013,
          2013,
          2013,
          2013,
          2013,
          2013,
          2013,
          2013,
          2012,
          2012,
          2013,
          2013,
          2012,
          2013,
          2013,
          2012,
          2012,
          2013,
          2012,
          2013,
          2013,
          2013,
          2013,
          2012,
          2013,
          2013,
          2013
         ],
         "y0": " ",
         "yaxis": "y"
        }
       ],
       "layout": {
        "boxmode": "group",
        "legend": {
         "tracegroupgap": 0
        },
        "template": {
         "data": {
          "bar": [
           {
            "error_x": {
             "color": "#f2f5fa"
            },
            "error_y": {
             "color": "#f2f5fa"
            },
            "marker": {
             "line": {
              "color": "rgb(17,17,17)",
              "width": 0.5
             },
             "pattern": {
              "fillmode": "overlay",
              "size": 10,
              "solidity": 0.2
             }
            },
            "type": "bar"
           }
          ],
          "barpolar": [
           {
            "marker": {
             "line": {
              "color": "rgb(17,17,17)",
              "width": 0.5
             },
             "pattern": {
              "fillmode": "overlay",
              "size": 10,
              "solidity": 0.2
             }
            },
            "type": "barpolar"
           }
          ],
          "carpet": [
           {
            "aaxis": {
             "endlinecolor": "#A2B1C6",
             "gridcolor": "#506784",
             "linecolor": "#506784",
             "minorgridcolor": "#506784",
             "startlinecolor": "#A2B1C6"
            },
            "baxis": {
             "endlinecolor": "#A2B1C6",
             "gridcolor": "#506784",
             "linecolor": "#506784",
             "minorgridcolor": "#506784",
             "startlinecolor": "#A2B1C6"
            },
            "type": "carpet"
           }
          ],
          "choropleth": [
           {
            "colorbar": {
             "outlinewidth": 0,
             "ticks": ""
            },
            "type": "choropleth"
           }
          ],
          "contour": [
           {
            "colorbar": {
             "outlinewidth": 0,
             "ticks": ""
            },
            "colorscale": [
             [
              0,
              "#0d0887"
             ],
             [
              0.1111111111111111,
              "#46039f"
             ],
             [
              0.2222222222222222,
              "#7201a8"
             ],
             [
              0.3333333333333333,
              "#9c179e"
             ],
             [
              0.4444444444444444,
              "#bd3786"
             ],
             [
              0.5555555555555556,
              "#d8576b"
             ],
             [
              0.6666666666666666,
              "#ed7953"
             ],
             [
              0.7777777777777778,
              "#fb9f3a"
             ],
             [
              0.8888888888888888,
              "#fdca26"
             ],
             [
              1,
              "#f0f921"
             ]
            ],
            "type": "contour"
           }
          ],
          "contourcarpet": [
           {
            "colorbar": {
             "outlinewidth": 0,
             "ticks": ""
            },
            "type": "contourcarpet"
           }
          ],
          "heatmap": [
           {
            "colorbar": {
             "outlinewidth": 0,
             "ticks": ""
            },
            "colorscale": [
             [
              0,
              "#0d0887"
             ],
             [
              0.1111111111111111,
              "#46039f"
             ],
             [
              0.2222222222222222,
              "#7201a8"
             ],
             [
              0.3333333333333333,
              "#9c179e"
             ],
             [
              0.4444444444444444,
              "#bd3786"
             ],
             [
              0.5555555555555556,
              "#d8576b"
             ],
             [
              0.6666666666666666,
              "#ed7953"
             ],
             [
              0.7777777777777778,
              "#fb9f3a"
             ],
             [
              0.8888888888888888,
              "#fdca26"
             ],
             [
              1,
              "#f0f921"
             ]
            ],
            "type": "heatmap"
           }
          ],
          "heatmapgl": [
           {
            "colorbar": {
             "outlinewidth": 0,
             "ticks": ""
            },
            "colorscale": [
             [
              0,
              "#0d0887"
             ],
             [
              0.1111111111111111,
              "#46039f"
             ],
             [
              0.2222222222222222,
              "#7201a8"
             ],
             [
              0.3333333333333333,
              "#9c179e"
             ],
             [
              0.4444444444444444,
              "#bd3786"
             ],
             [
              0.5555555555555556,
              "#d8576b"
             ],
             [
              0.6666666666666666,
              "#ed7953"
             ],
             [
              0.7777777777777778,
              "#fb9f3a"
             ],
             [
              0.8888888888888888,
              "#fdca26"
             ],
             [
              1,
              "#f0f921"
             ]
            ],
            "type": "heatmapgl"
           }
          ],
          "histogram": [
           {
            "marker": {
             "pattern": {
              "fillmode": "overlay",
              "size": 10,
              "solidity": 0.2
             }
            },
            "type": "histogram"
           }
          ],
          "histogram2d": [
           {
            "colorbar": {
             "outlinewidth": 0,
             "ticks": ""
            },
            "colorscale": [
             [
              0,
              "#0d0887"
             ],
             [
              0.1111111111111111,
              "#46039f"
             ],
             [
              0.2222222222222222,
              "#7201a8"
             ],
             [
              0.3333333333333333,
              "#9c179e"
             ],
             [
              0.4444444444444444,
              "#bd3786"
             ],
             [
              0.5555555555555556,
              "#d8576b"
             ],
             [
              0.6666666666666666,
              "#ed7953"
             ],
             [
              0.7777777777777778,
              "#fb9f3a"
             ],
             [
              0.8888888888888888,
              "#fdca26"
             ],
             [
              1,
              "#f0f921"
             ]
            ],
            "type": "histogram2d"
           }
          ],
          "histogram2dcontour": [
           {
            "colorbar": {
             "outlinewidth": 0,
             "ticks": ""
            },
            "colorscale": [
             [
              0,
              "#0d0887"
             ],
             [
              0.1111111111111111,
              "#46039f"
             ],
             [
              0.2222222222222222,
              "#7201a8"
             ],
             [
              0.3333333333333333,
              "#9c179e"
             ],
             [
              0.4444444444444444,
              "#bd3786"
             ],
             [
              0.5555555555555556,
              "#d8576b"
             ],
             [
              0.6666666666666666,
              "#ed7953"
             ],
             [
              0.7777777777777778,
              "#fb9f3a"
             ],
             [
              0.8888888888888888,
              "#fdca26"
             ],
             [
              1,
              "#f0f921"
             ]
            ],
            "type": "histogram2dcontour"
           }
          ],
          "mesh3d": [
           {
            "colorbar": {
             "outlinewidth": 0,
             "ticks": ""
            },
            "type": "mesh3d"
           }
          ],
          "parcoords": [
           {
            "line": {
             "colorbar": {
              "outlinewidth": 0,
              "ticks": ""
             }
            },
            "type": "parcoords"
           }
          ],
          "pie": [
           {
            "automargin": true,
            "type": "pie"
           }
          ],
          "scatter": [
           {
            "marker": {
             "line": {
              "color": "#283442"
             }
            },
            "type": "scatter"
           }
          ],
          "scatter3d": [
           {
            "line": {
             "colorbar": {
              "outlinewidth": 0,
              "ticks": ""
             }
            },
            "marker": {
             "colorbar": {
              "outlinewidth": 0,
              "ticks": ""
             }
            },
            "type": "scatter3d"
           }
          ],
          "scattercarpet": [
           {
            "marker": {
             "colorbar": {
              "outlinewidth": 0,
              "ticks": ""
             }
            },
            "type": "scattercarpet"
           }
          ],
          "scattergeo": [
           {
            "marker": {
             "colorbar": {
              "outlinewidth": 0,
              "ticks": ""
             }
            },
            "type": "scattergeo"
           }
          ],
          "scattergl": [
           {
            "marker": {
             "line": {
              "color": "#283442"
             }
            },
            "type": "scattergl"
           }
          ],
          "scattermapbox": [
           {
            "marker": {
             "colorbar": {
              "outlinewidth": 0,
              "ticks": ""
             }
            },
            "type": "scattermapbox"
           }
          ],
          "scatterpolar": [
           {
            "marker": {
             "colorbar": {
              "outlinewidth": 0,
              "ticks": ""
             }
            },
            "type": "scatterpolar"
           }
          ],
          "scatterpolargl": [
           {
            "marker": {
             "colorbar": {
              "outlinewidth": 0,
              "ticks": ""
             }
            },
            "type": "scatterpolargl"
           }
          ],
          "scatterternary": [
           {
            "marker": {
             "colorbar": {
              "outlinewidth": 0,
              "ticks": ""
             }
            },
            "type": "scatterternary"
           }
          ],
          "surface": [
           {
            "colorbar": {
             "outlinewidth": 0,
             "ticks": ""
            },
            "colorscale": [
             [
              0,
              "#0d0887"
             ],
             [
              0.1111111111111111,
              "#46039f"
             ],
             [
              0.2222222222222222,
              "#7201a8"
             ],
             [
              0.3333333333333333,
              "#9c179e"
             ],
             [
              0.4444444444444444,
              "#bd3786"
             ],
             [
              0.5555555555555556,
              "#d8576b"
             ],
             [
              0.6666666666666666,
              "#ed7953"
             ],
             [
              0.7777777777777778,
              "#fb9f3a"
             ],
             [
              0.8888888888888888,
              "#fdca26"
             ],
             [
              1,
              "#f0f921"
             ]
            ],
            "type": "surface"
           }
          ],
          "table": [
           {
            "cells": {
             "fill": {
              "color": "#506784"
             },
             "line": {
              "color": "rgb(17,17,17)"
             }
            },
            "header": {
             "fill": {
              "color": "#2a3f5f"
             },
             "line": {
              "color": "rgb(17,17,17)"
             }
            },
            "type": "table"
           }
          ]
         },
         "layout": {
          "annotationdefaults": {
           "arrowcolor": "#f2f5fa",
           "arrowhead": 0,
           "arrowwidth": 1
          },
          "autotypenumbers": "strict",
          "coloraxis": {
           "colorbar": {
            "outlinewidth": 0,
            "ticks": ""
           }
          },
          "colorscale": {
           "diverging": [
            [
             0,
             "#8e0152"
            ],
            [
             0.1,
             "#c51b7d"
            ],
            [
             0.2,
             "#de77ae"
            ],
            [
             0.3,
             "#f1b6da"
            ],
            [
             0.4,
             "#fde0ef"
            ],
            [
             0.5,
             "#f7f7f7"
            ],
            [
             0.6,
             "#e6f5d0"
            ],
            [
             0.7,
             "#b8e186"
            ],
            [
             0.8,
             "#7fbc41"
            ],
            [
             0.9,
             "#4d9221"
            ],
            [
             1,
             "#276419"
            ]
           ],
           "sequential": [
            [
             0,
             "#0d0887"
            ],
            [
             0.1111111111111111,
             "#46039f"
            ],
            [
             0.2222222222222222,
             "#7201a8"
            ],
            [
             0.3333333333333333,
             "#9c179e"
            ],
            [
             0.4444444444444444,
             "#bd3786"
            ],
            [
             0.5555555555555556,
             "#d8576b"
            ],
            [
             0.6666666666666666,
             "#ed7953"
            ],
            [
             0.7777777777777778,
             "#fb9f3a"
            ],
            [
             0.8888888888888888,
             "#fdca26"
            ],
            [
             1,
             "#f0f921"
            ]
           ],
           "sequentialminus": [
            [
             0,
             "#0d0887"
            ],
            [
             0.1111111111111111,
             "#46039f"
            ],
            [
             0.2222222222222222,
             "#7201a8"
            ],
            [
             0.3333333333333333,
             "#9c179e"
            ],
            [
             0.4444444444444444,
             "#bd3786"
            ],
            [
             0.5555555555555556,
             "#d8576b"
            ],
            [
             0.6666666666666666,
             "#ed7953"
            ],
            [
             0.7777777777777778,
             "#fb9f3a"
            ],
            [
             0.8888888888888888,
             "#fdca26"
            ],
            [
             1,
             "#f0f921"
            ]
           ]
          },
          "colorway": [
           "#636efa",
           "#EF553B",
           "#00cc96",
           "#ab63fa",
           "#FFA15A",
           "#19d3f3",
           "#FF6692",
           "#B6E880",
           "#FF97FF",
           "#FECB52"
          ],
          "font": {
           "color": "#f2f5fa"
          },
          "geo": {
           "bgcolor": "rgb(17,17,17)",
           "lakecolor": "rgb(17,17,17)",
           "landcolor": "rgb(17,17,17)",
           "showlakes": true,
           "showland": true,
           "subunitcolor": "#506784"
          },
          "hoverlabel": {
           "align": "left"
          },
          "hovermode": "closest",
          "mapbox": {
           "style": "dark"
          },
          "paper_bgcolor": "rgb(17,17,17)",
          "plot_bgcolor": "rgb(17,17,17)",
          "polar": {
           "angularaxis": {
            "gridcolor": "#506784",
            "linecolor": "#506784",
            "ticks": ""
           },
           "bgcolor": "rgb(17,17,17)",
           "radialaxis": {
            "gridcolor": "#506784",
            "linecolor": "#506784",
            "ticks": ""
           }
          },
          "scene": {
           "xaxis": {
            "backgroundcolor": "rgb(17,17,17)",
            "gridcolor": "#506784",
            "gridwidth": 2,
            "linecolor": "#506784",
            "showbackground": true,
            "ticks": "",
            "zerolinecolor": "#C8D4E3"
           },
           "yaxis": {
            "backgroundcolor": "rgb(17,17,17)",
            "gridcolor": "#506784",
            "gridwidth": 2,
            "linecolor": "#506784",
            "showbackground": true,
            "ticks": "",
            "zerolinecolor": "#C8D4E3"
           },
           "zaxis": {
            "backgroundcolor": "rgb(17,17,17)",
            "gridcolor": "#506784",
            "gridwidth": 2,
            "linecolor": "#506784",
            "showbackground": true,
            "ticks": "",
            "zerolinecolor": "#C8D4E3"
           }
          },
          "shapedefaults": {
           "line": {
            "color": "#f2f5fa"
           }
          },
          "sliderdefaults": {
           "bgcolor": "#C8D4E3",
           "bordercolor": "rgb(17,17,17)",
           "borderwidth": 1,
           "tickwidth": 0
          },
          "ternary": {
           "aaxis": {
            "gridcolor": "#506784",
            "linecolor": "#506784",
            "ticks": ""
           },
           "baxis": {
            "gridcolor": "#506784",
            "linecolor": "#506784",
            "ticks": ""
           },
           "bgcolor": "rgb(17,17,17)",
           "caxis": {
            "gridcolor": "#506784",
            "linecolor": "#506784",
            "ticks": ""
           }
          },
          "title": {
           "x": 0.05
          },
          "updatemenudefaults": {
           "bgcolor": "#506784",
           "borderwidth": 0
          },
          "xaxis": {
           "automargin": true,
           "gridcolor": "#283442",
           "linecolor": "#506784",
           "ticks": "",
           "title": {
            "standoff": 15
           },
           "zerolinecolor": "#283442",
           "zerolinewidth": 2
          },
          "yaxis": {
           "automargin": true,
           "gridcolor": "#283442",
           "linecolor": "#506784",
           "ticks": "",
           "title": {
            "standoff": 15
           },
           "zerolinecolor": "#283442",
           "zerolinewidth": 2
          }
         }
        },
        "title": {
         "text": "Boxplots"
        },
        "xaxis": {
         "anchor": "y",
         "domain": [
          0,
          1
         ],
         "title": {
          "text": "variable"
         }
        },
        "yaxis": {
         "anchor": "x",
         "domain": [
          0,
          1
         ],
         "title": {
          "text": "value"
         }
        }
       }
      }
     },
     "metadata": {},
     "output_type": "display_data"
    }
   ],
   "source": [
    "px.box(df, title=\"Boxplots\")  # .update_traces(marker_outliercolor='red')\n"
   ]
  },
  {
   "cell_type": "markdown",
   "metadata": {},
   "source": [
    "**OBSERVATION**\n",
    "\n",
    "- `metro_dist` has outliers.\n",
    "- Other feature do not show any significant outliers.\n"
   ]
  },
  {
   "cell_type": "markdown",
   "metadata": {},
   "source": [
    "### Outlier analysis\n"
   ]
  },
  {
   "cell_type": "code",
   "execution_count": 16,
   "metadata": {},
   "outputs": [
    {
     "data": {
      "application/vnd.plotly.v1+json": {
       "config": {
        "plotlyServerURL": "https://plot.ly"
       },
       "data": [
        {
         "hovertemplate": "house_price_unit_area=%{x}<br>metro_dist=%{y}<extra></extra>",
         "legendgroup": "",
         "marker": {
          "color": "#636efa",
          "symbol": "circle"
         },
         "mode": "markers",
         "name": "",
         "orientation": "v",
         "showlegend": false,
         "type": "scatter",
         "x": [
          37.9,
          42.2,
          47.3,
          54.8,
          43.1,
          32.1,
          40.3,
          46.7,
          18.8,
          22.1,
          41.4,
          58.1,
          39.3,
          23.8,
          34.3,
          50.5,
          70.1,
          37.4,
          42.3,
          47.7,
          29.3,
          51.6,
          24.6,
          47.9,
          38.8,
          27,
          56.2,
          33.6,
          47,
          57.1,
          22.1,
          25,
          34.2,
          49.3,
          55.1,
          27.3,
          22.9,
          25.3,
          47.7,
          46.2,
          15.9,
          18.2,
          34.7,
          34.1,
          53.9,
          38.3,
          42,
          61.5,
          13.4,
          13.2,
          44.2,
          20.7,
          27,
          38.9,
          51.7,
          13.7,
          41.9,
          53.5,
          22.6,
          42.4,
          21.3,
          63.2,
          27.7,
          55,
          25.3,
          44.3,
          50.7,
          56.8,
          36.2,
          42,
          59,
          40.8,
          36.3,
          20,
          54.4,
          29.5,
          36.8,
          25.6,
          29.8,
          26.5,
          40.3,
          36.8,
          48.1,
          17.7,
          43.7,
          50.8,
          27,
          18.3,
          48,
          25.3,
          45.4,
          43.2,
          21.8,
          16.1,
          41,
          51.8,
          59.5,
          34.6,
          51,
          62.2,
          38.2,
          32.9,
          54.4,
          45.7,
          30.5,
          71,
          47.1,
          26.6,
          34.1,
          28.4,
          51.6,
          39.4,
          23.1,
          7.6,
          53.3,
          46.4,
          12.2,
          13,
          30.6,
          59.6,
          31.3,
          48,
          32.5,
          45.5,
          57.4,
          48.6,
          62.9,
          55,
          60.7,
          41,
          37.5,
          30.7,
          37.5,
          39.5,
          42.2,
          20.8,
          46.8,
          47.4,
          43.5,
          42.5,
          51.4,
          28.9,
          37.5,
          40.1,
          28.4,
          45.5,
          52.2,
          43.2,
          45.1,
          39.7,
          48.5,
          44.7,
          28.9,
          40.9,
          20.7,
          15.6,
          18.3,
          35.6,
          39.4,
          37.4,
          57.8,
          39.6,
          11.6,
          55.5,
          55.2,
          30.6,
          73.6,
          43.4,
          37.4,
          23.5,
          14.4,
          58.8,
          58.1,
          35.1,
          45.2,
          36.5,
          19.2,
          42,
          36.7,
          42.6,
          15.5,
          55.9,
          23.6,
          18.8,
          21.8,
          21.5,
          25.7,
          22,
          44.3,
          20.5,
          42.3,
          37.8,
          42.7,
          49.3,
          29.3,
          34.6,
          36.6,
          48.2,
          39.1,
          31.6,
          25.5,
          45.9,
          31.5,
          46.1,
          26.6,
          21.4,
          44,
          34.2,
          26.2,
          40.9,
          52.2,
          43.5,
          31.1,
          58,
          20.9,
          48.1,
          39.7,
          40.8,
          43.8,
          40.2,
          78.3,
          38.5,
          48.5,
          42.3,
          46,
          49,
          12.8,
          40.2,
          46.6,
          19,
          33.4,
          14.7,
          17.4,
          32.4,
          23.9,
          39.3,
          61.9,
          39,
          40.6,
          29.7,
          28.8,
          41.4,
          33.4,
          48.2,
          21.7,
          40.8,
          40.6,
          23.1,
          22.3,
          15,
          30,
          13.8,
          52.7,
          25.9,
          51.8,
          17.4,
          26.5,
          43.9,
          63.3,
          28.8,
          30.7,
          24.4,
          53,
          31.7,
          40.6,
          38.1,
          23.7,
          41.1,
          40.1,
          23,
          117.5,
          26.5,
          40.5,
          29.3,
          41,
          49.7,
          34,
          27.7,
          44,
          31.1,
          45.4,
          44.8,
          25.6,
          23.5,
          34.4,
          55.3,
          56.3,
          32.9,
          51,
          44.5,
          37,
          54.4,
          24.5,
          42.5,
          38.1,
          21.8,
          34.1,
          28.5,
          16.7,
          46.1,
          36.9,
          35.7,
          23.2,
          38.4,
          29.4,
          55,
          50.2,
          24.7,
          53,
          19.1,
          24.7,
          42.2,
          78,
          42.8,
          41.6,
          27.3,
          42,
          37.5,
          49.8,
          26.9,
          18.6,
          37.7,
          33.1,
          42.5,
          31.3,
          38.1,
          62.1,
          36.7,
          23.6,
          19.2,
          12.8,
          15.6,
          39.6,
          38.4,
          22.8,
          36.5,
          35.6,
          30.9,
          36.3,
          50.4,
          42.9,
          37,
          53.5,
          46.6,
          41.2,
          37.9,
          30.8,
          11.2,
          53.7,
          47,
          42.3,
          28.6,
          25.7,
          31.3,
          30.1,
          60.7,
          45.3,
          44.9,
          45.1,
          24.7,
          47.1,
          63.3,
          40,
          48,
          33.1,
          29.5,
          24.8,
          20.9,
          43.1,
          22.8,
          42.1,
          51.7,
          41.5,
          52.2,
          49.5,
          23.8,
          30.5,
          56.8,
          37.4,
          69.7,
          53.3,
          47.3,
          29.3,
          40.3,
          12.9,
          46.6,
          55.3,
          25.6,
          27.3,
          67.7,
          38.6,
          31.3,
          35.3,
          40.3,
          24.7,
          42.5,
          31.9,
          32.2,
          23,
          37.3,
          35.5,
          27.7,
          28.5,
          39.7,
          41.2,
          37.2,
          40.5,
          22.3,
          28.1,
          15.4,
          50,
          40.6,
          52.5,
          63.9
         ],
         "xaxis": "x",
         "y": [
          84.87882,
          306.5947,
          561.9845,
          561.9845,
          390.5684,
          2175.03,
          623.4731,
          287.6025,
          5512.038,
          1783.18,
          405.2134,
          90.45606,
          492.2313,
          2469.645,
          1164.838,
          579.2083,
          292.9978,
          350.8515,
          368.1363,
          23.38284,
          2275.877,
          279.1726,
          1360.139,
          279.1726,
          480.6977,
          1487.868,
          383.8624,
          276.449,
          557.478,
          451.2438,
          4519.69,
          769.4034,
          488.5727,
          323.655,
          205.367,
          4079.418,
          1935.009,
          1360.139,
          577.9615,
          289.3248,
          4082.015,
          4066.587,
          519.4617,
          512.7871,
          533.4762,
          488.8193,
          463.9623,
          640.7391,
          4605.749,
          4510.359,
          512.5487,
          1758.406,
          1438.579,
          492.2313,
          289.3248,
          1160.632,
          371.2495,
          56.47425,
          4510.359,
          336.0532,
          1931.207,
          259.6607,
          2175.877,
          533.4762,
          995.7554,
          123.7429,
          193.5845,
          104.8101,
          464.223,
          561.9845,
          90.45606,
          640.7391,
          424.5442,
          4082.015,
          379.5575,
          1360.139,
          616.4004,
          2185.128,
          552.4371,
          1414.837,
          533.4762,
          377.7956,
          150.9347,
          2707.392,
          383.2805,
          338.9679,
          1455.798,
          4066.587,
          1406.43,
          3947.945,
          274.0144,
          1402.016,
          2469.645,
          1146.329,
          167.5989,
          104.8101,
          90.45606,
          617.4424,
          289.3248,
          90.45606,
          964.7496,
          170.1289,
          193.5845,
          208.3905,
          392.4459,
          292.9978,
          189.5181,
          1360.139,
          592.5006,
          2147.376,
          104.8101,
          196.6172,
          2102.427,
          393.2606,
          143.8383,
          737.9161,
          6396.283,
          4197.349,
          1583.722,
          289.3248,
          492.2313,
          492.2313,
          414.9476,
          185.4296,
          279.1726,
          193.5845,
          804.6897,
          383.8624,
          124.9912,
          216.8329,
          535.527,
          2147.376,
          482.7581,
          373.3937,
          186.9686,
          1009.235,
          390.5684,
          319.0708,
          942.4664,
          492.2313,
          289.3248,
          1559.827,
          640.6071,
          492.2313,
          1360.139,
          451.2438,
          185.4296,
          489.8821,
          3780.59,
          179.4538,
          170.7311,
          387.7721,
          1360.139,
          376.1709,
          4066.587,
          4082.015,
          1264.73,
          815.9314,
          390.5684,
          815.9314,
          49.66105,
          616.4004,
          4066.587,
          104.8101,
          185.4296,
          1236.564,
          292.9978,
          330.0854,
          515.1122,
          1962.628,
          4527.687,
          383.8624,
          90.45606,
          401.8807,
          432.0385,
          472.1745,
          4573.779,
          181.0766,
          1144.436,
          438.8513,
          4449.27,
          201.8939,
          2147.376,
          4082.015,
          2615.465,
          1447.286,
          2185.128,
          3078.176,
          190.0392,
          4066.587,
          616.5735,
          750.0704,
          57.58945,
          421.479,
          3771.895,
          461.1016,
          707.9067,
          126.7286,
          157.6052,
          451.6419,
          995.7554,
          561.9845,
          642.6985,
          289.3248,
          1414.837,
          1449.722,
          379.5575,
          665.0636,
          1360.139,
          175.6294,
          390.5684,
          274.0144,
          1805.665,
          90.45606,
          1783.18,
          383.7129,
          590.9292,
          372.6242,
          492.2313,
          529.7771,
          186.5101,
          1402.016,
          431.1114,
          1402.016,
          324.9419,
          193.5845,
          4082.015,
          265.0609,
          3171.329,
          1156.412,
          2147.376,
          4074.736,
          4412.765,
          333.3679,
          2216.612,
          250.631,
          373.8389,
          732.8528,
          732.8528,
          837.7233,
          1712.632,
          250.631,
          2077.39,
          204.1705,
          1559.827,
          639.6198,
          389.8219,
          1055.067,
          1009.235,
          6306.153,
          424.7132,
          1159.454,
          90.45606,
          1735.595,
          329.9747,
          5512.038,
          339.2289,
          444.1334,
          292.9978,
          837.7233,
          1485.097,
          2288.011,
          289.3248,
          2147.376,
          493.657,
          815.9314,
          1783.18,
          482.7581,
          390.5684,
          837.7233,
          252.5822,
          451.6419,
          492.2313,
          170.1289,
          394.0173,
          23.38284,
          461.1016,
          2185.128,
          208.3905,
          1554.25,
          184.3302,
          387.7721,
          1455.798,
          1978.671,
          383.2805,
          718.2937,
          90.45606,
          461.1016,
          323.6912,
          289.3248,
          490.3446,
          56.47425,
          395.6747,
          383.2805,
          335.5273,
          2179.59,
          1144.436,
          567.0349,
          4082.015,
          121.7262,
          156.2442,
          461.7848,
          2288.011,
          439.7105,
          1626.083,
          289.3248,
          169.9803,
          3079.89,
          289.3248,
          1264.73,
          1643.499,
          537.7971,
          318.5292,
          104.8101,
          577.9615,
          1756.411,
          250.631,
          752.7669,
          379.5575,
          272.6783,
          4197.349,
          964.7496,
          187.4823,
          197.1338,
          1712.632,
          488.8193,
          56.47425,
          757.3377,
          1497.713,
          4197.349,
          1156.777,
          4519.69,
          617.7134,
          104.8101,
          1013.341,
          337.6016,
          1867.233,
          600.8604,
          258.186,
          329.9747,
          270.8895,
          750.0704,
          90.45606,
          563.2854,
          3085.17,
          185.4296,
          1712.632,
          6488.021,
          259.6607,
          104.8101,
          492.2313,
          2180.245,
          2674.961,
          2147.376,
          1360.139,
          383.8624,
          211.4473,
          338.9679,
          193.5845,
          2408.993,
          87.30222,
          281.205,
          967.4,
          109.9455,
          614.1394,
          2261.432,
          1801.544,
          1828.319,
          350.8515,
          2185.128,
          289.3248,
          312.8963,
          157.6052,
          274.0144,
          390.5684,
          1157.988,
          1717.193,
          49.66105,
          587.8877,
          292.9978,
          289.3248,
          132.5469,
          3529.564,
          506.1144,
          4066.587,
          82.88643,
          185.4296,
          2103.555,
          2251.938,
          122.3619,
          377.8302,
          1939.749,
          443.802,
          967.4,
          4136.271,
          512.5487,
          918.6357,
          1164.838,
          1717.193,
          170.1289,
          482.7581,
          2175.03,
          187.4823,
          161.942,
          289.3248,
          130.9945,
          372.1386,
          2408.993,
          2175.744,
          4082.015,
          90.45606,
          390.9696,
          104.8101,
          90.45606
         ],
         "yaxis": "y"
        }
       ],
       "layout": {
        "legend": {
         "tracegroupgap": 0
        },
        "template": {
         "data": {
          "bar": [
           {
            "error_x": {
             "color": "#f2f5fa"
            },
            "error_y": {
             "color": "#f2f5fa"
            },
            "marker": {
             "line": {
              "color": "rgb(17,17,17)",
              "width": 0.5
             },
             "pattern": {
              "fillmode": "overlay",
              "size": 10,
              "solidity": 0.2
             }
            },
            "type": "bar"
           }
          ],
          "barpolar": [
           {
            "marker": {
             "line": {
              "color": "rgb(17,17,17)",
              "width": 0.5
             },
             "pattern": {
              "fillmode": "overlay",
              "size": 10,
              "solidity": 0.2
             }
            },
            "type": "barpolar"
           }
          ],
          "carpet": [
           {
            "aaxis": {
             "endlinecolor": "#A2B1C6",
             "gridcolor": "#506784",
             "linecolor": "#506784",
             "minorgridcolor": "#506784",
             "startlinecolor": "#A2B1C6"
            },
            "baxis": {
             "endlinecolor": "#A2B1C6",
             "gridcolor": "#506784",
             "linecolor": "#506784",
             "minorgridcolor": "#506784",
             "startlinecolor": "#A2B1C6"
            },
            "type": "carpet"
           }
          ],
          "choropleth": [
           {
            "colorbar": {
             "outlinewidth": 0,
             "ticks": ""
            },
            "type": "choropleth"
           }
          ],
          "contour": [
           {
            "colorbar": {
             "outlinewidth": 0,
             "ticks": ""
            },
            "colorscale": [
             [
              0,
              "#0d0887"
             ],
             [
              0.1111111111111111,
              "#46039f"
             ],
             [
              0.2222222222222222,
              "#7201a8"
             ],
             [
              0.3333333333333333,
              "#9c179e"
             ],
             [
              0.4444444444444444,
              "#bd3786"
             ],
             [
              0.5555555555555556,
              "#d8576b"
             ],
             [
              0.6666666666666666,
              "#ed7953"
             ],
             [
              0.7777777777777778,
              "#fb9f3a"
             ],
             [
              0.8888888888888888,
              "#fdca26"
             ],
             [
              1,
              "#f0f921"
             ]
            ],
            "type": "contour"
           }
          ],
          "contourcarpet": [
           {
            "colorbar": {
             "outlinewidth": 0,
             "ticks": ""
            },
            "type": "contourcarpet"
           }
          ],
          "heatmap": [
           {
            "colorbar": {
             "outlinewidth": 0,
             "ticks": ""
            },
            "colorscale": [
             [
              0,
              "#0d0887"
             ],
             [
              0.1111111111111111,
              "#46039f"
             ],
             [
              0.2222222222222222,
              "#7201a8"
             ],
             [
              0.3333333333333333,
              "#9c179e"
             ],
             [
              0.4444444444444444,
              "#bd3786"
             ],
             [
              0.5555555555555556,
              "#d8576b"
             ],
             [
              0.6666666666666666,
              "#ed7953"
             ],
             [
              0.7777777777777778,
              "#fb9f3a"
             ],
             [
              0.8888888888888888,
              "#fdca26"
             ],
             [
              1,
              "#f0f921"
             ]
            ],
            "type": "heatmap"
           }
          ],
          "heatmapgl": [
           {
            "colorbar": {
             "outlinewidth": 0,
             "ticks": ""
            },
            "colorscale": [
             [
              0,
              "#0d0887"
             ],
             [
              0.1111111111111111,
              "#46039f"
             ],
             [
              0.2222222222222222,
              "#7201a8"
             ],
             [
              0.3333333333333333,
              "#9c179e"
             ],
             [
              0.4444444444444444,
              "#bd3786"
             ],
             [
              0.5555555555555556,
              "#d8576b"
             ],
             [
              0.6666666666666666,
              "#ed7953"
             ],
             [
              0.7777777777777778,
              "#fb9f3a"
             ],
             [
              0.8888888888888888,
              "#fdca26"
             ],
             [
              1,
              "#f0f921"
             ]
            ],
            "type": "heatmapgl"
           }
          ],
          "histogram": [
           {
            "marker": {
             "pattern": {
              "fillmode": "overlay",
              "size": 10,
              "solidity": 0.2
             }
            },
            "type": "histogram"
           }
          ],
          "histogram2d": [
           {
            "colorbar": {
             "outlinewidth": 0,
             "ticks": ""
            },
            "colorscale": [
             [
              0,
              "#0d0887"
             ],
             [
              0.1111111111111111,
              "#46039f"
             ],
             [
              0.2222222222222222,
              "#7201a8"
             ],
             [
              0.3333333333333333,
              "#9c179e"
             ],
             [
              0.4444444444444444,
              "#bd3786"
             ],
             [
              0.5555555555555556,
              "#d8576b"
             ],
             [
              0.6666666666666666,
              "#ed7953"
             ],
             [
              0.7777777777777778,
              "#fb9f3a"
             ],
             [
              0.8888888888888888,
              "#fdca26"
             ],
             [
              1,
              "#f0f921"
             ]
            ],
            "type": "histogram2d"
           }
          ],
          "histogram2dcontour": [
           {
            "colorbar": {
             "outlinewidth": 0,
             "ticks": ""
            },
            "colorscale": [
             [
              0,
              "#0d0887"
             ],
             [
              0.1111111111111111,
              "#46039f"
             ],
             [
              0.2222222222222222,
              "#7201a8"
             ],
             [
              0.3333333333333333,
              "#9c179e"
             ],
             [
              0.4444444444444444,
              "#bd3786"
             ],
             [
              0.5555555555555556,
              "#d8576b"
             ],
             [
              0.6666666666666666,
              "#ed7953"
             ],
             [
              0.7777777777777778,
              "#fb9f3a"
             ],
             [
              0.8888888888888888,
              "#fdca26"
             ],
             [
              1,
              "#f0f921"
             ]
            ],
            "type": "histogram2dcontour"
           }
          ],
          "mesh3d": [
           {
            "colorbar": {
             "outlinewidth": 0,
             "ticks": ""
            },
            "type": "mesh3d"
           }
          ],
          "parcoords": [
           {
            "line": {
             "colorbar": {
              "outlinewidth": 0,
              "ticks": ""
             }
            },
            "type": "parcoords"
           }
          ],
          "pie": [
           {
            "automargin": true,
            "type": "pie"
           }
          ],
          "scatter": [
           {
            "marker": {
             "line": {
              "color": "#283442"
             }
            },
            "type": "scatter"
           }
          ],
          "scatter3d": [
           {
            "line": {
             "colorbar": {
              "outlinewidth": 0,
              "ticks": ""
             }
            },
            "marker": {
             "colorbar": {
              "outlinewidth": 0,
              "ticks": ""
             }
            },
            "type": "scatter3d"
           }
          ],
          "scattercarpet": [
           {
            "marker": {
             "colorbar": {
              "outlinewidth": 0,
              "ticks": ""
             }
            },
            "type": "scattercarpet"
           }
          ],
          "scattergeo": [
           {
            "marker": {
             "colorbar": {
              "outlinewidth": 0,
              "ticks": ""
             }
            },
            "type": "scattergeo"
           }
          ],
          "scattergl": [
           {
            "marker": {
             "line": {
              "color": "#283442"
             }
            },
            "type": "scattergl"
           }
          ],
          "scattermapbox": [
           {
            "marker": {
             "colorbar": {
              "outlinewidth": 0,
              "ticks": ""
             }
            },
            "type": "scattermapbox"
           }
          ],
          "scatterpolar": [
           {
            "marker": {
             "colorbar": {
              "outlinewidth": 0,
              "ticks": ""
             }
            },
            "type": "scatterpolar"
           }
          ],
          "scatterpolargl": [
           {
            "marker": {
             "colorbar": {
              "outlinewidth": 0,
              "ticks": ""
             }
            },
            "type": "scatterpolargl"
           }
          ],
          "scatterternary": [
           {
            "marker": {
             "colorbar": {
              "outlinewidth": 0,
              "ticks": ""
             }
            },
            "type": "scatterternary"
           }
          ],
          "surface": [
           {
            "colorbar": {
             "outlinewidth": 0,
             "ticks": ""
            },
            "colorscale": [
             [
              0,
              "#0d0887"
             ],
             [
              0.1111111111111111,
              "#46039f"
             ],
             [
              0.2222222222222222,
              "#7201a8"
             ],
             [
              0.3333333333333333,
              "#9c179e"
             ],
             [
              0.4444444444444444,
              "#bd3786"
             ],
             [
              0.5555555555555556,
              "#d8576b"
             ],
             [
              0.6666666666666666,
              "#ed7953"
             ],
             [
              0.7777777777777778,
              "#fb9f3a"
             ],
             [
              0.8888888888888888,
              "#fdca26"
             ],
             [
              1,
              "#f0f921"
             ]
            ],
            "type": "surface"
           }
          ],
          "table": [
           {
            "cells": {
             "fill": {
              "color": "#506784"
             },
             "line": {
              "color": "rgb(17,17,17)"
             }
            },
            "header": {
             "fill": {
              "color": "#2a3f5f"
             },
             "line": {
              "color": "rgb(17,17,17)"
             }
            },
            "type": "table"
           }
          ]
         },
         "layout": {
          "annotationdefaults": {
           "arrowcolor": "#f2f5fa",
           "arrowhead": 0,
           "arrowwidth": 1
          },
          "autotypenumbers": "strict",
          "coloraxis": {
           "colorbar": {
            "outlinewidth": 0,
            "ticks": ""
           }
          },
          "colorscale": {
           "diverging": [
            [
             0,
             "#8e0152"
            ],
            [
             0.1,
             "#c51b7d"
            ],
            [
             0.2,
             "#de77ae"
            ],
            [
             0.3,
             "#f1b6da"
            ],
            [
             0.4,
             "#fde0ef"
            ],
            [
             0.5,
             "#f7f7f7"
            ],
            [
             0.6,
             "#e6f5d0"
            ],
            [
             0.7,
             "#b8e186"
            ],
            [
             0.8,
             "#7fbc41"
            ],
            [
             0.9,
             "#4d9221"
            ],
            [
             1,
             "#276419"
            ]
           ],
           "sequential": [
            [
             0,
             "#0d0887"
            ],
            [
             0.1111111111111111,
             "#46039f"
            ],
            [
             0.2222222222222222,
             "#7201a8"
            ],
            [
             0.3333333333333333,
             "#9c179e"
            ],
            [
             0.4444444444444444,
             "#bd3786"
            ],
            [
             0.5555555555555556,
             "#d8576b"
            ],
            [
             0.6666666666666666,
             "#ed7953"
            ],
            [
             0.7777777777777778,
             "#fb9f3a"
            ],
            [
             0.8888888888888888,
             "#fdca26"
            ],
            [
             1,
             "#f0f921"
            ]
           ],
           "sequentialminus": [
            [
             0,
             "#0d0887"
            ],
            [
             0.1111111111111111,
             "#46039f"
            ],
            [
             0.2222222222222222,
             "#7201a8"
            ],
            [
             0.3333333333333333,
             "#9c179e"
            ],
            [
             0.4444444444444444,
             "#bd3786"
            ],
            [
             0.5555555555555556,
             "#d8576b"
            ],
            [
             0.6666666666666666,
             "#ed7953"
            ],
            [
             0.7777777777777778,
             "#fb9f3a"
            ],
            [
             0.8888888888888888,
             "#fdca26"
            ],
            [
             1,
             "#f0f921"
            ]
           ]
          },
          "colorway": [
           "#636efa",
           "#EF553B",
           "#00cc96",
           "#ab63fa",
           "#FFA15A",
           "#19d3f3",
           "#FF6692",
           "#B6E880",
           "#FF97FF",
           "#FECB52"
          ],
          "font": {
           "color": "#f2f5fa"
          },
          "geo": {
           "bgcolor": "rgb(17,17,17)",
           "lakecolor": "rgb(17,17,17)",
           "landcolor": "rgb(17,17,17)",
           "showlakes": true,
           "showland": true,
           "subunitcolor": "#506784"
          },
          "hoverlabel": {
           "align": "left"
          },
          "hovermode": "closest",
          "mapbox": {
           "style": "dark"
          },
          "paper_bgcolor": "rgb(17,17,17)",
          "plot_bgcolor": "rgb(17,17,17)",
          "polar": {
           "angularaxis": {
            "gridcolor": "#506784",
            "linecolor": "#506784",
            "ticks": ""
           },
           "bgcolor": "rgb(17,17,17)",
           "radialaxis": {
            "gridcolor": "#506784",
            "linecolor": "#506784",
            "ticks": ""
           }
          },
          "scene": {
           "xaxis": {
            "backgroundcolor": "rgb(17,17,17)",
            "gridcolor": "#506784",
            "gridwidth": 2,
            "linecolor": "#506784",
            "showbackground": true,
            "ticks": "",
            "zerolinecolor": "#C8D4E3"
           },
           "yaxis": {
            "backgroundcolor": "rgb(17,17,17)",
            "gridcolor": "#506784",
            "gridwidth": 2,
            "linecolor": "#506784",
            "showbackground": true,
            "ticks": "",
            "zerolinecolor": "#C8D4E3"
           },
           "zaxis": {
            "backgroundcolor": "rgb(17,17,17)",
            "gridcolor": "#506784",
            "gridwidth": 2,
            "linecolor": "#506784",
            "showbackground": true,
            "ticks": "",
            "zerolinecolor": "#C8D4E3"
           }
          },
          "shapedefaults": {
           "line": {
            "color": "#f2f5fa"
           }
          },
          "sliderdefaults": {
           "bgcolor": "#C8D4E3",
           "bordercolor": "rgb(17,17,17)",
           "borderwidth": 1,
           "tickwidth": 0
          },
          "ternary": {
           "aaxis": {
            "gridcolor": "#506784",
            "linecolor": "#506784",
            "ticks": ""
           },
           "baxis": {
            "gridcolor": "#506784",
            "linecolor": "#506784",
            "ticks": ""
           },
           "bgcolor": "rgb(17,17,17)",
           "caxis": {
            "gridcolor": "#506784",
            "linecolor": "#506784",
            "ticks": ""
           }
          },
          "title": {
           "x": 0.05
          },
          "updatemenudefaults": {
           "bgcolor": "#506784",
           "borderwidth": 0
          },
          "xaxis": {
           "automargin": true,
           "gridcolor": "#283442",
           "linecolor": "#506784",
           "ticks": "",
           "title": {
            "standoff": 15
           },
           "zerolinecolor": "#283442",
           "zerolinewidth": 2
          },
          "yaxis": {
           "automargin": true,
           "gridcolor": "#283442",
           "linecolor": "#506784",
           "ticks": "",
           "title": {
            "standoff": 15
           },
           "zerolinecolor": "#283442",
           "zerolinewidth": 2
          }
         }
        },
        "title": {
         "text": "metro_dist VS house_price_unit_area"
        },
        "xaxis": {
         "anchor": "y",
         "domain": [
          0,
          1
         ],
         "title": {
          "text": "house_price_unit_area"
         }
        },
        "yaxis": {
         "anchor": "x",
         "domain": [
          0,
          1
         ],
         "title": {
          "text": "metro_dist"
         }
        }
       }
      }
     },
     "metadata": {},
     "output_type": "display_data"
    }
   ],
   "source": [
    "px.scatter(df, x=\"house_price_unit_area\", y=\"metro_dist\", title=\"metro_dist VS house_price_unit_area\")\n"
   ]
  },
  {
   "cell_type": "markdown",
   "metadata": {},
   "source": [
    "**OBSERVATION**\n",
    "\n",
    "- From scatter plot we found data point with `metro_dist=252.5822` has `house_price_unit_area=117.5` which is isolated (suspected outlier).\n"
   ]
  },
  {
   "cell_type": "code",
   "execution_count": 17,
   "metadata": {},
   "outputs": [
    {
     "name": "stdout",
     "output_type": "stream",
     "text": [
      "Outliers from IQR method: [3529.564, 3771.895, 3780.59, 3947.945, 4066.587, 4066.587, 4066.587, 4066.587, 4066.587, 4066.587, 4074.736, 4079.418, 4082.015, 4082.015, 4082.015, 4082.015, 4082.015, 4082.015, 4082.015, 4136.271, 4197.349, 4197.349, 4197.349, 4412.765, 4449.27, 4510.359, 4510.359, 4519.69, 4519.69, 4527.687, 4573.779, 4605.749, 5512.038, 5512.038, 6306.153, 6396.283, 6488.021]\n",
      "n outlier: 37\n",
      "% outlier: 8.937\n"
     ]
    }
   ],
   "source": [
    "def detect_outliers_iqr(data: pd.Series) -> tuple:\n",
    "    \"\"\"Detect outlier from given pandas series\n",
    "\n",
    "    Args:\n",
    "        data (pd.Series): Series to detect outliers\n",
    "\n",
    "    Returns:\n",
    "        tuple: outliers list, no. of outliers, percentage of outliers\n",
    "    \"\"\"\n",
    "    outliers = []\n",
    "    q1, q3 = data.quantile([0.25, 0.75])\n",
    "    IQR = q3 - q1\n",
    "    lwr_bound = q1 - (1.5 * IQR)\n",
    "    upr_bound = q3 + (1.5 * IQR)\n",
    "    for i in data:\n",
    "        if i < lwr_bound or i > upr_bound:\n",
    "            outliers.append(i)\n",
    "    return sorted(outliers), len(outliers), len(outliers) / data.shape[0] * 100\n",
    "\n",
    "\n",
    "sample_outliers, n_outlier, p_outlier = detect_outliers_iqr(df[\"metro_dist\"])\n",
    "print(f\"Outliers from IQR method: {sample_outliers}\\nn outlier: {n_outlier}\\n% outlier: {p_outlier:.3f}\")\n"
   ]
  },
  {
   "cell_type": "markdown",
   "metadata": {},
   "source": [
    "**OBSERVATION**\n",
    "\n",
    "- 8.94% of data is detected as outlier which is high compare to total data (414)\n",
    "- From scatter plot, outlier points(large `metro_dist`) has less `house_price_unit_area` compare to points within range.\n",
    "- From correlation plot it's evident that `metro_dist` has negative correlation with `house_pice_unit_area` which supports that `metro_dist` outliers are playing significant role which is logically also correct.\n",
    "\n",
    "**CONCLUSION**\n",
    "\n",
    "- No need to drop Outlier as we have less data.\n",
    "- Outlier relation with `house_price_unit_area` is logically correct which solidifies our conclusion.\n"
   ]
  },
  {
   "cell_type": "markdown",
   "metadata": {},
   "source": [
    "### Temporal Feature\n"
   ]
  },
  {
   "cell_type": "code",
   "execution_count": 18,
   "metadata": {},
   "outputs": [
    {
     "data": {
      "text/plain": [
       "['transaction_year']"
      ]
     },
     "execution_count": 18,
     "metadata": {},
     "output_type": "execute_result"
    }
   ],
   "source": [
    "temporal_feature = [\"transaction_year\"]\n",
    "temporal_feature\n"
   ]
  },
  {
   "cell_type": "code",
   "execution_count": 19,
   "metadata": {},
   "outputs": [
    {
     "name": "stdout",
     "output_type": "stream",
     "text": [
      "transaction_year: [2012 2013]\n"
     ]
    }
   ],
   "source": [
    "for feature in temporal_feature:\n",
    "    print(f\"{feature}: {df[feature].unique()}\")\n"
   ]
  },
  {
   "cell_type": "code",
   "execution_count": 20,
   "metadata": {},
   "outputs": [
    {
     "data": {
      "text/html": [
       "<div>\n",
       "<style scoped>\n",
       "    .dataframe tbody tr th:only-of-type {\n",
       "        vertical-align: middle;\n",
       "    }\n",
       "\n",
       "    .dataframe tbody tr th {\n",
       "        vertical-align: top;\n",
       "    }\n",
       "\n",
       "    .dataframe thead th {\n",
       "        text-align: right;\n",
       "    }\n",
       "</style>\n",
       "<table border=\"1\" class=\"dataframe\">\n",
       "  <thead>\n",
       "    <tr style=\"text-align: right;\">\n",
       "      <th></th>\n",
       "      <th>count</th>\n",
       "      <th>mean</th>\n",
       "      <th>std</th>\n",
       "      <th>min</th>\n",
       "      <th>25%</th>\n",
       "      <th>50%</th>\n",
       "      <th>75%</th>\n",
       "      <th>max</th>\n",
       "    </tr>\n",
       "    <tr>\n",
       "      <th>transaction_year</th>\n",
       "      <th></th>\n",
       "      <th></th>\n",
       "      <th></th>\n",
       "      <th></th>\n",
       "      <th></th>\n",
       "      <th></th>\n",
       "      <th></th>\n",
       "      <th></th>\n",
       "    </tr>\n",
       "  </thead>\n",
       "  <tbody>\n",
       "    <tr>\n",
       "      <th>2012</th>\n",
       "      <td>126.0</td>\n",
       "      <td>36.304762</td>\n",
       "      <td>12.484915</td>\n",
       "      <td>11.6</td>\n",
       "      <td>25.975</td>\n",
       "      <td>37.60</td>\n",
       "      <td>45.375</td>\n",
       "      <td>71.0</td>\n",
       "    </tr>\n",
       "    <tr>\n",
       "      <th>2013</th>\n",
       "      <td>288.0</td>\n",
       "      <td>38.713194</td>\n",
       "      <td>14.026954</td>\n",
       "      <td>7.6</td>\n",
       "      <td>28.700</td>\n",
       "      <td>39.05</td>\n",
       "      <td>47.025</td>\n",
       "      <td>117.5</td>\n",
       "    </tr>\n",
       "  </tbody>\n",
       "</table>\n",
       "</div>"
      ],
      "text/plain": [
       "                  count       mean        std   min     25%    50%     75%  \\\n",
       "transaction_year                                                             \n",
       "2012              126.0  36.304762  12.484915  11.6  25.975  37.60  45.375   \n",
       "2013              288.0  38.713194  14.026954   7.6  28.700  39.05  47.025   \n",
       "\n",
       "                    max  \n",
       "transaction_year         \n",
       "2012               71.0  \n",
       "2013              117.5  "
      ]
     },
     "execution_count": 20,
     "metadata": {},
     "output_type": "execute_result"
    }
   ],
   "source": [
    "df.groupby(temporal_feature)[\"house_price_unit_area\"].describe()\n"
   ]
  },
  {
   "cell_type": "markdown",
   "metadata": {},
   "source": [
    "**OBSERVATION**\n",
    "\n",
    "- There are double data points in 2013 than 2012.\n",
    "- `house_price_unit_area` has increase by 1.5 units for 2013 compare to 2012.\n"
   ]
  },
  {
   "cell_type": "markdown",
   "metadata": {},
   "source": [
    "### Numerical Feature\n"
   ]
  },
  {
   "cell_type": "code",
   "execution_count": 21,
   "metadata": {},
   "outputs": [],
   "source": [
    "target = \"house_price_unit_area\"\n"
   ]
  },
  {
   "cell_type": "markdown",
   "metadata": {},
   "source": [
    "#### Discrete Feature\n"
   ]
  },
  {
   "cell_type": "code",
   "execution_count": 22,
   "metadata": {},
   "outputs": [
    {
     "data": {
      "text/plain": [
       "['n_conv_store', 'n_bedrooms']"
      ]
     },
     "execution_count": 22,
     "metadata": {},
     "output_type": "execute_result"
    }
   ],
   "source": [
    "discrete_feature = [col for col in df.columns if df[col].nunique() < 30 and col not in temporal_feature]\n",
    "discrete_feature\n"
   ]
  },
  {
   "cell_type": "code",
   "execution_count": 23,
   "metadata": {},
   "outputs": [
    {
     "data": {
      "application/vnd.plotly.v1+json": {
       "config": {
        "plotlyServerURL": "https://plot.ly"
       },
       "data": [
        {
         "alignmentgroup": "True",
         "hovertemplate": "variable=house_price_unit_area<br>n_conv_store=%{x}<br>value=%{y}<extra></extra>",
         "legendgroup": "house_price_unit_area",
         "marker": {
          "color": "#636efa",
          "pattern": {
           "shape": ""
          }
         },
         "name": "house_price_unit_area",
         "offsetgroup": "house_price_unit_area",
         "orientation": "v",
         "showlegend": true,
         "textposition": "auto",
         "type": "bar",
         "x": [
          0,
          1,
          2,
          3,
          4,
          5,
          6,
          7,
          8,
          9,
          10
         ],
         "xaxis": "x",
         "y": [
          22.3,
          28.7,
          30.65,
          28.25,
          37.4,
          44.5,
          45.7,
          42,
          42.75,
          50.8,
          47.55
         ],
         "yaxis": "y"
        }
       ],
       "layout": {
        "barmode": "relative",
        "legend": {
         "title": {
          "text": "variable"
         },
         "tracegroupgap": 0
        },
        "margin": {
         "t": 60
        },
        "showlegend": false,
        "template": {
         "data": {
          "bar": [
           {
            "error_x": {
             "color": "#f2f5fa"
            },
            "error_y": {
             "color": "#f2f5fa"
            },
            "marker": {
             "line": {
              "color": "rgb(17,17,17)",
              "width": 0.5
             },
             "pattern": {
              "fillmode": "overlay",
              "size": 10,
              "solidity": 0.2
             }
            },
            "type": "bar"
           }
          ],
          "barpolar": [
           {
            "marker": {
             "line": {
              "color": "rgb(17,17,17)",
              "width": 0.5
             },
             "pattern": {
              "fillmode": "overlay",
              "size": 10,
              "solidity": 0.2
             }
            },
            "type": "barpolar"
           }
          ],
          "carpet": [
           {
            "aaxis": {
             "endlinecolor": "#A2B1C6",
             "gridcolor": "#506784",
             "linecolor": "#506784",
             "minorgridcolor": "#506784",
             "startlinecolor": "#A2B1C6"
            },
            "baxis": {
             "endlinecolor": "#A2B1C6",
             "gridcolor": "#506784",
             "linecolor": "#506784",
             "minorgridcolor": "#506784",
             "startlinecolor": "#A2B1C6"
            },
            "type": "carpet"
           }
          ],
          "choropleth": [
           {
            "colorbar": {
             "outlinewidth": 0,
             "ticks": ""
            },
            "type": "choropleth"
           }
          ],
          "contour": [
           {
            "colorbar": {
             "outlinewidth": 0,
             "ticks": ""
            },
            "colorscale": [
             [
              0,
              "#0d0887"
             ],
             [
              0.1111111111111111,
              "#46039f"
             ],
             [
              0.2222222222222222,
              "#7201a8"
             ],
             [
              0.3333333333333333,
              "#9c179e"
             ],
             [
              0.4444444444444444,
              "#bd3786"
             ],
             [
              0.5555555555555556,
              "#d8576b"
             ],
             [
              0.6666666666666666,
              "#ed7953"
             ],
             [
              0.7777777777777778,
              "#fb9f3a"
             ],
             [
              0.8888888888888888,
              "#fdca26"
             ],
             [
              1,
              "#f0f921"
             ]
            ],
            "type": "contour"
           }
          ],
          "contourcarpet": [
           {
            "colorbar": {
             "outlinewidth": 0,
             "ticks": ""
            },
            "type": "contourcarpet"
           }
          ],
          "heatmap": [
           {
            "colorbar": {
             "outlinewidth": 0,
             "ticks": ""
            },
            "colorscale": [
             [
              0,
              "#0d0887"
             ],
             [
              0.1111111111111111,
              "#46039f"
             ],
             [
              0.2222222222222222,
              "#7201a8"
             ],
             [
              0.3333333333333333,
              "#9c179e"
             ],
             [
              0.4444444444444444,
              "#bd3786"
             ],
             [
              0.5555555555555556,
              "#d8576b"
             ],
             [
              0.6666666666666666,
              "#ed7953"
             ],
             [
              0.7777777777777778,
              "#fb9f3a"
             ],
             [
              0.8888888888888888,
              "#fdca26"
             ],
             [
              1,
              "#f0f921"
             ]
            ],
            "type": "heatmap"
           }
          ],
          "heatmapgl": [
           {
            "colorbar": {
             "outlinewidth": 0,
             "ticks": ""
            },
            "colorscale": [
             [
              0,
              "#0d0887"
             ],
             [
              0.1111111111111111,
              "#46039f"
             ],
             [
              0.2222222222222222,
              "#7201a8"
             ],
             [
              0.3333333333333333,
              "#9c179e"
             ],
             [
              0.4444444444444444,
              "#bd3786"
             ],
             [
              0.5555555555555556,
              "#d8576b"
             ],
             [
              0.6666666666666666,
              "#ed7953"
             ],
             [
              0.7777777777777778,
              "#fb9f3a"
             ],
             [
              0.8888888888888888,
              "#fdca26"
             ],
             [
              1,
              "#f0f921"
             ]
            ],
            "type": "heatmapgl"
           }
          ],
          "histogram": [
           {
            "marker": {
             "pattern": {
              "fillmode": "overlay",
              "size": 10,
              "solidity": 0.2
             }
            },
            "type": "histogram"
           }
          ],
          "histogram2d": [
           {
            "colorbar": {
             "outlinewidth": 0,
             "ticks": ""
            },
            "colorscale": [
             [
              0,
              "#0d0887"
             ],
             [
              0.1111111111111111,
              "#46039f"
             ],
             [
              0.2222222222222222,
              "#7201a8"
             ],
             [
              0.3333333333333333,
              "#9c179e"
             ],
             [
              0.4444444444444444,
              "#bd3786"
             ],
             [
              0.5555555555555556,
              "#d8576b"
             ],
             [
              0.6666666666666666,
              "#ed7953"
             ],
             [
              0.7777777777777778,
              "#fb9f3a"
             ],
             [
              0.8888888888888888,
              "#fdca26"
             ],
             [
              1,
              "#f0f921"
             ]
            ],
            "type": "histogram2d"
           }
          ],
          "histogram2dcontour": [
           {
            "colorbar": {
             "outlinewidth": 0,
             "ticks": ""
            },
            "colorscale": [
             [
              0,
              "#0d0887"
             ],
             [
              0.1111111111111111,
              "#46039f"
             ],
             [
              0.2222222222222222,
              "#7201a8"
             ],
             [
              0.3333333333333333,
              "#9c179e"
             ],
             [
              0.4444444444444444,
              "#bd3786"
             ],
             [
              0.5555555555555556,
              "#d8576b"
             ],
             [
              0.6666666666666666,
              "#ed7953"
             ],
             [
              0.7777777777777778,
              "#fb9f3a"
             ],
             [
              0.8888888888888888,
              "#fdca26"
             ],
             [
              1,
              "#f0f921"
             ]
            ],
            "type": "histogram2dcontour"
           }
          ],
          "mesh3d": [
           {
            "colorbar": {
             "outlinewidth": 0,
             "ticks": ""
            },
            "type": "mesh3d"
           }
          ],
          "parcoords": [
           {
            "line": {
             "colorbar": {
              "outlinewidth": 0,
              "ticks": ""
             }
            },
            "type": "parcoords"
           }
          ],
          "pie": [
           {
            "automargin": true,
            "type": "pie"
           }
          ],
          "scatter": [
           {
            "marker": {
             "line": {
              "color": "#283442"
             }
            },
            "type": "scatter"
           }
          ],
          "scatter3d": [
           {
            "line": {
             "colorbar": {
              "outlinewidth": 0,
              "ticks": ""
             }
            },
            "marker": {
             "colorbar": {
              "outlinewidth": 0,
              "ticks": ""
             }
            },
            "type": "scatter3d"
           }
          ],
          "scattercarpet": [
           {
            "marker": {
             "colorbar": {
              "outlinewidth": 0,
              "ticks": ""
             }
            },
            "type": "scattercarpet"
           }
          ],
          "scattergeo": [
           {
            "marker": {
             "colorbar": {
              "outlinewidth": 0,
              "ticks": ""
             }
            },
            "type": "scattergeo"
           }
          ],
          "scattergl": [
           {
            "marker": {
             "line": {
              "color": "#283442"
             }
            },
            "type": "scattergl"
           }
          ],
          "scattermapbox": [
           {
            "marker": {
             "colorbar": {
              "outlinewidth": 0,
              "ticks": ""
             }
            },
            "type": "scattermapbox"
           }
          ],
          "scatterpolar": [
           {
            "marker": {
             "colorbar": {
              "outlinewidth": 0,
              "ticks": ""
             }
            },
            "type": "scatterpolar"
           }
          ],
          "scatterpolargl": [
           {
            "marker": {
             "colorbar": {
              "outlinewidth": 0,
              "ticks": ""
             }
            },
            "type": "scatterpolargl"
           }
          ],
          "scatterternary": [
           {
            "marker": {
             "colorbar": {
              "outlinewidth": 0,
              "ticks": ""
             }
            },
            "type": "scatterternary"
           }
          ],
          "surface": [
           {
            "colorbar": {
             "outlinewidth": 0,
             "ticks": ""
            },
            "colorscale": [
             [
              0,
              "#0d0887"
             ],
             [
              0.1111111111111111,
              "#46039f"
             ],
             [
              0.2222222222222222,
              "#7201a8"
             ],
             [
              0.3333333333333333,
              "#9c179e"
             ],
             [
              0.4444444444444444,
              "#bd3786"
             ],
             [
              0.5555555555555556,
              "#d8576b"
             ],
             [
              0.6666666666666666,
              "#ed7953"
             ],
             [
              0.7777777777777778,
              "#fb9f3a"
             ],
             [
              0.8888888888888888,
              "#fdca26"
             ],
             [
              1,
              "#f0f921"
             ]
            ],
            "type": "surface"
           }
          ],
          "table": [
           {
            "cells": {
             "fill": {
              "color": "#506784"
             },
             "line": {
              "color": "rgb(17,17,17)"
             }
            },
            "header": {
             "fill": {
              "color": "#2a3f5f"
             },
             "line": {
              "color": "rgb(17,17,17)"
             }
            },
            "type": "table"
           }
          ]
         },
         "layout": {
          "annotationdefaults": {
           "arrowcolor": "#f2f5fa",
           "arrowhead": 0,
           "arrowwidth": 1
          },
          "autotypenumbers": "strict",
          "coloraxis": {
           "colorbar": {
            "outlinewidth": 0,
            "ticks": ""
           }
          },
          "colorscale": {
           "diverging": [
            [
             0,
             "#8e0152"
            ],
            [
             0.1,
             "#c51b7d"
            ],
            [
             0.2,
             "#de77ae"
            ],
            [
             0.3,
             "#f1b6da"
            ],
            [
             0.4,
             "#fde0ef"
            ],
            [
             0.5,
             "#f7f7f7"
            ],
            [
             0.6,
             "#e6f5d0"
            ],
            [
             0.7,
             "#b8e186"
            ],
            [
             0.8,
             "#7fbc41"
            ],
            [
             0.9,
             "#4d9221"
            ],
            [
             1,
             "#276419"
            ]
           ],
           "sequential": [
            [
             0,
             "#0d0887"
            ],
            [
             0.1111111111111111,
             "#46039f"
            ],
            [
             0.2222222222222222,
             "#7201a8"
            ],
            [
             0.3333333333333333,
             "#9c179e"
            ],
            [
             0.4444444444444444,
             "#bd3786"
            ],
            [
             0.5555555555555556,
             "#d8576b"
            ],
            [
             0.6666666666666666,
             "#ed7953"
            ],
            [
             0.7777777777777778,
             "#fb9f3a"
            ],
            [
             0.8888888888888888,
             "#fdca26"
            ],
            [
             1,
             "#f0f921"
            ]
           ],
           "sequentialminus": [
            [
             0,
             "#0d0887"
            ],
            [
             0.1111111111111111,
             "#46039f"
            ],
            [
             0.2222222222222222,
             "#7201a8"
            ],
            [
             0.3333333333333333,
             "#9c179e"
            ],
            [
             0.4444444444444444,
             "#bd3786"
            ],
            [
             0.5555555555555556,
             "#d8576b"
            ],
            [
             0.6666666666666666,
             "#ed7953"
            ],
            [
             0.7777777777777778,
             "#fb9f3a"
            ],
            [
             0.8888888888888888,
             "#fdca26"
            ],
            [
             1,
             "#f0f921"
            ]
           ]
          },
          "colorway": [
           "#636efa",
           "#EF553B",
           "#00cc96",
           "#ab63fa",
           "#FFA15A",
           "#19d3f3",
           "#FF6692",
           "#B6E880",
           "#FF97FF",
           "#FECB52"
          ],
          "font": {
           "color": "#f2f5fa"
          },
          "geo": {
           "bgcolor": "rgb(17,17,17)",
           "lakecolor": "rgb(17,17,17)",
           "landcolor": "rgb(17,17,17)",
           "showlakes": true,
           "showland": true,
           "subunitcolor": "#506784"
          },
          "hoverlabel": {
           "align": "left"
          },
          "hovermode": "closest",
          "mapbox": {
           "style": "dark"
          },
          "paper_bgcolor": "rgb(17,17,17)",
          "plot_bgcolor": "rgb(17,17,17)",
          "polar": {
           "angularaxis": {
            "gridcolor": "#506784",
            "linecolor": "#506784",
            "ticks": ""
           },
           "bgcolor": "rgb(17,17,17)",
           "radialaxis": {
            "gridcolor": "#506784",
            "linecolor": "#506784",
            "ticks": ""
           }
          },
          "scene": {
           "xaxis": {
            "backgroundcolor": "rgb(17,17,17)",
            "gridcolor": "#506784",
            "gridwidth": 2,
            "linecolor": "#506784",
            "showbackground": true,
            "ticks": "",
            "zerolinecolor": "#C8D4E3"
           },
           "yaxis": {
            "backgroundcolor": "rgb(17,17,17)",
            "gridcolor": "#506784",
            "gridwidth": 2,
            "linecolor": "#506784",
            "showbackground": true,
            "ticks": "",
            "zerolinecolor": "#C8D4E3"
           },
           "zaxis": {
            "backgroundcolor": "rgb(17,17,17)",
            "gridcolor": "#506784",
            "gridwidth": 2,
            "linecolor": "#506784",
            "showbackground": true,
            "ticks": "",
            "zerolinecolor": "#C8D4E3"
           }
          },
          "shapedefaults": {
           "line": {
            "color": "#f2f5fa"
           }
          },
          "sliderdefaults": {
           "bgcolor": "#C8D4E3",
           "bordercolor": "rgb(17,17,17)",
           "borderwidth": 1,
           "tickwidth": 0
          },
          "ternary": {
           "aaxis": {
            "gridcolor": "#506784",
            "linecolor": "#506784",
            "ticks": ""
           },
           "baxis": {
            "gridcolor": "#506784",
            "linecolor": "#506784",
            "ticks": ""
           },
           "bgcolor": "rgb(17,17,17)",
           "caxis": {
            "gridcolor": "#506784",
            "linecolor": "#506784",
            "ticks": ""
           }
          },
          "title": {
           "x": 0.05
          },
          "updatemenudefaults": {
           "bgcolor": "#506784",
           "borderwidth": 0
          },
          "xaxis": {
           "automargin": true,
           "gridcolor": "#283442",
           "linecolor": "#506784",
           "ticks": "",
           "title": {
            "standoff": 15
           },
           "zerolinecolor": "#283442",
           "zerolinewidth": 2
          },
          "yaxis": {
           "automargin": true,
           "gridcolor": "#283442",
           "linecolor": "#506784",
           "ticks": "",
           "title": {
            "standoff": 15
           },
           "zerolinecolor": "#283442",
           "zerolinewidth": 2
          }
         }
        },
        "xaxis": {
         "anchor": "y",
         "domain": [
          0,
          1
         ],
         "title": {
          "text": "n_conv_store"
         }
        },
        "yaxis": {
         "anchor": "x",
         "domain": [
          0,
          1
         ],
         "title": {
          "text": "house_price_unit_area"
         }
        }
       }
      }
     },
     "metadata": {},
     "output_type": "display_data"
    },
    {
     "data": {
      "application/vnd.plotly.v1+json": {
       "config": {
        "plotlyServerURL": "https://plot.ly"
       },
       "data": [
        {
         "alignmentgroup": "True",
         "hovertemplate": "variable=house_price_unit_area<br>n_bedrooms=%{x}<br>value=%{y}<extra></extra>",
         "legendgroup": "house_price_unit_area",
         "marker": {
          "color": "#636efa",
          "pattern": {
           "shape": ""
          }
         },
         "name": "house_price_unit_area",
         "offsetgroup": "house_price_unit_area",
         "orientation": "v",
         "showlegend": true,
         "textposition": "auto",
         "type": "bar",
         "x": [
          1,
          2,
          3
         ],
         "xaxis": "x",
         "y": [
          37.5,
          38.1,
          40.4
         ],
         "yaxis": "y"
        }
       ],
       "layout": {
        "barmode": "relative",
        "legend": {
         "title": {
          "text": "variable"
         },
         "tracegroupgap": 0
        },
        "margin": {
         "t": 60
        },
        "showlegend": false,
        "template": {
         "data": {
          "bar": [
           {
            "error_x": {
             "color": "#f2f5fa"
            },
            "error_y": {
             "color": "#f2f5fa"
            },
            "marker": {
             "line": {
              "color": "rgb(17,17,17)",
              "width": 0.5
             },
             "pattern": {
              "fillmode": "overlay",
              "size": 10,
              "solidity": 0.2
             }
            },
            "type": "bar"
           }
          ],
          "barpolar": [
           {
            "marker": {
             "line": {
              "color": "rgb(17,17,17)",
              "width": 0.5
             },
             "pattern": {
              "fillmode": "overlay",
              "size": 10,
              "solidity": 0.2
             }
            },
            "type": "barpolar"
           }
          ],
          "carpet": [
           {
            "aaxis": {
             "endlinecolor": "#A2B1C6",
             "gridcolor": "#506784",
             "linecolor": "#506784",
             "minorgridcolor": "#506784",
             "startlinecolor": "#A2B1C6"
            },
            "baxis": {
             "endlinecolor": "#A2B1C6",
             "gridcolor": "#506784",
             "linecolor": "#506784",
             "minorgridcolor": "#506784",
             "startlinecolor": "#A2B1C6"
            },
            "type": "carpet"
           }
          ],
          "choropleth": [
           {
            "colorbar": {
             "outlinewidth": 0,
             "ticks": ""
            },
            "type": "choropleth"
           }
          ],
          "contour": [
           {
            "colorbar": {
             "outlinewidth": 0,
             "ticks": ""
            },
            "colorscale": [
             [
              0,
              "#0d0887"
             ],
             [
              0.1111111111111111,
              "#46039f"
             ],
             [
              0.2222222222222222,
              "#7201a8"
             ],
             [
              0.3333333333333333,
              "#9c179e"
             ],
             [
              0.4444444444444444,
              "#bd3786"
             ],
             [
              0.5555555555555556,
              "#d8576b"
             ],
             [
              0.6666666666666666,
              "#ed7953"
             ],
             [
              0.7777777777777778,
              "#fb9f3a"
             ],
             [
              0.8888888888888888,
              "#fdca26"
             ],
             [
              1,
              "#f0f921"
             ]
            ],
            "type": "contour"
           }
          ],
          "contourcarpet": [
           {
            "colorbar": {
             "outlinewidth": 0,
             "ticks": ""
            },
            "type": "contourcarpet"
           }
          ],
          "heatmap": [
           {
            "colorbar": {
             "outlinewidth": 0,
             "ticks": ""
            },
            "colorscale": [
             [
              0,
              "#0d0887"
             ],
             [
              0.1111111111111111,
              "#46039f"
             ],
             [
              0.2222222222222222,
              "#7201a8"
             ],
             [
              0.3333333333333333,
              "#9c179e"
             ],
             [
              0.4444444444444444,
              "#bd3786"
             ],
             [
              0.5555555555555556,
              "#d8576b"
             ],
             [
              0.6666666666666666,
              "#ed7953"
             ],
             [
              0.7777777777777778,
              "#fb9f3a"
             ],
             [
              0.8888888888888888,
              "#fdca26"
             ],
             [
              1,
              "#f0f921"
             ]
            ],
            "type": "heatmap"
           }
          ],
          "heatmapgl": [
           {
            "colorbar": {
             "outlinewidth": 0,
             "ticks": ""
            },
            "colorscale": [
             [
              0,
              "#0d0887"
             ],
             [
              0.1111111111111111,
              "#46039f"
             ],
             [
              0.2222222222222222,
              "#7201a8"
             ],
             [
              0.3333333333333333,
              "#9c179e"
             ],
             [
              0.4444444444444444,
              "#bd3786"
             ],
             [
              0.5555555555555556,
              "#d8576b"
             ],
             [
              0.6666666666666666,
              "#ed7953"
             ],
             [
              0.7777777777777778,
              "#fb9f3a"
             ],
             [
              0.8888888888888888,
              "#fdca26"
             ],
             [
              1,
              "#f0f921"
             ]
            ],
            "type": "heatmapgl"
           }
          ],
          "histogram": [
           {
            "marker": {
             "pattern": {
              "fillmode": "overlay",
              "size": 10,
              "solidity": 0.2
             }
            },
            "type": "histogram"
           }
          ],
          "histogram2d": [
           {
            "colorbar": {
             "outlinewidth": 0,
             "ticks": ""
            },
            "colorscale": [
             [
              0,
              "#0d0887"
             ],
             [
              0.1111111111111111,
              "#46039f"
             ],
             [
              0.2222222222222222,
              "#7201a8"
             ],
             [
              0.3333333333333333,
              "#9c179e"
             ],
             [
              0.4444444444444444,
              "#bd3786"
             ],
             [
              0.5555555555555556,
              "#d8576b"
             ],
             [
              0.6666666666666666,
              "#ed7953"
             ],
             [
              0.7777777777777778,
              "#fb9f3a"
             ],
             [
              0.8888888888888888,
              "#fdca26"
             ],
             [
              1,
              "#f0f921"
             ]
            ],
            "type": "histogram2d"
           }
          ],
          "histogram2dcontour": [
           {
            "colorbar": {
             "outlinewidth": 0,
             "ticks": ""
            },
            "colorscale": [
             [
              0,
              "#0d0887"
             ],
             [
              0.1111111111111111,
              "#46039f"
             ],
             [
              0.2222222222222222,
              "#7201a8"
             ],
             [
              0.3333333333333333,
              "#9c179e"
             ],
             [
              0.4444444444444444,
              "#bd3786"
             ],
             [
              0.5555555555555556,
              "#d8576b"
             ],
             [
              0.6666666666666666,
              "#ed7953"
             ],
             [
              0.7777777777777778,
              "#fb9f3a"
             ],
             [
              0.8888888888888888,
              "#fdca26"
             ],
             [
              1,
              "#f0f921"
             ]
            ],
            "type": "histogram2dcontour"
           }
          ],
          "mesh3d": [
           {
            "colorbar": {
             "outlinewidth": 0,
             "ticks": ""
            },
            "type": "mesh3d"
           }
          ],
          "parcoords": [
           {
            "line": {
             "colorbar": {
              "outlinewidth": 0,
              "ticks": ""
             }
            },
            "type": "parcoords"
           }
          ],
          "pie": [
           {
            "automargin": true,
            "type": "pie"
           }
          ],
          "scatter": [
           {
            "marker": {
             "line": {
              "color": "#283442"
             }
            },
            "type": "scatter"
           }
          ],
          "scatter3d": [
           {
            "line": {
             "colorbar": {
              "outlinewidth": 0,
              "ticks": ""
             }
            },
            "marker": {
             "colorbar": {
              "outlinewidth": 0,
              "ticks": ""
             }
            },
            "type": "scatter3d"
           }
          ],
          "scattercarpet": [
           {
            "marker": {
             "colorbar": {
              "outlinewidth": 0,
              "ticks": ""
             }
            },
            "type": "scattercarpet"
           }
          ],
          "scattergeo": [
           {
            "marker": {
             "colorbar": {
              "outlinewidth": 0,
              "ticks": ""
             }
            },
            "type": "scattergeo"
           }
          ],
          "scattergl": [
           {
            "marker": {
             "line": {
              "color": "#283442"
             }
            },
            "type": "scattergl"
           }
          ],
          "scattermapbox": [
           {
            "marker": {
             "colorbar": {
              "outlinewidth": 0,
              "ticks": ""
             }
            },
            "type": "scattermapbox"
           }
          ],
          "scatterpolar": [
           {
            "marker": {
             "colorbar": {
              "outlinewidth": 0,
              "ticks": ""
             }
            },
            "type": "scatterpolar"
           }
          ],
          "scatterpolargl": [
           {
            "marker": {
             "colorbar": {
              "outlinewidth": 0,
              "ticks": ""
             }
            },
            "type": "scatterpolargl"
           }
          ],
          "scatterternary": [
           {
            "marker": {
             "colorbar": {
              "outlinewidth": 0,
              "ticks": ""
             }
            },
            "type": "scatterternary"
           }
          ],
          "surface": [
           {
            "colorbar": {
             "outlinewidth": 0,
             "ticks": ""
            },
            "colorscale": [
             [
              0,
              "#0d0887"
             ],
             [
              0.1111111111111111,
              "#46039f"
             ],
             [
              0.2222222222222222,
              "#7201a8"
             ],
             [
              0.3333333333333333,
              "#9c179e"
             ],
             [
              0.4444444444444444,
              "#bd3786"
             ],
             [
              0.5555555555555556,
              "#d8576b"
             ],
             [
              0.6666666666666666,
              "#ed7953"
             ],
             [
              0.7777777777777778,
              "#fb9f3a"
             ],
             [
              0.8888888888888888,
              "#fdca26"
             ],
             [
              1,
              "#f0f921"
             ]
            ],
            "type": "surface"
           }
          ],
          "table": [
           {
            "cells": {
             "fill": {
              "color": "#506784"
             },
             "line": {
              "color": "rgb(17,17,17)"
             }
            },
            "header": {
             "fill": {
              "color": "#2a3f5f"
             },
             "line": {
              "color": "rgb(17,17,17)"
             }
            },
            "type": "table"
           }
          ]
         },
         "layout": {
          "annotationdefaults": {
           "arrowcolor": "#f2f5fa",
           "arrowhead": 0,
           "arrowwidth": 1
          },
          "autotypenumbers": "strict",
          "coloraxis": {
           "colorbar": {
            "outlinewidth": 0,
            "ticks": ""
           }
          },
          "colorscale": {
           "diverging": [
            [
             0,
             "#8e0152"
            ],
            [
             0.1,
             "#c51b7d"
            ],
            [
             0.2,
             "#de77ae"
            ],
            [
             0.3,
             "#f1b6da"
            ],
            [
             0.4,
             "#fde0ef"
            ],
            [
             0.5,
             "#f7f7f7"
            ],
            [
             0.6,
             "#e6f5d0"
            ],
            [
             0.7,
             "#b8e186"
            ],
            [
             0.8,
             "#7fbc41"
            ],
            [
             0.9,
             "#4d9221"
            ],
            [
             1,
             "#276419"
            ]
           ],
           "sequential": [
            [
             0,
             "#0d0887"
            ],
            [
             0.1111111111111111,
             "#46039f"
            ],
            [
             0.2222222222222222,
             "#7201a8"
            ],
            [
             0.3333333333333333,
             "#9c179e"
            ],
            [
             0.4444444444444444,
             "#bd3786"
            ],
            [
             0.5555555555555556,
             "#d8576b"
            ],
            [
             0.6666666666666666,
             "#ed7953"
            ],
            [
             0.7777777777777778,
             "#fb9f3a"
            ],
            [
             0.8888888888888888,
             "#fdca26"
            ],
            [
             1,
             "#f0f921"
            ]
           ],
           "sequentialminus": [
            [
             0,
             "#0d0887"
            ],
            [
             0.1111111111111111,
             "#46039f"
            ],
            [
             0.2222222222222222,
             "#7201a8"
            ],
            [
             0.3333333333333333,
             "#9c179e"
            ],
            [
             0.4444444444444444,
             "#bd3786"
            ],
            [
             0.5555555555555556,
             "#d8576b"
            ],
            [
             0.6666666666666666,
             "#ed7953"
            ],
            [
             0.7777777777777778,
             "#fb9f3a"
            ],
            [
             0.8888888888888888,
             "#fdca26"
            ],
            [
             1,
             "#f0f921"
            ]
           ]
          },
          "colorway": [
           "#636efa",
           "#EF553B",
           "#00cc96",
           "#ab63fa",
           "#FFA15A",
           "#19d3f3",
           "#FF6692",
           "#B6E880",
           "#FF97FF",
           "#FECB52"
          ],
          "font": {
           "color": "#f2f5fa"
          },
          "geo": {
           "bgcolor": "rgb(17,17,17)",
           "lakecolor": "rgb(17,17,17)",
           "landcolor": "rgb(17,17,17)",
           "showlakes": true,
           "showland": true,
           "subunitcolor": "#506784"
          },
          "hoverlabel": {
           "align": "left"
          },
          "hovermode": "closest",
          "mapbox": {
           "style": "dark"
          },
          "paper_bgcolor": "rgb(17,17,17)",
          "plot_bgcolor": "rgb(17,17,17)",
          "polar": {
           "angularaxis": {
            "gridcolor": "#506784",
            "linecolor": "#506784",
            "ticks": ""
           },
           "bgcolor": "rgb(17,17,17)",
           "radialaxis": {
            "gridcolor": "#506784",
            "linecolor": "#506784",
            "ticks": ""
           }
          },
          "scene": {
           "xaxis": {
            "backgroundcolor": "rgb(17,17,17)",
            "gridcolor": "#506784",
            "gridwidth": 2,
            "linecolor": "#506784",
            "showbackground": true,
            "ticks": "",
            "zerolinecolor": "#C8D4E3"
           },
           "yaxis": {
            "backgroundcolor": "rgb(17,17,17)",
            "gridcolor": "#506784",
            "gridwidth": 2,
            "linecolor": "#506784",
            "showbackground": true,
            "ticks": "",
            "zerolinecolor": "#C8D4E3"
           },
           "zaxis": {
            "backgroundcolor": "rgb(17,17,17)",
            "gridcolor": "#506784",
            "gridwidth": 2,
            "linecolor": "#506784",
            "showbackground": true,
            "ticks": "",
            "zerolinecolor": "#C8D4E3"
           }
          },
          "shapedefaults": {
           "line": {
            "color": "#f2f5fa"
           }
          },
          "sliderdefaults": {
           "bgcolor": "#C8D4E3",
           "bordercolor": "rgb(17,17,17)",
           "borderwidth": 1,
           "tickwidth": 0
          },
          "ternary": {
           "aaxis": {
            "gridcolor": "#506784",
            "linecolor": "#506784",
            "ticks": ""
           },
           "baxis": {
            "gridcolor": "#506784",
            "linecolor": "#506784",
            "ticks": ""
           },
           "bgcolor": "rgb(17,17,17)",
           "caxis": {
            "gridcolor": "#506784",
            "linecolor": "#506784",
            "ticks": ""
           }
          },
          "title": {
           "x": 0.05
          },
          "updatemenudefaults": {
           "bgcolor": "#506784",
           "borderwidth": 0
          },
          "xaxis": {
           "automargin": true,
           "gridcolor": "#283442",
           "linecolor": "#506784",
           "ticks": "",
           "title": {
            "standoff": 15
           },
           "zerolinecolor": "#283442",
           "zerolinewidth": 2
          },
          "yaxis": {
           "automargin": true,
           "gridcolor": "#283442",
           "linecolor": "#506784",
           "ticks": "",
           "title": {
            "standoff": 15
           },
           "zerolinecolor": "#283442",
           "zerolinewidth": 2
          }
         }
        },
        "xaxis": {
         "anchor": "y",
         "domain": [
          0,
          1
         ],
         "title": {
          "text": "n_bedrooms"
         }
        },
        "yaxis": {
         "anchor": "x",
         "domain": [
          0,
          1
         ],
         "title": {
          "text": "house_price_unit_area"
         }
        }
       }
      }
     },
     "metadata": {},
     "output_type": "display_data"
    }
   ],
   "source": [
    "for feature in discrete_feature:\n",
    "    px.bar(\n",
    "        df.groupby(feature)[target].median(),\n",
    "    ).update_layout(showlegend=False, xaxis_title=feature, yaxis_title=\"house_price_unit_area\").show()\n"
   ]
  },
  {
   "cell_type": "markdown",
   "metadata": {},
   "source": [
    "**OBSERVATION**\n",
    "\n",
    "- `n_bedrooms` does not affect much on `house_price_unit_area`, same as seen in correlation plot.\n",
    "- As `n_conv_store` is increased `house_price_unit_area` is also increasing.\n"
   ]
  },
  {
   "cell_type": "markdown",
   "metadata": {},
   "source": [
    "#### Continuous Feature\n"
   ]
  },
  {
   "cell_type": "code",
   "execution_count": 24,
   "metadata": {},
   "outputs": [
    {
     "data": {
      "text/plain": [
       "['house_age', 'metro_dist', 'lat', 'long', 'house_size', 'transaction_year']"
      ]
     },
     "execution_count": 24,
     "metadata": {},
     "output_type": "execute_result"
    }
   ],
   "source": [
    "continuous_feature = [col for col in df.columns if col not in [*discrete_feature, target]]\n",
    "continuous_feature\n"
   ]
  },
  {
   "cell_type": "code",
   "execution_count": 25,
   "metadata": {},
   "outputs": [
    {
     "data": {
      "application/vnd.plotly.v1+json": {
       "config": {
        "plotlyServerURL": "https://plot.ly"
       },
       "data": [
        {
         "alignmentgroup": "True",
         "bingroup": "x",
         "hovertemplate": "variable=house_age<br>value=%{x}<br>count=%{y}<extra></extra>",
         "legendgroup": "house_age",
         "marker": {
          "color": "#636efa",
          "line": {
           "color": "white",
           "width": 0.5
          },
          "pattern": {
           "shape": ""
          }
         },
         "name": "house_age",
         "offsetgroup": "house_age",
         "orientation": "v",
         "showlegend": false,
         "type": "histogram",
         "x": [
          32,
          19.5,
          13.3,
          13.3,
          5,
          7.1,
          34.5,
          20.3,
          31.7,
          17.9,
          34.8,
          6.3,
          13,
          20.4,
          13.2,
          35.7,
          0,
          17.7,
          16.9,
          1.5,
          4.5,
          10.5,
          14.7,
          10.1,
          39.6,
          29.3,
          3.1,
          10.4,
          19.2,
          7.1,
          25.9,
          29.6,
          37.9,
          16.5,
          15.4,
          13.9,
          14.7,
          12,
          3.1,
          16.2,
          13.6,
          16.8,
          36.1,
          34.4,
          2.7,
          36.6,
          21.7,
          35.9,
          24.2,
          29.4,
          21.7,
          31.3,
          32.1,
          13.3,
          16.1,
          31.7,
          33.6,
          3.5,
          30.3,
          13.3,
          11,
          5.3,
          17.2,
          2.6,
          17.5,
          40.1,
          1,
          8.5,
          30.4,
          12.5,
          6.6,
          35.5,
          32.5,
          13.8,
          6.8,
          12.3,
          35.9,
          20.5,
          38.2,
          18,
          11.8,
          30.8,
          13.2,
          25.3,
          15.1,
          0,
          1.8,
          16.9,
          8.9,
          23,
          0,
          9.1,
          20.6,
          31.9,
          40.9,
          8,
          6.4,
          28.4,
          16.4,
          6.4,
          17.5,
          12.7,
          1.1,
          0,
          32.7,
          0,
          17.2,
          12.2,
          31.4,
          4,
          8.1,
          33.3,
          9.9,
          14.8,
          30.6,
          20.6,
          30.9,
          13.6,
          25.3,
          16.6,
          13.3,
          13.6,
          31.5,
          0,
          9.9,
          1.1,
          38.6,
          3.8,
          41.3,
          38.5,
          29.6,
          4,
          26.6,
          18,
          33.4,
          18.9,
          11.4,
          13.6,
          10,
          12.9,
          16.2,
          5.1,
          19.8,
          13.6,
          11.9,
          2.1,
          0,
          3.2,
          16.4,
          34.9,
          35.8,
          4.9,
          12,
          6.5,
          16.9,
          13.8,
          30.7,
          16.1,
          11.6,
          15.5,
          3.5,
          19.2,
          16,
          8.5,
          0,
          13.7,
          0,
          28.2,
          27.6,
          8.4,
          24,
          3.6,
          6.6,
          41.3,
          4.3,
          30.2,
          13.9,
          33,
          13.1,
          14,
          26.9,
          11.6,
          13.5,
          17,
          14.1,
          31.4,
          20.9,
          8.9,
          34.8,
          16.3,
          35.3,
          13.2,
          43.8,
          9.7,
          15.2,
          15.2,
          22.8,
          34.4,
          34,
          18.2,
          17.4,
          13.1,
          38.3,
          15.6,
          18,
          12.8,
          22.2,
          38.5,
          11.5,
          34.8,
          5.2,
          0,
          17.6,
          6.2,
          18.1,
          19.2,
          37.8,
          28,
          13.6,
          29.3,
          37.2,
          9,
          30.6,
          9.1,
          34.5,
          1.1,
          16.5,
          32.4,
          11.9,
          31,
          4,
          16.2,
          27.1,
          39.7,
          8,
          12.9,
          3.6,
          13,
          12.8,
          18.1,
          11,
          13.7,
          2,
          32.8,
          4.8,
          7.5,
          16.4,
          21.7,
          19,
          18,
          39.2,
          31.7,
          5.9,
          30.4,
          1.1,
          31.5,
          14.6,
          17.3,
          0,
          17.7,
          17,
          16.2,
          15.9,
          3.9,
          32.6,
          15.7,
          17.8,
          34.7,
          17.2,
          17.6,
          10.8,
          17.7,
          13,
          13.2,
          27.5,
          1.5,
          19.1,
          21.2,
          0,
          2.6,
          2.3,
          4.7,
          2,
          33.5,
          15,
          30.1,
          5.9,
          19.2,
          16.6,
          13.9,
          37.7,
          3.4,
          17.5,
          12.6,
          26.4,
          18.2,
          12.5,
          34.9,
          16.7,
          33.2,
          2.5,
          38,
          16.5,
          38.3,
          20,
          16.2,
          14.4,
          10.3,
          16.4,
          30.3,
          16.4,
          21.3,
          35.4,
          8.3,
          3.7,
          15.6,
          13.3,
          15.6,
          7.1,
          34.6,
          13.5,
          16.9,
          12.9,
          28.6,
          12.4,
          36.6,
          4.1,
          3.5,
          15.9,
          13.6,
          32,
          25.6,
          39.8,
          7.8,
          30,
          27.3,
          5.1,
          31.3,
          31.5,
          1.7,
          33.6,
          13,
          5.7,
          33.5,
          34.6,
          0,
          13.2,
          17.4,
          4.6,
          7.8,
          13.2,
          4,
          18.4,
          4.1,
          12.2,
          3.8,
          10.3,
          0,
          1.1,
          5.6,
          32.9,
          41.4,
          17.1,
          32.3,
          35.3,
          17.3,
          14.2,
          15,
          18.2,
          20.2,
          15.9,
          4.1,
          33.9,
          0,
          5.4,
          21.7,
          14.7,
          3.9,
          37.3,
          0,
          14.1,
          8,
          16.3,
          29.1,
          16.1,
          18.3,
          0,
          16.2,
          10.4,
          40.9,
          32.8,
          6.2,
          42.7,
          16.9,
          32.6,
          21.2,
          37.1,
          13.1,
          14.7,
          12.7,
          26.8,
          7.6,
          12.7,
          30.9,
          16.4,
          23,
          1.9,
          5.2,
          18.5,
          13.7,
          5.6,
          18.8,
          8.1,
          6.5
         ],
         "xaxis": "x",
         "yaxis": "y"
        },
        {
         "alignmentgroup": "True",
         "boxpoints": "all",
         "fillcolor": "rgba(255,255,255,0)",
         "hoveron": "points",
         "hovertemplate": "variable=house_age<br>value=%{x}<extra></extra>",
         "jitter": 0,
         "legendgroup": "house_age",
         "line": {
          "color": "rgba(255,255,255,0)"
         },
         "marker": {
          "color": "#636efa",
          "line": {
           "color": "white",
           "width": 0.5
          },
          "symbol": "line-ns-open"
         },
         "name": "house_age",
         "offsetgroup": "house_age",
         "showlegend": false,
         "type": "box",
         "x": [
          32,
          19.5,
          13.3,
          13.3,
          5,
          7.1,
          34.5,
          20.3,
          31.7,
          17.9,
          34.8,
          6.3,
          13,
          20.4,
          13.2,
          35.7,
          0,
          17.7,
          16.9,
          1.5,
          4.5,
          10.5,
          14.7,
          10.1,
          39.6,
          29.3,
          3.1,
          10.4,
          19.2,
          7.1,
          25.9,
          29.6,
          37.9,
          16.5,
          15.4,
          13.9,
          14.7,
          12,
          3.1,
          16.2,
          13.6,
          16.8,
          36.1,
          34.4,
          2.7,
          36.6,
          21.7,
          35.9,
          24.2,
          29.4,
          21.7,
          31.3,
          32.1,
          13.3,
          16.1,
          31.7,
          33.6,
          3.5,
          30.3,
          13.3,
          11,
          5.3,
          17.2,
          2.6,
          17.5,
          40.1,
          1,
          8.5,
          30.4,
          12.5,
          6.6,
          35.5,
          32.5,
          13.8,
          6.8,
          12.3,
          35.9,
          20.5,
          38.2,
          18,
          11.8,
          30.8,
          13.2,
          25.3,
          15.1,
          0,
          1.8,
          16.9,
          8.9,
          23,
          0,
          9.1,
          20.6,
          31.9,
          40.9,
          8,
          6.4,
          28.4,
          16.4,
          6.4,
          17.5,
          12.7,
          1.1,
          0,
          32.7,
          0,
          17.2,
          12.2,
          31.4,
          4,
          8.1,
          33.3,
          9.9,
          14.8,
          30.6,
          20.6,
          30.9,
          13.6,
          25.3,
          16.6,
          13.3,
          13.6,
          31.5,
          0,
          9.9,
          1.1,
          38.6,
          3.8,
          41.3,
          38.5,
          29.6,
          4,
          26.6,
          18,
          33.4,
          18.9,
          11.4,
          13.6,
          10,
          12.9,
          16.2,
          5.1,
          19.8,
          13.6,
          11.9,
          2.1,
          0,
          3.2,
          16.4,
          34.9,
          35.8,
          4.9,
          12,
          6.5,
          16.9,
          13.8,
          30.7,
          16.1,
          11.6,
          15.5,
          3.5,
          19.2,
          16,
          8.5,
          0,
          13.7,
          0,
          28.2,
          27.6,
          8.4,
          24,
          3.6,
          6.6,
          41.3,
          4.3,
          30.2,
          13.9,
          33,
          13.1,
          14,
          26.9,
          11.6,
          13.5,
          17,
          14.1,
          31.4,
          20.9,
          8.9,
          34.8,
          16.3,
          35.3,
          13.2,
          43.8,
          9.7,
          15.2,
          15.2,
          22.8,
          34.4,
          34,
          18.2,
          17.4,
          13.1,
          38.3,
          15.6,
          18,
          12.8,
          22.2,
          38.5,
          11.5,
          34.8,
          5.2,
          0,
          17.6,
          6.2,
          18.1,
          19.2,
          37.8,
          28,
          13.6,
          29.3,
          37.2,
          9,
          30.6,
          9.1,
          34.5,
          1.1,
          16.5,
          32.4,
          11.9,
          31,
          4,
          16.2,
          27.1,
          39.7,
          8,
          12.9,
          3.6,
          13,
          12.8,
          18.1,
          11,
          13.7,
          2,
          32.8,
          4.8,
          7.5,
          16.4,
          21.7,
          19,
          18,
          39.2,
          31.7,
          5.9,
          30.4,
          1.1,
          31.5,
          14.6,
          17.3,
          0,
          17.7,
          17,
          16.2,
          15.9,
          3.9,
          32.6,
          15.7,
          17.8,
          34.7,
          17.2,
          17.6,
          10.8,
          17.7,
          13,
          13.2,
          27.5,
          1.5,
          19.1,
          21.2,
          0,
          2.6,
          2.3,
          4.7,
          2,
          33.5,
          15,
          30.1,
          5.9,
          19.2,
          16.6,
          13.9,
          37.7,
          3.4,
          17.5,
          12.6,
          26.4,
          18.2,
          12.5,
          34.9,
          16.7,
          33.2,
          2.5,
          38,
          16.5,
          38.3,
          20,
          16.2,
          14.4,
          10.3,
          16.4,
          30.3,
          16.4,
          21.3,
          35.4,
          8.3,
          3.7,
          15.6,
          13.3,
          15.6,
          7.1,
          34.6,
          13.5,
          16.9,
          12.9,
          28.6,
          12.4,
          36.6,
          4.1,
          3.5,
          15.9,
          13.6,
          32,
          25.6,
          39.8,
          7.8,
          30,
          27.3,
          5.1,
          31.3,
          31.5,
          1.7,
          33.6,
          13,
          5.7,
          33.5,
          34.6,
          0,
          13.2,
          17.4,
          4.6,
          7.8,
          13.2,
          4,
          18.4,
          4.1,
          12.2,
          3.8,
          10.3,
          0,
          1.1,
          5.6,
          32.9,
          41.4,
          17.1,
          32.3,
          35.3,
          17.3,
          14.2,
          15,
          18.2,
          20.2,
          15.9,
          4.1,
          33.9,
          0,
          5.4,
          21.7,
          14.7,
          3.9,
          37.3,
          0,
          14.1,
          8,
          16.3,
          29.1,
          16.1,
          18.3,
          0,
          16.2,
          10.4,
          40.9,
          32.8,
          6.2,
          42.7,
          16.9,
          32.6,
          21.2,
          37.1,
          13.1,
          14.7,
          12.7,
          26.8,
          7.6,
          12.7,
          30.9,
          16.4,
          23,
          1.9,
          5.2,
          18.5,
          13.7,
          5.6,
          18.8,
          8.1,
          6.5
         ],
         "xaxis": "x2",
         "yaxis": "y2"
        }
       ],
       "layout": {
        "barmode": "relative",
        "legend": {
         "title": {
          "text": "variable"
         },
         "tracegroupgap": 0
        },
        "margin": {
         "t": 60
        },
        "template": {
         "data": {
          "bar": [
           {
            "error_x": {
             "color": "#f2f5fa"
            },
            "error_y": {
             "color": "#f2f5fa"
            },
            "marker": {
             "line": {
              "color": "rgb(17,17,17)",
              "width": 0.5
             },
             "pattern": {
              "fillmode": "overlay",
              "size": 10,
              "solidity": 0.2
             }
            },
            "type": "bar"
           }
          ],
          "barpolar": [
           {
            "marker": {
             "line": {
              "color": "rgb(17,17,17)",
              "width": 0.5
             },
             "pattern": {
              "fillmode": "overlay",
              "size": 10,
              "solidity": 0.2
             }
            },
            "type": "barpolar"
           }
          ],
          "carpet": [
           {
            "aaxis": {
             "endlinecolor": "#A2B1C6",
             "gridcolor": "#506784",
             "linecolor": "#506784",
             "minorgridcolor": "#506784",
             "startlinecolor": "#A2B1C6"
            },
            "baxis": {
             "endlinecolor": "#A2B1C6",
             "gridcolor": "#506784",
             "linecolor": "#506784",
             "minorgridcolor": "#506784",
             "startlinecolor": "#A2B1C6"
            },
            "type": "carpet"
           }
          ],
          "choropleth": [
           {
            "colorbar": {
             "outlinewidth": 0,
             "ticks": ""
            },
            "type": "choropleth"
           }
          ],
          "contour": [
           {
            "colorbar": {
             "outlinewidth": 0,
             "ticks": ""
            },
            "colorscale": [
             [
              0,
              "#0d0887"
             ],
             [
              0.1111111111111111,
              "#46039f"
             ],
             [
              0.2222222222222222,
              "#7201a8"
             ],
             [
              0.3333333333333333,
              "#9c179e"
             ],
             [
              0.4444444444444444,
              "#bd3786"
             ],
             [
              0.5555555555555556,
              "#d8576b"
             ],
             [
              0.6666666666666666,
              "#ed7953"
             ],
             [
              0.7777777777777778,
              "#fb9f3a"
             ],
             [
              0.8888888888888888,
              "#fdca26"
             ],
             [
              1,
              "#f0f921"
             ]
            ],
            "type": "contour"
           }
          ],
          "contourcarpet": [
           {
            "colorbar": {
             "outlinewidth": 0,
             "ticks": ""
            },
            "type": "contourcarpet"
           }
          ],
          "heatmap": [
           {
            "colorbar": {
             "outlinewidth": 0,
             "ticks": ""
            },
            "colorscale": [
             [
              0,
              "#0d0887"
             ],
             [
              0.1111111111111111,
              "#46039f"
             ],
             [
              0.2222222222222222,
              "#7201a8"
             ],
             [
              0.3333333333333333,
              "#9c179e"
             ],
             [
              0.4444444444444444,
              "#bd3786"
             ],
             [
              0.5555555555555556,
              "#d8576b"
             ],
             [
              0.6666666666666666,
              "#ed7953"
             ],
             [
              0.7777777777777778,
              "#fb9f3a"
             ],
             [
              0.8888888888888888,
              "#fdca26"
             ],
             [
              1,
              "#f0f921"
             ]
            ],
            "type": "heatmap"
           }
          ],
          "heatmapgl": [
           {
            "colorbar": {
             "outlinewidth": 0,
             "ticks": ""
            },
            "colorscale": [
             [
              0,
              "#0d0887"
             ],
             [
              0.1111111111111111,
              "#46039f"
             ],
             [
              0.2222222222222222,
              "#7201a8"
             ],
             [
              0.3333333333333333,
              "#9c179e"
             ],
             [
              0.4444444444444444,
              "#bd3786"
             ],
             [
              0.5555555555555556,
              "#d8576b"
             ],
             [
              0.6666666666666666,
              "#ed7953"
             ],
             [
              0.7777777777777778,
              "#fb9f3a"
             ],
             [
              0.8888888888888888,
              "#fdca26"
             ],
             [
              1,
              "#f0f921"
             ]
            ],
            "type": "heatmapgl"
           }
          ],
          "histogram": [
           {
            "marker": {
             "pattern": {
              "fillmode": "overlay",
              "size": 10,
              "solidity": 0.2
             }
            },
            "type": "histogram"
           }
          ],
          "histogram2d": [
           {
            "colorbar": {
             "outlinewidth": 0,
             "ticks": ""
            },
            "colorscale": [
             [
              0,
              "#0d0887"
             ],
             [
              0.1111111111111111,
              "#46039f"
             ],
             [
              0.2222222222222222,
              "#7201a8"
             ],
             [
              0.3333333333333333,
              "#9c179e"
             ],
             [
              0.4444444444444444,
              "#bd3786"
             ],
             [
              0.5555555555555556,
              "#d8576b"
             ],
             [
              0.6666666666666666,
              "#ed7953"
             ],
             [
              0.7777777777777778,
              "#fb9f3a"
             ],
             [
              0.8888888888888888,
              "#fdca26"
             ],
             [
              1,
              "#f0f921"
             ]
            ],
            "type": "histogram2d"
           }
          ],
          "histogram2dcontour": [
           {
            "colorbar": {
             "outlinewidth": 0,
             "ticks": ""
            },
            "colorscale": [
             [
              0,
              "#0d0887"
             ],
             [
              0.1111111111111111,
              "#46039f"
             ],
             [
              0.2222222222222222,
              "#7201a8"
             ],
             [
              0.3333333333333333,
              "#9c179e"
             ],
             [
              0.4444444444444444,
              "#bd3786"
             ],
             [
              0.5555555555555556,
              "#d8576b"
             ],
             [
              0.6666666666666666,
              "#ed7953"
             ],
             [
              0.7777777777777778,
              "#fb9f3a"
             ],
             [
              0.8888888888888888,
              "#fdca26"
             ],
             [
              1,
              "#f0f921"
             ]
            ],
            "type": "histogram2dcontour"
           }
          ],
          "mesh3d": [
           {
            "colorbar": {
             "outlinewidth": 0,
             "ticks": ""
            },
            "type": "mesh3d"
           }
          ],
          "parcoords": [
           {
            "line": {
             "colorbar": {
              "outlinewidth": 0,
              "ticks": ""
             }
            },
            "type": "parcoords"
           }
          ],
          "pie": [
           {
            "automargin": true,
            "type": "pie"
           }
          ],
          "scatter": [
           {
            "marker": {
             "line": {
              "color": "#283442"
             }
            },
            "type": "scatter"
           }
          ],
          "scatter3d": [
           {
            "line": {
             "colorbar": {
              "outlinewidth": 0,
              "ticks": ""
             }
            },
            "marker": {
             "colorbar": {
              "outlinewidth": 0,
              "ticks": ""
             }
            },
            "type": "scatter3d"
           }
          ],
          "scattercarpet": [
           {
            "marker": {
             "colorbar": {
              "outlinewidth": 0,
              "ticks": ""
             }
            },
            "type": "scattercarpet"
           }
          ],
          "scattergeo": [
           {
            "marker": {
             "colorbar": {
              "outlinewidth": 0,
              "ticks": ""
             }
            },
            "type": "scattergeo"
           }
          ],
          "scattergl": [
           {
            "marker": {
             "line": {
              "color": "#283442"
             }
            },
            "type": "scattergl"
           }
          ],
          "scattermapbox": [
           {
            "marker": {
             "colorbar": {
              "outlinewidth": 0,
              "ticks": ""
             }
            },
            "type": "scattermapbox"
           }
          ],
          "scatterpolar": [
           {
            "marker": {
             "colorbar": {
              "outlinewidth": 0,
              "ticks": ""
             }
            },
            "type": "scatterpolar"
           }
          ],
          "scatterpolargl": [
           {
            "marker": {
             "colorbar": {
              "outlinewidth": 0,
              "ticks": ""
             }
            },
            "type": "scatterpolargl"
           }
          ],
          "scatterternary": [
           {
            "marker": {
             "colorbar": {
              "outlinewidth": 0,
              "ticks": ""
             }
            },
            "type": "scatterternary"
           }
          ],
          "surface": [
           {
            "colorbar": {
             "outlinewidth": 0,
             "ticks": ""
            },
            "colorscale": [
             [
              0,
              "#0d0887"
             ],
             [
              0.1111111111111111,
              "#46039f"
             ],
             [
              0.2222222222222222,
              "#7201a8"
             ],
             [
              0.3333333333333333,
              "#9c179e"
             ],
             [
              0.4444444444444444,
              "#bd3786"
             ],
             [
              0.5555555555555556,
              "#d8576b"
             ],
             [
              0.6666666666666666,
              "#ed7953"
             ],
             [
              0.7777777777777778,
              "#fb9f3a"
             ],
             [
              0.8888888888888888,
              "#fdca26"
             ],
             [
              1,
              "#f0f921"
             ]
            ],
            "type": "surface"
           }
          ],
          "table": [
           {
            "cells": {
             "fill": {
              "color": "#506784"
             },
             "line": {
              "color": "rgb(17,17,17)"
             }
            },
            "header": {
             "fill": {
              "color": "#2a3f5f"
             },
             "line": {
              "color": "rgb(17,17,17)"
             }
            },
            "type": "table"
           }
          ]
         },
         "layout": {
          "annotationdefaults": {
           "arrowcolor": "#f2f5fa",
           "arrowhead": 0,
           "arrowwidth": 1
          },
          "autotypenumbers": "strict",
          "coloraxis": {
           "colorbar": {
            "outlinewidth": 0,
            "ticks": ""
           }
          },
          "colorscale": {
           "diverging": [
            [
             0,
             "#8e0152"
            ],
            [
             0.1,
             "#c51b7d"
            ],
            [
             0.2,
             "#de77ae"
            ],
            [
             0.3,
             "#f1b6da"
            ],
            [
             0.4,
             "#fde0ef"
            ],
            [
             0.5,
             "#f7f7f7"
            ],
            [
             0.6,
             "#e6f5d0"
            ],
            [
             0.7,
             "#b8e186"
            ],
            [
             0.8,
             "#7fbc41"
            ],
            [
             0.9,
             "#4d9221"
            ],
            [
             1,
             "#276419"
            ]
           ],
           "sequential": [
            [
             0,
             "#0d0887"
            ],
            [
             0.1111111111111111,
             "#46039f"
            ],
            [
             0.2222222222222222,
             "#7201a8"
            ],
            [
             0.3333333333333333,
             "#9c179e"
            ],
            [
             0.4444444444444444,
             "#bd3786"
            ],
            [
             0.5555555555555556,
             "#d8576b"
            ],
            [
             0.6666666666666666,
             "#ed7953"
            ],
            [
             0.7777777777777778,
             "#fb9f3a"
            ],
            [
             0.8888888888888888,
             "#fdca26"
            ],
            [
             1,
             "#f0f921"
            ]
           ],
           "sequentialminus": [
            [
             0,
             "#0d0887"
            ],
            [
             0.1111111111111111,
             "#46039f"
            ],
            [
             0.2222222222222222,
             "#7201a8"
            ],
            [
             0.3333333333333333,
             "#9c179e"
            ],
            [
             0.4444444444444444,
             "#bd3786"
            ],
            [
             0.5555555555555556,
             "#d8576b"
            ],
            [
             0.6666666666666666,
             "#ed7953"
            ],
            [
             0.7777777777777778,
             "#fb9f3a"
            ],
            [
             0.8888888888888888,
             "#fdca26"
            ],
            [
             1,
             "#f0f921"
            ]
           ]
          },
          "colorway": [
           "#636efa",
           "#EF553B",
           "#00cc96",
           "#ab63fa",
           "#FFA15A",
           "#19d3f3",
           "#FF6692",
           "#B6E880",
           "#FF97FF",
           "#FECB52"
          ],
          "font": {
           "color": "#f2f5fa"
          },
          "geo": {
           "bgcolor": "rgb(17,17,17)",
           "lakecolor": "rgb(17,17,17)",
           "landcolor": "rgb(17,17,17)",
           "showlakes": true,
           "showland": true,
           "subunitcolor": "#506784"
          },
          "hoverlabel": {
           "align": "left"
          },
          "hovermode": "closest",
          "mapbox": {
           "style": "dark"
          },
          "paper_bgcolor": "rgb(17,17,17)",
          "plot_bgcolor": "rgb(17,17,17)",
          "polar": {
           "angularaxis": {
            "gridcolor": "#506784",
            "linecolor": "#506784",
            "ticks": ""
           },
           "bgcolor": "rgb(17,17,17)",
           "radialaxis": {
            "gridcolor": "#506784",
            "linecolor": "#506784",
            "ticks": ""
           }
          },
          "scene": {
           "xaxis": {
            "backgroundcolor": "rgb(17,17,17)",
            "gridcolor": "#506784",
            "gridwidth": 2,
            "linecolor": "#506784",
            "showbackground": true,
            "ticks": "",
            "zerolinecolor": "#C8D4E3"
           },
           "yaxis": {
            "backgroundcolor": "rgb(17,17,17)",
            "gridcolor": "#506784",
            "gridwidth": 2,
            "linecolor": "#506784",
            "showbackground": true,
            "ticks": "",
            "zerolinecolor": "#C8D4E3"
           },
           "zaxis": {
            "backgroundcolor": "rgb(17,17,17)",
            "gridcolor": "#506784",
            "gridwidth": 2,
            "linecolor": "#506784",
            "showbackground": true,
            "ticks": "",
            "zerolinecolor": "#C8D4E3"
           }
          },
          "shapedefaults": {
           "line": {
            "color": "#f2f5fa"
           }
          },
          "sliderdefaults": {
           "bgcolor": "#C8D4E3",
           "bordercolor": "rgb(17,17,17)",
           "borderwidth": 1,
           "tickwidth": 0
          },
          "ternary": {
           "aaxis": {
            "gridcolor": "#506784",
            "linecolor": "#506784",
            "ticks": ""
           },
           "baxis": {
            "gridcolor": "#506784",
            "linecolor": "#506784",
            "ticks": ""
           },
           "bgcolor": "rgb(17,17,17)",
           "caxis": {
            "gridcolor": "#506784",
            "linecolor": "#506784",
            "ticks": ""
           }
          },
          "title": {
           "x": 0.05
          },
          "updatemenudefaults": {
           "bgcolor": "#506784",
           "borderwidth": 0
          },
          "xaxis": {
           "automargin": true,
           "gridcolor": "#283442",
           "linecolor": "#506784",
           "ticks": "",
           "title": {
            "standoff": 15
           },
           "zerolinecolor": "#283442",
           "zerolinewidth": 2
          },
          "yaxis": {
           "automargin": true,
           "gridcolor": "#283442",
           "linecolor": "#506784",
           "ticks": "",
           "title": {
            "standoff": 15
           },
           "zerolinecolor": "#283442",
           "zerolinewidth": 2
          }
         }
        },
        "xaxis": {
         "anchor": "y",
         "domain": [
          0,
          1
         ],
         "title": {
          "text": "house_price_unit_area"
         }
        },
        "xaxis2": {
         "anchor": "y2",
         "domain": [
          0,
          1
         ],
         "matches": "x",
         "showgrid": true,
         "showticklabels": false
        },
        "yaxis": {
         "anchor": "x",
         "domain": [
          0,
          0.7326
         ],
         "title": {
          "text": "house_age"
         }
        },
        "yaxis2": {
         "anchor": "x2",
         "domain": [
          0.7426,
          1
         ],
         "matches": "y2",
         "showgrid": false,
         "showline": false,
         "showticklabels": false,
         "ticks": ""
        }
       }
      }
     },
     "metadata": {},
     "output_type": "display_data"
    },
    {
     "data": {
      "application/vnd.plotly.v1+json": {
       "config": {
        "plotlyServerURL": "https://plot.ly"
       },
       "data": [
        {
         "alignmentgroup": "True",
         "bingroup": "x",
         "hovertemplate": "variable=metro_dist<br>value=%{x}<br>count=%{y}<extra></extra>",
         "legendgroup": "metro_dist",
         "marker": {
          "color": "#636efa",
          "line": {
           "color": "white",
           "width": 0.5
          },
          "pattern": {
           "shape": ""
          }
         },
         "name": "metro_dist",
         "offsetgroup": "metro_dist",
         "orientation": "v",
         "showlegend": false,
         "type": "histogram",
         "x": [
          84.87882,
          306.5947,
          561.9845,
          561.9845,
          390.5684,
          2175.03,
          623.4731,
          287.6025,
          5512.038,
          1783.18,
          405.2134,
          90.45606,
          492.2313,
          2469.645,
          1164.838,
          579.2083,
          292.9978,
          350.8515,
          368.1363,
          23.38284,
          2275.877,
          279.1726,
          1360.139,
          279.1726,
          480.6977,
          1487.868,
          383.8624,
          276.449,
          557.478,
          451.2438,
          4519.69,
          769.4034,
          488.5727,
          323.655,
          205.367,
          4079.418,
          1935.009,
          1360.139,
          577.9615,
          289.3248,
          4082.015,
          4066.587,
          519.4617,
          512.7871,
          533.4762,
          488.8193,
          463.9623,
          640.7391,
          4605.749,
          4510.359,
          512.5487,
          1758.406,
          1438.579,
          492.2313,
          289.3248,
          1160.632,
          371.2495,
          56.47425,
          4510.359,
          336.0532,
          1931.207,
          259.6607,
          2175.877,
          533.4762,
          995.7554,
          123.7429,
          193.5845,
          104.8101,
          464.223,
          561.9845,
          90.45606,
          640.7391,
          424.5442,
          4082.015,
          379.5575,
          1360.139,
          616.4004,
          2185.128,
          552.4371,
          1414.837,
          533.4762,
          377.7956,
          150.9347,
          2707.392,
          383.2805,
          338.9679,
          1455.798,
          4066.587,
          1406.43,
          3947.945,
          274.0144,
          1402.016,
          2469.645,
          1146.329,
          167.5989,
          104.8101,
          90.45606,
          617.4424,
          289.3248,
          90.45606,
          964.7496,
          170.1289,
          193.5845,
          208.3905,
          392.4459,
          292.9978,
          189.5181,
          1360.139,
          592.5006,
          2147.376,
          104.8101,
          196.6172,
          2102.427,
          393.2606,
          143.8383,
          737.9161,
          6396.283,
          4197.349,
          1583.722,
          289.3248,
          492.2313,
          492.2313,
          414.9476,
          185.4296,
          279.1726,
          193.5845,
          804.6897,
          383.8624,
          124.9912,
          216.8329,
          535.527,
          2147.376,
          482.7581,
          373.3937,
          186.9686,
          1009.235,
          390.5684,
          319.0708,
          942.4664,
          492.2313,
          289.3248,
          1559.827,
          640.6071,
          492.2313,
          1360.139,
          451.2438,
          185.4296,
          489.8821,
          3780.59,
          179.4538,
          170.7311,
          387.7721,
          1360.139,
          376.1709,
          4066.587,
          4082.015,
          1264.73,
          815.9314,
          390.5684,
          815.9314,
          49.66105,
          616.4004,
          4066.587,
          104.8101,
          185.4296,
          1236.564,
          292.9978,
          330.0854,
          515.1122,
          1962.628,
          4527.687,
          383.8624,
          90.45606,
          401.8807,
          432.0385,
          472.1745,
          4573.779,
          181.0766,
          1144.436,
          438.8513,
          4449.27,
          201.8939,
          2147.376,
          4082.015,
          2615.465,
          1447.286,
          2185.128,
          3078.176,
          190.0392,
          4066.587,
          616.5735,
          750.0704,
          57.58945,
          421.479,
          3771.895,
          461.1016,
          707.9067,
          126.7286,
          157.6052,
          451.6419,
          995.7554,
          561.9845,
          642.6985,
          289.3248,
          1414.837,
          1449.722,
          379.5575,
          665.0636,
          1360.139,
          175.6294,
          390.5684,
          274.0144,
          1805.665,
          90.45606,
          1783.18,
          383.7129,
          590.9292,
          372.6242,
          492.2313,
          529.7771,
          186.5101,
          1402.016,
          431.1114,
          1402.016,
          324.9419,
          193.5845,
          4082.015,
          265.0609,
          3171.329,
          1156.412,
          2147.376,
          4074.736,
          4412.765,
          333.3679,
          2216.612,
          250.631,
          373.8389,
          732.8528,
          732.8528,
          837.7233,
          1712.632,
          250.631,
          2077.39,
          204.1705,
          1559.827,
          639.6198,
          389.8219,
          1055.067,
          1009.235,
          6306.153,
          424.7132,
          1159.454,
          90.45606,
          1735.595,
          329.9747,
          5512.038,
          339.2289,
          444.1334,
          292.9978,
          837.7233,
          1485.097,
          2288.011,
          289.3248,
          2147.376,
          493.657,
          815.9314,
          1783.18,
          482.7581,
          390.5684,
          837.7233,
          252.5822,
          451.6419,
          492.2313,
          170.1289,
          394.0173,
          23.38284,
          461.1016,
          2185.128,
          208.3905,
          1554.25,
          184.3302,
          387.7721,
          1455.798,
          1978.671,
          383.2805,
          718.2937,
          90.45606,
          461.1016,
          323.6912,
          289.3248,
          490.3446,
          56.47425,
          395.6747,
          383.2805,
          335.5273,
          2179.59,
          1144.436,
          567.0349,
          4082.015,
          121.7262,
          156.2442,
          461.7848,
          2288.011,
          439.7105,
          1626.083,
          289.3248,
          169.9803,
          3079.89,
          289.3248,
          1264.73,
          1643.499,
          537.7971,
          318.5292,
          104.8101,
          577.9615,
          1756.411,
          250.631,
          752.7669,
          379.5575,
          272.6783,
          4197.349,
          964.7496,
          187.4823,
          197.1338,
          1712.632,
          488.8193,
          56.47425,
          757.3377,
          1497.713,
          4197.349,
          1156.777,
          4519.69,
          617.7134,
          104.8101,
          1013.341,
          337.6016,
          1867.233,
          600.8604,
          258.186,
          329.9747,
          270.8895,
          750.0704,
          90.45606,
          563.2854,
          3085.17,
          185.4296,
          1712.632,
          6488.021,
          259.6607,
          104.8101,
          492.2313,
          2180.245,
          2674.961,
          2147.376,
          1360.139,
          383.8624,
          211.4473,
          338.9679,
          193.5845,
          2408.993,
          87.30222,
          281.205,
          967.4,
          109.9455,
          614.1394,
          2261.432,
          1801.544,
          1828.319,
          350.8515,
          2185.128,
          289.3248,
          312.8963,
          157.6052,
          274.0144,
          390.5684,
          1157.988,
          1717.193,
          49.66105,
          587.8877,
          292.9978,
          289.3248,
          132.5469,
          3529.564,
          506.1144,
          4066.587,
          82.88643,
          185.4296,
          2103.555,
          2251.938,
          122.3619,
          377.8302,
          1939.749,
          443.802,
          967.4,
          4136.271,
          512.5487,
          918.6357,
          1164.838,
          1717.193,
          170.1289,
          482.7581,
          2175.03,
          187.4823,
          161.942,
          289.3248,
          130.9945,
          372.1386,
          2408.993,
          2175.744,
          4082.015,
          90.45606,
          390.9696,
          104.8101,
          90.45606
         ],
         "xaxis": "x",
         "yaxis": "y"
        },
        {
         "alignmentgroup": "True",
         "boxpoints": "all",
         "fillcolor": "rgba(255,255,255,0)",
         "hoveron": "points",
         "hovertemplate": "variable=metro_dist<br>value=%{x}<extra></extra>",
         "jitter": 0,
         "legendgroup": "metro_dist",
         "line": {
          "color": "rgba(255,255,255,0)"
         },
         "marker": {
          "color": "#636efa",
          "line": {
           "color": "white",
           "width": 0.5
          },
          "symbol": "line-ns-open"
         },
         "name": "metro_dist",
         "offsetgroup": "metro_dist",
         "showlegend": false,
         "type": "box",
         "x": [
          84.87882,
          306.5947,
          561.9845,
          561.9845,
          390.5684,
          2175.03,
          623.4731,
          287.6025,
          5512.038,
          1783.18,
          405.2134,
          90.45606,
          492.2313,
          2469.645,
          1164.838,
          579.2083,
          292.9978,
          350.8515,
          368.1363,
          23.38284,
          2275.877,
          279.1726,
          1360.139,
          279.1726,
          480.6977,
          1487.868,
          383.8624,
          276.449,
          557.478,
          451.2438,
          4519.69,
          769.4034,
          488.5727,
          323.655,
          205.367,
          4079.418,
          1935.009,
          1360.139,
          577.9615,
          289.3248,
          4082.015,
          4066.587,
          519.4617,
          512.7871,
          533.4762,
          488.8193,
          463.9623,
          640.7391,
          4605.749,
          4510.359,
          512.5487,
          1758.406,
          1438.579,
          492.2313,
          289.3248,
          1160.632,
          371.2495,
          56.47425,
          4510.359,
          336.0532,
          1931.207,
          259.6607,
          2175.877,
          533.4762,
          995.7554,
          123.7429,
          193.5845,
          104.8101,
          464.223,
          561.9845,
          90.45606,
          640.7391,
          424.5442,
          4082.015,
          379.5575,
          1360.139,
          616.4004,
          2185.128,
          552.4371,
          1414.837,
          533.4762,
          377.7956,
          150.9347,
          2707.392,
          383.2805,
          338.9679,
          1455.798,
          4066.587,
          1406.43,
          3947.945,
          274.0144,
          1402.016,
          2469.645,
          1146.329,
          167.5989,
          104.8101,
          90.45606,
          617.4424,
          289.3248,
          90.45606,
          964.7496,
          170.1289,
          193.5845,
          208.3905,
          392.4459,
          292.9978,
          189.5181,
          1360.139,
          592.5006,
          2147.376,
          104.8101,
          196.6172,
          2102.427,
          393.2606,
          143.8383,
          737.9161,
          6396.283,
          4197.349,
          1583.722,
          289.3248,
          492.2313,
          492.2313,
          414.9476,
          185.4296,
          279.1726,
          193.5845,
          804.6897,
          383.8624,
          124.9912,
          216.8329,
          535.527,
          2147.376,
          482.7581,
          373.3937,
          186.9686,
          1009.235,
          390.5684,
          319.0708,
          942.4664,
          492.2313,
          289.3248,
          1559.827,
          640.6071,
          492.2313,
          1360.139,
          451.2438,
          185.4296,
          489.8821,
          3780.59,
          179.4538,
          170.7311,
          387.7721,
          1360.139,
          376.1709,
          4066.587,
          4082.015,
          1264.73,
          815.9314,
          390.5684,
          815.9314,
          49.66105,
          616.4004,
          4066.587,
          104.8101,
          185.4296,
          1236.564,
          292.9978,
          330.0854,
          515.1122,
          1962.628,
          4527.687,
          383.8624,
          90.45606,
          401.8807,
          432.0385,
          472.1745,
          4573.779,
          181.0766,
          1144.436,
          438.8513,
          4449.27,
          201.8939,
          2147.376,
          4082.015,
          2615.465,
          1447.286,
          2185.128,
          3078.176,
          190.0392,
          4066.587,
          616.5735,
          750.0704,
          57.58945,
          421.479,
          3771.895,
          461.1016,
          707.9067,
          126.7286,
          157.6052,
          451.6419,
          995.7554,
          561.9845,
          642.6985,
          289.3248,
          1414.837,
          1449.722,
          379.5575,
          665.0636,
          1360.139,
          175.6294,
          390.5684,
          274.0144,
          1805.665,
          90.45606,
          1783.18,
          383.7129,
          590.9292,
          372.6242,
          492.2313,
          529.7771,
          186.5101,
          1402.016,
          431.1114,
          1402.016,
          324.9419,
          193.5845,
          4082.015,
          265.0609,
          3171.329,
          1156.412,
          2147.376,
          4074.736,
          4412.765,
          333.3679,
          2216.612,
          250.631,
          373.8389,
          732.8528,
          732.8528,
          837.7233,
          1712.632,
          250.631,
          2077.39,
          204.1705,
          1559.827,
          639.6198,
          389.8219,
          1055.067,
          1009.235,
          6306.153,
          424.7132,
          1159.454,
          90.45606,
          1735.595,
          329.9747,
          5512.038,
          339.2289,
          444.1334,
          292.9978,
          837.7233,
          1485.097,
          2288.011,
          289.3248,
          2147.376,
          493.657,
          815.9314,
          1783.18,
          482.7581,
          390.5684,
          837.7233,
          252.5822,
          451.6419,
          492.2313,
          170.1289,
          394.0173,
          23.38284,
          461.1016,
          2185.128,
          208.3905,
          1554.25,
          184.3302,
          387.7721,
          1455.798,
          1978.671,
          383.2805,
          718.2937,
          90.45606,
          461.1016,
          323.6912,
          289.3248,
          490.3446,
          56.47425,
          395.6747,
          383.2805,
          335.5273,
          2179.59,
          1144.436,
          567.0349,
          4082.015,
          121.7262,
          156.2442,
          461.7848,
          2288.011,
          439.7105,
          1626.083,
          289.3248,
          169.9803,
          3079.89,
          289.3248,
          1264.73,
          1643.499,
          537.7971,
          318.5292,
          104.8101,
          577.9615,
          1756.411,
          250.631,
          752.7669,
          379.5575,
          272.6783,
          4197.349,
          964.7496,
          187.4823,
          197.1338,
          1712.632,
          488.8193,
          56.47425,
          757.3377,
          1497.713,
          4197.349,
          1156.777,
          4519.69,
          617.7134,
          104.8101,
          1013.341,
          337.6016,
          1867.233,
          600.8604,
          258.186,
          329.9747,
          270.8895,
          750.0704,
          90.45606,
          563.2854,
          3085.17,
          185.4296,
          1712.632,
          6488.021,
          259.6607,
          104.8101,
          492.2313,
          2180.245,
          2674.961,
          2147.376,
          1360.139,
          383.8624,
          211.4473,
          338.9679,
          193.5845,
          2408.993,
          87.30222,
          281.205,
          967.4,
          109.9455,
          614.1394,
          2261.432,
          1801.544,
          1828.319,
          350.8515,
          2185.128,
          289.3248,
          312.8963,
          157.6052,
          274.0144,
          390.5684,
          1157.988,
          1717.193,
          49.66105,
          587.8877,
          292.9978,
          289.3248,
          132.5469,
          3529.564,
          506.1144,
          4066.587,
          82.88643,
          185.4296,
          2103.555,
          2251.938,
          122.3619,
          377.8302,
          1939.749,
          443.802,
          967.4,
          4136.271,
          512.5487,
          918.6357,
          1164.838,
          1717.193,
          170.1289,
          482.7581,
          2175.03,
          187.4823,
          161.942,
          289.3248,
          130.9945,
          372.1386,
          2408.993,
          2175.744,
          4082.015,
          90.45606,
          390.9696,
          104.8101,
          90.45606
         ],
         "xaxis": "x2",
         "yaxis": "y2"
        }
       ],
       "layout": {
        "barmode": "relative",
        "legend": {
         "title": {
          "text": "variable"
         },
         "tracegroupgap": 0
        },
        "margin": {
         "t": 60
        },
        "template": {
         "data": {
          "bar": [
           {
            "error_x": {
             "color": "#f2f5fa"
            },
            "error_y": {
             "color": "#f2f5fa"
            },
            "marker": {
             "line": {
              "color": "rgb(17,17,17)",
              "width": 0.5
             },
             "pattern": {
              "fillmode": "overlay",
              "size": 10,
              "solidity": 0.2
             }
            },
            "type": "bar"
           }
          ],
          "barpolar": [
           {
            "marker": {
             "line": {
              "color": "rgb(17,17,17)",
              "width": 0.5
             },
             "pattern": {
              "fillmode": "overlay",
              "size": 10,
              "solidity": 0.2
             }
            },
            "type": "barpolar"
           }
          ],
          "carpet": [
           {
            "aaxis": {
             "endlinecolor": "#A2B1C6",
             "gridcolor": "#506784",
             "linecolor": "#506784",
             "minorgridcolor": "#506784",
             "startlinecolor": "#A2B1C6"
            },
            "baxis": {
             "endlinecolor": "#A2B1C6",
             "gridcolor": "#506784",
             "linecolor": "#506784",
             "minorgridcolor": "#506784",
             "startlinecolor": "#A2B1C6"
            },
            "type": "carpet"
           }
          ],
          "choropleth": [
           {
            "colorbar": {
             "outlinewidth": 0,
             "ticks": ""
            },
            "type": "choropleth"
           }
          ],
          "contour": [
           {
            "colorbar": {
             "outlinewidth": 0,
             "ticks": ""
            },
            "colorscale": [
             [
              0,
              "#0d0887"
             ],
             [
              0.1111111111111111,
              "#46039f"
             ],
             [
              0.2222222222222222,
              "#7201a8"
             ],
             [
              0.3333333333333333,
              "#9c179e"
             ],
             [
              0.4444444444444444,
              "#bd3786"
             ],
             [
              0.5555555555555556,
              "#d8576b"
             ],
             [
              0.6666666666666666,
              "#ed7953"
             ],
             [
              0.7777777777777778,
              "#fb9f3a"
             ],
             [
              0.8888888888888888,
              "#fdca26"
             ],
             [
              1,
              "#f0f921"
             ]
            ],
            "type": "contour"
           }
          ],
          "contourcarpet": [
           {
            "colorbar": {
             "outlinewidth": 0,
             "ticks": ""
            },
            "type": "contourcarpet"
           }
          ],
          "heatmap": [
           {
            "colorbar": {
             "outlinewidth": 0,
             "ticks": ""
            },
            "colorscale": [
             [
              0,
              "#0d0887"
             ],
             [
              0.1111111111111111,
              "#46039f"
             ],
             [
              0.2222222222222222,
              "#7201a8"
             ],
             [
              0.3333333333333333,
              "#9c179e"
             ],
             [
              0.4444444444444444,
              "#bd3786"
             ],
             [
              0.5555555555555556,
              "#d8576b"
             ],
             [
              0.6666666666666666,
              "#ed7953"
             ],
             [
              0.7777777777777778,
              "#fb9f3a"
             ],
             [
              0.8888888888888888,
              "#fdca26"
             ],
             [
              1,
              "#f0f921"
             ]
            ],
            "type": "heatmap"
           }
          ],
          "heatmapgl": [
           {
            "colorbar": {
             "outlinewidth": 0,
             "ticks": ""
            },
            "colorscale": [
             [
              0,
              "#0d0887"
             ],
             [
              0.1111111111111111,
              "#46039f"
             ],
             [
              0.2222222222222222,
              "#7201a8"
             ],
             [
              0.3333333333333333,
              "#9c179e"
             ],
             [
              0.4444444444444444,
              "#bd3786"
             ],
             [
              0.5555555555555556,
              "#d8576b"
             ],
             [
              0.6666666666666666,
              "#ed7953"
             ],
             [
              0.7777777777777778,
              "#fb9f3a"
             ],
             [
              0.8888888888888888,
              "#fdca26"
             ],
             [
              1,
              "#f0f921"
             ]
            ],
            "type": "heatmapgl"
           }
          ],
          "histogram": [
           {
            "marker": {
             "pattern": {
              "fillmode": "overlay",
              "size": 10,
              "solidity": 0.2
             }
            },
            "type": "histogram"
           }
          ],
          "histogram2d": [
           {
            "colorbar": {
             "outlinewidth": 0,
             "ticks": ""
            },
            "colorscale": [
             [
              0,
              "#0d0887"
             ],
             [
              0.1111111111111111,
              "#46039f"
             ],
             [
              0.2222222222222222,
              "#7201a8"
             ],
             [
              0.3333333333333333,
              "#9c179e"
             ],
             [
              0.4444444444444444,
              "#bd3786"
             ],
             [
              0.5555555555555556,
              "#d8576b"
             ],
             [
              0.6666666666666666,
              "#ed7953"
             ],
             [
              0.7777777777777778,
              "#fb9f3a"
             ],
             [
              0.8888888888888888,
              "#fdca26"
             ],
             [
              1,
              "#f0f921"
             ]
            ],
            "type": "histogram2d"
           }
          ],
          "histogram2dcontour": [
           {
            "colorbar": {
             "outlinewidth": 0,
             "ticks": ""
            },
            "colorscale": [
             [
              0,
              "#0d0887"
             ],
             [
              0.1111111111111111,
              "#46039f"
             ],
             [
              0.2222222222222222,
              "#7201a8"
             ],
             [
              0.3333333333333333,
              "#9c179e"
             ],
             [
              0.4444444444444444,
              "#bd3786"
             ],
             [
              0.5555555555555556,
              "#d8576b"
             ],
             [
              0.6666666666666666,
              "#ed7953"
             ],
             [
              0.7777777777777778,
              "#fb9f3a"
             ],
             [
              0.8888888888888888,
              "#fdca26"
             ],
             [
              1,
              "#f0f921"
             ]
            ],
            "type": "histogram2dcontour"
           }
          ],
          "mesh3d": [
           {
            "colorbar": {
             "outlinewidth": 0,
             "ticks": ""
            },
            "type": "mesh3d"
           }
          ],
          "parcoords": [
           {
            "line": {
             "colorbar": {
              "outlinewidth": 0,
              "ticks": ""
             }
            },
            "type": "parcoords"
           }
          ],
          "pie": [
           {
            "automargin": true,
            "type": "pie"
           }
          ],
          "scatter": [
           {
            "marker": {
             "line": {
              "color": "#283442"
             }
            },
            "type": "scatter"
           }
          ],
          "scatter3d": [
           {
            "line": {
             "colorbar": {
              "outlinewidth": 0,
              "ticks": ""
             }
            },
            "marker": {
             "colorbar": {
              "outlinewidth": 0,
              "ticks": ""
             }
            },
            "type": "scatter3d"
           }
          ],
          "scattercarpet": [
           {
            "marker": {
             "colorbar": {
              "outlinewidth": 0,
              "ticks": ""
             }
            },
            "type": "scattercarpet"
           }
          ],
          "scattergeo": [
           {
            "marker": {
             "colorbar": {
              "outlinewidth": 0,
              "ticks": ""
             }
            },
            "type": "scattergeo"
           }
          ],
          "scattergl": [
           {
            "marker": {
             "line": {
              "color": "#283442"
             }
            },
            "type": "scattergl"
           }
          ],
          "scattermapbox": [
           {
            "marker": {
             "colorbar": {
              "outlinewidth": 0,
              "ticks": ""
             }
            },
            "type": "scattermapbox"
           }
          ],
          "scatterpolar": [
           {
            "marker": {
             "colorbar": {
              "outlinewidth": 0,
              "ticks": ""
             }
            },
            "type": "scatterpolar"
           }
          ],
          "scatterpolargl": [
           {
            "marker": {
             "colorbar": {
              "outlinewidth": 0,
              "ticks": ""
             }
            },
            "type": "scatterpolargl"
           }
          ],
          "scatterternary": [
           {
            "marker": {
             "colorbar": {
              "outlinewidth": 0,
              "ticks": ""
             }
            },
            "type": "scatterternary"
           }
          ],
          "surface": [
           {
            "colorbar": {
             "outlinewidth": 0,
             "ticks": ""
            },
            "colorscale": [
             [
              0,
              "#0d0887"
             ],
             [
              0.1111111111111111,
              "#46039f"
             ],
             [
              0.2222222222222222,
              "#7201a8"
             ],
             [
              0.3333333333333333,
              "#9c179e"
             ],
             [
              0.4444444444444444,
              "#bd3786"
             ],
             [
              0.5555555555555556,
              "#d8576b"
             ],
             [
              0.6666666666666666,
              "#ed7953"
             ],
             [
              0.7777777777777778,
              "#fb9f3a"
             ],
             [
              0.8888888888888888,
              "#fdca26"
             ],
             [
              1,
              "#f0f921"
             ]
            ],
            "type": "surface"
           }
          ],
          "table": [
           {
            "cells": {
             "fill": {
              "color": "#506784"
             },
             "line": {
              "color": "rgb(17,17,17)"
             }
            },
            "header": {
             "fill": {
              "color": "#2a3f5f"
             },
             "line": {
              "color": "rgb(17,17,17)"
             }
            },
            "type": "table"
           }
          ]
         },
         "layout": {
          "annotationdefaults": {
           "arrowcolor": "#f2f5fa",
           "arrowhead": 0,
           "arrowwidth": 1
          },
          "autotypenumbers": "strict",
          "coloraxis": {
           "colorbar": {
            "outlinewidth": 0,
            "ticks": ""
           }
          },
          "colorscale": {
           "diverging": [
            [
             0,
             "#8e0152"
            ],
            [
             0.1,
             "#c51b7d"
            ],
            [
             0.2,
             "#de77ae"
            ],
            [
             0.3,
             "#f1b6da"
            ],
            [
             0.4,
             "#fde0ef"
            ],
            [
             0.5,
             "#f7f7f7"
            ],
            [
             0.6,
             "#e6f5d0"
            ],
            [
             0.7,
             "#b8e186"
            ],
            [
             0.8,
             "#7fbc41"
            ],
            [
             0.9,
             "#4d9221"
            ],
            [
             1,
             "#276419"
            ]
           ],
           "sequential": [
            [
             0,
             "#0d0887"
            ],
            [
             0.1111111111111111,
             "#46039f"
            ],
            [
             0.2222222222222222,
             "#7201a8"
            ],
            [
             0.3333333333333333,
             "#9c179e"
            ],
            [
             0.4444444444444444,
             "#bd3786"
            ],
            [
             0.5555555555555556,
             "#d8576b"
            ],
            [
             0.6666666666666666,
             "#ed7953"
            ],
            [
             0.7777777777777778,
             "#fb9f3a"
            ],
            [
             0.8888888888888888,
             "#fdca26"
            ],
            [
             1,
             "#f0f921"
            ]
           ],
           "sequentialminus": [
            [
             0,
             "#0d0887"
            ],
            [
             0.1111111111111111,
             "#46039f"
            ],
            [
             0.2222222222222222,
             "#7201a8"
            ],
            [
             0.3333333333333333,
             "#9c179e"
            ],
            [
             0.4444444444444444,
             "#bd3786"
            ],
            [
             0.5555555555555556,
             "#d8576b"
            ],
            [
             0.6666666666666666,
             "#ed7953"
            ],
            [
             0.7777777777777778,
             "#fb9f3a"
            ],
            [
             0.8888888888888888,
             "#fdca26"
            ],
            [
             1,
             "#f0f921"
            ]
           ]
          },
          "colorway": [
           "#636efa",
           "#EF553B",
           "#00cc96",
           "#ab63fa",
           "#FFA15A",
           "#19d3f3",
           "#FF6692",
           "#B6E880",
           "#FF97FF",
           "#FECB52"
          ],
          "font": {
           "color": "#f2f5fa"
          },
          "geo": {
           "bgcolor": "rgb(17,17,17)",
           "lakecolor": "rgb(17,17,17)",
           "landcolor": "rgb(17,17,17)",
           "showlakes": true,
           "showland": true,
           "subunitcolor": "#506784"
          },
          "hoverlabel": {
           "align": "left"
          },
          "hovermode": "closest",
          "mapbox": {
           "style": "dark"
          },
          "paper_bgcolor": "rgb(17,17,17)",
          "plot_bgcolor": "rgb(17,17,17)",
          "polar": {
           "angularaxis": {
            "gridcolor": "#506784",
            "linecolor": "#506784",
            "ticks": ""
           },
           "bgcolor": "rgb(17,17,17)",
           "radialaxis": {
            "gridcolor": "#506784",
            "linecolor": "#506784",
            "ticks": ""
           }
          },
          "scene": {
           "xaxis": {
            "backgroundcolor": "rgb(17,17,17)",
            "gridcolor": "#506784",
            "gridwidth": 2,
            "linecolor": "#506784",
            "showbackground": true,
            "ticks": "",
            "zerolinecolor": "#C8D4E3"
           },
           "yaxis": {
            "backgroundcolor": "rgb(17,17,17)",
            "gridcolor": "#506784",
            "gridwidth": 2,
            "linecolor": "#506784",
            "showbackground": true,
            "ticks": "",
            "zerolinecolor": "#C8D4E3"
           },
           "zaxis": {
            "backgroundcolor": "rgb(17,17,17)",
            "gridcolor": "#506784",
            "gridwidth": 2,
            "linecolor": "#506784",
            "showbackground": true,
            "ticks": "",
            "zerolinecolor": "#C8D4E3"
           }
          },
          "shapedefaults": {
           "line": {
            "color": "#f2f5fa"
           }
          },
          "sliderdefaults": {
           "bgcolor": "#C8D4E3",
           "bordercolor": "rgb(17,17,17)",
           "borderwidth": 1,
           "tickwidth": 0
          },
          "ternary": {
           "aaxis": {
            "gridcolor": "#506784",
            "linecolor": "#506784",
            "ticks": ""
           },
           "baxis": {
            "gridcolor": "#506784",
            "linecolor": "#506784",
            "ticks": ""
           },
           "bgcolor": "rgb(17,17,17)",
           "caxis": {
            "gridcolor": "#506784",
            "linecolor": "#506784",
            "ticks": ""
           }
          },
          "title": {
           "x": 0.05
          },
          "updatemenudefaults": {
           "bgcolor": "#506784",
           "borderwidth": 0
          },
          "xaxis": {
           "automargin": true,
           "gridcolor": "#283442",
           "linecolor": "#506784",
           "ticks": "",
           "title": {
            "standoff": 15
           },
           "zerolinecolor": "#283442",
           "zerolinewidth": 2
          },
          "yaxis": {
           "automargin": true,
           "gridcolor": "#283442",
           "linecolor": "#506784",
           "ticks": "",
           "title": {
            "standoff": 15
           },
           "zerolinecolor": "#283442",
           "zerolinewidth": 2
          }
         }
        },
        "xaxis": {
         "anchor": "y",
         "domain": [
          0,
          1
         ],
         "title": {
          "text": "house_price_unit_area"
         }
        },
        "xaxis2": {
         "anchor": "y2",
         "domain": [
          0,
          1
         ],
         "matches": "x",
         "showgrid": true,
         "showticklabels": false
        },
        "yaxis": {
         "anchor": "x",
         "domain": [
          0,
          0.7326
         ],
         "title": {
          "text": "metro_dist"
         }
        },
        "yaxis2": {
         "anchor": "x2",
         "domain": [
          0.7426,
          1
         ],
         "matches": "y2",
         "showgrid": false,
         "showline": false,
         "showticklabels": false,
         "ticks": ""
        }
       }
      }
     },
     "metadata": {},
     "output_type": "display_data"
    },
    {
     "data": {
      "application/vnd.plotly.v1+json": {
       "config": {
        "plotlyServerURL": "https://plot.ly"
       },
       "data": [
        {
         "alignmentgroup": "True",
         "bingroup": "x",
         "hovertemplate": "variable=lat<br>value=%{x}<br>count=%{y}<extra></extra>",
         "legendgroup": "lat",
         "marker": {
          "color": "#636efa",
          "line": {
           "color": "white",
           "width": 0.5
          },
          "pattern": {
           "shape": ""
          }
         },
         "name": "lat",
         "offsetgroup": "lat",
         "orientation": "v",
         "showlegend": false,
         "type": "histogram",
         "x": [
          24.98298,
          24.98034,
          24.98746,
          24.98746,
          24.97937,
          24.96305,
          24.97933,
          24.98042,
          24.95095,
          24.96731,
          24.97349,
          24.97433,
          24.96515,
          24.96108,
          24.99156,
          24.9824,
          24.97744,
          24.97544,
          24.9675,
          24.96772,
          24.96314,
          24.97528,
          24.95204,
          24.97528,
          24.97353,
          24.97542,
          24.98085,
          24.95593,
          24.97419,
          24.97563,
          24.94826,
          24.98281,
          24.97349,
          24.97841,
          24.98419,
          25.01459,
          24.96386,
          24.95204,
          24.97201,
          24.98203,
          24.94155,
          24.94297,
          24.96305,
          24.98748,
          24.97445,
          24.97015,
          24.9703,
          24.97563,
          24.94684,
          24.94925,
          24.974,
          24.95402,
          24.97419,
          24.96515,
          24.98203,
          24.94968,
          24.97254,
          24.95744,
          24.94925,
          24.95776,
          24.96365,
          24.97585,
          24.96303,
          24.97445,
          24.96305,
          24.97635,
          24.96571,
          24.96674,
          24.97964,
          24.98746,
          24.97433,
          24.97563,
          24.97587,
          24.94155,
          24.98343,
          24.95204,
          24.97723,
          24.96322,
          24.97598,
          24.95182,
          24.97445,
          24.96427,
          24.96725,
          24.96056,
          24.96735,
          24.96853,
          24.9512,
          24.94297,
          24.98573,
          24.94783,
          24.9748,
          24.98569,
          24.96108,
          24.9492,
          24.9663,
          24.96674,
          24.97433,
          24.97746,
          24.98203,
          24.97433,
          24.98872,
          24.97371,
          24.96571,
          24.95618,
          24.96398,
          24.97744,
          24.97707,
          24.95204,
          24.9726,
          24.96299,
          24.96674,
          24.97701,
          24.96044,
          24.96172,
          24.98155,
          24.98092,
          24.94375,
          24.93885,
          24.96622,
          24.98203,
          24.96515,
          24.96515,
          24.98199,
          24.9711,
          24.97528,
          24.96571,
          24.97838,
          24.98085,
          24.96674,
          24.98086,
          24.98092,
          24.96299,
          24.97433,
          24.9866,
          24.96604,
          24.96357,
          24.97937,
          24.96495,
          24.97843,
          24.96515,
          24.98203,
          24.97213,
          24.97017,
          24.96515,
          24.95204,
          24.97563,
          24.9711,
          24.97017,
          24.93293,
          24.97349,
          24.96719,
          24.98118,
          24.95204,
          24.95418,
          24.94297,
          24.94155,
          24.94883,
          24.97886,
          24.97937,
          24.97886,
          24.95836,
          24.97723,
          24.94297,
          24.96674,
          24.9711,
          24.97694,
          24.97744,
          24.97408,
          24.96299,
          24.95468,
          24.94741,
          24.98085,
          24.97433,
          24.98326,
          24.9805,
          24.97005,
          24.94867,
          24.97697,
          24.99176,
          24.97493,
          24.94898,
          24.98489,
          24.96299,
          24.94155,
          24.95495,
          24.97285,
          24.96322,
          24.95464,
          24.97707,
          24.94297,
          24.97945,
          24.97371,
          24.9675,
          24.98246,
          24.93363,
          24.95425,
          24.981,
          24.96881,
          24.96628,
          24.96945,
          24.96305,
          24.98746,
          24.97559,
          24.98203,
          24.95182,
          24.97289,
          24.98343,
          24.97503,
          24.95204,
          24.97347,
          24.97937,
          24.9748,
          24.98672,
          24.97433,
          24.96731,
          24.972,
          24.97153,
          24.97838,
          24.96515,
          24.98102,
          24.97703,
          24.98569,
          24.98123,
          24.98569,
          24.97814,
          24.96571,
          24.94155,
          24.98059,
          25.00115,
          24.9489,
          24.96299,
          24.94235,
          24.95032,
          24.98016,
          24.96007,
          24.96606,
          24.98322,
          24.97668,
          24.97668,
          24.96334,
          24.96412,
          24.96606,
          24.96357,
          24.98236,
          24.97213,
          24.97258,
          24.96412,
          24.96211,
          24.96357,
          24.95743,
          24.97429,
          24.9496,
          24.97433,
          24.96464,
          24.98254,
          24.95095,
          24.97519,
          24.97501,
          24.97744,
          24.96334,
          24.97073,
          24.95885,
          24.98203,
          24.96299,
          24.96968,
          24.97886,
          24.96731,
          24.97433,
          24.97937,
          24.96334,
          24.9746,
          24.96945,
          24.96515,
          24.97371,
          24.97305,
          24.96772,
          24.95425,
          24.96322,
          24.95618,
          24.97026,
          24.96581,
          24.98118,
          24.9512,
          24.98674,
          24.96735,
          24.97509,
          24.97433,
          24.95425,
          24.97841,
          24.98203,
          24.97217,
          24.95744,
          24.95674,
          24.96735,
          24.9796,
          24.96299,
          24.99176,
          24.97003,
          24.94155,
          24.98178,
          24.96696,
          24.97229,
          24.95885,
          24.97161,
          24.96622,
          24.98203,
          24.97369,
          24.9546,
          24.98203,
          24.94883,
          24.95394,
          24.97425,
          24.97071,
          24.96674,
          24.97201,
          24.9832,
          24.96606,
          24.97795,
          24.98343,
          24.95562,
          24.93885,
          24.98872,
          24.97388,
          24.97631,
          24.96412,
          24.97015,
          24.95744,
          24.97538,
          24.97003,
          24.93885,
          24.94935,
          24.94826,
          24.97577,
          24.96674,
          24.99006,
          24.96431,
          24.98407,
          24.96871,
          24.96867,
          24.98254,
          24.97281,
          24.97371,
          24.97433,
          24.98223,
          24.998,
          24.9711,
          24.96412,
          24.95719,
          24.97585,
          24.96674,
          24.96515,
          24.96324,
          24.96143,
          24.96299,
          24.95204,
          24.98085,
          24.97417,
          24.96853,
          24.96571,
          24.95505,
          24.983,
          24.97345,
          24.98872,
          24.98182,
          24.97913,
          24.96182,
          24.95153,
          24.96464,
          24.97544,
          24.96322,
          24.98203,
          24.95591,
          24.96628,
          24.9748,
          24.97937,
          24.96165,
          24.96447,
          24.95836,
          24.97077,
          24.97744,
          24.98203,
          24.98298,
          24.93207,
          24.97845,
          24.94297,
          24.983,
          24.9711,
          24.96042,
          24.95957,
          24.96756,
          24.97151,
          24.95155,
          24.97927,
          24.98872,
          24.95544,
          24.974,
          24.97198,
          24.99156,
          24.96447,
          24.97371,
          24.97433,
          24.96305,
          24.97388,
          24.98353,
          24.98203,
          24.95663,
          24.97293,
          24.95505,
          24.9633,
          24.94155,
          24.97433,
          24.97923,
          24.96674,
          24.97433
         ],
         "xaxis": "x",
         "yaxis": "y"
        },
        {
         "alignmentgroup": "True",
         "boxpoints": "all",
         "fillcolor": "rgba(255,255,255,0)",
         "hoveron": "points",
         "hovertemplate": "variable=lat<br>value=%{x}<extra></extra>",
         "jitter": 0,
         "legendgroup": "lat",
         "line": {
          "color": "rgba(255,255,255,0)"
         },
         "marker": {
          "color": "#636efa",
          "line": {
           "color": "white",
           "width": 0.5
          },
          "symbol": "line-ns-open"
         },
         "name": "lat",
         "offsetgroup": "lat",
         "showlegend": false,
         "type": "box",
         "x": [
          24.98298,
          24.98034,
          24.98746,
          24.98746,
          24.97937,
          24.96305,
          24.97933,
          24.98042,
          24.95095,
          24.96731,
          24.97349,
          24.97433,
          24.96515,
          24.96108,
          24.99156,
          24.9824,
          24.97744,
          24.97544,
          24.9675,
          24.96772,
          24.96314,
          24.97528,
          24.95204,
          24.97528,
          24.97353,
          24.97542,
          24.98085,
          24.95593,
          24.97419,
          24.97563,
          24.94826,
          24.98281,
          24.97349,
          24.97841,
          24.98419,
          25.01459,
          24.96386,
          24.95204,
          24.97201,
          24.98203,
          24.94155,
          24.94297,
          24.96305,
          24.98748,
          24.97445,
          24.97015,
          24.9703,
          24.97563,
          24.94684,
          24.94925,
          24.974,
          24.95402,
          24.97419,
          24.96515,
          24.98203,
          24.94968,
          24.97254,
          24.95744,
          24.94925,
          24.95776,
          24.96365,
          24.97585,
          24.96303,
          24.97445,
          24.96305,
          24.97635,
          24.96571,
          24.96674,
          24.97964,
          24.98746,
          24.97433,
          24.97563,
          24.97587,
          24.94155,
          24.98343,
          24.95204,
          24.97723,
          24.96322,
          24.97598,
          24.95182,
          24.97445,
          24.96427,
          24.96725,
          24.96056,
          24.96735,
          24.96853,
          24.9512,
          24.94297,
          24.98573,
          24.94783,
          24.9748,
          24.98569,
          24.96108,
          24.9492,
          24.9663,
          24.96674,
          24.97433,
          24.97746,
          24.98203,
          24.97433,
          24.98872,
          24.97371,
          24.96571,
          24.95618,
          24.96398,
          24.97744,
          24.97707,
          24.95204,
          24.9726,
          24.96299,
          24.96674,
          24.97701,
          24.96044,
          24.96172,
          24.98155,
          24.98092,
          24.94375,
          24.93885,
          24.96622,
          24.98203,
          24.96515,
          24.96515,
          24.98199,
          24.9711,
          24.97528,
          24.96571,
          24.97838,
          24.98085,
          24.96674,
          24.98086,
          24.98092,
          24.96299,
          24.97433,
          24.9866,
          24.96604,
          24.96357,
          24.97937,
          24.96495,
          24.97843,
          24.96515,
          24.98203,
          24.97213,
          24.97017,
          24.96515,
          24.95204,
          24.97563,
          24.9711,
          24.97017,
          24.93293,
          24.97349,
          24.96719,
          24.98118,
          24.95204,
          24.95418,
          24.94297,
          24.94155,
          24.94883,
          24.97886,
          24.97937,
          24.97886,
          24.95836,
          24.97723,
          24.94297,
          24.96674,
          24.9711,
          24.97694,
          24.97744,
          24.97408,
          24.96299,
          24.95468,
          24.94741,
          24.98085,
          24.97433,
          24.98326,
          24.9805,
          24.97005,
          24.94867,
          24.97697,
          24.99176,
          24.97493,
          24.94898,
          24.98489,
          24.96299,
          24.94155,
          24.95495,
          24.97285,
          24.96322,
          24.95464,
          24.97707,
          24.94297,
          24.97945,
          24.97371,
          24.9675,
          24.98246,
          24.93363,
          24.95425,
          24.981,
          24.96881,
          24.96628,
          24.96945,
          24.96305,
          24.98746,
          24.97559,
          24.98203,
          24.95182,
          24.97289,
          24.98343,
          24.97503,
          24.95204,
          24.97347,
          24.97937,
          24.9748,
          24.98672,
          24.97433,
          24.96731,
          24.972,
          24.97153,
          24.97838,
          24.96515,
          24.98102,
          24.97703,
          24.98569,
          24.98123,
          24.98569,
          24.97814,
          24.96571,
          24.94155,
          24.98059,
          25.00115,
          24.9489,
          24.96299,
          24.94235,
          24.95032,
          24.98016,
          24.96007,
          24.96606,
          24.98322,
          24.97668,
          24.97668,
          24.96334,
          24.96412,
          24.96606,
          24.96357,
          24.98236,
          24.97213,
          24.97258,
          24.96412,
          24.96211,
          24.96357,
          24.95743,
          24.97429,
          24.9496,
          24.97433,
          24.96464,
          24.98254,
          24.95095,
          24.97519,
          24.97501,
          24.97744,
          24.96334,
          24.97073,
          24.95885,
          24.98203,
          24.96299,
          24.96968,
          24.97886,
          24.96731,
          24.97433,
          24.97937,
          24.96334,
          24.9746,
          24.96945,
          24.96515,
          24.97371,
          24.97305,
          24.96772,
          24.95425,
          24.96322,
          24.95618,
          24.97026,
          24.96581,
          24.98118,
          24.9512,
          24.98674,
          24.96735,
          24.97509,
          24.97433,
          24.95425,
          24.97841,
          24.98203,
          24.97217,
          24.95744,
          24.95674,
          24.96735,
          24.9796,
          24.96299,
          24.99176,
          24.97003,
          24.94155,
          24.98178,
          24.96696,
          24.97229,
          24.95885,
          24.97161,
          24.96622,
          24.98203,
          24.97369,
          24.9546,
          24.98203,
          24.94883,
          24.95394,
          24.97425,
          24.97071,
          24.96674,
          24.97201,
          24.9832,
          24.96606,
          24.97795,
          24.98343,
          24.95562,
          24.93885,
          24.98872,
          24.97388,
          24.97631,
          24.96412,
          24.97015,
          24.95744,
          24.97538,
          24.97003,
          24.93885,
          24.94935,
          24.94826,
          24.97577,
          24.96674,
          24.99006,
          24.96431,
          24.98407,
          24.96871,
          24.96867,
          24.98254,
          24.97281,
          24.97371,
          24.97433,
          24.98223,
          24.998,
          24.9711,
          24.96412,
          24.95719,
          24.97585,
          24.96674,
          24.96515,
          24.96324,
          24.96143,
          24.96299,
          24.95204,
          24.98085,
          24.97417,
          24.96853,
          24.96571,
          24.95505,
          24.983,
          24.97345,
          24.98872,
          24.98182,
          24.97913,
          24.96182,
          24.95153,
          24.96464,
          24.97544,
          24.96322,
          24.98203,
          24.95591,
          24.96628,
          24.9748,
          24.97937,
          24.96165,
          24.96447,
          24.95836,
          24.97077,
          24.97744,
          24.98203,
          24.98298,
          24.93207,
          24.97845,
          24.94297,
          24.983,
          24.9711,
          24.96042,
          24.95957,
          24.96756,
          24.97151,
          24.95155,
          24.97927,
          24.98872,
          24.95544,
          24.974,
          24.97198,
          24.99156,
          24.96447,
          24.97371,
          24.97433,
          24.96305,
          24.97388,
          24.98353,
          24.98203,
          24.95663,
          24.97293,
          24.95505,
          24.9633,
          24.94155,
          24.97433,
          24.97923,
          24.96674,
          24.97433
         ],
         "xaxis": "x2",
         "yaxis": "y2"
        }
       ],
       "layout": {
        "barmode": "relative",
        "legend": {
         "title": {
          "text": "variable"
         },
         "tracegroupgap": 0
        },
        "margin": {
         "t": 60
        },
        "template": {
         "data": {
          "bar": [
           {
            "error_x": {
             "color": "#f2f5fa"
            },
            "error_y": {
             "color": "#f2f5fa"
            },
            "marker": {
             "line": {
              "color": "rgb(17,17,17)",
              "width": 0.5
             },
             "pattern": {
              "fillmode": "overlay",
              "size": 10,
              "solidity": 0.2
             }
            },
            "type": "bar"
           }
          ],
          "barpolar": [
           {
            "marker": {
             "line": {
              "color": "rgb(17,17,17)",
              "width": 0.5
             },
             "pattern": {
              "fillmode": "overlay",
              "size": 10,
              "solidity": 0.2
             }
            },
            "type": "barpolar"
           }
          ],
          "carpet": [
           {
            "aaxis": {
             "endlinecolor": "#A2B1C6",
             "gridcolor": "#506784",
             "linecolor": "#506784",
             "minorgridcolor": "#506784",
             "startlinecolor": "#A2B1C6"
            },
            "baxis": {
             "endlinecolor": "#A2B1C6",
             "gridcolor": "#506784",
             "linecolor": "#506784",
             "minorgridcolor": "#506784",
             "startlinecolor": "#A2B1C6"
            },
            "type": "carpet"
           }
          ],
          "choropleth": [
           {
            "colorbar": {
             "outlinewidth": 0,
             "ticks": ""
            },
            "type": "choropleth"
           }
          ],
          "contour": [
           {
            "colorbar": {
             "outlinewidth": 0,
             "ticks": ""
            },
            "colorscale": [
             [
              0,
              "#0d0887"
             ],
             [
              0.1111111111111111,
              "#46039f"
             ],
             [
              0.2222222222222222,
              "#7201a8"
             ],
             [
              0.3333333333333333,
              "#9c179e"
             ],
             [
              0.4444444444444444,
              "#bd3786"
             ],
             [
              0.5555555555555556,
              "#d8576b"
             ],
             [
              0.6666666666666666,
              "#ed7953"
             ],
             [
              0.7777777777777778,
              "#fb9f3a"
             ],
             [
              0.8888888888888888,
              "#fdca26"
             ],
             [
              1,
              "#f0f921"
             ]
            ],
            "type": "contour"
           }
          ],
          "contourcarpet": [
           {
            "colorbar": {
             "outlinewidth": 0,
             "ticks": ""
            },
            "type": "contourcarpet"
           }
          ],
          "heatmap": [
           {
            "colorbar": {
             "outlinewidth": 0,
             "ticks": ""
            },
            "colorscale": [
             [
              0,
              "#0d0887"
             ],
             [
              0.1111111111111111,
              "#46039f"
             ],
             [
              0.2222222222222222,
              "#7201a8"
             ],
             [
              0.3333333333333333,
              "#9c179e"
             ],
             [
              0.4444444444444444,
              "#bd3786"
             ],
             [
              0.5555555555555556,
              "#d8576b"
             ],
             [
              0.6666666666666666,
              "#ed7953"
             ],
             [
              0.7777777777777778,
              "#fb9f3a"
             ],
             [
              0.8888888888888888,
              "#fdca26"
             ],
             [
              1,
              "#f0f921"
             ]
            ],
            "type": "heatmap"
           }
          ],
          "heatmapgl": [
           {
            "colorbar": {
             "outlinewidth": 0,
             "ticks": ""
            },
            "colorscale": [
             [
              0,
              "#0d0887"
             ],
             [
              0.1111111111111111,
              "#46039f"
             ],
             [
              0.2222222222222222,
              "#7201a8"
             ],
             [
              0.3333333333333333,
              "#9c179e"
             ],
             [
              0.4444444444444444,
              "#bd3786"
             ],
             [
              0.5555555555555556,
              "#d8576b"
             ],
             [
              0.6666666666666666,
              "#ed7953"
             ],
             [
              0.7777777777777778,
              "#fb9f3a"
             ],
             [
              0.8888888888888888,
              "#fdca26"
             ],
             [
              1,
              "#f0f921"
             ]
            ],
            "type": "heatmapgl"
           }
          ],
          "histogram": [
           {
            "marker": {
             "pattern": {
              "fillmode": "overlay",
              "size": 10,
              "solidity": 0.2
             }
            },
            "type": "histogram"
           }
          ],
          "histogram2d": [
           {
            "colorbar": {
             "outlinewidth": 0,
             "ticks": ""
            },
            "colorscale": [
             [
              0,
              "#0d0887"
             ],
             [
              0.1111111111111111,
              "#46039f"
             ],
             [
              0.2222222222222222,
              "#7201a8"
             ],
             [
              0.3333333333333333,
              "#9c179e"
             ],
             [
              0.4444444444444444,
              "#bd3786"
             ],
             [
              0.5555555555555556,
              "#d8576b"
             ],
             [
              0.6666666666666666,
              "#ed7953"
             ],
             [
              0.7777777777777778,
              "#fb9f3a"
             ],
             [
              0.8888888888888888,
              "#fdca26"
             ],
             [
              1,
              "#f0f921"
             ]
            ],
            "type": "histogram2d"
           }
          ],
          "histogram2dcontour": [
           {
            "colorbar": {
             "outlinewidth": 0,
             "ticks": ""
            },
            "colorscale": [
             [
              0,
              "#0d0887"
             ],
             [
              0.1111111111111111,
              "#46039f"
             ],
             [
              0.2222222222222222,
              "#7201a8"
             ],
             [
              0.3333333333333333,
              "#9c179e"
             ],
             [
              0.4444444444444444,
              "#bd3786"
             ],
             [
              0.5555555555555556,
              "#d8576b"
             ],
             [
              0.6666666666666666,
              "#ed7953"
             ],
             [
              0.7777777777777778,
              "#fb9f3a"
             ],
             [
              0.8888888888888888,
              "#fdca26"
             ],
             [
              1,
              "#f0f921"
             ]
            ],
            "type": "histogram2dcontour"
           }
          ],
          "mesh3d": [
           {
            "colorbar": {
             "outlinewidth": 0,
             "ticks": ""
            },
            "type": "mesh3d"
           }
          ],
          "parcoords": [
           {
            "line": {
             "colorbar": {
              "outlinewidth": 0,
              "ticks": ""
             }
            },
            "type": "parcoords"
           }
          ],
          "pie": [
           {
            "automargin": true,
            "type": "pie"
           }
          ],
          "scatter": [
           {
            "marker": {
             "line": {
              "color": "#283442"
             }
            },
            "type": "scatter"
           }
          ],
          "scatter3d": [
           {
            "line": {
             "colorbar": {
              "outlinewidth": 0,
              "ticks": ""
             }
            },
            "marker": {
             "colorbar": {
              "outlinewidth": 0,
              "ticks": ""
             }
            },
            "type": "scatter3d"
           }
          ],
          "scattercarpet": [
           {
            "marker": {
             "colorbar": {
              "outlinewidth": 0,
              "ticks": ""
             }
            },
            "type": "scattercarpet"
           }
          ],
          "scattergeo": [
           {
            "marker": {
             "colorbar": {
              "outlinewidth": 0,
              "ticks": ""
             }
            },
            "type": "scattergeo"
           }
          ],
          "scattergl": [
           {
            "marker": {
             "line": {
              "color": "#283442"
             }
            },
            "type": "scattergl"
           }
          ],
          "scattermapbox": [
           {
            "marker": {
             "colorbar": {
              "outlinewidth": 0,
              "ticks": ""
             }
            },
            "type": "scattermapbox"
           }
          ],
          "scatterpolar": [
           {
            "marker": {
             "colorbar": {
              "outlinewidth": 0,
              "ticks": ""
             }
            },
            "type": "scatterpolar"
           }
          ],
          "scatterpolargl": [
           {
            "marker": {
             "colorbar": {
              "outlinewidth": 0,
              "ticks": ""
             }
            },
            "type": "scatterpolargl"
           }
          ],
          "scatterternary": [
           {
            "marker": {
             "colorbar": {
              "outlinewidth": 0,
              "ticks": ""
             }
            },
            "type": "scatterternary"
           }
          ],
          "surface": [
           {
            "colorbar": {
             "outlinewidth": 0,
             "ticks": ""
            },
            "colorscale": [
             [
              0,
              "#0d0887"
             ],
             [
              0.1111111111111111,
              "#46039f"
             ],
             [
              0.2222222222222222,
              "#7201a8"
             ],
             [
              0.3333333333333333,
              "#9c179e"
             ],
             [
              0.4444444444444444,
              "#bd3786"
             ],
             [
              0.5555555555555556,
              "#d8576b"
             ],
             [
              0.6666666666666666,
              "#ed7953"
             ],
             [
              0.7777777777777778,
              "#fb9f3a"
             ],
             [
              0.8888888888888888,
              "#fdca26"
             ],
             [
              1,
              "#f0f921"
             ]
            ],
            "type": "surface"
           }
          ],
          "table": [
           {
            "cells": {
             "fill": {
              "color": "#506784"
             },
             "line": {
              "color": "rgb(17,17,17)"
             }
            },
            "header": {
             "fill": {
              "color": "#2a3f5f"
             },
             "line": {
              "color": "rgb(17,17,17)"
             }
            },
            "type": "table"
           }
          ]
         },
         "layout": {
          "annotationdefaults": {
           "arrowcolor": "#f2f5fa",
           "arrowhead": 0,
           "arrowwidth": 1
          },
          "autotypenumbers": "strict",
          "coloraxis": {
           "colorbar": {
            "outlinewidth": 0,
            "ticks": ""
           }
          },
          "colorscale": {
           "diverging": [
            [
             0,
             "#8e0152"
            ],
            [
             0.1,
             "#c51b7d"
            ],
            [
             0.2,
             "#de77ae"
            ],
            [
             0.3,
             "#f1b6da"
            ],
            [
             0.4,
             "#fde0ef"
            ],
            [
             0.5,
             "#f7f7f7"
            ],
            [
             0.6,
             "#e6f5d0"
            ],
            [
             0.7,
             "#b8e186"
            ],
            [
             0.8,
             "#7fbc41"
            ],
            [
             0.9,
             "#4d9221"
            ],
            [
             1,
             "#276419"
            ]
           ],
           "sequential": [
            [
             0,
             "#0d0887"
            ],
            [
             0.1111111111111111,
             "#46039f"
            ],
            [
             0.2222222222222222,
             "#7201a8"
            ],
            [
             0.3333333333333333,
             "#9c179e"
            ],
            [
             0.4444444444444444,
             "#bd3786"
            ],
            [
             0.5555555555555556,
             "#d8576b"
            ],
            [
             0.6666666666666666,
             "#ed7953"
            ],
            [
             0.7777777777777778,
             "#fb9f3a"
            ],
            [
             0.8888888888888888,
             "#fdca26"
            ],
            [
             1,
             "#f0f921"
            ]
           ],
           "sequentialminus": [
            [
             0,
             "#0d0887"
            ],
            [
             0.1111111111111111,
             "#46039f"
            ],
            [
             0.2222222222222222,
             "#7201a8"
            ],
            [
             0.3333333333333333,
             "#9c179e"
            ],
            [
             0.4444444444444444,
             "#bd3786"
            ],
            [
             0.5555555555555556,
             "#d8576b"
            ],
            [
             0.6666666666666666,
             "#ed7953"
            ],
            [
             0.7777777777777778,
             "#fb9f3a"
            ],
            [
             0.8888888888888888,
             "#fdca26"
            ],
            [
             1,
             "#f0f921"
            ]
           ]
          },
          "colorway": [
           "#636efa",
           "#EF553B",
           "#00cc96",
           "#ab63fa",
           "#FFA15A",
           "#19d3f3",
           "#FF6692",
           "#B6E880",
           "#FF97FF",
           "#FECB52"
          ],
          "font": {
           "color": "#f2f5fa"
          },
          "geo": {
           "bgcolor": "rgb(17,17,17)",
           "lakecolor": "rgb(17,17,17)",
           "landcolor": "rgb(17,17,17)",
           "showlakes": true,
           "showland": true,
           "subunitcolor": "#506784"
          },
          "hoverlabel": {
           "align": "left"
          },
          "hovermode": "closest",
          "mapbox": {
           "style": "dark"
          },
          "paper_bgcolor": "rgb(17,17,17)",
          "plot_bgcolor": "rgb(17,17,17)",
          "polar": {
           "angularaxis": {
            "gridcolor": "#506784",
            "linecolor": "#506784",
            "ticks": ""
           },
           "bgcolor": "rgb(17,17,17)",
           "radialaxis": {
            "gridcolor": "#506784",
            "linecolor": "#506784",
            "ticks": ""
           }
          },
          "scene": {
           "xaxis": {
            "backgroundcolor": "rgb(17,17,17)",
            "gridcolor": "#506784",
            "gridwidth": 2,
            "linecolor": "#506784",
            "showbackground": true,
            "ticks": "",
            "zerolinecolor": "#C8D4E3"
           },
           "yaxis": {
            "backgroundcolor": "rgb(17,17,17)",
            "gridcolor": "#506784",
            "gridwidth": 2,
            "linecolor": "#506784",
            "showbackground": true,
            "ticks": "",
            "zerolinecolor": "#C8D4E3"
           },
           "zaxis": {
            "backgroundcolor": "rgb(17,17,17)",
            "gridcolor": "#506784",
            "gridwidth": 2,
            "linecolor": "#506784",
            "showbackground": true,
            "ticks": "",
            "zerolinecolor": "#C8D4E3"
           }
          },
          "shapedefaults": {
           "line": {
            "color": "#f2f5fa"
           }
          },
          "sliderdefaults": {
           "bgcolor": "#C8D4E3",
           "bordercolor": "rgb(17,17,17)",
           "borderwidth": 1,
           "tickwidth": 0
          },
          "ternary": {
           "aaxis": {
            "gridcolor": "#506784",
            "linecolor": "#506784",
            "ticks": ""
           },
           "baxis": {
            "gridcolor": "#506784",
            "linecolor": "#506784",
            "ticks": ""
           },
           "bgcolor": "rgb(17,17,17)",
           "caxis": {
            "gridcolor": "#506784",
            "linecolor": "#506784",
            "ticks": ""
           }
          },
          "title": {
           "x": 0.05
          },
          "updatemenudefaults": {
           "bgcolor": "#506784",
           "borderwidth": 0
          },
          "xaxis": {
           "automargin": true,
           "gridcolor": "#283442",
           "linecolor": "#506784",
           "ticks": "",
           "title": {
            "standoff": 15
           },
           "zerolinecolor": "#283442",
           "zerolinewidth": 2
          },
          "yaxis": {
           "automargin": true,
           "gridcolor": "#283442",
           "linecolor": "#506784",
           "ticks": "",
           "title": {
            "standoff": 15
           },
           "zerolinecolor": "#283442",
           "zerolinewidth": 2
          }
         }
        },
        "xaxis": {
         "anchor": "y",
         "domain": [
          0,
          1
         ],
         "title": {
          "text": "house_price_unit_area"
         }
        },
        "xaxis2": {
         "anchor": "y2",
         "domain": [
          0,
          1
         ],
         "matches": "x",
         "showgrid": true,
         "showticklabels": false
        },
        "yaxis": {
         "anchor": "x",
         "domain": [
          0,
          0.7326
         ],
         "title": {
          "text": "lat"
         }
        },
        "yaxis2": {
         "anchor": "x2",
         "domain": [
          0.7426,
          1
         ],
         "matches": "y2",
         "showgrid": false,
         "showline": false,
         "showticklabels": false,
         "ticks": ""
        }
       }
      }
     },
     "metadata": {},
     "output_type": "display_data"
    },
    {
     "data": {
      "application/vnd.plotly.v1+json": {
       "config": {
        "plotlyServerURL": "https://plot.ly"
       },
       "data": [
        {
         "alignmentgroup": "True",
         "bingroup": "x",
         "hovertemplate": "variable=long<br>value=%{x}<br>count=%{y}<extra></extra>",
         "legendgroup": "long",
         "marker": {
          "color": "#636efa",
          "line": {
           "color": "white",
           "width": 0.5
          },
          "pattern": {
           "shape": ""
          }
         },
         "name": "long",
         "offsetgroup": "long",
         "orientation": "v",
         "showlegend": false,
         "type": "histogram",
         "x": [
          121.54024,
          121.53951,
          121.54391,
          121.54391,
          121.54245,
          121.51254,
          121.53642,
          121.54228,
          121.48458,
          121.51486,
          121.53372,
          121.5431,
          121.53737,
          121.51046,
          121.53406,
          121.54619,
          121.54458,
          121.53119,
          121.54451,
          121.54102,
          121.51151,
          121.54541,
          121.54842,
          121.54541,
          121.53885,
          121.51726,
          121.54391,
          121.53913,
          121.53797,
          121.54694,
          121.49587,
          121.53408,
          121.53451,
          121.54281,
          121.54243,
          121.51816,
          121.51458,
          121.54842,
          121.54722,
          121.54348,
          121.50381,
          121.50342,
          121.53758,
          121.54301,
          121.54765,
          121.54494,
          121.54458,
          121.53715,
          121.49578,
          121.49542,
          121.53842,
          121.55282,
          121.5175,
          121.53737,
          121.54348,
          121.53009,
          121.54059,
          121.53711,
          121.49542,
          121.53438,
          121.51471,
          121.54516,
          121.51254,
          121.54765,
          121.54915,
          121.54329,
          121.54089,
          121.54067,
          121.53805,
          121.54391,
          121.5431,
          121.53715,
          121.53913,
          121.50381,
          121.53762,
          121.54842,
          121.53767,
          121.51237,
          121.53381,
          121.54887,
          121.54765,
          121.53964,
          121.54252,
          121.50831,
          121.54464,
          121.54413,
          121.549,
          121.50342,
          121.52758,
          121.50243,
          121.53059,
          121.5276,
          121.51046,
          121.53076,
          121.54026,
          121.54067,
          121.5431,
          121.53299,
          121.54348,
          121.5431,
          121.53411,
          121.52984,
          121.54089,
          121.53844,
          121.5425,
          121.54458,
          121.54308,
          121.54842,
          121.53561,
          121.51284,
          121.54067,
          121.54224,
          121.51462,
          121.53812,
          121.54142,
          121.54739,
          121.47883,
          121.50383,
          121.51709,
          121.54348,
          121.53737,
          121.53737,
          121.54464,
          121.5317,
          121.54541,
          121.54089,
          121.53477,
          121.54391,
          121.54039,
          121.54162,
          121.53653,
          121.51284,
          121.53863,
          121.54082,
          121.54211,
          121.54951,
          121.54245,
          121.54277,
          121.52406,
          121.53737,
          121.54348,
          121.51627,
          121.54647,
          121.53737,
          121.54842,
          121.54694,
          121.5317,
          121.54494,
          121.51203,
          121.54245,
          121.54269,
          121.53788,
          121.54842,
          121.53713,
          121.50342,
          121.50381,
          121.52954,
          121.53464,
          121.54245,
          121.53464,
          121.53756,
          121.53767,
          121.50342,
          121.54067,
          121.5317,
          121.55391,
          121.54458,
          121.54011,
          121.5432,
          121.55481,
          121.49628,
          121.54391,
          121.5431,
          121.5446,
          121.53778,
          121.53758,
          121.49507,
          121.54262,
          121.53456,
          121.5273,
          121.49621,
          121.54121,
          121.51284,
          121.50381,
          121.56174,
          121.5173,
          121.51237,
          121.56627,
          121.54312,
          121.50342,
          121.53642,
          121.54951,
          121.54069,
          121.54477,
          121.51158,
          121.5399,
          121.54713,
          121.54089,
          121.54196,
          121.5449,
          121.54915,
          121.54391,
          121.53713,
          121.54348,
          121.54887,
          121.51728,
          121.53762,
          121.53692,
          121.54842,
          121.54271,
          121.54245,
          121.53059,
          121.52091,
          121.5431,
          121.51486,
          121.54477,
          121.53559,
          121.54119,
          121.53737,
          121.53655,
          121.54265,
          121.5276,
          121.53743,
          121.5276,
          121.5417,
          121.54089,
          121.50381,
          121.53986,
          121.51776,
          121.53095,
          121.51284,
          121.50357,
          121.49587,
          121.53932,
          121.51361,
          121.54297,
          121.53765,
          121.52518,
          121.52518,
          121.54767,
          121.5167,
          121.54297,
          121.51329,
          121.53923,
          121.51627,
          121.54814,
          121.54273,
          121.54928,
          121.54951,
          121.47516,
          121.53917,
          121.53018,
          121.5431,
          121.51623,
          121.54395,
          121.48458,
          121.53151,
          121.5273,
          121.54458,
          121.54767,
          121.517,
          121.51359,
          121.54348,
          121.51284,
          121.54522,
          121.53464,
          121.51486,
          121.53863,
          121.54245,
          121.54767,
          121.53046,
          121.5449,
          121.53737,
          121.52984,
          121.53994,
          121.54102,
          121.5399,
          121.51237,
          121.53844,
          121.51642,
          121.54086,
          121.53788,
          121.549,
          121.51844,
          121.54464,
          121.53644,
          121.5431,
          121.5399,
          121.5428,
          121.54348,
          121.53471,
          121.53711,
          121.534,
          121.54464,
          121.5414,
          121.51252,
          121.53456,
          121.5458,
          121.50381,
          121.54059,
          121.53992,
          121.53445,
          121.51359,
          121.53423,
          121.51668,
          121.54348,
          121.52979,
          121.56627,
          121.54348,
          121.52954,
          121.55174,
          121.53814,
          121.54069,
          121.54067,
          121.54722,
          121.51812,
          121.54297,
          121.53451,
          121.53762,
          121.53872,
          121.50383,
          121.53411,
          121.52981,
          121.54436,
          121.5167,
          121.54494,
          121.53711,
          121.54971,
          121.51696,
          121.50383,
          121.53046,
          121.49587,
          121.53475,
          121.54067,
          121.5346,
          121.54063,
          121.51748,
          121.54651,
          121.54331,
          121.54395,
          121.53265,
          121.54951,
          121.5431,
          121.53597,
          121.5155,
          121.5317,
          121.5167,
          121.47353,
          121.54516,
          121.54067,
          121.53737,
          121.51241,
          121.50827,
          121.51284,
          121.54842,
          121.54391,
          121.52999,
          121.54413,
          121.54089,
          121.55964,
          121.54022,
          121.54093,
          121.53408,
          121.54086,
          121.53666,
          121.51222,
          121.55254,
          121.51531,
          121.53119,
          121.51237,
          121.54348,
          121.53956,
          121.54196,
          121.53059,
          121.54245,
          121.55011,
          121.51649,
          121.53756,
          121.54634,
          121.54458,
          121.54348,
          121.53981,
          121.51597,
          121.53889,
          121.50342,
          121.54026,
          121.5317,
          121.51462,
          121.51353,
          121.5423,
          121.5435,
          121.55387,
          121.53874,
          121.53408,
          121.4963,
          121.53842,
          121.55063,
          121.53406,
          121.51649,
          121.52984,
          121.53863,
          121.51254,
          121.52981,
          121.53966,
          121.54348,
          121.53765,
          121.54026,
          121.55964,
          121.51243,
          121.50381,
          121.5431,
          121.53986,
          121.54067,
          121.5431
         ],
         "xaxis": "x",
         "yaxis": "y"
        },
        {
         "alignmentgroup": "True",
         "boxpoints": "all",
         "fillcolor": "rgba(255,255,255,0)",
         "hoveron": "points",
         "hovertemplate": "variable=long<br>value=%{x}<extra></extra>",
         "jitter": 0,
         "legendgroup": "long",
         "line": {
          "color": "rgba(255,255,255,0)"
         },
         "marker": {
          "color": "#636efa",
          "line": {
           "color": "white",
           "width": 0.5
          },
          "symbol": "line-ns-open"
         },
         "name": "long",
         "offsetgroup": "long",
         "showlegend": false,
         "type": "box",
         "x": [
          121.54024,
          121.53951,
          121.54391,
          121.54391,
          121.54245,
          121.51254,
          121.53642,
          121.54228,
          121.48458,
          121.51486,
          121.53372,
          121.5431,
          121.53737,
          121.51046,
          121.53406,
          121.54619,
          121.54458,
          121.53119,
          121.54451,
          121.54102,
          121.51151,
          121.54541,
          121.54842,
          121.54541,
          121.53885,
          121.51726,
          121.54391,
          121.53913,
          121.53797,
          121.54694,
          121.49587,
          121.53408,
          121.53451,
          121.54281,
          121.54243,
          121.51816,
          121.51458,
          121.54842,
          121.54722,
          121.54348,
          121.50381,
          121.50342,
          121.53758,
          121.54301,
          121.54765,
          121.54494,
          121.54458,
          121.53715,
          121.49578,
          121.49542,
          121.53842,
          121.55282,
          121.5175,
          121.53737,
          121.54348,
          121.53009,
          121.54059,
          121.53711,
          121.49542,
          121.53438,
          121.51471,
          121.54516,
          121.51254,
          121.54765,
          121.54915,
          121.54329,
          121.54089,
          121.54067,
          121.53805,
          121.54391,
          121.5431,
          121.53715,
          121.53913,
          121.50381,
          121.53762,
          121.54842,
          121.53767,
          121.51237,
          121.53381,
          121.54887,
          121.54765,
          121.53964,
          121.54252,
          121.50831,
          121.54464,
          121.54413,
          121.549,
          121.50342,
          121.52758,
          121.50243,
          121.53059,
          121.5276,
          121.51046,
          121.53076,
          121.54026,
          121.54067,
          121.5431,
          121.53299,
          121.54348,
          121.5431,
          121.53411,
          121.52984,
          121.54089,
          121.53844,
          121.5425,
          121.54458,
          121.54308,
          121.54842,
          121.53561,
          121.51284,
          121.54067,
          121.54224,
          121.51462,
          121.53812,
          121.54142,
          121.54739,
          121.47883,
          121.50383,
          121.51709,
          121.54348,
          121.53737,
          121.53737,
          121.54464,
          121.5317,
          121.54541,
          121.54089,
          121.53477,
          121.54391,
          121.54039,
          121.54162,
          121.53653,
          121.51284,
          121.53863,
          121.54082,
          121.54211,
          121.54951,
          121.54245,
          121.54277,
          121.52406,
          121.53737,
          121.54348,
          121.51627,
          121.54647,
          121.53737,
          121.54842,
          121.54694,
          121.5317,
          121.54494,
          121.51203,
          121.54245,
          121.54269,
          121.53788,
          121.54842,
          121.53713,
          121.50342,
          121.50381,
          121.52954,
          121.53464,
          121.54245,
          121.53464,
          121.53756,
          121.53767,
          121.50342,
          121.54067,
          121.5317,
          121.55391,
          121.54458,
          121.54011,
          121.5432,
          121.55481,
          121.49628,
          121.54391,
          121.5431,
          121.5446,
          121.53778,
          121.53758,
          121.49507,
          121.54262,
          121.53456,
          121.5273,
          121.49621,
          121.54121,
          121.51284,
          121.50381,
          121.56174,
          121.5173,
          121.51237,
          121.56627,
          121.54312,
          121.50342,
          121.53642,
          121.54951,
          121.54069,
          121.54477,
          121.51158,
          121.5399,
          121.54713,
          121.54089,
          121.54196,
          121.5449,
          121.54915,
          121.54391,
          121.53713,
          121.54348,
          121.54887,
          121.51728,
          121.53762,
          121.53692,
          121.54842,
          121.54271,
          121.54245,
          121.53059,
          121.52091,
          121.5431,
          121.51486,
          121.54477,
          121.53559,
          121.54119,
          121.53737,
          121.53655,
          121.54265,
          121.5276,
          121.53743,
          121.5276,
          121.5417,
          121.54089,
          121.50381,
          121.53986,
          121.51776,
          121.53095,
          121.51284,
          121.50357,
          121.49587,
          121.53932,
          121.51361,
          121.54297,
          121.53765,
          121.52518,
          121.52518,
          121.54767,
          121.5167,
          121.54297,
          121.51329,
          121.53923,
          121.51627,
          121.54814,
          121.54273,
          121.54928,
          121.54951,
          121.47516,
          121.53917,
          121.53018,
          121.5431,
          121.51623,
          121.54395,
          121.48458,
          121.53151,
          121.5273,
          121.54458,
          121.54767,
          121.517,
          121.51359,
          121.54348,
          121.51284,
          121.54522,
          121.53464,
          121.51486,
          121.53863,
          121.54245,
          121.54767,
          121.53046,
          121.5449,
          121.53737,
          121.52984,
          121.53994,
          121.54102,
          121.5399,
          121.51237,
          121.53844,
          121.51642,
          121.54086,
          121.53788,
          121.549,
          121.51844,
          121.54464,
          121.53644,
          121.5431,
          121.5399,
          121.5428,
          121.54348,
          121.53471,
          121.53711,
          121.534,
          121.54464,
          121.5414,
          121.51252,
          121.53456,
          121.5458,
          121.50381,
          121.54059,
          121.53992,
          121.53445,
          121.51359,
          121.53423,
          121.51668,
          121.54348,
          121.52979,
          121.56627,
          121.54348,
          121.52954,
          121.55174,
          121.53814,
          121.54069,
          121.54067,
          121.54722,
          121.51812,
          121.54297,
          121.53451,
          121.53762,
          121.53872,
          121.50383,
          121.53411,
          121.52981,
          121.54436,
          121.5167,
          121.54494,
          121.53711,
          121.54971,
          121.51696,
          121.50383,
          121.53046,
          121.49587,
          121.53475,
          121.54067,
          121.5346,
          121.54063,
          121.51748,
          121.54651,
          121.54331,
          121.54395,
          121.53265,
          121.54951,
          121.5431,
          121.53597,
          121.5155,
          121.5317,
          121.5167,
          121.47353,
          121.54516,
          121.54067,
          121.53737,
          121.51241,
          121.50827,
          121.51284,
          121.54842,
          121.54391,
          121.52999,
          121.54413,
          121.54089,
          121.55964,
          121.54022,
          121.54093,
          121.53408,
          121.54086,
          121.53666,
          121.51222,
          121.55254,
          121.51531,
          121.53119,
          121.51237,
          121.54348,
          121.53956,
          121.54196,
          121.53059,
          121.54245,
          121.55011,
          121.51649,
          121.53756,
          121.54634,
          121.54458,
          121.54348,
          121.53981,
          121.51597,
          121.53889,
          121.50342,
          121.54026,
          121.5317,
          121.51462,
          121.51353,
          121.5423,
          121.5435,
          121.55387,
          121.53874,
          121.53408,
          121.4963,
          121.53842,
          121.55063,
          121.53406,
          121.51649,
          121.52984,
          121.53863,
          121.51254,
          121.52981,
          121.53966,
          121.54348,
          121.53765,
          121.54026,
          121.55964,
          121.51243,
          121.50381,
          121.5431,
          121.53986,
          121.54067,
          121.5431
         ],
         "xaxis": "x2",
         "yaxis": "y2"
        }
       ],
       "layout": {
        "barmode": "relative",
        "legend": {
         "title": {
          "text": "variable"
         },
         "tracegroupgap": 0
        },
        "margin": {
         "t": 60
        },
        "template": {
         "data": {
          "bar": [
           {
            "error_x": {
             "color": "#f2f5fa"
            },
            "error_y": {
             "color": "#f2f5fa"
            },
            "marker": {
             "line": {
              "color": "rgb(17,17,17)",
              "width": 0.5
             },
             "pattern": {
              "fillmode": "overlay",
              "size": 10,
              "solidity": 0.2
             }
            },
            "type": "bar"
           }
          ],
          "barpolar": [
           {
            "marker": {
             "line": {
              "color": "rgb(17,17,17)",
              "width": 0.5
             },
             "pattern": {
              "fillmode": "overlay",
              "size": 10,
              "solidity": 0.2
             }
            },
            "type": "barpolar"
           }
          ],
          "carpet": [
           {
            "aaxis": {
             "endlinecolor": "#A2B1C6",
             "gridcolor": "#506784",
             "linecolor": "#506784",
             "minorgridcolor": "#506784",
             "startlinecolor": "#A2B1C6"
            },
            "baxis": {
             "endlinecolor": "#A2B1C6",
             "gridcolor": "#506784",
             "linecolor": "#506784",
             "minorgridcolor": "#506784",
             "startlinecolor": "#A2B1C6"
            },
            "type": "carpet"
           }
          ],
          "choropleth": [
           {
            "colorbar": {
             "outlinewidth": 0,
             "ticks": ""
            },
            "type": "choropleth"
           }
          ],
          "contour": [
           {
            "colorbar": {
             "outlinewidth": 0,
             "ticks": ""
            },
            "colorscale": [
             [
              0,
              "#0d0887"
             ],
             [
              0.1111111111111111,
              "#46039f"
             ],
             [
              0.2222222222222222,
              "#7201a8"
             ],
             [
              0.3333333333333333,
              "#9c179e"
             ],
             [
              0.4444444444444444,
              "#bd3786"
             ],
             [
              0.5555555555555556,
              "#d8576b"
             ],
             [
              0.6666666666666666,
              "#ed7953"
             ],
             [
              0.7777777777777778,
              "#fb9f3a"
             ],
             [
              0.8888888888888888,
              "#fdca26"
             ],
             [
              1,
              "#f0f921"
             ]
            ],
            "type": "contour"
           }
          ],
          "contourcarpet": [
           {
            "colorbar": {
             "outlinewidth": 0,
             "ticks": ""
            },
            "type": "contourcarpet"
           }
          ],
          "heatmap": [
           {
            "colorbar": {
             "outlinewidth": 0,
             "ticks": ""
            },
            "colorscale": [
             [
              0,
              "#0d0887"
             ],
             [
              0.1111111111111111,
              "#46039f"
             ],
             [
              0.2222222222222222,
              "#7201a8"
             ],
             [
              0.3333333333333333,
              "#9c179e"
             ],
             [
              0.4444444444444444,
              "#bd3786"
             ],
             [
              0.5555555555555556,
              "#d8576b"
             ],
             [
              0.6666666666666666,
              "#ed7953"
             ],
             [
              0.7777777777777778,
              "#fb9f3a"
             ],
             [
              0.8888888888888888,
              "#fdca26"
             ],
             [
              1,
              "#f0f921"
             ]
            ],
            "type": "heatmap"
           }
          ],
          "heatmapgl": [
           {
            "colorbar": {
             "outlinewidth": 0,
             "ticks": ""
            },
            "colorscale": [
             [
              0,
              "#0d0887"
             ],
             [
              0.1111111111111111,
              "#46039f"
             ],
             [
              0.2222222222222222,
              "#7201a8"
             ],
             [
              0.3333333333333333,
              "#9c179e"
             ],
             [
              0.4444444444444444,
              "#bd3786"
             ],
             [
              0.5555555555555556,
              "#d8576b"
             ],
             [
              0.6666666666666666,
              "#ed7953"
             ],
             [
              0.7777777777777778,
              "#fb9f3a"
             ],
             [
              0.8888888888888888,
              "#fdca26"
             ],
             [
              1,
              "#f0f921"
             ]
            ],
            "type": "heatmapgl"
           }
          ],
          "histogram": [
           {
            "marker": {
             "pattern": {
              "fillmode": "overlay",
              "size": 10,
              "solidity": 0.2
             }
            },
            "type": "histogram"
           }
          ],
          "histogram2d": [
           {
            "colorbar": {
             "outlinewidth": 0,
             "ticks": ""
            },
            "colorscale": [
             [
              0,
              "#0d0887"
             ],
             [
              0.1111111111111111,
              "#46039f"
             ],
             [
              0.2222222222222222,
              "#7201a8"
             ],
             [
              0.3333333333333333,
              "#9c179e"
             ],
             [
              0.4444444444444444,
              "#bd3786"
             ],
             [
              0.5555555555555556,
              "#d8576b"
             ],
             [
              0.6666666666666666,
              "#ed7953"
             ],
             [
              0.7777777777777778,
              "#fb9f3a"
             ],
             [
              0.8888888888888888,
              "#fdca26"
             ],
             [
              1,
              "#f0f921"
             ]
            ],
            "type": "histogram2d"
           }
          ],
          "histogram2dcontour": [
           {
            "colorbar": {
             "outlinewidth": 0,
             "ticks": ""
            },
            "colorscale": [
             [
              0,
              "#0d0887"
             ],
             [
              0.1111111111111111,
              "#46039f"
             ],
             [
              0.2222222222222222,
              "#7201a8"
             ],
             [
              0.3333333333333333,
              "#9c179e"
             ],
             [
              0.4444444444444444,
              "#bd3786"
             ],
             [
              0.5555555555555556,
              "#d8576b"
             ],
             [
              0.6666666666666666,
              "#ed7953"
             ],
             [
              0.7777777777777778,
              "#fb9f3a"
             ],
             [
              0.8888888888888888,
              "#fdca26"
             ],
             [
              1,
              "#f0f921"
             ]
            ],
            "type": "histogram2dcontour"
           }
          ],
          "mesh3d": [
           {
            "colorbar": {
             "outlinewidth": 0,
             "ticks": ""
            },
            "type": "mesh3d"
           }
          ],
          "parcoords": [
           {
            "line": {
             "colorbar": {
              "outlinewidth": 0,
              "ticks": ""
             }
            },
            "type": "parcoords"
           }
          ],
          "pie": [
           {
            "automargin": true,
            "type": "pie"
           }
          ],
          "scatter": [
           {
            "marker": {
             "line": {
              "color": "#283442"
             }
            },
            "type": "scatter"
           }
          ],
          "scatter3d": [
           {
            "line": {
             "colorbar": {
              "outlinewidth": 0,
              "ticks": ""
             }
            },
            "marker": {
             "colorbar": {
              "outlinewidth": 0,
              "ticks": ""
             }
            },
            "type": "scatter3d"
           }
          ],
          "scattercarpet": [
           {
            "marker": {
             "colorbar": {
              "outlinewidth": 0,
              "ticks": ""
             }
            },
            "type": "scattercarpet"
           }
          ],
          "scattergeo": [
           {
            "marker": {
             "colorbar": {
              "outlinewidth": 0,
              "ticks": ""
             }
            },
            "type": "scattergeo"
           }
          ],
          "scattergl": [
           {
            "marker": {
             "line": {
              "color": "#283442"
             }
            },
            "type": "scattergl"
           }
          ],
          "scattermapbox": [
           {
            "marker": {
             "colorbar": {
              "outlinewidth": 0,
              "ticks": ""
             }
            },
            "type": "scattermapbox"
           }
          ],
          "scatterpolar": [
           {
            "marker": {
             "colorbar": {
              "outlinewidth": 0,
              "ticks": ""
             }
            },
            "type": "scatterpolar"
           }
          ],
          "scatterpolargl": [
           {
            "marker": {
             "colorbar": {
              "outlinewidth": 0,
              "ticks": ""
             }
            },
            "type": "scatterpolargl"
           }
          ],
          "scatterternary": [
           {
            "marker": {
             "colorbar": {
              "outlinewidth": 0,
              "ticks": ""
             }
            },
            "type": "scatterternary"
           }
          ],
          "surface": [
           {
            "colorbar": {
             "outlinewidth": 0,
             "ticks": ""
            },
            "colorscale": [
             [
              0,
              "#0d0887"
             ],
             [
              0.1111111111111111,
              "#46039f"
             ],
             [
              0.2222222222222222,
              "#7201a8"
             ],
             [
              0.3333333333333333,
              "#9c179e"
             ],
             [
              0.4444444444444444,
              "#bd3786"
             ],
             [
              0.5555555555555556,
              "#d8576b"
             ],
             [
              0.6666666666666666,
              "#ed7953"
             ],
             [
              0.7777777777777778,
              "#fb9f3a"
             ],
             [
              0.8888888888888888,
              "#fdca26"
             ],
             [
              1,
              "#f0f921"
             ]
            ],
            "type": "surface"
           }
          ],
          "table": [
           {
            "cells": {
             "fill": {
              "color": "#506784"
             },
             "line": {
              "color": "rgb(17,17,17)"
             }
            },
            "header": {
             "fill": {
              "color": "#2a3f5f"
             },
             "line": {
              "color": "rgb(17,17,17)"
             }
            },
            "type": "table"
           }
          ]
         },
         "layout": {
          "annotationdefaults": {
           "arrowcolor": "#f2f5fa",
           "arrowhead": 0,
           "arrowwidth": 1
          },
          "autotypenumbers": "strict",
          "coloraxis": {
           "colorbar": {
            "outlinewidth": 0,
            "ticks": ""
           }
          },
          "colorscale": {
           "diverging": [
            [
             0,
             "#8e0152"
            ],
            [
             0.1,
             "#c51b7d"
            ],
            [
             0.2,
             "#de77ae"
            ],
            [
             0.3,
             "#f1b6da"
            ],
            [
             0.4,
             "#fde0ef"
            ],
            [
             0.5,
             "#f7f7f7"
            ],
            [
             0.6,
             "#e6f5d0"
            ],
            [
             0.7,
             "#b8e186"
            ],
            [
             0.8,
             "#7fbc41"
            ],
            [
             0.9,
             "#4d9221"
            ],
            [
             1,
             "#276419"
            ]
           ],
           "sequential": [
            [
             0,
             "#0d0887"
            ],
            [
             0.1111111111111111,
             "#46039f"
            ],
            [
             0.2222222222222222,
             "#7201a8"
            ],
            [
             0.3333333333333333,
             "#9c179e"
            ],
            [
             0.4444444444444444,
             "#bd3786"
            ],
            [
             0.5555555555555556,
             "#d8576b"
            ],
            [
             0.6666666666666666,
             "#ed7953"
            ],
            [
             0.7777777777777778,
             "#fb9f3a"
            ],
            [
             0.8888888888888888,
             "#fdca26"
            ],
            [
             1,
             "#f0f921"
            ]
           ],
           "sequentialminus": [
            [
             0,
             "#0d0887"
            ],
            [
             0.1111111111111111,
             "#46039f"
            ],
            [
             0.2222222222222222,
             "#7201a8"
            ],
            [
             0.3333333333333333,
             "#9c179e"
            ],
            [
             0.4444444444444444,
             "#bd3786"
            ],
            [
             0.5555555555555556,
             "#d8576b"
            ],
            [
             0.6666666666666666,
             "#ed7953"
            ],
            [
             0.7777777777777778,
             "#fb9f3a"
            ],
            [
             0.8888888888888888,
             "#fdca26"
            ],
            [
             1,
             "#f0f921"
            ]
           ]
          },
          "colorway": [
           "#636efa",
           "#EF553B",
           "#00cc96",
           "#ab63fa",
           "#FFA15A",
           "#19d3f3",
           "#FF6692",
           "#B6E880",
           "#FF97FF",
           "#FECB52"
          ],
          "font": {
           "color": "#f2f5fa"
          },
          "geo": {
           "bgcolor": "rgb(17,17,17)",
           "lakecolor": "rgb(17,17,17)",
           "landcolor": "rgb(17,17,17)",
           "showlakes": true,
           "showland": true,
           "subunitcolor": "#506784"
          },
          "hoverlabel": {
           "align": "left"
          },
          "hovermode": "closest",
          "mapbox": {
           "style": "dark"
          },
          "paper_bgcolor": "rgb(17,17,17)",
          "plot_bgcolor": "rgb(17,17,17)",
          "polar": {
           "angularaxis": {
            "gridcolor": "#506784",
            "linecolor": "#506784",
            "ticks": ""
           },
           "bgcolor": "rgb(17,17,17)",
           "radialaxis": {
            "gridcolor": "#506784",
            "linecolor": "#506784",
            "ticks": ""
           }
          },
          "scene": {
           "xaxis": {
            "backgroundcolor": "rgb(17,17,17)",
            "gridcolor": "#506784",
            "gridwidth": 2,
            "linecolor": "#506784",
            "showbackground": true,
            "ticks": "",
            "zerolinecolor": "#C8D4E3"
           },
           "yaxis": {
            "backgroundcolor": "rgb(17,17,17)",
            "gridcolor": "#506784",
            "gridwidth": 2,
            "linecolor": "#506784",
            "showbackground": true,
            "ticks": "",
            "zerolinecolor": "#C8D4E3"
           },
           "zaxis": {
            "backgroundcolor": "rgb(17,17,17)",
            "gridcolor": "#506784",
            "gridwidth": 2,
            "linecolor": "#506784",
            "showbackground": true,
            "ticks": "",
            "zerolinecolor": "#C8D4E3"
           }
          },
          "shapedefaults": {
           "line": {
            "color": "#f2f5fa"
           }
          },
          "sliderdefaults": {
           "bgcolor": "#C8D4E3",
           "bordercolor": "rgb(17,17,17)",
           "borderwidth": 1,
           "tickwidth": 0
          },
          "ternary": {
           "aaxis": {
            "gridcolor": "#506784",
            "linecolor": "#506784",
            "ticks": ""
           },
           "baxis": {
            "gridcolor": "#506784",
            "linecolor": "#506784",
            "ticks": ""
           },
           "bgcolor": "rgb(17,17,17)",
           "caxis": {
            "gridcolor": "#506784",
            "linecolor": "#506784",
            "ticks": ""
           }
          },
          "title": {
           "x": 0.05
          },
          "updatemenudefaults": {
           "bgcolor": "#506784",
           "borderwidth": 0
          },
          "xaxis": {
           "automargin": true,
           "gridcolor": "#283442",
           "linecolor": "#506784",
           "ticks": "",
           "title": {
            "standoff": 15
           },
           "zerolinecolor": "#283442",
           "zerolinewidth": 2
          },
          "yaxis": {
           "automargin": true,
           "gridcolor": "#283442",
           "linecolor": "#506784",
           "ticks": "",
           "title": {
            "standoff": 15
           },
           "zerolinecolor": "#283442",
           "zerolinewidth": 2
          }
         }
        },
        "xaxis": {
         "anchor": "y",
         "domain": [
          0,
          1
         ],
         "title": {
          "text": "house_price_unit_area"
         }
        },
        "xaxis2": {
         "anchor": "y2",
         "domain": [
          0,
          1
         ],
         "matches": "x",
         "showgrid": true,
         "showticklabels": false
        },
        "yaxis": {
         "anchor": "x",
         "domain": [
          0,
          0.7326
         ],
         "title": {
          "text": "long"
         }
        },
        "yaxis2": {
         "anchor": "x2",
         "domain": [
          0.7426,
          1
         ],
         "matches": "y2",
         "showgrid": false,
         "showline": false,
         "showticklabels": false,
         "ticks": ""
        }
       }
      }
     },
     "metadata": {},
     "output_type": "display_data"
    },
    {
     "data": {
      "application/vnd.plotly.v1+json": {
       "config": {
        "plotlyServerURL": "https://plot.ly"
       },
       "data": [
        {
         "alignmentgroup": "True",
         "bingroup": "x",
         "hovertemplate": "variable=house_size<br>value=%{x}<br>count=%{y}<extra></extra>",
         "legendgroup": "house_size",
         "marker": {
          "color": "#636efa",
          "line": {
           "color": "white",
           "width": 0.5
          },
          "pattern": {
           "shape": ""
          }
         },
         "name": "house_size",
         "offsetgroup": "house_size",
         "orientation": "v",
         "showlegend": false,
         "type": "histogram",
         "x": [
          575,
          1240,
          1060,
          875,
          491,
          828,
          1115,
          1316,
          588,
          1075,
          466,
          1423,
          1172,
          928,
          512,
          1322,
          1441,
          568,
          1291,
          1223,
          1487,
          1496,
          1437,
          1262,
          443,
          1011,
          1133,
          941,
          1130,
          476,
          1024,
          1478,
          978,
          566,
          1206,
          1249,
          1131,
          511,
          599,
          1236,
          558,
          1333,
          975,
          447,
          1314,
          572,
          557,
          867,
          470,
          1227,
          1077,
          1016,
          809,
          421,
          1193,
          1036,
          883,
          548,
          1167,
          1046,
          450,
          1083,
          1073,
          1309,
          862,
          1351,
          1144,
          1425,
          1303,
          581,
          927,
          533,
          1392,
          1176,
          1084,
          492,
          1262,
          1308,
          459,
          958,
          488,
          466,
          1339,
          1186,
          1154,
          1145,
          515,
          878,
          915,
          471,
          954,
          426,
          1316,
          536,
          984,
          1250,
          1158,
          828,
          1323,
          514,
          926,
          879,
          1028,
          554,
          471,
          570,
          871,
          913,
          945,
          1044,
          847,
          1136,
          414,
          1365,
          1222,
          441,
          495,
          1207,
          470,
          548,
          1224,
          443,
          840,
          818,
          493,
          952,
          472,
          1136,
          417,
          1284,
          1190,
          565,
          1166,
          406,
          1246,
          1147,
          453,
          429,
          1340,
          538,
          486,
          1147,
          447,
          1202,
          1336,
          422,
          1356,
          518,
          975,
          1411,
          540,
          949,
          1098,
          870,
          532,
          1292,
          1110,
          477,
          461,
          532,
          970,
          1400,
          469,
          565,
          1312,
          1494,
          1448,
          1088,
          580,
          1342,
          1462,
          411,
          842,
          889,
          1239,
          503,
          1206,
          542,
          1490,
          580,
          1331,
          1482,
          1002,
          923,
          442,
          516,
          436,
          1175,
          492,
          996,
          810,
          1256,
          1000,
          1089,
          1287,
          1081,
          537,
          548,
          1368,
          458,
          410,
          1339,
          585,
          544,
          1100,
          945,
          456,
          1053,
          452,
          1349,
          836,
          1118,
          1377,
          1354,
          586,
          428,
          1140,
          1291,
          1455,
          583,
          1187,
          417,
          1145,
          1270,
          880,
          462,
          588,
          1380,
          1204,
          559,
          569,
          1189,
          1140,
          975,
          494,
          1035,
          1117,
          578,
          1244,
          1074,
          421,
          492,
          1189,
          478,
          1262,
          1219,
          506,
          465,
          1123,
          1439,
          420,
          970,
          1164,
          1120,
          965,
          1368,
          1154,
          1388,
          1205,
          1013,
          513,
          453,
          590,
          475,
          949,
          1395,
          1423,
          847,
          844,
          541,
          1373,
          978,
          890,
          1299,
          544,
          1385,
          1315,
          1318,
          1448,
          440,
          1034,
          539,
          1154,
          897,
          533,
          1470,
          436,
          1469,
          439,
          1446,
          1194,
          1208,
          876,
          927,
          1330,
          899,
          585,
          1358,
          1379,
          1297,
          543,
          498,
          1054,
          1144,
          970,
          914,
          1305,
          812,
          490,
          554,
          886,
          876,
          433,
          952,
          1491,
          924,
          1307,
          548,
          1407,
          402,
          1222,
          1235,
          480,
          594,
          1124,
          1166,
          470,
          1343,
          506,
          458,
          970,
          426,
          1491,
          1498,
          484,
          1337,
          817,
          1333,
          540,
          1173,
          1031,
          800,
          492,
          1284,
          1012,
          839,
          1400,
          933,
          1183,
          889,
          1146,
          524,
          1007,
          901,
          1343,
          493,
          424,
          1319,
          1021,
          876,
          1071,
          533,
          550,
          1135,
          1369,
          565,
          589,
          840,
          1246,
          1350,
          1060,
          864,
          570,
          1172,
          1057,
          1276,
          984,
          1325,
          1040,
          1410,
          1149,
          1451,
          411,
          1130,
          1500,
          839,
          565,
          1405,
          505,
          579,
          1438,
          1494,
          1234,
          413,
          421,
          1088,
          907,
          1230,
          425,
          489,
          964,
          1247,
          537,
          549,
          1420,
          808,
          1268,
          587,
          477,
          803,
          1278,
          503,
          597,
          1097
         ],
         "xaxis": "x",
         "yaxis": "y"
        },
        {
         "alignmentgroup": "True",
         "boxpoints": "all",
         "fillcolor": "rgba(255,255,255,0)",
         "hoveron": "points",
         "hovertemplate": "variable=house_size<br>value=%{x}<extra></extra>",
         "jitter": 0,
         "legendgroup": "house_size",
         "line": {
          "color": "rgba(255,255,255,0)"
         },
         "marker": {
          "color": "#636efa",
          "line": {
           "color": "white",
           "width": 0.5
          },
          "symbol": "line-ns-open"
         },
         "name": "house_size",
         "offsetgroup": "house_size",
         "showlegend": false,
         "type": "box",
         "x": [
          575,
          1240,
          1060,
          875,
          491,
          828,
          1115,
          1316,
          588,
          1075,
          466,
          1423,
          1172,
          928,
          512,
          1322,
          1441,
          568,
          1291,
          1223,
          1487,
          1496,
          1437,
          1262,
          443,
          1011,
          1133,
          941,
          1130,
          476,
          1024,
          1478,
          978,
          566,
          1206,
          1249,
          1131,
          511,
          599,
          1236,
          558,
          1333,
          975,
          447,
          1314,
          572,
          557,
          867,
          470,
          1227,
          1077,
          1016,
          809,
          421,
          1193,
          1036,
          883,
          548,
          1167,
          1046,
          450,
          1083,
          1073,
          1309,
          862,
          1351,
          1144,
          1425,
          1303,
          581,
          927,
          533,
          1392,
          1176,
          1084,
          492,
          1262,
          1308,
          459,
          958,
          488,
          466,
          1339,
          1186,
          1154,
          1145,
          515,
          878,
          915,
          471,
          954,
          426,
          1316,
          536,
          984,
          1250,
          1158,
          828,
          1323,
          514,
          926,
          879,
          1028,
          554,
          471,
          570,
          871,
          913,
          945,
          1044,
          847,
          1136,
          414,
          1365,
          1222,
          441,
          495,
          1207,
          470,
          548,
          1224,
          443,
          840,
          818,
          493,
          952,
          472,
          1136,
          417,
          1284,
          1190,
          565,
          1166,
          406,
          1246,
          1147,
          453,
          429,
          1340,
          538,
          486,
          1147,
          447,
          1202,
          1336,
          422,
          1356,
          518,
          975,
          1411,
          540,
          949,
          1098,
          870,
          532,
          1292,
          1110,
          477,
          461,
          532,
          970,
          1400,
          469,
          565,
          1312,
          1494,
          1448,
          1088,
          580,
          1342,
          1462,
          411,
          842,
          889,
          1239,
          503,
          1206,
          542,
          1490,
          580,
          1331,
          1482,
          1002,
          923,
          442,
          516,
          436,
          1175,
          492,
          996,
          810,
          1256,
          1000,
          1089,
          1287,
          1081,
          537,
          548,
          1368,
          458,
          410,
          1339,
          585,
          544,
          1100,
          945,
          456,
          1053,
          452,
          1349,
          836,
          1118,
          1377,
          1354,
          586,
          428,
          1140,
          1291,
          1455,
          583,
          1187,
          417,
          1145,
          1270,
          880,
          462,
          588,
          1380,
          1204,
          559,
          569,
          1189,
          1140,
          975,
          494,
          1035,
          1117,
          578,
          1244,
          1074,
          421,
          492,
          1189,
          478,
          1262,
          1219,
          506,
          465,
          1123,
          1439,
          420,
          970,
          1164,
          1120,
          965,
          1368,
          1154,
          1388,
          1205,
          1013,
          513,
          453,
          590,
          475,
          949,
          1395,
          1423,
          847,
          844,
          541,
          1373,
          978,
          890,
          1299,
          544,
          1385,
          1315,
          1318,
          1448,
          440,
          1034,
          539,
          1154,
          897,
          533,
          1470,
          436,
          1469,
          439,
          1446,
          1194,
          1208,
          876,
          927,
          1330,
          899,
          585,
          1358,
          1379,
          1297,
          543,
          498,
          1054,
          1144,
          970,
          914,
          1305,
          812,
          490,
          554,
          886,
          876,
          433,
          952,
          1491,
          924,
          1307,
          548,
          1407,
          402,
          1222,
          1235,
          480,
          594,
          1124,
          1166,
          470,
          1343,
          506,
          458,
          970,
          426,
          1491,
          1498,
          484,
          1337,
          817,
          1333,
          540,
          1173,
          1031,
          800,
          492,
          1284,
          1012,
          839,
          1400,
          933,
          1183,
          889,
          1146,
          524,
          1007,
          901,
          1343,
          493,
          424,
          1319,
          1021,
          876,
          1071,
          533,
          550,
          1135,
          1369,
          565,
          589,
          840,
          1246,
          1350,
          1060,
          864,
          570,
          1172,
          1057,
          1276,
          984,
          1325,
          1040,
          1410,
          1149,
          1451,
          411,
          1130,
          1500,
          839,
          565,
          1405,
          505,
          579,
          1438,
          1494,
          1234,
          413,
          421,
          1088,
          907,
          1230,
          425,
          489,
          964,
          1247,
          537,
          549,
          1420,
          808,
          1268,
          587,
          477,
          803,
          1278,
          503,
          597,
          1097
         ],
         "xaxis": "x2",
         "yaxis": "y2"
        }
       ],
       "layout": {
        "barmode": "relative",
        "legend": {
         "title": {
          "text": "variable"
         },
         "tracegroupgap": 0
        },
        "margin": {
         "t": 60
        },
        "template": {
         "data": {
          "bar": [
           {
            "error_x": {
             "color": "#f2f5fa"
            },
            "error_y": {
             "color": "#f2f5fa"
            },
            "marker": {
             "line": {
              "color": "rgb(17,17,17)",
              "width": 0.5
             },
             "pattern": {
              "fillmode": "overlay",
              "size": 10,
              "solidity": 0.2
             }
            },
            "type": "bar"
           }
          ],
          "barpolar": [
           {
            "marker": {
             "line": {
              "color": "rgb(17,17,17)",
              "width": 0.5
             },
             "pattern": {
              "fillmode": "overlay",
              "size": 10,
              "solidity": 0.2
             }
            },
            "type": "barpolar"
           }
          ],
          "carpet": [
           {
            "aaxis": {
             "endlinecolor": "#A2B1C6",
             "gridcolor": "#506784",
             "linecolor": "#506784",
             "minorgridcolor": "#506784",
             "startlinecolor": "#A2B1C6"
            },
            "baxis": {
             "endlinecolor": "#A2B1C6",
             "gridcolor": "#506784",
             "linecolor": "#506784",
             "minorgridcolor": "#506784",
             "startlinecolor": "#A2B1C6"
            },
            "type": "carpet"
           }
          ],
          "choropleth": [
           {
            "colorbar": {
             "outlinewidth": 0,
             "ticks": ""
            },
            "type": "choropleth"
           }
          ],
          "contour": [
           {
            "colorbar": {
             "outlinewidth": 0,
             "ticks": ""
            },
            "colorscale": [
             [
              0,
              "#0d0887"
             ],
             [
              0.1111111111111111,
              "#46039f"
             ],
             [
              0.2222222222222222,
              "#7201a8"
             ],
             [
              0.3333333333333333,
              "#9c179e"
             ],
             [
              0.4444444444444444,
              "#bd3786"
             ],
             [
              0.5555555555555556,
              "#d8576b"
             ],
             [
              0.6666666666666666,
              "#ed7953"
             ],
             [
              0.7777777777777778,
              "#fb9f3a"
             ],
             [
              0.8888888888888888,
              "#fdca26"
             ],
             [
              1,
              "#f0f921"
             ]
            ],
            "type": "contour"
           }
          ],
          "contourcarpet": [
           {
            "colorbar": {
             "outlinewidth": 0,
             "ticks": ""
            },
            "type": "contourcarpet"
           }
          ],
          "heatmap": [
           {
            "colorbar": {
             "outlinewidth": 0,
             "ticks": ""
            },
            "colorscale": [
             [
              0,
              "#0d0887"
             ],
             [
              0.1111111111111111,
              "#46039f"
             ],
             [
              0.2222222222222222,
              "#7201a8"
             ],
             [
              0.3333333333333333,
              "#9c179e"
             ],
             [
              0.4444444444444444,
              "#bd3786"
             ],
             [
              0.5555555555555556,
              "#d8576b"
             ],
             [
              0.6666666666666666,
              "#ed7953"
             ],
             [
              0.7777777777777778,
              "#fb9f3a"
             ],
             [
              0.8888888888888888,
              "#fdca26"
             ],
             [
              1,
              "#f0f921"
             ]
            ],
            "type": "heatmap"
           }
          ],
          "heatmapgl": [
           {
            "colorbar": {
             "outlinewidth": 0,
             "ticks": ""
            },
            "colorscale": [
             [
              0,
              "#0d0887"
             ],
             [
              0.1111111111111111,
              "#46039f"
             ],
             [
              0.2222222222222222,
              "#7201a8"
             ],
             [
              0.3333333333333333,
              "#9c179e"
             ],
             [
              0.4444444444444444,
              "#bd3786"
             ],
             [
              0.5555555555555556,
              "#d8576b"
             ],
             [
              0.6666666666666666,
              "#ed7953"
             ],
             [
              0.7777777777777778,
              "#fb9f3a"
             ],
             [
              0.8888888888888888,
              "#fdca26"
             ],
             [
              1,
              "#f0f921"
             ]
            ],
            "type": "heatmapgl"
           }
          ],
          "histogram": [
           {
            "marker": {
             "pattern": {
              "fillmode": "overlay",
              "size": 10,
              "solidity": 0.2
             }
            },
            "type": "histogram"
           }
          ],
          "histogram2d": [
           {
            "colorbar": {
             "outlinewidth": 0,
             "ticks": ""
            },
            "colorscale": [
             [
              0,
              "#0d0887"
             ],
             [
              0.1111111111111111,
              "#46039f"
             ],
             [
              0.2222222222222222,
              "#7201a8"
             ],
             [
              0.3333333333333333,
              "#9c179e"
             ],
             [
              0.4444444444444444,
              "#bd3786"
             ],
             [
              0.5555555555555556,
              "#d8576b"
             ],
             [
              0.6666666666666666,
              "#ed7953"
             ],
             [
              0.7777777777777778,
              "#fb9f3a"
             ],
             [
              0.8888888888888888,
              "#fdca26"
             ],
             [
              1,
              "#f0f921"
             ]
            ],
            "type": "histogram2d"
           }
          ],
          "histogram2dcontour": [
           {
            "colorbar": {
             "outlinewidth": 0,
             "ticks": ""
            },
            "colorscale": [
             [
              0,
              "#0d0887"
             ],
             [
              0.1111111111111111,
              "#46039f"
             ],
             [
              0.2222222222222222,
              "#7201a8"
             ],
             [
              0.3333333333333333,
              "#9c179e"
             ],
             [
              0.4444444444444444,
              "#bd3786"
             ],
             [
              0.5555555555555556,
              "#d8576b"
             ],
             [
              0.6666666666666666,
              "#ed7953"
             ],
             [
              0.7777777777777778,
              "#fb9f3a"
             ],
             [
              0.8888888888888888,
              "#fdca26"
             ],
             [
              1,
              "#f0f921"
             ]
            ],
            "type": "histogram2dcontour"
           }
          ],
          "mesh3d": [
           {
            "colorbar": {
             "outlinewidth": 0,
             "ticks": ""
            },
            "type": "mesh3d"
           }
          ],
          "parcoords": [
           {
            "line": {
             "colorbar": {
              "outlinewidth": 0,
              "ticks": ""
             }
            },
            "type": "parcoords"
           }
          ],
          "pie": [
           {
            "automargin": true,
            "type": "pie"
           }
          ],
          "scatter": [
           {
            "marker": {
             "line": {
              "color": "#283442"
             }
            },
            "type": "scatter"
           }
          ],
          "scatter3d": [
           {
            "line": {
             "colorbar": {
              "outlinewidth": 0,
              "ticks": ""
             }
            },
            "marker": {
             "colorbar": {
              "outlinewidth": 0,
              "ticks": ""
             }
            },
            "type": "scatter3d"
           }
          ],
          "scattercarpet": [
           {
            "marker": {
             "colorbar": {
              "outlinewidth": 0,
              "ticks": ""
             }
            },
            "type": "scattercarpet"
           }
          ],
          "scattergeo": [
           {
            "marker": {
             "colorbar": {
              "outlinewidth": 0,
              "ticks": ""
             }
            },
            "type": "scattergeo"
           }
          ],
          "scattergl": [
           {
            "marker": {
             "line": {
              "color": "#283442"
             }
            },
            "type": "scattergl"
           }
          ],
          "scattermapbox": [
           {
            "marker": {
             "colorbar": {
              "outlinewidth": 0,
              "ticks": ""
             }
            },
            "type": "scattermapbox"
           }
          ],
          "scatterpolar": [
           {
            "marker": {
             "colorbar": {
              "outlinewidth": 0,
              "ticks": ""
             }
            },
            "type": "scatterpolar"
           }
          ],
          "scatterpolargl": [
           {
            "marker": {
             "colorbar": {
              "outlinewidth": 0,
              "ticks": ""
             }
            },
            "type": "scatterpolargl"
           }
          ],
          "scatterternary": [
           {
            "marker": {
             "colorbar": {
              "outlinewidth": 0,
              "ticks": ""
             }
            },
            "type": "scatterternary"
           }
          ],
          "surface": [
           {
            "colorbar": {
             "outlinewidth": 0,
             "ticks": ""
            },
            "colorscale": [
             [
              0,
              "#0d0887"
             ],
             [
              0.1111111111111111,
              "#46039f"
             ],
             [
              0.2222222222222222,
              "#7201a8"
             ],
             [
              0.3333333333333333,
              "#9c179e"
             ],
             [
              0.4444444444444444,
              "#bd3786"
             ],
             [
              0.5555555555555556,
              "#d8576b"
             ],
             [
              0.6666666666666666,
              "#ed7953"
             ],
             [
              0.7777777777777778,
              "#fb9f3a"
             ],
             [
              0.8888888888888888,
              "#fdca26"
             ],
             [
              1,
              "#f0f921"
             ]
            ],
            "type": "surface"
           }
          ],
          "table": [
           {
            "cells": {
             "fill": {
              "color": "#506784"
             },
             "line": {
              "color": "rgb(17,17,17)"
             }
            },
            "header": {
             "fill": {
              "color": "#2a3f5f"
             },
             "line": {
              "color": "rgb(17,17,17)"
             }
            },
            "type": "table"
           }
          ]
         },
         "layout": {
          "annotationdefaults": {
           "arrowcolor": "#f2f5fa",
           "arrowhead": 0,
           "arrowwidth": 1
          },
          "autotypenumbers": "strict",
          "coloraxis": {
           "colorbar": {
            "outlinewidth": 0,
            "ticks": ""
           }
          },
          "colorscale": {
           "diverging": [
            [
             0,
             "#8e0152"
            ],
            [
             0.1,
             "#c51b7d"
            ],
            [
             0.2,
             "#de77ae"
            ],
            [
             0.3,
             "#f1b6da"
            ],
            [
             0.4,
             "#fde0ef"
            ],
            [
             0.5,
             "#f7f7f7"
            ],
            [
             0.6,
             "#e6f5d0"
            ],
            [
             0.7,
             "#b8e186"
            ],
            [
             0.8,
             "#7fbc41"
            ],
            [
             0.9,
             "#4d9221"
            ],
            [
             1,
             "#276419"
            ]
           ],
           "sequential": [
            [
             0,
             "#0d0887"
            ],
            [
             0.1111111111111111,
             "#46039f"
            ],
            [
             0.2222222222222222,
             "#7201a8"
            ],
            [
             0.3333333333333333,
             "#9c179e"
            ],
            [
             0.4444444444444444,
             "#bd3786"
            ],
            [
             0.5555555555555556,
             "#d8576b"
            ],
            [
             0.6666666666666666,
             "#ed7953"
            ],
            [
             0.7777777777777778,
             "#fb9f3a"
            ],
            [
             0.8888888888888888,
             "#fdca26"
            ],
            [
             1,
             "#f0f921"
            ]
           ],
           "sequentialminus": [
            [
             0,
             "#0d0887"
            ],
            [
             0.1111111111111111,
             "#46039f"
            ],
            [
             0.2222222222222222,
             "#7201a8"
            ],
            [
             0.3333333333333333,
             "#9c179e"
            ],
            [
             0.4444444444444444,
             "#bd3786"
            ],
            [
             0.5555555555555556,
             "#d8576b"
            ],
            [
             0.6666666666666666,
             "#ed7953"
            ],
            [
             0.7777777777777778,
             "#fb9f3a"
            ],
            [
             0.8888888888888888,
             "#fdca26"
            ],
            [
             1,
             "#f0f921"
            ]
           ]
          },
          "colorway": [
           "#636efa",
           "#EF553B",
           "#00cc96",
           "#ab63fa",
           "#FFA15A",
           "#19d3f3",
           "#FF6692",
           "#B6E880",
           "#FF97FF",
           "#FECB52"
          ],
          "font": {
           "color": "#f2f5fa"
          },
          "geo": {
           "bgcolor": "rgb(17,17,17)",
           "lakecolor": "rgb(17,17,17)",
           "landcolor": "rgb(17,17,17)",
           "showlakes": true,
           "showland": true,
           "subunitcolor": "#506784"
          },
          "hoverlabel": {
           "align": "left"
          },
          "hovermode": "closest",
          "mapbox": {
           "style": "dark"
          },
          "paper_bgcolor": "rgb(17,17,17)",
          "plot_bgcolor": "rgb(17,17,17)",
          "polar": {
           "angularaxis": {
            "gridcolor": "#506784",
            "linecolor": "#506784",
            "ticks": ""
           },
           "bgcolor": "rgb(17,17,17)",
           "radialaxis": {
            "gridcolor": "#506784",
            "linecolor": "#506784",
            "ticks": ""
           }
          },
          "scene": {
           "xaxis": {
            "backgroundcolor": "rgb(17,17,17)",
            "gridcolor": "#506784",
            "gridwidth": 2,
            "linecolor": "#506784",
            "showbackground": true,
            "ticks": "",
            "zerolinecolor": "#C8D4E3"
           },
           "yaxis": {
            "backgroundcolor": "rgb(17,17,17)",
            "gridcolor": "#506784",
            "gridwidth": 2,
            "linecolor": "#506784",
            "showbackground": true,
            "ticks": "",
            "zerolinecolor": "#C8D4E3"
           },
           "zaxis": {
            "backgroundcolor": "rgb(17,17,17)",
            "gridcolor": "#506784",
            "gridwidth": 2,
            "linecolor": "#506784",
            "showbackground": true,
            "ticks": "",
            "zerolinecolor": "#C8D4E3"
           }
          },
          "shapedefaults": {
           "line": {
            "color": "#f2f5fa"
           }
          },
          "sliderdefaults": {
           "bgcolor": "#C8D4E3",
           "bordercolor": "rgb(17,17,17)",
           "borderwidth": 1,
           "tickwidth": 0
          },
          "ternary": {
           "aaxis": {
            "gridcolor": "#506784",
            "linecolor": "#506784",
            "ticks": ""
           },
           "baxis": {
            "gridcolor": "#506784",
            "linecolor": "#506784",
            "ticks": ""
           },
           "bgcolor": "rgb(17,17,17)",
           "caxis": {
            "gridcolor": "#506784",
            "linecolor": "#506784",
            "ticks": ""
           }
          },
          "title": {
           "x": 0.05
          },
          "updatemenudefaults": {
           "bgcolor": "#506784",
           "borderwidth": 0
          },
          "xaxis": {
           "automargin": true,
           "gridcolor": "#283442",
           "linecolor": "#506784",
           "ticks": "",
           "title": {
            "standoff": 15
           },
           "zerolinecolor": "#283442",
           "zerolinewidth": 2
          },
          "yaxis": {
           "automargin": true,
           "gridcolor": "#283442",
           "linecolor": "#506784",
           "ticks": "",
           "title": {
            "standoff": 15
           },
           "zerolinecolor": "#283442",
           "zerolinewidth": 2
          }
         }
        },
        "xaxis": {
         "anchor": "y",
         "domain": [
          0,
          1
         ],
         "title": {
          "text": "house_price_unit_area"
         }
        },
        "xaxis2": {
         "anchor": "y2",
         "domain": [
          0,
          1
         ],
         "matches": "x",
         "showgrid": true,
         "showticklabels": false
        },
        "yaxis": {
         "anchor": "x",
         "domain": [
          0,
          0.7326
         ],
         "title": {
          "text": "house_size"
         }
        },
        "yaxis2": {
         "anchor": "x2",
         "domain": [
          0.7426,
          1
         ],
         "matches": "y2",
         "showgrid": false,
         "showline": false,
         "showticklabels": false,
         "ticks": ""
        }
       }
      }
     },
     "metadata": {},
     "output_type": "display_data"
    },
    {
     "data": {
      "application/vnd.plotly.v1+json": {
       "config": {
        "plotlyServerURL": "https://plot.ly"
       },
       "data": [
        {
         "alignmentgroup": "True",
         "bingroup": "x",
         "hovertemplate": "variable=transaction_year<br>value=%{x}<br>count=%{y}<extra></extra>",
         "legendgroup": "transaction_year",
         "marker": {
          "color": "#636efa",
          "line": {
           "color": "white",
           "width": 0.5
          },
          "pattern": {
           "shape": ""
          }
         },
         "name": "transaction_year",
         "offsetgroup": "transaction_year",
         "orientation": "v",
         "showlegend": false,
         "type": "histogram",
         "x": [
          2012,
          2012,
          2013,
          2013,
          2012,
          2012,
          2012,
          2013,
          2013,
          2013,
          2013,
          2013,
          2012,
          2012,
          2013,
          2013,
          2013,
          2012,
          2013,
          2012,
          2013,
          2013,
          2012,
          2013,
          2013,
          2013,
          2012,
          2013,
          2013,
          2013,
          2013,
          2012,
          2012,
          2013,
          2012,
          2013,
          2012,
          2013,
          2012,
          2013,
          2013,
          2013,
          2013,
          2012,
          2013,
          2013,
          2013,
          2013,
          2013,
          2012,
          2013,
          2013,
          2013,
          2013,
          2013,
          2012,
          2013,
          2012,
          2013,
          2013,
          2013,
          2013,
          2012,
          2013,
          2013,
          2013,
          2013,
          2013,
          2013,
          2012,
          2013,
          2013,
          2013,
          2013,
          2012,
          2013,
          2013,
          2012,
          2012,
          2013,
          2013,
          2013,
          2013,
          2012,
          2013,
          2012,
          2012,
          2013,
          2012,
          2013,
          2012,
          2013,
          2012,
          2012,
          2012,
          2012,
          2013,
          2013,
          2013,
          2013,
          2013,
          2012,
          2013,
          2012,
          2012,
          2012,
          2013,
          2013,
          2013,
          2013,
          2013,
          2013,
          2013,
          2013,
          2012,
          2013,
          2013,
          2013,
          2013,
          2013,
          2013,
          2013,
          2013,
          2013,
          2012,
          2013,
          2013,
          2013,
          2013,
          2013,
          2013,
          2013,
          2013,
          2012,
          2012,
          2012,
          2012,
          2013,
          2013,
          2012,
          2013,
          2013,
          2013,
          2013,
          2013,
          2012,
          2012,
          2012,
          2013,
          2012,
          2013,
          2013,
          2013,
          2013,
          2013,
          2013,
          2013,
          2013,
          2013,
          2012,
          2012,
          2013,
          2012,
          2013,
          2012,
          2012,
          2013,
          2013,
          2013,
          2013,
          2013,
          2013,
          2013,
          2013,
          2013,
          2013,
          2012,
          2013,
          2013,
          2013,
          2012,
          2013,
          2013,
          2013,
          2012,
          2012,
          2013,
          2013,
          2012,
          2012,
          2013,
          2013,
          2013,
          2013,
          2013,
          2013,
          2013,
          2013,
          2013,
          2013,
          2013,
          2013,
          2012,
          2012,
          2013,
          2013,
          2013,
          2013,
          2012,
          2012,
          2013,
          2013,
          2013,
          2013,
          2013,
          2013,
          2013,
          2012,
          2013,
          2012,
          2013,
          2013,
          2013,
          2013,
          2013,
          2013,
          2013,
          2012,
          2013,
          2013,
          2013,
          2012,
          2012,
          2013,
          2013,
          2012,
          2013,
          2013,
          2013,
          2013,
          2013,
          2013,
          2012,
          2013,
          2013,
          2013,
          2013,
          2013,
          2013,
          2012,
          2013,
          2012,
          2012,
          2012,
          2012,
          2013,
          2012,
          2013,
          2013,
          2013,
          2013,
          2013,
          2012,
          2013,
          2013,
          2012,
          2013,
          2012,
          2013,
          2013,
          2013,
          2012,
          2012,
          2013,
          2013,
          2012,
          2013,
          2013,
          2012,
          2013,
          2013,
          2013,
          2012,
          2013,
          2012,
          2013,
          2012,
          2013,
          2013,
          2013,
          2013,
          2012,
          2013,
          2012,
          2013,
          2013,
          2012,
          2012,
          2013,
          2013,
          2013,
          2012,
          2013,
          2013,
          2013,
          2013,
          2013,
          2012,
          2013,
          2013,
          2013,
          2013,
          2013,
          2013,
          2013,
          2013,
          2013,
          2012,
          2013,
          2013,
          2012,
          2012,
          2013,
          2013,
          2012,
          2013,
          2013,
          2013,
          2012,
          2013,
          2013,
          2013,
          2013,
          2012,
          2012,
          2013,
          2012,
          2012,
          2012,
          2013,
          2013,
          2013,
          2012,
          2013,
          2013,
          2012,
          2013,
          2013,
          2012,
          2012,
          2013,
          2012,
          2012,
          2013,
          2013,
          2013,
          2012,
          2013,
          2013,
          2013,
          2012,
          2013,
          2013,
          2013,
          2013,
          2012,
          2012,
          2012,
          2013,
          2012,
          2012,
          2013,
          2013,
          2013,
          2013,
          2013,
          2013,
          2013,
          2013,
          2013,
          2013,
          2013,
          2013,
          2012,
          2012,
          2013,
          2012,
          2013,
          2013,
          2013,
          2013,
          2013,
          2013,
          2013,
          2013,
          2012,
          2012,
          2013,
          2013,
          2012,
          2013,
          2013,
          2012,
          2012,
          2013,
          2012,
          2013,
          2013,
          2013,
          2013,
          2012,
          2013,
          2013,
          2013
         ],
         "xaxis": "x",
         "yaxis": "y"
        },
        {
         "alignmentgroup": "True",
         "boxpoints": "all",
         "fillcolor": "rgba(255,255,255,0)",
         "hoveron": "points",
         "hovertemplate": "variable=transaction_year<br>value=%{x}<extra></extra>",
         "jitter": 0,
         "legendgroup": "transaction_year",
         "line": {
          "color": "rgba(255,255,255,0)"
         },
         "marker": {
          "color": "#636efa",
          "line": {
           "color": "white",
           "width": 0.5
          },
          "symbol": "line-ns-open"
         },
         "name": "transaction_year",
         "offsetgroup": "transaction_year",
         "showlegend": false,
         "type": "box",
         "x": [
          2012,
          2012,
          2013,
          2013,
          2012,
          2012,
          2012,
          2013,
          2013,
          2013,
          2013,
          2013,
          2012,
          2012,
          2013,
          2013,
          2013,
          2012,
          2013,
          2012,
          2013,
          2013,
          2012,
          2013,
          2013,
          2013,
          2012,
          2013,
          2013,
          2013,
          2013,
          2012,
          2012,
          2013,
          2012,
          2013,
          2012,
          2013,
          2012,
          2013,
          2013,
          2013,
          2013,
          2012,
          2013,
          2013,
          2013,
          2013,
          2013,
          2012,
          2013,
          2013,
          2013,
          2013,
          2013,
          2012,
          2013,
          2012,
          2013,
          2013,
          2013,
          2013,
          2012,
          2013,
          2013,
          2013,
          2013,
          2013,
          2013,
          2012,
          2013,
          2013,
          2013,
          2013,
          2012,
          2013,
          2013,
          2012,
          2012,
          2013,
          2013,
          2013,
          2013,
          2012,
          2013,
          2012,
          2012,
          2013,
          2012,
          2013,
          2012,
          2013,
          2012,
          2012,
          2012,
          2012,
          2013,
          2013,
          2013,
          2013,
          2013,
          2012,
          2013,
          2012,
          2012,
          2012,
          2013,
          2013,
          2013,
          2013,
          2013,
          2013,
          2013,
          2013,
          2012,
          2013,
          2013,
          2013,
          2013,
          2013,
          2013,
          2013,
          2013,
          2013,
          2012,
          2013,
          2013,
          2013,
          2013,
          2013,
          2013,
          2013,
          2013,
          2012,
          2012,
          2012,
          2012,
          2013,
          2013,
          2012,
          2013,
          2013,
          2013,
          2013,
          2013,
          2012,
          2012,
          2012,
          2013,
          2012,
          2013,
          2013,
          2013,
          2013,
          2013,
          2013,
          2013,
          2013,
          2013,
          2012,
          2012,
          2013,
          2012,
          2013,
          2012,
          2012,
          2013,
          2013,
          2013,
          2013,
          2013,
          2013,
          2013,
          2013,
          2013,
          2013,
          2012,
          2013,
          2013,
          2013,
          2012,
          2013,
          2013,
          2013,
          2012,
          2012,
          2013,
          2013,
          2012,
          2012,
          2013,
          2013,
          2013,
          2013,
          2013,
          2013,
          2013,
          2013,
          2013,
          2013,
          2013,
          2013,
          2012,
          2012,
          2013,
          2013,
          2013,
          2013,
          2012,
          2012,
          2013,
          2013,
          2013,
          2013,
          2013,
          2013,
          2013,
          2012,
          2013,
          2012,
          2013,
          2013,
          2013,
          2013,
          2013,
          2013,
          2013,
          2012,
          2013,
          2013,
          2013,
          2012,
          2012,
          2013,
          2013,
          2012,
          2013,
          2013,
          2013,
          2013,
          2013,
          2013,
          2012,
          2013,
          2013,
          2013,
          2013,
          2013,
          2013,
          2012,
          2013,
          2012,
          2012,
          2012,
          2012,
          2013,
          2012,
          2013,
          2013,
          2013,
          2013,
          2013,
          2012,
          2013,
          2013,
          2012,
          2013,
          2012,
          2013,
          2013,
          2013,
          2012,
          2012,
          2013,
          2013,
          2012,
          2013,
          2013,
          2012,
          2013,
          2013,
          2013,
          2012,
          2013,
          2012,
          2013,
          2012,
          2013,
          2013,
          2013,
          2013,
          2012,
          2013,
          2012,
          2013,
          2013,
          2012,
          2012,
          2013,
          2013,
          2013,
          2012,
          2013,
          2013,
          2013,
          2013,
          2013,
          2012,
          2013,
          2013,
          2013,
          2013,
          2013,
          2013,
          2013,
          2013,
          2013,
          2012,
          2013,
          2013,
          2012,
          2012,
          2013,
          2013,
          2012,
          2013,
          2013,
          2013,
          2012,
          2013,
          2013,
          2013,
          2013,
          2012,
          2012,
          2013,
          2012,
          2012,
          2012,
          2013,
          2013,
          2013,
          2012,
          2013,
          2013,
          2012,
          2013,
          2013,
          2012,
          2012,
          2013,
          2012,
          2012,
          2013,
          2013,
          2013,
          2012,
          2013,
          2013,
          2013,
          2012,
          2013,
          2013,
          2013,
          2013,
          2012,
          2012,
          2012,
          2013,
          2012,
          2012,
          2013,
          2013,
          2013,
          2013,
          2013,
          2013,
          2013,
          2013,
          2013,
          2013,
          2013,
          2013,
          2012,
          2012,
          2013,
          2012,
          2013,
          2013,
          2013,
          2013,
          2013,
          2013,
          2013,
          2013,
          2012,
          2012,
          2013,
          2013,
          2012,
          2013,
          2013,
          2012,
          2012,
          2013,
          2012,
          2013,
          2013,
          2013,
          2013,
          2012,
          2013,
          2013,
          2013
         ],
         "xaxis": "x2",
         "yaxis": "y2"
        }
       ],
       "layout": {
        "barmode": "relative",
        "legend": {
         "title": {
          "text": "variable"
         },
         "tracegroupgap": 0
        },
        "margin": {
         "t": 60
        },
        "template": {
         "data": {
          "bar": [
           {
            "error_x": {
             "color": "#f2f5fa"
            },
            "error_y": {
             "color": "#f2f5fa"
            },
            "marker": {
             "line": {
              "color": "rgb(17,17,17)",
              "width": 0.5
             },
             "pattern": {
              "fillmode": "overlay",
              "size": 10,
              "solidity": 0.2
             }
            },
            "type": "bar"
           }
          ],
          "barpolar": [
           {
            "marker": {
             "line": {
              "color": "rgb(17,17,17)",
              "width": 0.5
             },
             "pattern": {
              "fillmode": "overlay",
              "size": 10,
              "solidity": 0.2
             }
            },
            "type": "barpolar"
           }
          ],
          "carpet": [
           {
            "aaxis": {
             "endlinecolor": "#A2B1C6",
             "gridcolor": "#506784",
             "linecolor": "#506784",
             "minorgridcolor": "#506784",
             "startlinecolor": "#A2B1C6"
            },
            "baxis": {
             "endlinecolor": "#A2B1C6",
             "gridcolor": "#506784",
             "linecolor": "#506784",
             "minorgridcolor": "#506784",
             "startlinecolor": "#A2B1C6"
            },
            "type": "carpet"
           }
          ],
          "choropleth": [
           {
            "colorbar": {
             "outlinewidth": 0,
             "ticks": ""
            },
            "type": "choropleth"
           }
          ],
          "contour": [
           {
            "colorbar": {
             "outlinewidth": 0,
             "ticks": ""
            },
            "colorscale": [
             [
              0,
              "#0d0887"
             ],
             [
              0.1111111111111111,
              "#46039f"
             ],
             [
              0.2222222222222222,
              "#7201a8"
             ],
             [
              0.3333333333333333,
              "#9c179e"
             ],
             [
              0.4444444444444444,
              "#bd3786"
             ],
             [
              0.5555555555555556,
              "#d8576b"
             ],
             [
              0.6666666666666666,
              "#ed7953"
             ],
             [
              0.7777777777777778,
              "#fb9f3a"
             ],
             [
              0.8888888888888888,
              "#fdca26"
             ],
             [
              1,
              "#f0f921"
             ]
            ],
            "type": "contour"
           }
          ],
          "contourcarpet": [
           {
            "colorbar": {
             "outlinewidth": 0,
             "ticks": ""
            },
            "type": "contourcarpet"
           }
          ],
          "heatmap": [
           {
            "colorbar": {
             "outlinewidth": 0,
             "ticks": ""
            },
            "colorscale": [
             [
              0,
              "#0d0887"
             ],
             [
              0.1111111111111111,
              "#46039f"
             ],
             [
              0.2222222222222222,
              "#7201a8"
             ],
             [
              0.3333333333333333,
              "#9c179e"
             ],
             [
              0.4444444444444444,
              "#bd3786"
             ],
             [
              0.5555555555555556,
              "#d8576b"
             ],
             [
              0.6666666666666666,
              "#ed7953"
             ],
             [
              0.7777777777777778,
              "#fb9f3a"
             ],
             [
              0.8888888888888888,
              "#fdca26"
             ],
             [
              1,
              "#f0f921"
             ]
            ],
            "type": "heatmap"
           }
          ],
          "heatmapgl": [
           {
            "colorbar": {
             "outlinewidth": 0,
             "ticks": ""
            },
            "colorscale": [
             [
              0,
              "#0d0887"
             ],
             [
              0.1111111111111111,
              "#46039f"
             ],
             [
              0.2222222222222222,
              "#7201a8"
             ],
             [
              0.3333333333333333,
              "#9c179e"
             ],
             [
              0.4444444444444444,
              "#bd3786"
             ],
             [
              0.5555555555555556,
              "#d8576b"
             ],
             [
              0.6666666666666666,
              "#ed7953"
             ],
             [
              0.7777777777777778,
              "#fb9f3a"
             ],
             [
              0.8888888888888888,
              "#fdca26"
             ],
             [
              1,
              "#f0f921"
             ]
            ],
            "type": "heatmapgl"
           }
          ],
          "histogram": [
           {
            "marker": {
             "pattern": {
              "fillmode": "overlay",
              "size": 10,
              "solidity": 0.2
             }
            },
            "type": "histogram"
           }
          ],
          "histogram2d": [
           {
            "colorbar": {
             "outlinewidth": 0,
             "ticks": ""
            },
            "colorscale": [
             [
              0,
              "#0d0887"
             ],
             [
              0.1111111111111111,
              "#46039f"
             ],
             [
              0.2222222222222222,
              "#7201a8"
             ],
             [
              0.3333333333333333,
              "#9c179e"
             ],
             [
              0.4444444444444444,
              "#bd3786"
             ],
             [
              0.5555555555555556,
              "#d8576b"
             ],
             [
              0.6666666666666666,
              "#ed7953"
             ],
             [
              0.7777777777777778,
              "#fb9f3a"
             ],
             [
              0.8888888888888888,
              "#fdca26"
             ],
             [
              1,
              "#f0f921"
             ]
            ],
            "type": "histogram2d"
           }
          ],
          "histogram2dcontour": [
           {
            "colorbar": {
             "outlinewidth": 0,
             "ticks": ""
            },
            "colorscale": [
             [
              0,
              "#0d0887"
             ],
             [
              0.1111111111111111,
              "#46039f"
             ],
             [
              0.2222222222222222,
              "#7201a8"
             ],
             [
              0.3333333333333333,
              "#9c179e"
             ],
             [
              0.4444444444444444,
              "#bd3786"
             ],
             [
              0.5555555555555556,
              "#d8576b"
             ],
             [
              0.6666666666666666,
              "#ed7953"
             ],
             [
              0.7777777777777778,
              "#fb9f3a"
             ],
             [
              0.8888888888888888,
              "#fdca26"
             ],
             [
              1,
              "#f0f921"
             ]
            ],
            "type": "histogram2dcontour"
           }
          ],
          "mesh3d": [
           {
            "colorbar": {
             "outlinewidth": 0,
             "ticks": ""
            },
            "type": "mesh3d"
           }
          ],
          "parcoords": [
           {
            "line": {
             "colorbar": {
              "outlinewidth": 0,
              "ticks": ""
             }
            },
            "type": "parcoords"
           }
          ],
          "pie": [
           {
            "automargin": true,
            "type": "pie"
           }
          ],
          "scatter": [
           {
            "marker": {
             "line": {
              "color": "#283442"
             }
            },
            "type": "scatter"
           }
          ],
          "scatter3d": [
           {
            "line": {
             "colorbar": {
              "outlinewidth": 0,
              "ticks": ""
             }
            },
            "marker": {
             "colorbar": {
              "outlinewidth": 0,
              "ticks": ""
             }
            },
            "type": "scatter3d"
           }
          ],
          "scattercarpet": [
           {
            "marker": {
             "colorbar": {
              "outlinewidth": 0,
              "ticks": ""
             }
            },
            "type": "scattercarpet"
           }
          ],
          "scattergeo": [
           {
            "marker": {
             "colorbar": {
              "outlinewidth": 0,
              "ticks": ""
             }
            },
            "type": "scattergeo"
           }
          ],
          "scattergl": [
           {
            "marker": {
             "line": {
              "color": "#283442"
             }
            },
            "type": "scattergl"
           }
          ],
          "scattermapbox": [
           {
            "marker": {
             "colorbar": {
              "outlinewidth": 0,
              "ticks": ""
             }
            },
            "type": "scattermapbox"
           }
          ],
          "scatterpolar": [
           {
            "marker": {
             "colorbar": {
              "outlinewidth": 0,
              "ticks": ""
             }
            },
            "type": "scatterpolar"
           }
          ],
          "scatterpolargl": [
           {
            "marker": {
             "colorbar": {
              "outlinewidth": 0,
              "ticks": ""
             }
            },
            "type": "scatterpolargl"
           }
          ],
          "scatterternary": [
           {
            "marker": {
             "colorbar": {
              "outlinewidth": 0,
              "ticks": ""
             }
            },
            "type": "scatterternary"
           }
          ],
          "surface": [
           {
            "colorbar": {
             "outlinewidth": 0,
             "ticks": ""
            },
            "colorscale": [
             [
              0,
              "#0d0887"
             ],
             [
              0.1111111111111111,
              "#46039f"
             ],
             [
              0.2222222222222222,
              "#7201a8"
             ],
             [
              0.3333333333333333,
              "#9c179e"
             ],
             [
              0.4444444444444444,
              "#bd3786"
             ],
             [
              0.5555555555555556,
              "#d8576b"
             ],
             [
              0.6666666666666666,
              "#ed7953"
             ],
             [
              0.7777777777777778,
              "#fb9f3a"
             ],
             [
              0.8888888888888888,
              "#fdca26"
             ],
             [
              1,
              "#f0f921"
             ]
            ],
            "type": "surface"
           }
          ],
          "table": [
           {
            "cells": {
             "fill": {
              "color": "#506784"
             },
             "line": {
              "color": "rgb(17,17,17)"
             }
            },
            "header": {
             "fill": {
              "color": "#2a3f5f"
             },
             "line": {
              "color": "rgb(17,17,17)"
             }
            },
            "type": "table"
           }
          ]
         },
         "layout": {
          "annotationdefaults": {
           "arrowcolor": "#f2f5fa",
           "arrowhead": 0,
           "arrowwidth": 1
          },
          "autotypenumbers": "strict",
          "coloraxis": {
           "colorbar": {
            "outlinewidth": 0,
            "ticks": ""
           }
          },
          "colorscale": {
           "diverging": [
            [
             0,
             "#8e0152"
            ],
            [
             0.1,
             "#c51b7d"
            ],
            [
             0.2,
             "#de77ae"
            ],
            [
             0.3,
             "#f1b6da"
            ],
            [
             0.4,
             "#fde0ef"
            ],
            [
             0.5,
             "#f7f7f7"
            ],
            [
             0.6,
             "#e6f5d0"
            ],
            [
             0.7,
             "#b8e186"
            ],
            [
             0.8,
             "#7fbc41"
            ],
            [
             0.9,
             "#4d9221"
            ],
            [
             1,
             "#276419"
            ]
           ],
           "sequential": [
            [
             0,
             "#0d0887"
            ],
            [
             0.1111111111111111,
             "#46039f"
            ],
            [
             0.2222222222222222,
             "#7201a8"
            ],
            [
             0.3333333333333333,
             "#9c179e"
            ],
            [
             0.4444444444444444,
             "#bd3786"
            ],
            [
             0.5555555555555556,
             "#d8576b"
            ],
            [
             0.6666666666666666,
             "#ed7953"
            ],
            [
             0.7777777777777778,
             "#fb9f3a"
            ],
            [
             0.8888888888888888,
             "#fdca26"
            ],
            [
             1,
             "#f0f921"
            ]
           ],
           "sequentialminus": [
            [
             0,
             "#0d0887"
            ],
            [
             0.1111111111111111,
             "#46039f"
            ],
            [
             0.2222222222222222,
             "#7201a8"
            ],
            [
             0.3333333333333333,
             "#9c179e"
            ],
            [
             0.4444444444444444,
             "#bd3786"
            ],
            [
             0.5555555555555556,
             "#d8576b"
            ],
            [
             0.6666666666666666,
             "#ed7953"
            ],
            [
             0.7777777777777778,
             "#fb9f3a"
            ],
            [
             0.8888888888888888,
             "#fdca26"
            ],
            [
             1,
             "#f0f921"
            ]
           ]
          },
          "colorway": [
           "#636efa",
           "#EF553B",
           "#00cc96",
           "#ab63fa",
           "#FFA15A",
           "#19d3f3",
           "#FF6692",
           "#B6E880",
           "#FF97FF",
           "#FECB52"
          ],
          "font": {
           "color": "#f2f5fa"
          },
          "geo": {
           "bgcolor": "rgb(17,17,17)",
           "lakecolor": "rgb(17,17,17)",
           "landcolor": "rgb(17,17,17)",
           "showlakes": true,
           "showland": true,
           "subunitcolor": "#506784"
          },
          "hoverlabel": {
           "align": "left"
          },
          "hovermode": "closest",
          "mapbox": {
           "style": "dark"
          },
          "paper_bgcolor": "rgb(17,17,17)",
          "plot_bgcolor": "rgb(17,17,17)",
          "polar": {
           "angularaxis": {
            "gridcolor": "#506784",
            "linecolor": "#506784",
            "ticks": ""
           },
           "bgcolor": "rgb(17,17,17)",
           "radialaxis": {
            "gridcolor": "#506784",
            "linecolor": "#506784",
            "ticks": ""
           }
          },
          "scene": {
           "xaxis": {
            "backgroundcolor": "rgb(17,17,17)",
            "gridcolor": "#506784",
            "gridwidth": 2,
            "linecolor": "#506784",
            "showbackground": true,
            "ticks": "",
            "zerolinecolor": "#C8D4E3"
           },
           "yaxis": {
            "backgroundcolor": "rgb(17,17,17)",
            "gridcolor": "#506784",
            "gridwidth": 2,
            "linecolor": "#506784",
            "showbackground": true,
            "ticks": "",
            "zerolinecolor": "#C8D4E3"
           },
           "zaxis": {
            "backgroundcolor": "rgb(17,17,17)",
            "gridcolor": "#506784",
            "gridwidth": 2,
            "linecolor": "#506784",
            "showbackground": true,
            "ticks": "",
            "zerolinecolor": "#C8D4E3"
           }
          },
          "shapedefaults": {
           "line": {
            "color": "#f2f5fa"
           }
          },
          "sliderdefaults": {
           "bgcolor": "#C8D4E3",
           "bordercolor": "rgb(17,17,17)",
           "borderwidth": 1,
           "tickwidth": 0
          },
          "ternary": {
           "aaxis": {
            "gridcolor": "#506784",
            "linecolor": "#506784",
            "ticks": ""
           },
           "baxis": {
            "gridcolor": "#506784",
            "linecolor": "#506784",
            "ticks": ""
           },
           "bgcolor": "rgb(17,17,17)",
           "caxis": {
            "gridcolor": "#506784",
            "linecolor": "#506784",
            "ticks": ""
           }
          },
          "title": {
           "x": 0.05
          },
          "updatemenudefaults": {
           "bgcolor": "#506784",
           "borderwidth": 0
          },
          "xaxis": {
           "automargin": true,
           "gridcolor": "#283442",
           "linecolor": "#506784",
           "ticks": "",
           "title": {
            "standoff": 15
           },
           "zerolinecolor": "#283442",
           "zerolinewidth": 2
          },
          "yaxis": {
           "automargin": true,
           "gridcolor": "#283442",
           "linecolor": "#506784",
           "ticks": "",
           "title": {
            "standoff": 15
           },
           "zerolinecolor": "#283442",
           "zerolinewidth": 2
          }
         }
        },
        "xaxis": {
         "anchor": "y",
         "domain": [
          0,
          1
         ],
         "title": {
          "text": "house_price_unit_area"
         }
        },
        "xaxis2": {
         "anchor": "y2",
         "domain": [
          0,
          1
         ],
         "matches": "x",
         "showgrid": true,
         "showticklabels": false
        },
        "yaxis": {
         "anchor": "x",
         "domain": [
          0,
          0.7326
         ],
         "title": {
          "text": "transaction_year"
         }
        },
        "yaxis2": {
         "anchor": "x2",
         "domain": [
          0.7426,
          1
         ],
         "matches": "y2",
         "showgrid": false,
         "showline": false,
         "showticklabels": false,
         "ticks": ""
        }
       }
      }
     },
     "metadata": {},
     "output_type": "display_data"
    }
   ],
   "source": [
    "for feature in continuous_feature:\n",
    "    px.histogram(df[feature], marginal=\"rug\",).update_traces(\n",
    "        marker_line_width=0.5, marker_line_color=\"white\", showlegend=False\n",
    "    ).update_layout(xaxis_title=\"house_price_unit_area\", yaxis_title=feature).show()\n"
   ]
  },
  {
   "cell_type": "markdown",
   "metadata": {},
   "source": [
    "**OBSERVATION**\n",
    "\n",
    "- Feature are mostly normally distributed\n",
    "- `metro_dist` is right skewed\n"
   ]
  },
  {
   "cell_type": "code",
   "execution_count": 26,
   "metadata": {},
   "outputs": [
    {
     "data": {
      "application/vnd.plotly.v1+json": {
       "config": {
        "plotlyServerURL": "https://plot.ly"
       },
       "data": [
        {
         "alignmentgroup": "True",
         "bingroup": "x",
         "hovertemplate": "x=%{x}<br>count=%{y}<extra></extra>",
         "legendgroup": "",
         "marker": {
          "color": "#636efa",
          "pattern": {
           "shape": ""
          }
         },
         "name": "",
         "offsetgroup": "",
         "orientation": "v",
         "showlegend": false,
         "type": "histogram",
         "x": [
          4.44122459222983,
          5.7255266799217015,
          6.33147426944218,
          6.33147426944218,
          5.967603113992227,
          7.684797736531109,
          6.435305620644875,
          5.661579318437762,
          8.614689706719078,
          7.4861535662169265,
          6.00441384191657,
          4.504864207938641,
          6.1989487279708255,
          7.811829694596283,
          7.0603373005366565,
          6.361662171079328,
          5.680165100456455,
          5.860363057020496,
          5.908453250029812,
          3.1520024200099046,
          7.730120751606629,
          5.6318302285365975,
          7.215342179389785,
          5.6318302285365975,
          6.1752385901994735,
          7.305099501780681,
          5.9502841550376635,
          5.62202635548675,
          6.323423040672225,
          6.112007769940513,
          8.416198686403485,
          6.645615409336245,
          6.191488283337133,
          5.779678133659458,
          5.324798622464229,
          8.313709610164324,
          7.567867256615856,
          7.215342179389785,
          6.35950725745736,
          5.667549932469753,
          8.314346018032317,
          8.310559351697414,
          6.252793083086158,
          6.239860749283802,
          6.279414458687661,
          6.191992891529614,
          6.139803298925295,
          6.462622353784621,
          8.43506058475769,
          8.41413203021566,
          6.239395730888276,
          7.472162995836438,
          7.271411099801339,
          6.1989487279708255,
          5.667549932469753,
          7.056719963321954,
          5.916874343314656,
          4.0337847820534005,
          8.41413203021566,
          5.817269480763138,
          7.565900475026011,
          5.559375778761486,
          7.6851870806428995,
          6.279414458687661,
          6.903501645095003,
          4.81820602606549,
          5.2657141096538735,
          4.652150141289064,
          6.140365040221684,
          6.33147426944218,
          4.504864207938641,
          6.462622353784621,
          6.051016122828086,
          8.314346018032317,
          5.939006100509938,
          7.215342179389785,
          6.423896752375017,
          7.689429687049575,
          6.314339580757096,
          7.25476960909567,
          6.279414458687661,
          5.934353308625846,
          5.016847292950187,
          7.9037410888828745,
          5.9487670971033415,
          5.825905412631557,
          7.2833094828681295,
          8.310559351697414,
          7.2488098577614295,
          8.280950469351977,
          5.613180659751643,
          7.245666479797604,
          7.811829694596283,
          7.044319941588358,
          5.121573624780621,
          4.652150141289064,
          4.504864207938641,
          6.425585784799116,
          5.667549932469753,
          4.504864207938641,
          6.871868585802457,
          5.136556385029224,
          5.2657141096538735,
          5.339413723427497,
          5.972398693327525,
          5.680165100456455,
          5.244484534473134,
          7.215342179389785,
          6.384351885667002,
          7.672001910631349,
          4.652150141289064,
          5.281258691170102,
          7.650847670673581,
          5.97447249643843,
          4.968689751966038,
          6.6038301325009146,
          8.763472319379003,
          8.342208414510699,
          7.367533051921052,
          5.667549932469753,
          6.1989487279708255,
          6.1989487279708255,
          6.028152247198354,
          5.222675295188715,
          5.6318302285365975,
          5.2657141096538735,
          6.690456737269001,
          5.9502841550376635,
          4.828243334824105,
          5.379127010819732,
          6.283251308784817,
          7.672001910631349,
          6.179515700038912,
          5.9226333589781435,
          5.230940688316877,
          6.916947897100927,
          5.967603113992227,
          5.765413021732681,
          6.84850026881932,
          6.1989487279708255,
          5.667549932469753,
          7.35233019665811,
          6.462416320472989,
          6.1989487279708255,
          7.215342179389785,
          6.112007769940513,
          5.222675295188715,
          6.194164749908004,
          8.237635361089776,
          5.189917793184402,
          5.140089804183959,
          5.96041779591925,
          7.215342179389785,
          5.930043561402984,
          8.310559351697414,
          8.314346018032317,
          7.1426139396451545,
          6.704330282802691,
          5.967603113992227,
          6.704330282802691,
          3.9052209236341824,
          6.423896752375017,
          8.310559351697414,
          4.652150141289064,
          5.222675295188715,
          7.12009184461919,
          5.680165100456455,
          5.799351408859507,
          6.244384741012475,
          7.582039670459577,
          8.417966492052049,
          5.9502841550376635,
          4.504864207938641,
          5.996155278406073,
          6.068514704643496,
          6.157348620651927,
          8.428095056843516,
          5.198920146159982,
          7.042667218213508,
          6.084160631321537,
          8.400495316759622,
          5.30774231188565,
          7.672001910631349,
          8.314346018032317,
          7.86919718095856,
          7.277445357412223,
          7.689429687049575,
          8.032092492751115,
          5.247230366669784,
          8.310559351697414,
          6.4241775369092835,
          6.620167068791823,
          4.053339391203833,
          6.0437699541366925,
          8.23533280667449,
          6.133618409169771,
          6.562312305349001,
          4.842047791924928,
          5.060093171803316,
          6.112889609193917,
          6.903501645095003,
          6.33147426944218,
          6.465675718470674,
          5.667549932469753,
          7.25476960909567,
          7.279127092895267,
          5.939006100509938,
          6.499882675180472,
          7.215342179389785,
          5.168376093154962,
          5.967603113992227,
          5.613180659751643,
          7.498684223969241,
          4.504864207938641,
          7.4861535662169265,
          5.9498946167034035,
          6.381696213275555,
          5.92057040506537,
          6.1989487279708255,
          6.272456352045732,
          5.228485393113493,
          7.245666479797604,
          6.066366525383968,
          7.245666479797604,
          5.7836463971178445,
          5.2657141096538735,
          8.314346018032317,
          5.5799596109044005,
          8.061906021915783,
          7.053077387120519,
          7.672001910631349,
          8.312561238300233,
          8.392256756095447,
          5.809246684937554,
          7.703735183023551,
          5.523981737923899,
          5.9238249559525755,
          6.5969448631660175,
          6.5969448631660175,
          6.730687855026267,
          7.445786647457818,
          5.523981737923899,
          7.638867577072681,
          5.318955429084719,
          7.35233019665811,
          6.460873937328676,
          5.965689968153048,
          6.961359551002681,
          6.916947897100927,
          8.749281102417715,
          6.05141411759912,
          7.05570448363609,
          4.504864207938641,
          7.459105573071924,
          5.79901598485482,
          8.614689706719078,
          5.8266751007600925,
          6.096124967756477,
          5.680165100456455,
          6.730687855026267,
          7.3032353689688705,
          7.735438160180439,
          5.667549932469753,
          7.672001910631349,
          6.2018409440440285,
          6.704330282802691,
          7.4861535662169265,
          6.179515700038912,
          5.967603113992227,
          6.730687855026267,
          5.5317367402917395,
          6.112889609193917,
          6.1989487279708255,
          5.136556385029224,
          5.97639481696342,
          3.1520024200099046,
          6.133618409169771,
          7.689429687049575,
          5.339413723427497,
          7.348748393149447,
          5.216728714518072,
          5.96041779591925,
          7.2833094828681295,
          7.590180686203663,
          5.9487670971033415,
          6.576878538333675,
          4.504864207938641,
          6.133618409169771,
          5.7797899748969215,
          5.667549932469753,
          6.195108409235629,
          4.0337847820534005,
          5.980592409021043,
          5.9487670971033415,
          5.815703324189218,
          7.68689206470062,
          7.042667218213508,
          6.340420853861723,
          8.314346018032317,
          4.801774260307295,
          5.051420167927547,
          6.1350989816970145,
          7.735438160180439,
          6.086116555819769,
          7.393929334315433,
          5.667549932469753,
          5.135682547982442,
          8.032649161044136,
          5.667549932469753,
          7.1426139396451545,
          7.404582784646529,
          6.287481351481066,
          5.76371415055871,
          4.652150141289064,
          6.35950725745736,
          7.471027801478245,
          5.523981737923899,
          6.623755618122775,
          5.939006100509938,
          5.608292712061186,
          8.342208414510699,
          6.871868585802457,
          5.233684440954505,
          5.283882686011585,
          7.445786647457818,
          6.191992891529614,
          4.0337847820534005,
          6.62980925700138,
          7.311694556936642,
          8.342208414510699,
          7.053392968772541,
          8.416198686403485,
          6.4260245958452185,
          4.652150141289064,
          6.921008071493011,
          5.821866502047064,
          7.532212934897967,
          6.3983626280200285,
          5.553680255408807,
          5.79901598485482,
          5.601710988649951,
          6.620167068791823,
          4.504864207938641,
          6.3337864268713595,
          8.034362040169704,
          5.222675295188715,
          7.445786647457818,
          8.77771283253477,
          5.559375778761486,
          4.652150141289064,
          6.1989487279708255,
          7.687192534789478,
          7.891690079784573,
          7.672001910631349,
          7.215342179389785,
          5.9502841550376635,
          5.353975794860856,
          5.825905412631557,
          5.2657141096538735,
          7.78696409684062,
          4.469375892075496,
          5.639083940717264,
          6.874612060388883,
          4.699984788468803,
          6.4202219382090275,
          7.72375351992725,
          7.49639935398092,
          7.5111522444480485,
          5.860363057020496,
          7.689429687049575,
          5.667549932469753,
          5.745871825740748,
          5.060093171803316,
          5.613180659751643,
          5.967603113992227,
          7.054439295384947,
          7.44844625993865,
          3.9052209236341824,
          6.376535943263845,
          5.680165100456455,
          5.667549932469753,
          4.886936545060564,
          8.168929629551139,
          6.226762730690183,
          8.310559351697414,
          4.417471357548174,
          5.222675295188715,
          7.651384049586778,
          7.7195464577971125,
          4.806983047112456,
          5.9344448883469845,
          7.570313862243574,
          6.095378517022814,
          6.874612060388883,
          8.32754993628549,
          6.239395730888276,
          6.822889634624444,
          7.0603373005366565,
          7.44844625993865,
          5.136556385029224,
          6.179515700038912,
          7.684797736531109,
          5.233684440954505,
          5.087238246434885,
          5.667549932469753,
          4.875155337586944,
          5.919266365527375,
          7.78696409684062,
          7.685125953996052,
          8.314346018032317,
          4.504864207938641,
          5.968629807602114,
          4.652150141289064,
          4.504864207938641
         ],
         "xaxis": "x",
         "yaxis": "y"
        }
       ],
       "layout": {
        "barmode": "relative",
        "legend": {
         "tracegroupgap": 0
        },
        "margin": {
         "t": 60
        },
        "template": {
         "data": {
          "bar": [
           {
            "error_x": {
             "color": "#f2f5fa"
            },
            "error_y": {
             "color": "#f2f5fa"
            },
            "marker": {
             "line": {
              "color": "rgb(17,17,17)",
              "width": 0.5
             },
             "pattern": {
              "fillmode": "overlay",
              "size": 10,
              "solidity": 0.2
             }
            },
            "type": "bar"
           }
          ],
          "barpolar": [
           {
            "marker": {
             "line": {
              "color": "rgb(17,17,17)",
              "width": 0.5
             },
             "pattern": {
              "fillmode": "overlay",
              "size": 10,
              "solidity": 0.2
             }
            },
            "type": "barpolar"
           }
          ],
          "carpet": [
           {
            "aaxis": {
             "endlinecolor": "#A2B1C6",
             "gridcolor": "#506784",
             "linecolor": "#506784",
             "minorgridcolor": "#506784",
             "startlinecolor": "#A2B1C6"
            },
            "baxis": {
             "endlinecolor": "#A2B1C6",
             "gridcolor": "#506784",
             "linecolor": "#506784",
             "minorgridcolor": "#506784",
             "startlinecolor": "#A2B1C6"
            },
            "type": "carpet"
           }
          ],
          "choropleth": [
           {
            "colorbar": {
             "outlinewidth": 0,
             "ticks": ""
            },
            "type": "choropleth"
           }
          ],
          "contour": [
           {
            "colorbar": {
             "outlinewidth": 0,
             "ticks": ""
            },
            "colorscale": [
             [
              0,
              "#0d0887"
             ],
             [
              0.1111111111111111,
              "#46039f"
             ],
             [
              0.2222222222222222,
              "#7201a8"
             ],
             [
              0.3333333333333333,
              "#9c179e"
             ],
             [
              0.4444444444444444,
              "#bd3786"
             ],
             [
              0.5555555555555556,
              "#d8576b"
             ],
             [
              0.6666666666666666,
              "#ed7953"
             ],
             [
              0.7777777777777778,
              "#fb9f3a"
             ],
             [
              0.8888888888888888,
              "#fdca26"
             ],
             [
              1,
              "#f0f921"
             ]
            ],
            "type": "contour"
           }
          ],
          "contourcarpet": [
           {
            "colorbar": {
             "outlinewidth": 0,
             "ticks": ""
            },
            "type": "contourcarpet"
           }
          ],
          "heatmap": [
           {
            "colorbar": {
             "outlinewidth": 0,
             "ticks": ""
            },
            "colorscale": [
             [
              0,
              "#0d0887"
             ],
             [
              0.1111111111111111,
              "#46039f"
             ],
             [
              0.2222222222222222,
              "#7201a8"
             ],
             [
              0.3333333333333333,
              "#9c179e"
             ],
             [
              0.4444444444444444,
              "#bd3786"
             ],
             [
              0.5555555555555556,
              "#d8576b"
             ],
             [
              0.6666666666666666,
              "#ed7953"
             ],
             [
              0.7777777777777778,
              "#fb9f3a"
             ],
             [
              0.8888888888888888,
              "#fdca26"
             ],
             [
              1,
              "#f0f921"
             ]
            ],
            "type": "heatmap"
           }
          ],
          "heatmapgl": [
           {
            "colorbar": {
             "outlinewidth": 0,
             "ticks": ""
            },
            "colorscale": [
             [
              0,
              "#0d0887"
             ],
             [
              0.1111111111111111,
              "#46039f"
             ],
             [
              0.2222222222222222,
              "#7201a8"
             ],
             [
              0.3333333333333333,
              "#9c179e"
             ],
             [
              0.4444444444444444,
              "#bd3786"
             ],
             [
              0.5555555555555556,
              "#d8576b"
             ],
             [
              0.6666666666666666,
              "#ed7953"
             ],
             [
              0.7777777777777778,
              "#fb9f3a"
             ],
             [
              0.8888888888888888,
              "#fdca26"
             ],
             [
              1,
              "#f0f921"
             ]
            ],
            "type": "heatmapgl"
           }
          ],
          "histogram": [
           {
            "marker": {
             "pattern": {
              "fillmode": "overlay",
              "size": 10,
              "solidity": 0.2
             }
            },
            "type": "histogram"
           }
          ],
          "histogram2d": [
           {
            "colorbar": {
             "outlinewidth": 0,
             "ticks": ""
            },
            "colorscale": [
             [
              0,
              "#0d0887"
             ],
             [
              0.1111111111111111,
              "#46039f"
             ],
             [
              0.2222222222222222,
              "#7201a8"
             ],
             [
              0.3333333333333333,
              "#9c179e"
             ],
             [
              0.4444444444444444,
              "#bd3786"
             ],
             [
              0.5555555555555556,
              "#d8576b"
             ],
             [
              0.6666666666666666,
              "#ed7953"
             ],
             [
              0.7777777777777778,
              "#fb9f3a"
             ],
             [
              0.8888888888888888,
              "#fdca26"
             ],
             [
              1,
              "#f0f921"
             ]
            ],
            "type": "histogram2d"
           }
          ],
          "histogram2dcontour": [
           {
            "colorbar": {
             "outlinewidth": 0,
             "ticks": ""
            },
            "colorscale": [
             [
              0,
              "#0d0887"
             ],
             [
              0.1111111111111111,
              "#46039f"
             ],
             [
              0.2222222222222222,
              "#7201a8"
             ],
             [
              0.3333333333333333,
              "#9c179e"
             ],
             [
              0.4444444444444444,
              "#bd3786"
             ],
             [
              0.5555555555555556,
              "#d8576b"
             ],
             [
              0.6666666666666666,
              "#ed7953"
             ],
             [
              0.7777777777777778,
              "#fb9f3a"
             ],
             [
              0.8888888888888888,
              "#fdca26"
             ],
             [
              1,
              "#f0f921"
             ]
            ],
            "type": "histogram2dcontour"
           }
          ],
          "mesh3d": [
           {
            "colorbar": {
             "outlinewidth": 0,
             "ticks": ""
            },
            "type": "mesh3d"
           }
          ],
          "parcoords": [
           {
            "line": {
             "colorbar": {
              "outlinewidth": 0,
              "ticks": ""
             }
            },
            "type": "parcoords"
           }
          ],
          "pie": [
           {
            "automargin": true,
            "type": "pie"
           }
          ],
          "scatter": [
           {
            "marker": {
             "line": {
              "color": "#283442"
             }
            },
            "type": "scatter"
           }
          ],
          "scatter3d": [
           {
            "line": {
             "colorbar": {
              "outlinewidth": 0,
              "ticks": ""
             }
            },
            "marker": {
             "colorbar": {
              "outlinewidth": 0,
              "ticks": ""
             }
            },
            "type": "scatter3d"
           }
          ],
          "scattercarpet": [
           {
            "marker": {
             "colorbar": {
              "outlinewidth": 0,
              "ticks": ""
             }
            },
            "type": "scattercarpet"
           }
          ],
          "scattergeo": [
           {
            "marker": {
             "colorbar": {
              "outlinewidth": 0,
              "ticks": ""
             }
            },
            "type": "scattergeo"
           }
          ],
          "scattergl": [
           {
            "marker": {
             "line": {
              "color": "#283442"
             }
            },
            "type": "scattergl"
           }
          ],
          "scattermapbox": [
           {
            "marker": {
             "colorbar": {
              "outlinewidth": 0,
              "ticks": ""
             }
            },
            "type": "scattermapbox"
           }
          ],
          "scatterpolar": [
           {
            "marker": {
             "colorbar": {
              "outlinewidth": 0,
              "ticks": ""
             }
            },
            "type": "scatterpolar"
           }
          ],
          "scatterpolargl": [
           {
            "marker": {
             "colorbar": {
              "outlinewidth": 0,
              "ticks": ""
             }
            },
            "type": "scatterpolargl"
           }
          ],
          "scatterternary": [
           {
            "marker": {
             "colorbar": {
              "outlinewidth": 0,
              "ticks": ""
             }
            },
            "type": "scatterternary"
           }
          ],
          "surface": [
           {
            "colorbar": {
             "outlinewidth": 0,
             "ticks": ""
            },
            "colorscale": [
             [
              0,
              "#0d0887"
             ],
             [
              0.1111111111111111,
              "#46039f"
             ],
             [
              0.2222222222222222,
              "#7201a8"
             ],
             [
              0.3333333333333333,
              "#9c179e"
             ],
             [
              0.4444444444444444,
              "#bd3786"
             ],
             [
              0.5555555555555556,
              "#d8576b"
             ],
             [
              0.6666666666666666,
              "#ed7953"
             ],
             [
              0.7777777777777778,
              "#fb9f3a"
             ],
             [
              0.8888888888888888,
              "#fdca26"
             ],
             [
              1,
              "#f0f921"
             ]
            ],
            "type": "surface"
           }
          ],
          "table": [
           {
            "cells": {
             "fill": {
              "color": "#506784"
             },
             "line": {
              "color": "rgb(17,17,17)"
             }
            },
            "header": {
             "fill": {
              "color": "#2a3f5f"
             },
             "line": {
              "color": "rgb(17,17,17)"
             }
            },
            "type": "table"
           }
          ]
         },
         "layout": {
          "annotationdefaults": {
           "arrowcolor": "#f2f5fa",
           "arrowhead": 0,
           "arrowwidth": 1
          },
          "autotypenumbers": "strict",
          "coloraxis": {
           "colorbar": {
            "outlinewidth": 0,
            "ticks": ""
           }
          },
          "colorscale": {
           "diverging": [
            [
             0,
             "#8e0152"
            ],
            [
             0.1,
             "#c51b7d"
            ],
            [
             0.2,
             "#de77ae"
            ],
            [
             0.3,
             "#f1b6da"
            ],
            [
             0.4,
             "#fde0ef"
            ],
            [
             0.5,
             "#f7f7f7"
            ],
            [
             0.6,
             "#e6f5d0"
            ],
            [
             0.7,
             "#b8e186"
            ],
            [
             0.8,
             "#7fbc41"
            ],
            [
             0.9,
             "#4d9221"
            ],
            [
             1,
             "#276419"
            ]
           ],
           "sequential": [
            [
             0,
             "#0d0887"
            ],
            [
             0.1111111111111111,
             "#46039f"
            ],
            [
             0.2222222222222222,
             "#7201a8"
            ],
            [
             0.3333333333333333,
             "#9c179e"
            ],
            [
             0.4444444444444444,
             "#bd3786"
            ],
            [
             0.5555555555555556,
             "#d8576b"
            ],
            [
             0.6666666666666666,
             "#ed7953"
            ],
            [
             0.7777777777777778,
             "#fb9f3a"
            ],
            [
             0.8888888888888888,
             "#fdca26"
            ],
            [
             1,
             "#f0f921"
            ]
           ],
           "sequentialminus": [
            [
             0,
             "#0d0887"
            ],
            [
             0.1111111111111111,
             "#46039f"
            ],
            [
             0.2222222222222222,
             "#7201a8"
            ],
            [
             0.3333333333333333,
             "#9c179e"
            ],
            [
             0.4444444444444444,
             "#bd3786"
            ],
            [
             0.5555555555555556,
             "#d8576b"
            ],
            [
             0.6666666666666666,
             "#ed7953"
            ],
            [
             0.7777777777777778,
             "#fb9f3a"
            ],
            [
             0.8888888888888888,
             "#fdca26"
            ],
            [
             1,
             "#f0f921"
            ]
           ]
          },
          "colorway": [
           "#636efa",
           "#EF553B",
           "#00cc96",
           "#ab63fa",
           "#FFA15A",
           "#19d3f3",
           "#FF6692",
           "#B6E880",
           "#FF97FF",
           "#FECB52"
          ],
          "font": {
           "color": "#f2f5fa"
          },
          "geo": {
           "bgcolor": "rgb(17,17,17)",
           "lakecolor": "rgb(17,17,17)",
           "landcolor": "rgb(17,17,17)",
           "showlakes": true,
           "showland": true,
           "subunitcolor": "#506784"
          },
          "hoverlabel": {
           "align": "left"
          },
          "hovermode": "closest",
          "mapbox": {
           "style": "dark"
          },
          "paper_bgcolor": "rgb(17,17,17)",
          "plot_bgcolor": "rgb(17,17,17)",
          "polar": {
           "angularaxis": {
            "gridcolor": "#506784",
            "linecolor": "#506784",
            "ticks": ""
           },
           "bgcolor": "rgb(17,17,17)",
           "radialaxis": {
            "gridcolor": "#506784",
            "linecolor": "#506784",
            "ticks": ""
           }
          },
          "scene": {
           "xaxis": {
            "backgroundcolor": "rgb(17,17,17)",
            "gridcolor": "#506784",
            "gridwidth": 2,
            "linecolor": "#506784",
            "showbackground": true,
            "ticks": "",
            "zerolinecolor": "#C8D4E3"
           },
           "yaxis": {
            "backgroundcolor": "rgb(17,17,17)",
            "gridcolor": "#506784",
            "gridwidth": 2,
            "linecolor": "#506784",
            "showbackground": true,
            "ticks": "",
            "zerolinecolor": "#C8D4E3"
           },
           "zaxis": {
            "backgroundcolor": "rgb(17,17,17)",
            "gridcolor": "#506784",
            "gridwidth": 2,
            "linecolor": "#506784",
            "showbackground": true,
            "ticks": "",
            "zerolinecolor": "#C8D4E3"
           }
          },
          "shapedefaults": {
           "line": {
            "color": "#f2f5fa"
           }
          },
          "sliderdefaults": {
           "bgcolor": "#C8D4E3",
           "bordercolor": "rgb(17,17,17)",
           "borderwidth": 1,
           "tickwidth": 0
          },
          "ternary": {
           "aaxis": {
            "gridcolor": "#506784",
            "linecolor": "#506784",
            "ticks": ""
           },
           "baxis": {
            "gridcolor": "#506784",
            "linecolor": "#506784",
            "ticks": ""
           },
           "bgcolor": "rgb(17,17,17)",
           "caxis": {
            "gridcolor": "#506784",
            "linecolor": "#506784",
            "ticks": ""
           }
          },
          "title": {
           "x": 0.05
          },
          "updatemenudefaults": {
           "bgcolor": "#506784",
           "borderwidth": 0
          },
          "xaxis": {
           "automargin": true,
           "gridcolor": "#283442",
           "linecolor": "#506784",
           "ticks": "",
           "title": {
            "standoff": 15
           },
           "zerolinecolor": "#283442",
           "zerolinewidth": 2
          },
          "yaxis": {
           "automargin": true,
           "gridcolor": "#283442",
           "linecolor": "#506784",
           "ticks": "",
           "title": {
            "standoff": 15
           },
           "zerolinecolor": "#283442",
           "zerolinewidth": 2
          }
         }
        },
        "xaxis": {
         "anchor": "y",
         "domain": [
          0,
          1
         ],
         "title": {
          "text": "metro_dist (log)"
         }
        },
        "yaxis": {
         "anchor": "x",
         "domain": [
          0,
          1
         ],
         "title": {
          "text": "count"
         }
        }
       }
      }
     },
     "metadata": {},
     "output_type": "display_data"
    }
   ],
   "source": [
    "px.histogram(x=np.log(df[\"metro_dist\"])).update_layout(xaxis_title=\"metro_dist (log)\")\n"
   ]
  },
  {
   "cell_type": "markdown",
   "metadata": {},
   "source": [
    "**OBSERVATION**\n",
    "\n",
    "- Taking `log` of `metro_dist` and plotting histogram depicts normal distribution.\n"
   ]
  },
  {
   "cell_type": "code",
   "execution_count": 27,
   "metadata": {},
   "outputs": [
    {
     "data": {
      "application/vnd.plotly.v1+json": {
       "config": {
        "plotlyServerURL": "https://plot.ly"
       },
       "data": [
        {
         "alignmentgroup": "True",
         "bingroup": "x",
         "hovertemplate": "variable=house_price_unit_area<br>value=%{x}<br>count=%{y}<extra></extra>",
         "legendgroup": "house_price_unit_area",
         "marker": {
          "color": "#636efa",
          "line": {
           "color": "white",
           "width": 0.5
          },
          "pattern": {
           "shape": ""
          }
         },
         "name": "house_price_unit_area",
         "offsetgroup": "house_price_unit_area",
         "orientation": "v",
         "showlegend": false,
         "type": "histogram",
         "x": [
          52.2,
          50.7,
          49,
          48.7,
          50.4,
          27,
          40.5,
          29.5,
          45.5,
          45.4,
          36.9,
          43.05,
          53.9,
          51.95,
          43.2,
          54.4,
          53.5,
          60.349999999999994,
          41.6,
          57.85,
          44.25,
          29.65,
          51.7,
          45.2,
          29.3,
          53.7,
          44.8,
          21.7,
          44.7,
          43.1,
          32.25,
          37.25,
          63.2,
          49.5,
          37.35,
          53.5,
          54.5,
          44.65,
          58.1,
          60.85,
          52.4,
          58.55,
          54.4,
          49.8,
          40.8,
          27.7,
          42.7,
          47.3,
          52.05,
          42.8,
          23.5,
          56.15,
          35,
          38.5,
          42.75,
          49.3,
          40.25,
          43.5,
          47.9,
          35,
          30.450000000000003,
          51.6,
          117.5,
          25.05,
          46.8,
          26.2,
          47.65,
          40.3,
          37.5,
          27.1,
          28.35,
          29.5,
          31.3,
          38.05,
          42.5,
          32.9,
          31,
          39.3,
          39.15,
          36.7,
          36.05,
          42.2,
          21.1,
          40.1,
          30.6,
          17.8,
          27.3,
          42.6,
          37.55,
          24.8,
          50.2,
          26.5,
          23.8,
          7.6,
          27.65,
          43.7,
          31.950000000000003,
          55.1,
          37.4,
          37.5,
          38.1,
          42.1,
          11.6,
          35.6,
          35.900000000000006,
          24.9,
          43.150000000000006,
          23.2,
          55.3,
          16.7,
          18.2,
          37.7,
          24.75,
          40,
          40.1,
          36.7,
          18.35,
          25.3,
          27.05,
          28.8,
          23.7,
          22.1,
          26.55,
          25.299999999999997,
          31.6,
          46.6,
          25.7,
          28.1,
          40.6,
          20.8,
          22.3,
          34,
          43.3,
          42.2,
          37.5,
          29.4,
          22.8,
          46.7,
          23.8,
          25.6,
          34.1,
          25.7,
          35.1,
          42.2,
          32.9,
          44,
          36.6,
          31.25,
          14.4,
          13.4,
          24.15,
          15.6,
          22.1,
          38.1,
          37.5,
          35.5,
          15.5,
          17.4,
          36.5,
          41,
          37.4,
          40.8,
          43.4,
          34.6,
          42.5,
          40.3,
          33.6,
          13.2,
          31.25,
          22.8,
          55.3,
          36.5,
          20.85,
          31.05,
          50.9,
          18.3,
          36.8,
          25.950000000000003,
          19,
          25.799999999999997,
          27.8,
          32.5,
          13.8,
          16.1,
          25.35,
          27,
          48,
          40.2,
          36.3,
          32.65,
          30.5,
          43.400000000000006,
          47.1,
          42,
          46.1,
          39.4,
          42.2,
          35.05,
          42.4,
          41.5,
          39.1,
          41.150000000000006,
          43.15,
          34.05,
          41.1,
          41.4,
          34.1,
          37.7,
          78,
          40.8,
          50.5,
          48.5,
          49.15,
          34.7,
          38.2,
          31.9,
          78.3,
          37.4,
          37,
          39.7,
          34.2,
          35.7,
          29.8,
          34.95,
          37.6,
          62.9,
          30,
          38.8,
          32.4,
          39.6,
          44.3,
          54.35,
          47.900000000000006,
          63.3,
          35.3,
          42.7
         ],
         "xaxis": "x",
         "yaxis": "y"
        },
        {
         "alignmentgroup": "True",
         "boxpoints": "all",
         "fillcolor": "rgba(255,255,255,0)",
         "hoveron": "points",
         "hovertemplate": "variable=house_price_unit_area<br>value=%{x}<extra></extra>",
         "jitter": 0,
         "legendgroup": "house_price_unit_area",
         "line": {
          "color": "rgba(255,255,255,0)"
         },
         "marker": {
          "color": "#636efa",
          "line": {
           "color": "white",
           "width": 0.5
          },
          "symbol": "line-ns-open"
         },
         "name": "house_price_unit_area",
         "offsetgroup": "house_price_unit_area",
         "showlegend": false,
         "type": "box",
         "x": [
          52.2,
          50.7,
          49,
          48.7,
          50.4,
          27,
          40.5,
          29.5,
          45.5,
          45.4,
          36.9,
          43.05,
          53.9,
          51.95,
          43.2,
          54.4,
          53.5,
          60.349999999999994,
          41.6,
          57.85,
          44.25,
          29.65,
          51.7,
          45.2,
          29.3,
          53.7,
          44.8,
          21.7,
          44.7,
          43.1,
          32.25,
          37.25,
          63.2,
          49.5,
          37.35,
          53.5,
          54.5,
          44.65,
          58.1,
          60.85,
          52.4,
          58.55,
          54.4,
          49.8,
          40.8,
          27.7,
          42.7,
          47.3,
          52.05,
          42.8,
          23.5,
          56.15,
          35,
          38.5,
          42.75,
          49.3,
          40.25,
          43.5,
          47.9,
          35,
          30.450000000000003,
          51.6,
          117.5,
          25.05,
          46.8,
          26.2,
          47.65,
          40.3,
          37.5,
          27.1,
          28.35,
          29.5,
          31.3,
          38.05,
          42.5,
          32.9,
          31,
          39.3,
          39.15,
          36.7,
          36.05,
          42.2,
          21.1,
          40.1,
          30.6,
          17.8,
          27.3,
          42.6,
          37.55,
          24.8,
          50.2,
          26.5,
          23.8,
          7.6,
          27.65,
          43.7,
          31.950000000000003,
          55.1,
          37.4,
          37.5,
          38.1,
          42.1,
          11.6,
          35.6,
          35.900000000000006,
          24.9,
          43.150000000000006,
          23.2,
          55.3,
          16.7,
          18.2,
          37.7,
          24.75,
          40,
          40.1,
          36.7,
          18.35,
          25.3,
          27.05,
          28.8,
          23.7,
          22.1,
          26.55,
          25.299999999999997,
          31.6,
          46.6,
          25.7,
          28.1,
          40.6,
          20.8,
          22.3,
          34,
          43.3,
          42.2,
          37.5,
          29.4,
          22.8,
          46.7,
          23.8,
          25.6,
          34.1,
          25.7,
          35.1,
          42.2,
          32.9,
          44,
          36.6,
          31.25,
          14.4,
          13.4,
          24.15,
          15.6,
          22.1,
          38.1,
          37.5,
          35.5,
          15.5,
          17.4,
          36.5,
          41,
          37.4,
          40.8,
          43.4,
          34.6,
          42.5,
          40.3,
          33.6,
          13.2,
          31.25,
          22.8,
          55.3,
          36.5,
          20.85,
          31.05,
          50.9,
          18.3,
          36.8,
          25.950000000000003,
          19,
          25.799999999999997,
          27.8,
          32.5,
          13.8,
          16.1,
          25.35,
          27,
          48,
          40.2,
          36.3,
          32.65,
          30.5,
          43.400000000000006,
          47.1,
          42,
          46.1,
          39.4,
          42.2,
          35.05,
          42.4,
          41.5,
          39.1,
          41.150000000000006,
          43.15,
          34.05,
          41.1,
          41.4,
          34.1,
          37.7,
          78,
          40.8,
          50.5,
          48.5,
          49.15,
          34.7,
          38.2,
          31.9,
          78.3,
          37.4,
          37,
          39.7,
          34.2,
          35.7,
          29.8,
          34.95,
          37.6,
          62.9,
          30,
          38.8,
          32.4,
          39.6,
          44.3,
          54.35,
          47.900000000000006,
          63.3,
          35.3,
          42.7
         ],
         "xaxis": "x2",
         "yaxis": "y2"
        }
       ],
       "layout": {
        "barmode": "relative",
        "legend": {
         "title": {
          "text": "variable"
         },
         "tracegroupgap": 0
        },
        "margin": {
         "t": 60
        },
        "template": {
         "data": {
          "bar": [
           {
            "error_x": {
             "color": "#f2f5fa"
            },
            "error_y": {
             "color": "#f2f5fa"
            },
            "marker": {
             "line": {
              "color": "rgb(17,17,17)",
              "width": 0.5
             },
             "pattern": {
              "fillmode": "overlay",
              "size": 10,
              "solidity": 0.2
             }
            },
            "type": "bar"
           }
          ],
          "barpolar": [
           {
            "marker": {
             "line": {
              "color": "rgb(17,17,17)",
              "width": 0.5
             },
             "pattern": {
              "fillmode": "overlay",
              "size": 10,
              "solidity": 0.2
             }
            },
            "type": "barpolar"
           }
          ],
          "carpet": [
           {
            "aaxis": {
             "endlinecolor": "#A2B1C6",
             "gridcolor": "#506784",
             "linecolor": "#506784",
             "minorgridcolor": "#506784",
             "startlinecolor": "#A2B1C6"
            },
            "baxis": {
             "endlinecolor": "#A2B1C6",
             "gridcolor": "#506784",
             "linecolor": "#506784",
             "minorgridcolor": "#506784",
             "startlinecolor": "#A2B1C6"
            },
            "type": "carpet"
           }
          ],
          "choropleth": [
           {
            "colorbar": {
             "outlinewidth": 0,
             "ticks": ""
            },
            "type": "choropleth"
           }
          ],
          "contour": [
           {
            "colorbar": {
             "outlinewidth": 0,
             "ticks": ""
            },
            "colorscale": [
             [
              0,
              "#0d0887"
             ],
             [
              0.1111111111111111,
              "#46039f"
             ],
             [
              0.2222222222222222,
              "#7201a8"
             ],
             [
              0.3333333333333333,
              "#9c179e"
             ],
             [
              0.4444444444444444,
              "#bd3786"
             ],
             [
              0.5555555555555556,
              "#d8576b"
             ],
             [
              0.6666666666666666,
              "#ed7953"
             ],
             [
              0.7777777777777778,
              "#fb9f3a"
             ],
             [
              0.8888888888888888,
              "#fdca26"
             ],
             [
              1,
              "#f0f921"
             ]
            ],
            "type": "contour"
           }
          ],
          "contourcarpet": [
           {
            "colorbar": {
             "outlinewidth": 0,
             "ticks": ""
            },
            "type": "contourcarpet"
           }
          ],
          "heatmap": [
           {
            "colorbar": {
             "outlinewidth": 0,
             "ticks": ""
            },
            "colorscale": [
             [
              0,
              "#0d0887"
             ],
             [
              0.1111111111111111,
              "#46039f"
             ],
             [
              0.2222222222222222,
              "#7201a8"
             ],
             [
              0.3333333333333333,
              "#9c179e"
             ],
             [
              0.4444444444444444,
              "#bd3786"
             ],
             [
              0.5555555555555556,
              "#d8576b"
             ],
             [
              0.6666666666666666,
              "#ed7953"
             ],
             [
              0.7777777777777778,
              "#fb9f3a"
             ],
             [
              0.8888888888888888,
              "#fdca26"
             ],
             [
              1,
              "#f0f921"
             ]
            ],
            "type": "heatmap"
           }
          ],
          "heatmapgl": [
           {
            "colorbar": {
             "outlinewidth": 0,
             "ticks": ""
            },
            "colorscale": [
             [
              0,
              "#0d0887"
             ],
             [
              0.1111111111111111,
              "#46039f"
             ],
             [
              0.2222222222222222,
              "#7201a8"
             ],
             [
              0.3333333333333333,
              "#9c179e"
             ],
             [
              0.4444444444444444,
              "#bd3786"
             ],
             [
              0.5555555555555556,
              "#d8576b"
             ],
             [
              0.6666666666666666,
              "#ed7953"
             ],
             [
              0.7777777777777778,
              "#fb9f3a"
             ],
             [
              0.8888888888888888,
              "#fdca26"
             ],
             [
              1,
              "#f0f921"
             ]
            ],
            "type": "heatmapgl"
           }
          ],
          "histogram": [
           {
            "marker": {
             "pattern": {
              "fillmode": "overlay",
              "size": 10,
              "solidity": 0.2
             }
            },
            "type": "histogram"
           }
          ],
          "histogram2d": [
           {
            "colorbar": {
             "outlinewidth": 0,
             "ticks": ""
            },
            "colorscale": [
             [
              0,
              "#0d0887"
             ],
             [
              0.1111111111111111,
              "#46039f"
             ],
             [
              0.2222222222222222,
              "#7201a8"
             ],
             [
              0.3333333333333333,
              "#9c179e"
             ],
             [
              0.4444444444444444,
              "#bd3786"
             ],
             [
              0.5555555555555556,
              "#d8576b"
             ],
             [
              0.6666666666666666,
              "#ed7953"
             ],
             [
              0.7777777777777778,
              "#fb9f3a"
             ],
             [
              0.8888888888888888,
              "#fdca26"
             ],
             [
              1,
              "#f0f921"
             ]
            ],
            "type": "histogram2d"
           }
          ],
          "histogram2dcontour": [
           {
            "colorbar": {
             "outlinewidth": 0,
             "ticks": ""
            },
            "colorscale": [
             [
              0,
              "#0d0887"
             ],
             [
              0.1111111111111111,
              "#46039f"
             ],
             [
              0.2222222222222222,
              "#7201a8"
             ],
             [
              0.3333333333333333,
              "#9c179e"
             ],
             [
              0.4444444444444444,
              "#bd3786"
             ],
             [
              0.5555555555555556,
              "#d8576b"
             ],
             [
              0.6666666666666666,
              "#ed7953"
             ],
             [
              0.7777777777777778,
              "#fb9f3a"
             ],
             [
              0.8888888888888888,
              "#fdca26"
             ],
             [
              1,
              "#f0f921"
             ]
            ],
            "type": "histogram2dcontour"
           }
          ],
          "mesh3d": [
           {
            "colorbar": {
             "outlinewidth": 0,
             "ticks": ""
            },
            "type": "mesh3d"
           }
          ],
          "parcoords": [
           {
            "line": {
             "colorbar": {
              "outlinewidth": 0,
              "ticks": ""
             }
            },
            "type": "parcoords"
           }
          ],
          "pie": [
           {
            "automargin": true,
            "type": "pie"
           }
          ],
          "scatter": [
           {
            "marker": {
             "line": {
              "color": "#283442"
             }
            },
            "type": "scatter"
           }
          ],
          "scatter3d": [
           {
            "line": {
             "colorbar": {
              "outlinewidth": 0,
              "ticks": ""
             }
            },
            "marker": {
             "colorbar": {
              "outlinewidth": 0,
              "ticks": ""
             }
            },
            "type": "scatter3d"
           }
          ],
          "scattercarpet": [
           {
            "marker": {
             "colorbar": {
              "outlinewidth": 0,
              "ticks": ""
             }
            },
            "type": "scattercarpet"
           }
          ],
          "scattergeo": [
           {
            "marker": {
             "colorbar": {
              "outlinewidth": 0,
              "ticks": ""
             }
            },
            "type": "scattergeo"
           }
          ],
          "scattergl": [
           {
            "marker": {
             "line": {
              "color": "#283442"
             }
            },
            "type": "scattergl"
           }
          ],
          "scattermapbox": [
           {
            "marker": {
             "colorbar": {
              "outlinewidth": 0,
              "ticks": ""
             }
            },
            "type": "scattermapbox"
           }
          ],
          "scatterpolar": [
           {
            "marker": {
             "colorbar": {
              "outlinewidth": 0,
              "ticks": ""
             }
            },
            "type": "scatterpolar"
           }
          ],
          "scatterpolargl": [
           {
            "marker": {
             "colorbar": {
              "outlinewidth": 0,
              "ticks": ""
             }
            },
            "type": "scatterpolargl"
           }
          ],
          "scatterternary": [
           {
            "marker": {
             "colorbar": {
              "outlinewidth": 0,
              "ticks": ""
             }
            },
            "type": "scatterternary"
           }
          ],
          "surface": [
           {
            "colorbar": {
             "outlinewidth": 0,
             "ticks": ""
            },
            "colorscale": [
             [
              0,
              "#0d0887"
             ],
             [
              0.1111111111111111,
              "#46039f"
             ],
             [
              0.2222222222222222,
              "#7201a8"
             ],
             [
              0.3333333333333333,
              "#9c179e"
             ],
             [
              0.4444444444444444,
              "#bd3786"
             ],
             [
              0.5555555555555556,
              "#d8576b"
             ],
             [
              0.6666666666666666,
              "#ed7953"
             ],
             [
              0.7777777777777778,
              "#fb9f3a"
             ],
             [
              0.8888888888888888,
              "#fdca26"
             ],
             [
              1,
              "#f0f921"
             ]
            ],
            "type": "surface"
           }
          ],
          "table": [
           {
            "cells": {
             "fill": {
              "color": "#506784"
             },
             "line": {
              "color": "rgb(17,17,17)"
             }
            },
            "header": {
             "fill": {
              "color": "#2a3f5f"
             },
             "line": {
              "color": "rgb(17,17,17)"
             }
            },
            "type": "table"
           }
          ]
         },
         "layout": {
          "annotationdefaults": {
           "arrowcolor": "#f2f5fa",
           "arrowhead": 0,
           "arrowwidth": 1
          },
          "autotypenumbers": "strict",
          "coloraxis": {
           "colorbar": {
            "outlinewidth": 0,
            "ticks": ""
           }
          },
          "colorscale": {
           "diverging": [
            [
             0,
             "#8e0152"
            ],
            [
             0.1,
             "#c51b7d"
            ],
            [
             0.2,
             "#de77ae"
            ],
            [
             0.3,
             "#f1b6da"
            ],
            [
             0.4,
             "#fde0ef"
            ],
            [
             0.5,
             "#f7f7f7"
            ],
            [
             0.6,
             "#e6f5d0"
            ],
            [
             0.7,
             "#b8e186"
            ],
            [
             0.8,
             "#7fbc41"
            ],
            [
             0.9,
             "#4d9221"
            ],
            [
             1,
             "#276419"
            ]
           ],
           "sequential": [
            [
             0,
             "#0d0887"
            ],
            [
             0.1111111111111111,
             "#46039f"
            ],
            [
             0.2222222222222222,
             "#7201a8"
            ],
            [
             0.3333333333333333,
             "#9c179e"
            ],
            [
             0.4444444444444444,
             "#bd3786"
            ],
            [
             0.5555555555555556,
             "#d8576b"
            ],
            [
             0.6666666666666666,
             "#ed7953"
            ],
            [
             0.7777777777777778,
             "#fb9f3a"
            ],
            [
             0.8888888888888888,
             "#fdca26"
            ],
            [
             1,
             "#f0f921"
            ]
           ],
           "sequentialminus": [
            [
             0,
             "#0d0887"
            ],
            [
             0.1111111111111111,
             "#46039f"
            ],
            [
             0.2222222222222222,
             "#7201a8"
            ],
            [
             0.3333333333333333,
             "#9c179e"
            ],
            [
             0.4444444444444444,
             "#bd3786"
            ],
            [
             0.5555555555555556,
             "#d8576b"
            ],
            [
             0.6666666666666666,
             "#ed7953"
            ],
            [
             0.7777777777777778,
             "#fb9f3a"
            ],
            [
             0.8888888888888888,
             "#fdca26"
            ],
            [
             1,
             "#f0f921"
            ]
           ]
          },
          "colorway": [
           "#636efa",
           "#EF553B",
           "#00cc96",
           "#ab63fa",
           "#FFA15A",
           "#19d3f3",
           "#FF6692",
           "#B6E880",
           "#FF97FF",
           "#FECB52"
          ],
          "font": {
           "color": "#f2f5fa"
          },
          "geo": {
           "bgcolor": "rgb(17,17,17)",
           "lakecolor": "rgb(17,17,17)",
           "landcolor": "rgb(17,17,17)",
           "showlakes": true,
           "showland": true,
           "subunitcolor": "#506784"
          },
          "hoverlabel": {
           "align": "left"
          },
          "hovermode": "closest",
          "mapbox": {
           "style": "dark"
          },
          "paper_bgcolor": "rgb(17,17,17)",
          "plot_bgcolor": "rgb(17,17,17)",
          "polar": {
           "angularaxis": {
            "gridcolor": "#506784",
            "linecolor": "#506784",
            "ticks": ""
           },
           "bgcolor": "rgb(17,17,17)",
           "radialaxis": {
            "gridcolor": "#506784",
            "linecolor": "#506784",
            "ticks": ""
           }
          },
          "scene": {
           "xaxis": {
            "backgroundcolor": "rgb(17,17,17)",
            "gridcolor": "#506784",
            "gridwidth": 2,
            "linecolor": "#506784",
            "showbackground": true,
            "ticks": "",
            "zerolinecolor": "#C8D4E3"
           },
           "yaxis": {
            "backgroundcolor": "rgb(17,17,17)",
            "gridcolor": "#506784",
            "gridwidth": 2,
            "linecolor": "#506784",
            "showbackground": true,
            "ticks": "",
            "zerolinecolor": "#C8D4E3"
           },
           "zaxis": {
            "backgroundcolor": "rgb(17,17,17)",
            "gridcolor": "#506784",
            "gridwidth": 2,
            "linecolor": "#506784",
            "showbackground": true,
            "ticks": "",
            "zerolinecolor": "#C8D4E3"
           }
          },
          "shapedefaults": {
           "line": {
            "color": "#f2f5fa"
           }
          },
          "sliderdefaults": {
           "bgcolor": "#C8D4E3",
           "bordercolor": "rgb(17,17,17)",
           "borderwidth": 1,
           "tickwidth": 0
          },
          "ternary": {
           "aaxis": {
            "gridcolor": "#506784",
            "linecolor": "#506784",
            "ticks": ""
           },
           "baxis": {
            "gridcolor": "#506784",
            "linecolor": "#506784",
            "ticks": ""
           },
           "bgcolor": "rgb(17,17,17)",
           "caxis": {
            "gridcolor": "#506784",
            "linecolor": "#506784",
            "ticks": ""
           }
          },
          "title": {
           "x": 0.05
          },
          "updatemenudefaults": {
           "bgcolor": "#506784",
           "borderwidth": 0
          },
          "xaxis": {
           "automargin": true,
           "gridcolor": "#283442",
           "linecolor": "#506784",
           "ticks": "",
           "title": {
            "standoff": 15
           },
           "zerolinecolor": "#283442",
           "zerolinewidth": 2
          },
          "yaxis": {
           "automargin": true,
           "gridcolor": "#283442",
           "linecolor": "#506784",
           "ticks": "",
           "title": {
            "standoff": 15
           },
           "zerolinecolor": "#283442",
           "zerolinewidth": 2
          }
         }
        },
        "xaxis": {
         "anchor": "y",
         "domain": [
          0,
          1
         ],
         "title": {
          "text": "house_price_unit_area"
         }
        },
        "xaxis2": {
         "anchor": "y2",
         "domain": [
          0,
          1
         ],
         "matches": "x",
         "showgrid": true,
         "showticklabels": false
        },
        "yaxis": {
         "anchor": "x",
         "domain": [
          0,
          0.7326
         ],
         "title": {
          "text": "house_age"
         }
        },
        "yaxis2": {
         "anchor": "x2",
         "domain": [
          0.7426,
          1
         ],
         "matches": "y2",
         "showgrid": false,
         "showline": false,
         "showticklabels": false,
         "ticks": ""
        }
       }
      }
     },
     "metadata": {},
     "output_type": "display_data"
    },
    {
     "data": {
      "application/vnd.plotly.v1+json": {
       "config": {
        "plotlyServerURL": "https://plot.ly"
       },
       "data": [
        {
         "alignmentgroup": "True",
         "bingroup": "x",
         "hovertemplate": "variable=house_price_unit_area<br>value=%{x}<br>count=%{y}<extra></extra>",
         "legendgroup": "house_price_unit_area",
         "marker": {
          "color": "#636efa",
          "line": {
           "color": "white",
           "width": 0.5
          },
          "pattern": {
           "shape": ""
          }
         },
         "name": "house_price_unit_area",
         "offsetgroup": "house_price_unit_area",
         "orientation": "v",
         "showlegend": false,
         "type": "histogram",
         "x": [
          48.7,
          57.3,
          54.4,
          42.7,
          46.6,
          37.9,
          47.1,
          58.1,
          51.7,
          48,
          46.1,
          67.7,
          44.3,
          60.7,
          48.2,
          37.2,
          47.3,
          53.3,
          48.1,
          36.9,
          40.3,
          39.7,
          41,
          50.2,
          32.9,
          48.5,
          40.9,
          39.7,
          42,
          45.4,
          52.2,
          78.3,
          42.2,
          30.8,
          47.1,
          44.3,
          49,
          39.4,
          42.5,
          55.9,
          48.2,
          55.1,
          44.85,
          45.3,
          41,
          41.4,
          117.5,
          36.3,
          58.45,
          40.2,
          42.9,
          26.9,
          45.4,
          33.6,
          51.6,
          63.3,
          46.7,
          51.4,
          70.1,
          42.2,
          51.7,
          78,
          47.4,
          49.3,
          51,
          46,
          51.099999999999994,
          43.4,
          32.4,
          38.1,
          42.4,
          36.5,
          47.849999999999994,
          26.5,
          40.25,
          42.3,
          41.9,
          40.5,
          40.8,
          39.5,
          61.9,
          40.9,
          36.8,
          38.6,
          49.8,
          42.5,
          48.1,
          57.5,
          44.75,
          40.6,
          44.95,
          40.6,
          30.5,
          7.6,
          41,
          24.5,
          35.1,
          41.4,
          32.5,
          49.3,
          36.3,
          30,
          48.5,
          45.2,
          42.6,
          38.4,
          35.3,
          43.9,
          51.3,
          29.05,
          34,
          35.7,
          42,
          36.2,
          36.5,
          38.8,
          37.5,
          34.2,
          38.2,
          43.2,
          37,
          40.5,
          40.6,
          40.3,
          43.35,
          34.1,
          37.4,
          34.7,
          40.2,
          53.9,
          37.5,
          42.2,
          29.8,
          47,
          46.599999999999994,
          46.6,
          28.5,
          44.650000000000006,
          50.5,
          37.4,
          39.7,
          34.1,
          30.9,
          33.1,
          38.2,
          42.3,
          34.6,
          39.6,
          40.3,
          40.8,
          37.5,
          51.15,
          31.5,
          34.2,
          36.6,
          55.3,
          39.8,
          46.4,
          37.4,
          37.5,
          36.7,
          25,
          62.9,
          37.4,
          28.8,
          31.9,
          43.5,
          37.95,
          40.15,
          25.4,
          21.55,
          22.8,
          23.1,
          35.400000000000006,
          16.1,
          19,
          12.8,
          23.8,
          13.8,
          13.7,
          33.25,
          30.6,
          18.700000000000003,
          27.5,
          42.3,
          48,
          26.55,
          27,
          21.5,
          21.4,
          26.3,
          30.7,
          27,
          23.6,
          31.1,
          25.299999999999997,
          30.6,
          29.4,
          24.7,
          30.8,
          26.75,
          25.9,
          27.3,
          20.7,
          22.1,
          24.8,
          31.1,
          20.9,
          35.6,
          21.3,
          22.9,
          31.3,
          23.5,
          23.5,
          33.4,
          23.1,
          25.6,
          31,
          29.9,
          28.1,
          27.7,
          21.8,
          28.6,
          25.65,
          23.9,
          27.3,
          29.5,
          29.3,
          23.799999999999997,
          23.5,
          22.8,
          21.8,
          25.7,
          17.7,
          22,
          24.7,
          41.2,
          46.6,
          29.3,
          29.3,
          45.1,
          25.3,
          18.25,
          14.7,
          27.3,
          15.9,
          24.7,
          18.6,
          17.4,
          15.5,
          17.9,
          18.85,
          14.4,
          19.2,
          13.4,
          18.1,
          15,
          12.2,
          11.2
         ],
         "xaxis": "x",
         "yaxis": "y"
        },
        {
         "alignmentgroup": "True",
         "boxpoints": "all",
         "fillcolor": "rgba(255,255,255,0)",
         "hoveron": "points",
         "hovertemplate": "variable=house_price_unit_area<br>value=%{x}<extra></extra>",
         "jitter": 0,
         "legendgroup": "house_price_unit_area",
         "line": {
          "color": "rgba(255,255,255,0)"
         },
         "marker": {
          "color": "#636efa",
          "line": {
           "color": "white",
           "width": 0.5
          },
          "symbol": "line-ns-open"
         },
         "name": "house_price_unit_area",
         "offsetgroup": "house_price_unit_area",
         "showlegend": false,
         "type": "box",
         "x": [
          48.7,
          57.3,
          54.4,
          42.7,
          46.6,
          37.9,
          47.1,
          58.1,
          51.7,
          48,
          46.1,
          67.7,
          44.3,
          60.7,
          48.2,
          37.2,
          47.3,
          53.3,
          48.1,
          36.9,
          40.3,
          39.7,
          41,
          50.2,
          32.9,
          48.5,
          40.9,
          39.7,
          42,
          45.4,
          52.2,
          78.3,
          42.2,
          30.8,
          47.1,
          44.3,
          49,
          39.4,
          42.5,
          55.9,
          48.2,
          55.1,
          44.85,
          45.3,
          41,
          41.4,
          117.5,
          36.3,
          58.45,
          40.2,
          42.9,
          26.9,
          45.4,
          33.6,
          51.6,
          63.3,
          46.7,
          51.4,
          70.1,
          42.2,
          51.7,
          78,
          47.4,
          49.3,
          51,
          46,
          51.099999999999994,
          43.4,
          32.4,
          38.1,
          42.4,
          36.5,
          47.849999999999994,
          26.5,
          40.25,
          42.3,
          41.9,
          40.5,
          40.8,
          39.5,
          61.9,
          40.9,
          36.8,
          38.6,
          49.8,
          42.5,
          48.1,
          57.5,
          44.75,
          40.6,
          44.95,
          40.6,
          30.5,
          7.6,
          41,
          24.5,
          35.1,
          41.4,
          32.5,
          49.3,
          36.3,
          30,
          48.5,
          45.2,
          42.6,
          38.4,
          35.3,
          43.9,
          51.3,
          29.05,
          34,
          35.7,
          42,
          36.2,
          36.5,
          38.8,
          37.5,
          34.2,
          38.2,
          43.2,
          37,
          40.5,
          40.6,
          40.3,
          43.35,
          34.1,
          37.4,
          34.7,
          40.2,
          53.9,
          37.5,
          42.2,
          29.8,
          47,
          46.599999999999994,
          46.6,
          28.5,
          44.650000000000006,
          50.5,
          37.4,
          39.7,
          34.1,
          30.9,
          33.1,
          38.2,
          42.3,
          34.6,
          39.6,
          40.3,
          40.8,
          37.5,
          51.15,
          31.5,
          34.2,
          36.6,
          55.3,
          39.8,
          46.4,
          37.4,
          37.5,
          36.7,
          25,
          62.9,
          37.4,
          28.8,
          31.9,
          43.5,
          37.95,
          40.15,
          25.4,
          21.55,
          22.8,
          23.1,
          35.400000000000006,
          16.1,
          19,
          12.8,
          23.8,
          13.8,
          13.7,
          33.25,
          30.6,
          18.700000000000003,
          27.5,
          42.3,
          48,
          26.55,
          27,
          21.5,
          21.4,
          26.3,
          30.7,
          27,
          23.6,
          31.1,
          25.299999999999997,
          30.6,
          29.4,
          24.7,
          30.8,
          26.75,
          25.9,
          27.3,
          20.7,
          22.1,
          24.8,
          31.1,
          20.9,
          35.6,
          21.3,
          22.9,
          31.3,
          23.5,
          23.5,
          33.4,
          23.1,
          25.6,
          31,
          29.9,
          28.1,
          27.7,
          21.8,
          28.6,
          25.65,
          23.9,
          27.3,
          29.5,
          29.3,
          23.799999999999997,
          23.5,
          22.8,
          21.8,
          25.7,
          17.7,
          22,
          24.7,
          41.2,
          46.6,
          29.3,
          29.3,
          45.1,
          25.3,
          18.25,
          14.7,
          27.3,
          15.9,
          24.7,
          18.6,
          17.4,
          15.5,
          17.9,
          18.85,
          14.4,
          19.2,
          13.4,
          18.1,
          15,
          12.2,
          11.2
         ],
         "xaxis": "x2",
         "yaxis": "y2"
        }
       ],
       "layout": {
        "barmode": "relative",
        "legend": {
         "title": {
          "text": "variable"
         },
         "tracegroupgap": 0
        },
        "margin": {
         "t": 60
        },
        "template": {
         "data": {
          "bar": [
           {
            "error_x": {
             "color": "#f2f5fa"
            },
            "error_y": {
             "color": "#f2f5fa"
            },
            "marker": {
             "line": {
              "color": "rgb(17,17,17)",
              "width": 0.5
             },
             "pattern": {
              "fillmode": "overlay",
              "size": 10,
              "solidity": 0.2
             }
            },
            "type": "bar"
           }
          ],
          "barpolar": [
           {
            "marker": {
             "line": {
              "color": "rgb(17,17,17)",
              "width": 0.5
             },
             "pattern": {
              "fillmode": "overlay",
              "size": 10,
              "solidity": 0.2
             }
            },
            "type": "barpolar"
           }
          ],
          "carpet": [
           {
            "aaxis": {
             "endlinecolor": "#A2B1C6",
             "gridcolor": "#506784",
             "linecolor": "#506784",
             "minorgridcolor": "#506784",
             "startlinecolor": "#A2B1C6"
            },
            "baxis": {
             "endlinecolor": "#A2B1C6",
             "gridcolor": "#506784",
             "linecolor": "#506784",
             "minorgridcolor": "#506784",
             "startlinecolor": "#A2B1C6"
            },
            "type": "carpet"
           }
          ],
          "choropleth": [
           {
            "colorbar": {
             "outlinewidth": 0,
             "ticks": ""
            },
            "type": "choropleth"
           }
          ],
          "contour": [
           {
            "colorbar": {
             "outlinewidth": 0,
             "ticks": ""
            },
            "colorscale": [
             [
              0,
              "#0d0887"
             ],
             [
              0.1111111111111111,
              "#46039f"
             ],
             [
              0.2222222222222222,
              "#7201a8"
             ],
             [
              0.3333333333333333,
              "#9c179e"
             ],
             [
              0.4444444444444444,
              "#bd3786"
             ],
             [
              0.5555555555555556,
              "#d8576b"
             ],
             [
              0.6666666666666666,
              "#ed7953"
             ],
             [
              0.7777777777777778,
              "#fb9f3a"
             ],
             [
              0.8888888888888888,
              "#fdca26"
             ],
             [
              1,
              "#f0f921"
             ]
            ],
            "type": "contour"
           }
          ],
          "contourcarpet": [
           {
            "colorbar": {
             "outlinewidth": 0,
             "ticks": ""
            },
            "type": "contourcarpet"
           }
          ],
          "heatmap": [
           {
            "colorbar": {
             "outlinewidth": 0,
             "ticks": ""
            },
            "colorscale": [
             [
              0,
              "#0d0887"
             ],
             [
              0.1111111111111111,
              "#46039f"
             ],
             [
              0.2222222222222222,
              "#7201a8"
             ],
             [
              0.3333333333333333,
              "#9c179e"
             ],
             [
              0.4444444444444444,
              "#bd3786"
             ],
             [
              0.5555555555555556,
              "#d8576b"
             ],
             [
              0.6666666666666666,
              "#ed7953"
             ],
             [
              0.7777777777777778,
              "#fb9f3a"
             ],
             [
              0.8888888888888888,
              "#fdca26"
             ],
             [
              1,
              "#f0f921"
             ]
            ],
            "type": "heatmap"
           }
          ],
          "heatmapgl": [
           {
            "colorbar": {
             "outlinewidth": 0,
             "ticks": ""
            },
            "colorscale": [
             [
              0,
              "#0d0887"
             ],
             [
              0.1111111111111111,
              "#46039f"
             ],
             [
              0.2222222222222222,
              "#7201a8"
             ],
             [
              0.3333333333333333,
              "#9c179e"
             ],
             [
              0.4444444444444444,
              "#bd3786"
             ],
             [
              0.5555555555555556,
              "#d8576b"
             ],
             [
              0.6666666666666666,
              "#ed7953"
             ],
             [
              0.7777777777777778,
              "#fb9f3a"
             ],
             [
              0.8888888888888888,
              "#fdca26"
             ],
             [
              1,
              "#f0f921"
             ]
            ],
            "type": "heatmapgl"
           }
          ],
          "histogram": [
           {
            "marker": {
             "pattern": {
              "fillmode": "overlay",
              "size": 10,
              "solidity": 0.2
             }
            },
            "type": "histogram"
           }
          ],
          "histogram2d": [
           {
            "colorbar": {
             "outlinewidth": 0,
             "ticks": ""
            },
            "colorscale": [
             [
              0,
              "#0d0887"
             ],
             [
              0.1111111111111111,
              "#46039f"
             ],
             [
              0.2222222222222222,
              "#7201a8"
             ],
             [
              0.3333333333333333,
              "#9c179e"
             ],
             [
              0.4444444444444444,
              "#bd3786"
             ],
             [
              0.5555555555555556,
              "#d8576b"
             ],
             [
              0.6666666666666666,
              "#ed7953"
             ],
             [
              0.7777777777777778,
              "#fb9f3a"
             ],
             [
              0.8888888888888888,
              "#fdca26"
             ],
             [
              1,
              "#f0f921"
             ]
            ],
            "type": "histogram2d"
           }
          ],
          "histogram2dcontour": [
           {
            "colorbar": {
             "outlinewidth": 0,
             "ticks": ""
            },
            "colorscale": [
             [
              0,
              "#0d0887"
             ],
             [
              0.1111111111111111,
              "#46039f"
             ],
             [
              0.2222222222222222,
              "#7201a8"
             ],
             [
              0.3333333333333333,
              "#9c179e"
             ],
             [
              0.4444444444444444,
              "#bd3786"
             ],
             [
              0.5555555555555556,
              "#d8576b"
             ],
             [
              0.6666666666666666,
              "#ed7953"
             ],
             [
              0.7777777777777778,
              "#fb9f3a"
             ],
             [
              0.8888888888888888,
              "#fdca26"
             ],
             [
              1,
              "#f0f921"
             ]
            ],
            "type": "histogram2dcontour"
           }
          ],
          "mesh3d": [
           {
            "colorbar": {
             "outlinewidth": 0,
             "ticks": ""
            },
            "type": "mesh3d"
           }
          ],
          "parcoords": [
           {
            "line": {
             "colorbar": {
              "outlinewidth": 0,
              "ticks": ""
             }
            },
            "type": "parcoords"
           }
          ],
          "pie": [
           {
            "automargin": true,
            "type": "pie"
           }
          ],
          "scatter": [
           {
            "marker": {
             "line": {
              "color": "#283442"
             }
            },
            "type": "scatter"
           }
          ],
          "scatter3d": [
           {
            "line": {
             "colorbar": {
              "outlinewidth": 0,
              "ticks": ""
             }
            },
            "marker": {
             "colorbar": {
              "outlinewidth": 0,
              "ticks": ""
             }
            },
            "type": "scatter3d"
           }
          ],
          "scattercarpet": [
           {
            "marker": {
             "colorbar": {
              "outlinewidth": 0,
              "ticks": ""
             }
            },
            "type": "scattercarpet"
           }
          ],
          "scattergeo": [
           {
            "marker": {
             "colorbar": {
              "outlinewidth": 0,
              "ticks": ""
             }
            },
            "type": "scattergeo"
           }
          ],
          "scattergl": [
           {
            "marker": {
             "line": {
              "color": "#283442"
             }
            },
            "type": "scattergl"
           }
          ],
          "scattermapbox": [
           {
            "marker": {
             "colorbar": {
              "outlinewidth": 0,
              "ticks": ""
             }
            },
            "type": "scattermapbox"
           }
          ],
          "scatterpolar": [
           {
            "marker": {
             "colorbar": {
              "outlinewidth": 0,
              "ticks": ""
             }
            },
            "type": "scatterpolar"
           }
          ],
          "scatterpolargl": [
           {
            "marker": {
             "colorbar": {
              "outlinewidth": 0,
              "ticks": ""
             }
            },
            "type": "scatterpolargl"
           }
          ],
          "scatterternary": [
           {
            "marker": {
             "colorbar": {
              "outlinewidth": 0,
              "ticks": ""
             }
            },
            "type": "scatterternary"
           }
          ],
          "surface": [
           {
            "colorbar": {
             "outlinewidth": 0,
             "ticks": ""
            },
            "colorscale": [
             [
              0,
              "#0d0887"
             ],
             [
              0.1111111111111111,
              "#46039f"
             ],
             [
              0.2222222222222222,
              "#7201a8"
             ],
             [
              0.3333333333333333,
              "#9c179e"
             ],
             [
              0.4444444444444444,
              "#bd3786"
             ],
             [
              0.5555555555555556,
              "#d8576b"
             ],
             [
              0.6666666666666666,
              "#ed7953"
             ],
             [
              0.7777777777777778,
              "#fb9f3a"
             ],
             [
              0.8888888888888888,
              "#fdca26"
             ],
             [
              1,
              "#f0f921"
             ]
            ],
            "type": "surface"
           }
          ],
          "table": [
           {
            "cells": {
             "fill": {
              "color": "#506784"
             },
             "line": {
              "color": "rgb(17,17,17)"
             }
            },
            "header": {
             "fill": {
              "color": "#2a3f5f"
             },
             "line": {
              "color": "rgb(17,17,17)"
             }
            },
            "type": "table"
           }
          ]
         },
         "layout": {
          "annotationdefaults": {
           "arrowcolor": "#f2f5fa",
           "arrowhead": 0,
           "arrowwidth": 1
          },
          "autotypenumbers": "strict",
          "coloraxis": {
           "colorbar": {
            "outlinewidth": 0,
            "ticks": ""
           }
          },
          "colorscale": {
           "diverging": [
            [
             0,
             "#8e0152"
            ],
            [
             0.1,
             "#c51b7d"
            ],
            [
             0.2,
             "#de77ae"
            ],
            [
             0.3,
             "#f1b6da"
            ],
            [
             0.4,
             "#fde0ef"
            ],
            [
             0.5,
             "#f7f7f7"
            ],
            [
             0.6,
             "#e6f5d0"
            ],
            [
             0.7,
             "#b8e186"
            ],
            [
             0.8,
             "#7fbc41"
            ],
            [
             0.9,
             "#4d9221"
            ],
            [
             1,
             "#276419"
            ]
           ],
           "sequential": [
            [
             0,
             "#0d0887"
            ],
            [
             0.1111111111111111,
             "#46039f"
            ],
            [
             0.2222222222222222,
             "#7201a8"
            ],
            [
             0.3333333333333333,
             "#9c179e"
            ],
            [
             0.4444444444444444,
             "#bd3786"
            ],
            [
             0.5555555555555556,
             "#d8576b"
            ],
            [
             0.6666666666666666,
             "#ed7953"
            ],
            [
             0.7777777777777778,
             "#fb9f3a"
            ],
            [
             0.8888888888888888,
             "#fdca26"
            ],
            [
             1,
             "#f0f921"
            ]
           ],
           "sequentialminus": [
            [
             0,
             "#0d0887"
            ],
            [
             0.1111111111111111,
             "#46039f"
            ],
            [
             0.2222222222222222,
             "#7201a8"
            ],
            [
             0.3333333333333333,
             "#9c179e"
            ],
            [
             0.4444444444444444,
             "#bd3786"
            ],
            [
             0.5555555555555556,
             "#d8576b"
            ],
            [
             0.6666666666666666,
             "#ed7953"
            ],
            [
             0.7777777777777778,
             "#fb9f3a"
            ],
            [
             0.8888888888888888,
             "#fdca26"
            ],
            [
             1,
             "#f0f921"
            ]
           ]
          },
          "colorway": [
           "#636efa",
           "#EF553B",
           "#00cc96",
           "#ab63fa",
           "#FFA15A",
           "#19d3f3",
           "#FF6692",
           "#B6E880",
           "#FF97FF",
           "#FECB52"
          ],
          "font": {
           "color": "#f2f5fa"
          },
          "geo": {
           "bgcolor": "rgb(17,17,17)",
           "lakecolor": "rgb(17,17,17)",
           "landcolor": "rgb(17,17,17)",
           "showlakes": true,
           "showland": true,
           "subunitcolor": "#506784"
          },
          "hoverlabel": {
           "align": "left"
          },
          "hovermode": "closest",
          "mapbox": {
           "style": "dark"
          },
          "paper_bgcolor": "rgb(17,17,17)",
          "plot_bgcolor": "rgb(17,17,17)",
          "polar": {
           "angularaxis": {
            "gridcolor": "#506784",
            "linecolor": "#506784",
            "ticks": ""
           },
           "bgcolor": "rgb(17,17,17)",
           "radialaxis": {
            "gridcolor": "#506784",
            "linecolor": "#506784",
            "ticks": ""
           }
          },
          "scene": {
           "xaxis": {
            "backgroundcolor": "rgb(17,17,17)",
            "gridcolor": "#506784",
            "gridwidth": 2,
            "linecolor": "#506784",
            "showbackground": true,
            "ticks": "",
            "zerolinecolor": "#C8D4E3"
           },
           "yaxis": {
            "backgroundcolor": "rgb(17,17,17)",
            "gridcolor": "#506784",
            "gridwidth": 2,
            "linecolor": "#506784",
            "showbackground": true,
            "ticks": "",
            "zerolinecolor": "#C8D4E3"
           },
           "zaxis": {
            "backgroundcolor": "rgb(17,17,17)",
            "gridcolor": "#506784",
            "gridwidth": 2,
            "linecolor": "#506784",
            "showbackground": true,
            "ticks": "",
            "zerolinecolor": "#C8D4E3"
           }
          },
          "shapedefaults": {
           "line": {
            "color": "#f2f5fa"
           }
          },
          "sliderdefaults": {
           "bgcolor": "#C8D4E3",
           "bordercolor": "rgb(17,17,17)",
           "borderwidth": 1,
           "tickwidth": 0
          },
          "ternary": {
           "aaxis": {
            "gridcolor": "#506784",
            "linecolor": "#506784",
            "ticks": ""
           },
           "baxis": {
            "gridcolor": "#506784",
            "linecolor": "#506784",
            "ticks": ""
           },
           "bgcolor": "rgb(17,17,17)",
           "caxis": {
            "gridcolor": "#506784",
            "linecolor": "#506784",
            "ticks": ""
           }
          },
          "title": {
           "x": 0.05
          },
          "updatemenudefaults": {
           "bgcolor": "#506784",
           "borderwidth": 0
          },
          "xaxis": {
           "automargin": true,
           "gridcolor": "#283442",
           "linecolor": "#506784",
           "ticks": "",
           "title": {
            "standoff": 15
           },
           "zerolinecolor": "#283442",
           "zerolinewidth": 2
          },
          "yaxis": {
           "automargin": true,
           "gridcolor": "#283442",
           "linecolor": "#506784",
           "ticks": "",
           "title": {
            "standoff": 15
           },
           "zerolinecolor": "#283442",
           "zerolinewidth": 2
          }
         }
        },
        "xaxis": {
         "anchor": "y",
         "domain": [
          0,
          1
         ],
         "title": {
          "text": "house_price_unit_area"
         }
        },
        "xaxis2": {
         "anchor": "y2",
         "domain": [
          0,
          1
         ],
         "matches": "x",
         "showgrid": true,
         "showticklabels": false
        },
        "yaxis": {
         "anchor": "x",
         "domain": [
          0,
          0.7326
         ],
         "title": {
          "text": "metro_dist"
         }
        },
        "yaxis2": {
         "anchor": "x2",
         "domain": [
          0.7426,
          1
         ],
         "matches": "y2",
         "showgrid": false,
         "showline": false,
         "showticklabels": false,
         "ticks": ""
        }
       }
      }
     },
     "metadata": {},
     "output_type": "display_data"
    },
    {
     "data": {
      "application/vnd.plotly.v1+json": {
       "config": {
        "plotlyServerURL": "https://plot.ly"
       },
       "data": [
        {
         "alignmentgroup": "True",
         "bingroup": "x",
         "hovertemplate": "variable=house_price_unit_area<br>value=%{x}<br>count=%{y}<extra></extra>",
         "legendgroup": "house_price_unit_area",
         "marker": {
          "color": "#636efa",
          "line": {
           "color": "white",
           "width": 0.5
          },
          "pattern": {
           "shape": ""
          }
         },
         "name": "house_price_unit_area",
         "offsetgroup": "house_price_unit_area",
         "orientation": "v",
         "showlegend": false,
         "type": "histogram",
         "x": [
          29.3,
          45.1,
          29.3,
          18.6,
          15.9,
          14.7,
          18.25,
          12.2,
          13.4,
          14.4,
          25.3,
          18.85,
          19.2,
          18.700000000000003,
          19,
          15.5,
          16.1,
          17.9,
          12.8,
          13.8,
          13.7,
          17.4,
          18.1,
          26.3,
          24.8,
          31.3,
          26.55,
          27.5,
          24.7,
          20.7,
          40.9,
          34,
          24.7,
          22,
          23.5,
          21.8,
          23.5,
          24.7,
          26.9,
          51.7,
          33.6,
          44.85,
          37.2,
          24.5,
          11.2,
          15,
          54.4,
          42.4,
          57.3,
          23.799999999999997,
          27.3,
          23.9,
          25.6,
          23.1,
          17.7,
          22.8,
          25.7,
          23.8,
          7.6,
          29.5,
          23.1,
          31,
          27.7,
          27.7,
          29.3,
          25.65,
          28.6,
          28.1,
          28.8,
          22.3,
          21.3,
          22.9,
          30.5,
          31.05,
          36.8,
          36.5,
          26.75,
          23.4,
          47.4,
          40.5,
          49,
          45.4,
          42.2,
          41.4,
          30,
          40.3,
          41,
          51.8,
          36.9,
          48.5,
          48.1,
          22.1,
          42.5,
          42.5,
          67.7,
          48.7,
          47.849999999999994,
          36.3,
          30.9,
          48.2,
          29.05,
          40.6,
          26.05,
          36.5,
          38.2,
          40.35,
          31.1,
          42,
          78,
          30.7,
          37.4,
          52.2,
          38.6,
          39.7,
          38.4,
          31.9,
          48.1,
          44.650000000000006,
          25.299999999999997,
          37,
          35.7,
          41.9,
          40.8,
          34.1,
          42.9,
          21.5,
          21.4,
          40.5,
          41,
          63.3,
          40.9,
          39.7,
          38.8,
          50.2,
          37,
          30.8,
          43.35,
          43.4,
          45.3,
          37,
          42.2,
          30,
          57.15,
          53.9,
          117.5,
          45.4,
          42.6,
          43.9,
          34.2,
          55.3,
          26.5,
          51.6,
          36.7,
          27,
          40.25,
          31.5,
          51.3,
          39.6,
          58.45,
          36.3,
          29.8,
          42.5,
          44.3,
          39.8,
          30.6,
          42,
          39.4,
          78.3,
          45.7,
          38.2,
          70.1,
          34.6,
          37.5,
          46,
          51.849999999999994,
          50.15,
          43.5,
          40.3,
          37.4,
          33.1,
          40.6,
          35.3,
          40.3,
          44.95,
          42.3,
          38.1,
          36.2,
          32.4,
          42.2,
          46.7,
          45.2,
          40.2,
          57.5,
          41,
          41.95,
          36.6,
          40.2,
          44.75,
          48.5,
          53.3,
          46.1,
          48,
          32.5,
          51.4,
          46.6,
          48.2,
          50.5,
          49.3,
          51.099999999999994,
          25,
          42.599999999999994,
          46.85,
          27.3,
          61.9,
          35.1,
          49.8,
          39.7,
          35.6,
          55.1,
          55.9,
          42.3,
          48,
          39.5,
          31.1,
          23.5,
          46.599999999999994,
          34.1,
          39.1,
          22.8,
          33.25,
          35.400000000000006,
          41.2,
          46.6,
          27.3
         ],
         "xaxis": "x",
         "yaxis": "y"
        },
        {
         "alignmentgroup": "True",
         "boxpoints": "all",
         "fillcolor": "rgba(255,255,255,0)",
         "hoveron": "points",
         "hovertemplate": "variable=house_price_unit_area<br>value=%{x}<extra></extra>",
         "jitter": 0,
         "legendgroup": "house_price_unit_area",
         "line": {
          "color": "rgba(255,255,255,0)"
         },
         "marker": {
          "color": "#636efa",
          "line": {
           "color": "white",
           "width": 0.5
          },
          "symbol": "line-ns-open"
         },
         "name": "house_price_unit_area",
         "offsetgroup": "house_price_unit_area",
         "showlegend": false,
         "type": "box",
         "x": [
          29.3,
          45.1,
          29.3,
          18.6,
          15.9,
          14.7,
          18.25,
          12.2,
          13.4,
          14.4,
          25.3,
          18.85,
          19.2,
          18.700000000000003,
          19,
          15.5,
          16.1,
          17.9,
          12.8,
          13.8,
          13.7,
          17.4,
          18.1,
          26.3,
          24.8,
          31.3,
          26.55,
          27.5,
          24.7,
          20.7,
          40.9,
          34,
          24.7,
          22,
          23.5,
          21.8,
          23.5,
          24.7,
          26.9,
          51.7,
          33.6,
          44.85,
          37.2,
          24.5,
          11.2,
          15,
          54.4,
          42.4,
          57.3,
          23.799999999999997,
          27.3,
          23.9,
          25.6,
          23.1,
          17.7,
          22.8,
          25.7,
          23.8,
          7.6,
          29.5,
          23.1,
          31,
          27.7,
          27.7,
          29.3,
          25.65,
          28.6,
          28.1,
          28.8,
          22.3,
          21.3,
          22.9,
          30.5,
          31.05,
          36.8,
          36.5,
          26.75,
          23.4,
          47.4,
          40.5,
          49,
          45.4,
          42.2,
          41.4,
          30,
          40.3,
          41,
          51.8,
          36.9,
          48.5,
          48.1,
          22.1,
          42.5,
          42.5,
          67.7,
          48.7,
          47.849999999999994,
          36.3,
          30.9,
          48.2,
          29.05,
          40.6,
          26.05,
          36.5,
          38.2,
          40.35,
          31.1,
          42,
          78,
          30.7,
          37.4,
          52.2,
          38.6,
          39.7,
          38.4,
          31.9,
          48.1,
          44.650000000000006,
          25.299999999999997,
          37,
          35.7,
          41.9,
          40.8,
          34.1,
          42.9,
          21.5,
          21.4,
          40.5,
          41,
          63.3,
          40.9,
          39.7,
          38.8,
          50.2,
          37,
          30.8,
          43.35,
          43.4,
          45.3,
          37,
          42.2,
          30,
          57.15,
          53.9,
          117.5,
          45.4,
          42.6,
          43.9,
          34.2,
          55.3,
          26.5,
          51.6,
          36.7,
          27,
          40.25,
          31.5,
          51.3,
          39.6,
          58.45,
          36.3,
          29.8,
          42.5,
          44.3,
          39.8,
          30.6,
          42,
          39.4,
          78.3,
          45.7,
          38.2,
          70.1,
          34.6,
          37.5,
          46,
          51.849999999999994,
          50.15,
          43.5,
          40.3,
          37.4,
          33.1,
          40.6,
          35.3,
          40.3,
          44.95,
          42.3,
          38.1,
          36.2,
          32.4,
          42.2,
          46.7,
          45.2,
          40.2,
          57.5,
          41,
          41.95,
          36.6,
          40.2,
          44.75,
          48.5,
          53.3,
          46.1,
          48,
          32.5,
          51.4,
          46.6,
          48.2,
          50.5,
          49.3,
          51.099999999999994,
          25,
          42.599999999999994,
          46.85,
          27.3,
          61.9,
          35.1,
          49.8,
          39.7,
          35.6,
          55.1,
          55.9,
          42.3,
          48,
          39.5,
          31.1,
          23.5,
          46.599999999999994,
          34.1,
          39.1,
          22.8,
          33.25,
          35.400000000000006,
          41.2,
          46.6,
          27.3
         ],
         "xaxis": "x2",
         "yaxis": "y2"
        }
       ],
       "layout": {
        "barmode": "relative",
        "legend": {
         "title": {
          "text": "variable"
         },
         "tracegroupgap": 0
        },
        "margin": {
         "t": 60
        },
        "template": {
         "data": {
          "bar": [
           {
            "error_x": {
             "color": "#f2f5fa"
            },
            "error_y": {
             "color": "#f2f5fa"
            },
            "marker": {
             "line": {
              "color": "rgb(17,17,17)",
              "width": 0.5
             },
             "pattern": {
              "fillmode": "overlay",
              "size": 10,
              "solidity": 0.2
             }
            },
            "type": "bar"
           }
          ],
          "barpolar": [
           {
            "marker": {
             "line": {
              "color": "rgb(17,17,17)",
              "width": 0.5
             },
             "pattern": {
              "fillmode": "overlay",
              "size": 10,
              "solidity": 0.2
             }
            },
            "type": "barpolar"
           }
          ],
          "carpet": [
           {
            "aaxis": {
             "endlinecolor": "#A2B1C6",
             "gridcolor": "#506784",
             "linecolor": "#506784",
             "minorgridcolor": "#506784",
             "startlinecolor": "#A2B1C6"
            },
            "baxis": {
             "endlinecolor": "#A2B1C6",
             "gridcolor": "#506784",
             "linecolor": "#506784",
             "minorgridcolor": "#506784",
             "startlinecolor": "#A2B1C6"
            },
            "type": "carpet"
           }
          ],
          "choropleth": [
           {
            "colorbar": {
             "outlinewidth": 0,
             "ticks": ""
            },
            "type": "choropleth"
           }
          ],
          "contour": [
           {
            "colorbar": {
             "outlinewidth": 0,
             "ticks": ""
            },
            "colorscale": [
             [
              0,
              "#0d0887"
             ],
             [
              0.1111111111111111,
              "#46039f"
             ],
             [
              0.2222222222222222,
              "#7201a8"
             ],
             [
              0.3333333333333333,
              "#9c179e"
             ],
             [
              0.4444444444444444,
              "#bd3786"
             ],
             [
              0.5555555555555556,
              "#d8576b"
             ],
             [
              0.6666666666666666,
              "#ed7953"
             ],
             [
              0.7777777777777778,
              "#fb9f3a"
             ],
             [
              0.8888888888888888,
              "#fdca26"
             ],
             [
              1,
              "#f0f921"
             ]
            ],
            "type": "contour"
           }
          ],
          "contourcarpet": [
           {
            "colorbar": {
             "outlinewidth": 0,
             "ticks": ""
            },
            "type": "contourcarpet"
           }
          ],
          "heatmap": [
           {
            "colorbar": {
             "outlinewidth": 0,
             "ticks": ""
            },
            "colorscale": [
             [
              0,
              "#0d0887"
             ],
             [
              0.1111111111111111,
              "#46039f"
             ],
             [
              0.2222222222222222,
              "#7201a8"
             ],
             [
              0.3333333333333333,
              "#9c179e"
             ],
             [
              0.4444444444444444,
              "#bd3786"
             ],
             [
              0.5555555555555556,
              "#d8576b"
             ],
             [
              0.6666666666666666,
              "#ed7953"
             ],
             [
              0.7777777777777778,
              "#fb9f3a"
             ],
             [
              0.8888888888888888,
              "#fdca26"
             ],
             [
              1,
              "#f0f921"
             ]
            ],
            "type": "heatmap"
           }
          ],
          "heatmapgl": [
           {
            "colorbar": {
             "outlinewidth": 0,
             "ticks": ""
            },
            "colorscale": [
             [
              0,
              "#0d0887"
             ],
             [
              0.1111111111111111,
              "#46039f"
             ],
             [
              0.2222222222222222,
              "#7201a8"
             ],
             [
              0.3333333333333333,
              "#9c179e"
             ],
             [
              0.4444444444444444,
              "#bd3786"
             ],
             [
              0.5555555555555556,
              "#d8576b"
             ],
             [
              0.6666666666666666,
              "#ed7953"
             ],
             [
              0.7777777777777778,
              "#fb9f3a"
             ],
             [
              0.8888888888888888,
              "#fdca26"
             ],
             [
              1,
              "#f0f921"
             ]
            ],
            "type": "heatmapgl"
           }
          ],
          "histogram": [
           {
            "marker": {
             "pattern": {
              "fillmode": "overlay",
              "size": 10,
              "solidity": 0.2
             }
            },
            "type": "histogram"
           }
          ],
          "histogram2d": [
           {
            "colorbar": {
             "outlinewidth": 0,
             "ticks": ""
            },
            "colorscale": [
             [
              0,
              "#0d0887"
             ],
             [
              0.1111111111111111,
              "#46039f"
             ],
             [
              0.2222222222222222,
              "#7201a8"
             ],
             [
              0.3333333333333333,
              "#9c179e"
             ],
             [
              0.4444444444444444,
              "#bd3786"
             ],
             [
              0.5555555555555556,
              "#d8576b"
             ],
             [
              0.6666666666666666,
              "#ed7953"
             ],
             [
              0.7777777777777778,
              "#fb9f3a"
             ],
             [
              0.8888888888888888,
              "#fdca26"
             ],
             [
              1,
              "#f0f921"
             ]
            ],
            "type": "histogram2d"
           }
          ],
          "histogram2dcontour": [
           {
            "colorbar": {
             "outlinewidth": 0,
             "ticks": ""
            },
            "colorscale": [
             [
              0,
              "#0d0887"
             ],
             [
              0.1111111111111111,
              "#46039f"
             ],
             [
              0.2222222222222222,
              "#7201a8"
             ],
             [
              0.3333333333333333,
              "#9c179e"
             ],
             [
              0.4444444444444444,
              "#bd3786"
             ],
             [
              0.5555555555555556,
              "#d8576b"
             ],
             [
              0.6666666666666666,
              "#ed7953"
             ],
             [
              0.7777777777777778,
              "#fb9f3a"
             ],
             [
              0.8888888888888888,
              "#fdca26"
             ],
             [
              1,
              "#f0f921"
             ]
            ],
            "type": "histogram2dcontour"
           }
          ],
          "mesh3d": [
           {
            "colorbar": {
             "outlinewidth": 0,
             "ticks": ""
            },
            "type": "mesh3d"
           }
          ],
          "parcoords": [
           {
            "line": {
             "colorbar": {
              "outlinewidth": 0,
              "ticks": ""
             }
            },
            "type": "parcoords"
           }
          ],
          "pie": [
           {
            "automargin": true,
            "type": "pie"
           }
          ],
          "scatter": [
           {
            "marker": {
             "line": {
              "color": "#283442"
             }
            },
            "type": "scatter"
           }
          ],
          "scatter3d": [
           {
            "line": {
             "colorbar": {
              "outlinewidth": 0,
              "ticks": ""
             }
            },
            "marker": {
             "colorbar": {
              "outlinewidth": 0,
              "ticks": ""
             }
            },
            "type": "scatter3d"
           }
          ],
          "scattercarpet": [
           {
            "marker": {
             "colorbar": {
              "outlinewidth": 0,
              "ticks": ""
             }
            },
            "type": "scattercarpet"
           }
          ],
          "scattergeo": [
           {
            "marker": {
             "colorbar": {
              "outlinewidth": 0,
              "ticks": ""
             }
            },
            "type": "scattergeo"
           }
          ],
          "scattergl": [
           {
            "marker": {
             "line": {
              "color": "#283442"
             }
            },
            "type": "scattergl"
           }
          ],
          "scattermapbox": [
           {
            "marker": {
             "colorbar": {
              "outlinewidth": 0,
              "ticks": ""
             }
            },
            "type": "scattermapbox"
           }
          ],
          "scatterpolar": [
           {
            "marker": {
             "colorbar": {
              "outlinewidth": 0,
              "ticks": ""
             }
            },
            "type": "scatterpolar"
           }
          ],
          "scatterpolargl": [
           {
            "marker": {
             "colorbar": {
              "outlinewidth": 0,
              "ticks": ""
             }
            },
            "type": "scatterpolargl"
           }
          ],
          "scatterternary": [
           {
            "marker": {
             "colorbar": {
              "outlinewidth": 0,
              "ticks": ""
             }
            },
            "type": "scatterternary"
           }
          ],
          "surface": [
           {
            "colorbar": {
             "outlinewidth": 0,
             "ticks": ""
            },
            "colorscale": [
             [
              0,
              "#0d0887"
             ],
             [
              0.1111111111111111,
              "#46039f"
             ],
             [
              0.2222222222222222,
              "#7201a8"
             ],
             [
              0.3333333333333333,
              "#9c179e"
             ],
             [
              0.4444444444444444,
              "#bd3786"
             ],
             [
              0.5555555555555556,
              "#d8576b"
             ],
             [
              0.6666666666666666,
              "#ed7953"
             ],
             [
              0.7777777777777778,
              "#fb9f3a"
             ],
             [
              0.8888888888888888,
              "#fdca26"
             ],
             [
              1,
              "#f0f921"
             ]
            ],
            "type": "surface"
           }
          ],
          "table": [
           {
            "cells": {
             "fill": {
              "color": "#506784"
             },
             "line": {
              "color": "rgb(17,17,17)"
             }
            },
            "header": {
             "fill": {
              "color": "#2a3f5f"
             },
             "line": {
              "color": "rgb(17,17,17)"
             }
            },
            "type": "table"
           }
          ]
         },
         "layout": {
          "annotationdefaults": {
           "arrowcolor": "#f2f5fa",
           "arrowhead": 0,
           "arrowwidth": 1
          },
          "autotypenumbers": "strict",
          "coloraxis": {
           "colorbar": {
            "outlinewidth": 0,
            "ticks": ""
           }
          },
          "colorscale": {
           "diverging": [
            [
             0,
             "#8e0152"
            ],
            [
             0.1,
             "#c51b7d"
            ],
            [
             0.2,
             "#de77ae"
            ],
            [
             0.3,
             "#f1b6da"
            ],
            [
             0.4,
             "#fde0ef"
            ],
            [
             0.5,
             "#f7f7f7"
            ],
            [
             0.6,
             "#e6f5d0"
            ],
            [
             0.7,
             "#b8e186"
            ],
            [
             0.8,
             "#7fbc41"
            ],
            [
             0.9,
             "#4d9221"
            ],
            [
             1,
             "#276419"
            ]
           ],
           "sequential": [
            [
             0,
             "#0d0887"
            ],
            [
             0.1111111111111111,
             "#46039f"
            ],
            [
             0.2222222222222222,
             "#7201a8"
            ],
            [
             0.3333333333333333,
             "#9c179e"
            ],
            [
             0.4444444444444444,
             "#bd3786"
            ],
            [
             0.5555555555555556,
             "#d8576b"
            ],
            [
             0.6666666666666666,
             "#ed7953"
            ],
            [
             0.7777777777777778,
             "#fb9f3a"
            ],
            [
             0.8888888888888888,
             "#fdca26"
            ],
            [
             1,
             "#f0f921"
            ]
           ],
           "sequentialminus": [
            [
             0,
             "#0d0887"
            ],
            [
             0.1111111111111111,
             "#46039f"
            ],
            [
             0.2222222222222222,
             "#7201a8"
            ],
            [
             0.3333333333333333,
             "#9c179e"
            ],
            [
             0.4444444444444444,
             "#bd3786"
            ],
            [
             0.5555555555555556,
             "#d8576b"
            ],
            [
             0.6666666666666666,
             "#ed7953"
            ],
            [
             0.7777777777777778,
             "#fb9f3a"
            ],
            [
             0.8888888888888888,
             "#fdca26"
            ],
            [
             1,
             "#f0f921"
            ]
           ]
          },
          "colorway": [
           "#636efa",
           "#EF553B",
           "#00cc96",
           "#ab63fa",
           "#FFA15A",
           "#19d3f3",
           "#FF6692",
           "#B6E880",
           "#FF97FF",
           "#FECB52"
          ],
          "font": {
           "color": "#f2f5fa"
          },
          "geo": {
           "bgcolor": "rgb(17,17,17)",
           "lakecolor": "rgb(17,17,17)",
           "landcolor": "rgb(17,17,17)",
           "showlakes": true,
           "showland": true,
           "subunitcolor": "#506784"
          },
          "hoverlabel": {
           "align": "left"
          },
          "hovermode": "closest",
          "mapbox": {
           "style": "dark"
          },
          "paper_bgcolor": "rgb(17,17,17)",
          "plot_bgcolor": "rgb(17,17,17)",
          "polar": {
           "angularaxis": {
            "gridcolor": "#506784",
            "linecolor": "#506784",
            "ticks": ""
           },
           "bgcolor": "rgb(17,17,17)",
           "radialaxis": {
            "gridcolor": "#506784",
            "linecolor": "#506784",
            "ticks": ""
           }
          },
          "scene": {
           "xaxis": {
            "backgroundcolor": "rgb(17,17,17)",
            "gridcolor": "#506784",
            "gridwidth": 2,
            "linecolor": "#506784",
            "showbackground": true,
            "ticks": "",
            "zerolinecolor": "#C8D4E3"
           },
           "yaxis": {
            "backgroundcolor": "rgb(17,17,17)",
            "gridcolor": "#506784",
            "gridwidth": 2,
            "linecolor": "#506784",
            "showbackground": true,
            "ticks": "",
            "zerolinecolor": "#C8D4E3"
           },
           "zaxis": {
            "backgroundcolor": "rgb(17,17,17)",
            "gridcolor": "#506784",
            "gridwidth": 2,
            "linecolor": "#506784",
            "showbackground": true,
            "ticks": "",
            "zerolinecolor": "#C8D4E3"
           }
          },
          "shapedefaults": {
           "line": {
            "color": "#f2f5fa"
           }
          },
          "sliderdefaults": {
           "bgcolor": "#C8D4E3",
           "bordercolor": "rgb(17,17,17)",
           "borderwidth": 1,
           "tickwidth": 0
          },
          "ternary": {
           "aaxis": {
            "gridcolor": "#506784",
            "linecolor": "#506784",
            "ticks": ""
           },
           "baxis": {
            "gridcolor": "#506784",
            "linecolor": "#506784",
            "ticks": ""
           },
           "bgcolor": "rgb(17,17,17)",
           "caxis": {
            "gridcolor": "#506784",
            "linecolor": "#506784",
            "ticks": ""
           }
          },
          "title": {
           "x": 0.05
          },
          "updatemenudefaults": {
           "bgcolor": "#506784",
           "borderwidth": 0
          },
          "xaxis": {
           "automargin": true,
           "gridcolor": "#283442",
           "linecolor": "#506784",
           "ticks": "",
           "title": {
            "standoff": 15
           },
           "zerolinecolor": "#283442",
           "zerolinewidth": 2
          },
          "yaxis": {
           "automargin": true,
           "gridcolor": "#283442",
           "linecolor": "#506784",
           "ticks": "",
           "title": {
            "standoff": 15
           },
           "zerolinecolor": "#283442",
           "zerolinewidth": 2
          }
         }
        },
        "xaxis": {
         "anchor": "y",
         "domain": [
          0,
          1
         ],
         "title": {
          "text": "house_price_unit_area"
         }
        },
        "xaxis2": {
         "anchor": "y2",
         "domain": [
          0,
          1
         ],
         "matches": "x",
         "showgrid": true,
         "showticklabels": false
        },
        "yaxis": {
         "anchor": "x",
         "domain": [
          0,
          0.7326
         ],
         "title": {
          "text": "lat"
         }
        },
        "yaxis2": {
         "anchor": "x2",
         "domain": [
          0.7426,
          1
         ],
         "matches": "y2",
         "showgrid": false,
         "showline": false,
         "showticklabels": false,
         "ticks": ""
        }
       }
      }
     },
     "metadata": {},
     "output_type": "display_data"
    },
    {
     "data": {
      "application/vnd.plotly.v1+json": {
       "config": {
        "plotlyServerURL": "https://plot.ly"
       },
       "data": [
        {
         "alignmentgroup": "True",
         "bingroup": "x",
         "hovertemplate": "variable=house_price_unit_area<br>value=%{x}<br>count=%{y}<extra></extra>",
         "legendgroup": "house_price_unit_area",
         "marker": {
          "color": "#636efa",
          "line": {
           "color": "white",
           "width": 0.5
          },
          "pattern": {
           "shape": ""
          }
         },
         "name": "house_price_unit_area",
         "offsetgroup": "house_price_unit_area",
         "orientation": "v",
         "showlegend": false,
         "type": "histogram",
         "x": [
          11.2,
          15,
          12.2,
          18.1,
          19.2,
          17.9,
          13.4,
          17.4,
          15.5,
          14.4,
          24.7,
          25.3,
          18.25,
          14.7,
          15.9,
          18.6,
          25.7,
          17.7,
          22.8,
          29.3,
          29.3,
          45.1,
          29.5,
          25.65,
          28.6,
          28.1,
          21.8,
          27.7,
          31,
          33.4,
          27.3,
          23.799999999999997,
          23.9,
          22.9,
          24.35,
          21.3,
          22.1,
          20.9,
          41.2,
          29.3,
          25.9,
          25.299999999999997,
          31.1,
          26.75,
          29.4,
          30.8,
          23.6,
          30.7,
          30.6,
          27,
          21.4,
          21.5,
          35.6,
          27,
          46.6,
          27.3,
          27.3,
          23.5,
          31.1,
          43.5,
          39.8,
          43.25,
          48,
          42.3,
          18.700000000000003,
          50.2,
          30.8,
          32.9,
          45.3,
          13.7,
          13.8,
          65.15,
          45.4,
          16.1,
          19,
          40.25,
          26.5,
          52.2,
          42.9,
          34.6,
          41.4,
          29.8,
          24.5,
          33.25,
          40,
          37.95,
          38.4,
          42.4,
          35.7,
          35.85,
          35.400000000000006,
          22.8,
          37.4,
          37,
          39.6,
          62.9,
          39.7,
          34.1,
          46.6,
          41.3,
          55.3,
          37.5,
          40.2,
          33.1,
          34.2,
          54.4,
          36.2,
          51.15,
          40.5,
          48.5,
          57.3,
          35.6,
          49.8,
          49.55,
          38.2,
          45.2,
          44.75,
          47,
          36.2,
          7.6,
          42.2,
          43.35,
          44.85,
          37.5,
          26.9,
          35.3,
          38.8,
          40.3,
          34.95,
          30,
          48.2,
          32.4,
          42.2,
          51.7,
          36.8,
          39.7,
          47.3,
          40.400000000000006,
          34,
          36.9,
          41,
          43.4,
          47.1,
          37.9,
          41,
          60.7,
          44,
          36.5,
          51.7,
          60.35,
          39.5,
          46.7,
          48.8,
          63.3,
          48.7,
          40.8,
          55.9,
          38.1,
          53.3,
          41,
          46,
          40.3,
          42.2,
          39.4,
          46.7,
          67.7,
          55.1,
          43.1,
          30.5,
          48.1,
          42,
          78.3,
          48.5,
          40.9,
          40.6,
          47.4,
          51,
          49.3,
          41.4,
          34.1,
          47.1,
          58.1,
          44.3,
          37.4,
          44.3,
          36.3,
          51.4,
          38.6,
          54.9,
          51.099999999999994,
          47.849999999999994,
          42.5,
          42.3,
          69.9,
          35.1,
          38.45,
          48.7,
          29.05,
          38.3,
          58.45,
          40.6,
          51.6,
          28.5,
          50.5,
          37.4,
          37.5,
          30.9,
          51.3,
          36.6,
          44.650000000000006,
          46.4,
          53.9,
          28.8,
          40.8,
          27.5,
          26.55,
          26.3,
          25.4,
          23.1,
          29.65,
          36.7,
          23.8,
          31.9,
          24.7,
          24.8,
          20.7,
          31.3,
          30.6,
          23.5,
          23.5,
          21.8,
          23.35
         ],
         "xaxis": "x",
         "yaxis": "y"
        },
        {
         "alignmentgroup": "True",
         "boxpoints": "all",
         "fillcolor": "rgba(255,255,255,0)",
         "hoveron": "points",
         "hovertemplate": "variable=house_price_unit_area<br>value=%{x}<extra></extra>",
         "jitter": 0,
         "legendgroup": "house_price_unit_area",
         "line": {
          "color": "rgba(255,255,255,0)"
         },
         "marker": {
          "color": "#636efa",
          "line": {
           "color": "white",
           "width": 0.5
          },
          "symbol": "line-ns-open"
         },
         "name": "house_price_unit_area",
         "offsetgroup": "house_price_unit_area",
         "showlegend": false,
         "type": "box",
         "x": [
          11.2,
          15,
          12.2,
          18.1,
          19.2,
          17.9,
          13.4,
          17.4,
          15.5,
          14.4,
          24.7,
          25.3,
          18.25,
          14.7,
          15.9,
          18.6,
          25.7,
          17.7,
          22.8,
          29.3,
          29.3,
          45.1,
          29.5,
          25.65,
          28.6,
          28.1,
          21.8,
          27.7,
          31,
          33.4,
          27.3,
          23.799999999999997,
          23.9,
          22.9,
          24.35,
          21.3,
          22.1,
          20.9,
          41.2,
          29.3,
          25.9,
          25.299999999999997,
          31.1,
          26.75,
          29.4,
          30.8,
          23.6,
          30.7,
          30.6,
          27,
          21.4,
          21.5,
          35.6,
          27,
          46.6,
          27.3,
          27.3,
          23.5,
          31.1,
          43.5,
          39.8,
          43.25,
          48,
          42.3,
          18.700000000000003,
          50.2,
          30.8,
          32.9,
          45.3,
          13.7,
          13.8,
          65.15,
          45.4,
          16.1,
          19,
          40.25,
          26.5,
          52.2,
          42.9,
          34.6,
          41.4,
          29.8,
          24.5,
          33.25,
          40,
          37.95,
          38.4,
          42.4,
          35.7,
          35.85,
          35.400000000000006,
          22.8,
          37.4,
          37,
          39.6,
          62.9,
          39.7,
          34.1,
          46.6,
          41.3,
          55.3,
          37.5,
          40.2,
          33.1,
          34.2,
          54.4,
          36.2,
          51.15,
          40.5,
          48.5,
          57.3,
          35.6,
          49.8,
          49.55,
          38.2,
          45.2,
          44.75,
          47,
          36.2,
          7.6,
          42.2,
          43.35,
          44.85,
          37.5,
          26.9,
          35.3,
          38.8,
          40.3,
          34.95,
          30,
          48.2,
          32.4,
          42.2,
          51.7,
          36.8,
          39.7,
          47.3,
          40.400000000000006,
          34,
          36.9,
          41,
          43.4,
          47.1,
          37.9,
          41,
          60.7,
          44,
          36.5,
          51.7,
          60.35,
          39.5,
          46.7,
          48.8,
          63.3,
          48.7,
          40.8,
          55.9,
          38.1,
          53.3,
          41,
          46,
          40.3,
          42.2,
          39.4,
          46.7,
          67.7,
          55.1,
          43.1,
          30.5,
          48.1,
          42,
          78.3,
          48.5,
          40.9,
          40.6,
          47.4,
          51,
          49.3,
          41.4,
          34.1,
          47.1,
          58.1,
          44.3,
          37.4,
          44.3,
          36.3,
          51.4,
          38.6,
          54.9,
          51.099999999999994,
          47.849999999999994,
          42.5,
          42.3,
          69.9,
          35.1,
          38.45,
          48.7,
          29.05,
          38.3,
          58.45,
          40.6,
          51.6,
          28.5,
          50.5,
          37.4,
          37.5,
          30.9,
          51.3,
          36.6,
          44.650000000000006,
          46.4,
          53.9,
          28.8,
          40.8,
          27.5,
          26.55,
          26.3,
          25.4,
          23.1,
          29.65,
          36.7,
          23.8,
          31.9,
          24.7,
          24.8,
          20.7,
          31.3,
          30.6,
          23.5,
          23.5,
          21.8,
          23.35
         ],
         "xaxis": "x2",
         "yaxis": "y2"
        }
       ],
       "layout": {
        "barmode": "relative",
        "legend": {
         "title": {
          "text": "variable"
         },
         "tracegroupgap": 0
        },
        "margin": {
         "t": 60
        },
        "template": {
         "data": {
          "bar": [
           {
            "error_x": {
             "color": "#f2f5fa"
            },
            "error_y": {
             "color": "#f2f5fa"
            },
            "marker": {
             "line": {
              "color": "rgb(17,17,17)",
              "width": 0.5
             },
             "pattern": {
              "fillmode": "overlay",
              "size": 10,
              "solidity": 0.2
             }
            },
            "type": "bar"
           }
          ],
          "barpolar": [
           {
            "marker": {
             "line": {
              "color": "rgb(17,17,17)",
              "width": 0.5
             },
             "pattern": {
              "fillmode": "overlay",
              "size": 10,
              "solidity": 0.2
             }
            },
            "type": "barpolar"
           }
          ],
          "carpet": [
           {
            "aaxis": {
             "endlinecolor": "#A2B1C6",
             "gridcolor": "#506784",
             "linecolor": "#506784",
             "minorgridcolor": "#506784",
             "startlinecolor": "#A2B1C6"
            },
            "baxis": {
             "endlinecolor": "#A2B1C6",
             "gridcolor": "#506784",
             "linecolor": "#506784",
             "minorgridcolor": "#506784",
             "startlinecolor": "#A2B1C6"
            },
            "type": "carpet"
           }
          ],
          "choropleth": [
           {
            "colorbar": {
             "outlinewidth": 0,
             "ticks": ""
            },
            "type": "choropleth"
           }
          ],
          "contour": [
           {
            "colorbar": {
             "outlinewidth": 0,
             "ticks": ""
            },
            "colorscale": [
             [
              0,
              "#0d0887"
             ],
             [
              0.1111111111111111,
              "#46039f"
             ],
             [
              0.2222222222222222,
              "#7201a8"
             ],
             [
              0.3333333333333333,
              "#9c179e"
             ],
             [
              0.4444444444444444,
              "#bd3786"
             ],
             [
              0.5555555555555556,
              "#d8576b"
             ],
             [
              0.6666666666666666,
              "#ed7953"
             ],
             [
              0.7777777777777778,
              "#fb9f3a"
             ],
             [
              0.8888888888888888,
              "#fdca26"
             ],
             [
              1,
              "#f0f921"
             ]
            ],
            "type": "contour"
           }
          ],
          "contourcarpet": [
           {
            "colorbar": {
             "outlinewidth": 0,
             "ticks": ""
            },
            "type": "contourcarpet"
           }
          ],
          "heatmap": [
           {
            "colorbar": {
             "outlinewidth": 0,
             "ticks": ""
            },
            "colorscale": [
             [
              0,
              "#0d0887"
             ],
             [
              0.1111111111111111,
              "#46039f"
             ],
             [
              0.2222222222222222,
              "#7201a8"
             ],
             [
              0.3333333333333333,
              "#9c179e"
             ],
             [
              0.4444444444444444,
              "#bd3786"
             ],
             [
              0.5555555555555556,
              "#d8576b"
             ],
             [
              0.6666666666666666,
              "#ed7953"
             ],
             [
              0.7777777777777778,
              "#fb9f3a"
             ],
             [
              0.8888888888888888,
              "#fdca26"
             ],
             [
              1,
              "#f0f921"
             ]
            ],
            "type": "heatmap"
           }
          ],
          "heatmapgl": [
           {
            "colorbar": {
             "outlinewidth": 0,
             "ticks": ""
            },
            "colorscale": [
             [
              0,
              "#0d0887"
             ],
             [
              0.1111111111111111,
              "#46039f"
             ],
             [
              0.2222222222222222,
              "#7201a8"
             ],
             [
              0.3333333333333333,
              "#9c179e"
             ],
             [
              0.4444444444444444,
              "#bd3786"
             ],
             [
              0.5555555555555556,
              "#d8576b"
             ],
             [
              0.6666666666666666,
              "#ed7953"
             ],
             [
              0.7777777777777778,
              "#fb9f3a"
             ],
             [
              0.8888888888888888,
              "#fdca26"
             ],
             [
              1,
              "#f0f921"
             ]
            ],
            "type": "heatmapgl"
           }
          ],
          "histogram": [
           {
            "marker": {
             "pattern": {
              "fillmode": "overlay",
              "size": 10,
              "solidity": 0.2
             }
            },
            "type": "histogram"
           }
          ],
          "histogram2d": [
           {
            "colorbar": {
             "outlinewidth": 0,
             "ticks": ""
            },
            "colorscale": [
             [
              0,
              "#0d0887"
             ],
             [
              0.1111111111111111,
              "#46039f"
             ],
             [
              0.2222222222222222,
              "#7201a8"
             ],
             [
              0.3333333333333333,
              "#9c179e"
             ],
             [
              0.4444444444444444,
              "#bd3786"
             ],
             [
              0.5555555555555556,
              "#d8576b"
             ],
             [
              0.6666666666666666,
              "#ed7953"
             ],
             [
              0.7777777777777778,
              "#fb9f3a"
             ],
             [
              0.8888888888888888,
              "#fdca26"
             ],
             [
              1,
              "#f0f921"
             ]
            ],
            "type": "histogram2d"
           }
          ],
          "histogram2dcontour": [
           {
            "colorbar": {
             "outlinewidth": 0,
             "ticks": ""
            },
            "colorscale": [
             [
              0,
              "#0d0887"
             ],
             [
              0.1111111111111111,
              "#46039f"
             ],
             [
              0.2222222222222222,
              "#7201a8"
             ],
             [
              0.3333333333333333,
              "#9c179e"
             ],
             [
              0.4444444444444444,
              "#bd3786"
             ],
             [
              0.5555555555555556,
              "#d8576b"
             ],
             [
              0.6666666666666666,
              "#ed7953"
             ],
             [
              0.7777777777777778,
              "#fb9f3a"
             ],
             [
              0.8888888888888888,
              "#fdca26"
             ],
             [
              1,
              "#f0f921"
             ]
            ],
            "type": "histogram2dcontour"
           }
          ],
          "mesh3d": [
           {
            "colorbar": {
             "outlinewidth": 0,
             "ticks": ""
            },
            "type": "mesh3d"
           }
          ],
          "parcoords": [
           {
            "line": {
             "colorbar": {
              "outlinewidth": 0,
              "ticks": ""
             }
            },
            "type": "parcoords"
           }
          ],
          "pie": [
           {
            "automargin": true,
            "type": "pie"
           }
          ],
          "scatter": [
           {
            "marker": {
             "line": {
              "color": "#283442"
             }
            },
            "type": "scatter"
           }
          ],
          "scatter3d": [
           {
            "line": {
             "colorbar": {
              "outlinewidth": 0,
              "ticks": ""
             }
            },
            "marker": {
             "colorbar": {
              "outlinewidth": 0,
              "ticks": ""
             }
            },
            "type": "scatter3d"
           }
          ],
          "scattercarpet": [
           {
            "marker": {
             "colorbar": {
              "outlinewidth": 0,
              "ticks": ""
             }
            },
            "type": "scattercarpet"
           }
          ],
          "scattergeo": [
           {
            "marker": {
             "colorbar": {
              "outlinewidth": 0,
              "ticks": ""
             }
            },
            "type": "scattergeo"
           }
          ],
          "scattergl": [
           {
            "marker": {
             "line": {
              "color": "#283442"
             }
            },
            "type": "scattergl"
           }
          ],
          "scattermapbox": [
           {
            "marker": {
             "colorbar": {
              "outlinewidth": 0,
              "ticks": ""
             }
            },
            "type": "scattermapbox"
           }
          ],
          "scatterpolar": [
           {
            "marker": {
             "colorbar": {
              "outlinewidth": 0,
              "ticks": ""
             }
            },
            "type": "scatterpolar"
           }
          ],
          "scatterpolargl": [
           {
            "marker": {
             "colorbar": {
              "outlinewidth": 0,
              "ticks": ""
             }
            },
            "type": "scatterpolargl"
           }
          ],
          "scatterternary": [
           {
            "marker": {
             "colorbar": {
              "outlinewidth": 0,
              "ticks": ""
             }
            },
            "type": "scatterternary"
           }
          ],
          "surface": [
           {
            "colorbar": {
             "outlinewidth": 0,
             "ticks": ""
            },
            "colorscale": [
             [
              0,
              "#0d0887"
             ],
             [
              0.1111111111111111,
              "#46039f"
             ],
             [
              0.2222222222222222,
              "#7201a8"
             ],
             [
              0.3333333333333333,
              "#9c179e"
             ],
             [
              0.4444444444444444,
              "#bd3786"
             ],
             [
              0.5555555555555556,
              "#d8576b"
             ],
             [
              0.6666666666666666,
              "#ed7953"
             ],
             [
              0.7777777777777778,
              "#fb9f3a"
             ],
             [
              0.8888888888888888,
              "#fdca26"
             ],
             [
              1,
              "#f0f921"
             ]
            ],
            "type": "surface"
           }
          ],
          "table": [
           {
            "cells": {
             "fill": {
              "color": "#506784"
             },
             "line": {
              "color": "rgb(17,17,17)"
             }
            },
            "header": {
             "fill": {
              "color": "#2a3f5f"
             },
             "line": {
              "color": "rgb(17,17,17)"
             }
            },
            "type": "table"
           }
          ]
         },
         "layout": {
          "annotationdefaults": {
           "arrowcolor": "#f2f5fa",
           "arrowhead": 0,
           "arrowwidth": 1
          },
          "autotypenumbers": "strict",
          "coloraxis": {
           "colorbar": {
            "outlinewidth": 0,
            "ticks": ""
           }
          },
          "colorscale": {
           "diverging": [
            [
             0,
             "#8e0152"
            ],
            [
             0.1,
             "#c51b7d"
            ],
            [
             0.2,
             "#de77ae"
            ],
            [
             0.3,
             "#f1b6da"
            ],
            [
             0.4,
             "#fde0ef"
            ],
            [
             0.5,
             "#f7f7f7"
            ],
            [
             0.6,
             "#e6f5d0"
            ],
            [
             0.7,
             "#b8e186"
            ],
            [
             0.8,
             "#7fbc41"
            ],
            [
             0.9,
             "#4d9221"
            ],
            [
             1,
             "#276419"
            ]
           ],
           "sequential": [
            [
             0,
             "#0d0887"
            ],
            [
             0.1111111111111111,
             "#46039f"
            ],
            [
             0.2222222222222222,
             "#7201a8"
            ],
            [
             0.3333333333333333,
             "#9c179e"
            ],
            [
             0.4444444444444444,
             "#bd3786"
            ],
            [
             0.5555555555555556,
             "#d8576b"
            ],
            [
             0.6666666666666666,
             "#ed7953"
            ],
            [
             0.7777777777777778,
             "#fb9f3a"
            ],
            [
             0.8888888888888888,
             "#fdca26"
            ],
            [
             1,
             "#f0f921"
            ]
           ],
           "sequentialminus": [
            [
             0,
             "#0d0887"
            ],
            [
             0.1111111111111111,
             "#46039f"
            ],
            [
             0.2222222222222222,
             "#7201a8"
            ],
            [
             0.3333333333333333,
             "#9c179e"
            ],
            [
             0.4444444444444444,
             "#bd3786"
            ],
            [
             0.5555555555555556,
             "#d8576b"
            ],
            [
             0.6666666666666666,
             "#ed7953"
            ],
            [
             0.7777777777777778,
             "#fb9f3a"
            ],
            [
             0.8888888888888888,
             "#fdca26"
            ],
            [
             1,
             "#f0f921"
            ]
           ]
          },
          "colorway": [
           "#636efa",
           "#EF553B",
           "#00cc96",
           "#ab63fa",
           "#FFA15A",
           "#19d3f3",
           "#FF6692",
           "#B6E880",
           "#FF97FF",
           "#FECB52"
          ],
          "font": {
           "color": "#f2f5fa"
          },
          "geo": {
           "bgcolor": "rgb(17,17,17)",
           "lakecolor": "rgb(17,17,17)",
           "landcolor": "rgb(17,17,17)",
           "showlakes": true,
           "showland": true,
           "subunitcolor": "#506784"
          },
          "hoverlabel": {
           "align": "left"
          },
          "hovermode": "closest",
          "mapbox": {
           "style": "dark"
          },
          "paper_bgcolor": "rgb(17,17,17)",
          "plot_bgcolor": "rgb(17,17,17)",
          "polar": {
           "angularaxis": {
            "gridcolor": "#506784",
            "linecolor": "#506784",
            "ticks": ""
           },
           "bgcolor": "rgb(17,17,17)",
           "radialaxis": {
            "gridcolor": "#506784",
            "linecolor": "#506784",
            "ticks": ""
           }
          },
          "scene": {
           "xaxis": {
            "backgroundcolor": "rgb(17,17,17)",
            "gridcolor": "#506784",
            "gridwidth": 2,
            "linecolor": "#506784",
            "showbackground": true,
            "ticks": "",
            "zerolinecolor": "#C8D4E3"
           },
           "yaxis": {
            "backgroundcolor": "rgb(17,17,17)",
            "gridcolor": "#506784",
            "gridwidth": 2,
            "linecolor": "#506784",
            "showbackground": true,
            "ticks": "",
            "zerolinecolor": "#C8D4E3"
           },
           "zaxis": {
            "backgroundcolor": "rgb(17,17,17)",
            "gridcolor": "#506784",
            "gridwidth": 2,
            "linecolor": "#506784",
            "showbackground": true,
            "ticks": "",
            "zerolinecolor": "#C8D4E3"
           }
          },
          "shapedefaults": {
           "line": {
            "color": "#f2f5fa"
           }
          },
          "sliderdefaults": {
           "bgcolor": "#C8D4E3",
           "bordercolor": "rgb(17,17,17)",
           "borderwidth": 1,
           "tickwidth": 0
          },
          "ternary": {
           "aaxis": {
            "gridcolor": "#506784",
            "linecolor": "#506784",
            "ticks": ""
           },
           "baxis": {
            "gridcolor": "#506784",
            "linecolor": "#506784",
            "ticks": ""
           },
           "bgcolor": "rgb(17,17,17)",
           "caxis": {
            "gridcolor": "#506784",
            "linecolor": "#506784",
            "ticks": ""
           }
          },
          "title": {
           "x": 0.05
          },
          "updatemenudefaults": {
           "bgcolor": "#506784",
           "borderwidth": 0
          },
          "xaxis": {
           "automargin": true,
           "gridcolor": "#283442",
           "linecolor": "#506784",
           "ticks": "",
           "title": {
            "standoff": 15
           },
           "zerolinecolor": "#283442",
           "zerolinewidth": 2
          },
          "yaxis": {
           "automargin": true,
           "gridcolor": "#283442",
           "linecolor": "#506784",
           "ticks": "",
           "title": {
            "standoff": 15
           },
           "zerolinecolor": "#283442",
           "zerolinewidth": 2
          }
         }
        },
        "xaxis": {
         "anchor": "y",
         "domain": [
          0,
          1
         ],
         "title": {
          "text": "house_price_unit_area"
         }
        },
        "xaxis2": {
         "anchor": "y2",
         "domain": [
          0,
          1
         ],
         "matches": "x",
         "showgrid": true,
         "showticklabels": false
        },
        "yaxis": {
         "anchor": "x",
         "domain": [
          0,
          0.7326
         ],
         "title": {
          "text": "long"
         }
        },
        "yaxis2": {
         "anchor": "x2",
         "domain": [
          0.7426,
          1
         ],
         "matches": "y2",
         "showgrid": false,
         "showline": false,
         "showticklabels": false,
         "ticks": ""
        }
       }
      }
     },
     "metadata": {},
     "output_type": "display_data"
    },
    {
     "data": {
      "application/vnd.plotly.v1+json": {
       "config": {
        "plotlyServerURL": "https://plot.ly"
       },
       "data": [
        {
         "alignmentgroup": "True",
         "bingroup": "x",
         "hovertemplate": "variable=house_price_unit_area<br>value=%{x}<br>count=%{y}<extra></extra>",
         "legendgroup": "house_price_unit_area",
         "marker": {
          "color": "#636efa",
          "line": {
           "color": "white",
           "width": 0.5
          },
          "pattern": {
           "shape": ""
          }
         },
         "name": "house_price_unit_area",
         "offsetgroup": "house_price_unit_area",
         "orientation": "v",
         "showlegend": false,
         "type": "histogram",
         "x": [
          26.9,
          39.5,
          25.5,
          44.05,
          40.3,
          23.1,
          49.6,
          30,
          28.8,
          45.5,
          45.3,
          23,
          29.400000000000002,
          48.1,
          47.4,
          78,
          41,
          51,
          31.1,
          46.4,
          21.8,
          43.4,
          35.8,
          21.3,
          26.2,
          35.599999999999994,
          44,
          25.4,
          29.8,
          39.4,
          49,
          23.1,
          39.099999999999994,
          11.6,
          30.6,
          27.9,
          62.9,
          31.7,
          57.1,
          31.85,
          48.2,
          33.1,
          22.8,
          51.4,
          40.3,
          37.3,
          53,
          43.1,
          42.849999999999994,
          59.05,
          23.9,
          12.2,
          35.7,
          38.55,
          27.3,
          32.1,
          25.3,
          34.3,
          30.7,
          62.2,
          27,
          21.5,
          43.2,
          28.6,
          29.049999999999997,
          40.8,
          16.1,
          32.55,
          42.5,
          44.8,
          42.4,
          23,
          42,
          36.9,
          43.55,
          50.85,
          39.7,
          40,
          32.400000000000006,
          42,
          15.9,
          19,
          43,
          49.3,
          37.4,
          33.4,
          56.25,
          38.3,
          37.9,
          39,
          67.7,
          40,
          42,
          40.2,
          32.8,
          20.9,
          22.3,
          15.8,
          24.8,
          53,
          42.5,
          52.5,
          47.7,
          37,
          15.4,
          37.2,
          27,
          42.3,
          24.7,
          35.6,
          45.5,
          33.35,
          52.2,
          42.25,
          26.7,
          58.1,
          40.1,
          46.35,
          25.3,
          51.7,
          61.5,
          40.9,
          47.1,
          54.8,
          24.7,
          18.3,
          32.9,
          46,
          41.9,
          24.7,
          41.05,
          40.5,
          23.5,
          21.8,
          31.3,
          31.9,
          26.6,
          55,
          48,
          18.8,
          27.3,
          38.2,
          50.75,
          23.8,
          11.2,
          33.6,
          27.75,
          42.650000000000006,
          45.7,
          45.4,
          26.5,
          35.5,
          51.8,
          21.6,
          34.7,
          30.35,
          35.75,
          20.5,
          42.7,
          23.6,
          25.7,
          27,
          41.2,
          28.8,
          20.7,
          45.1,
          22.1,
          54.4,
          42.9,
          45.4,
          39.3,
          13.7,
          37.4,
          28.4,
          42.4,
          34.2,
          23.2,
          49.5,
          44.7,
          47.1,
          27.7,
          29.7,
          22.1,
          44.2,
          34.6,
          63.2,
          54.4,
          42.95,
          49.3,
          63.9,
          28.9,
          26.6,
          18.3,
          40.3,
          61.9,
          43.5,
          25.9,
          22.3,
          31.3,
          43.65,
          22.9,
          56.2,
          48,
          47.2,
          28.55,
          44.55,
          49.65,
          42.3,
          24.85,
          53.3,
          26.5,
          59.5,
          52.7,
          37.8,
          22.6,
          45.75,
          50.4,
          22,
          20,
          53.7,
          17.7,
          78.3,
          24.049999999999997,
          37.5,
          51.7,
          37,
          40.1,
          46.6,
          63.3,
          37.15,
          13,
          54.4,
          40.8,
          35.95,
          47.7,
          31.3,
          13.2,
          32.2,
          35.3,
          37.7,
          46.2,
          45.2,
          42.2,
          40.6,
          42.650000000000006,
          27.7,
          27.3,
          51.8,
          37.8,
          36.8,
          40.5,
          42.3,
          23.8,
          50,
          43.8,
          29.3,
          41.55,
          15.6,
          46.1,
          29.3,
          36.2,
          50.2,
          42,
          25.6,
          55,
          55.2,
          53.9,
          34,
          34.25,
          27.7,
          44.9,
          50.5,
          51,
          56.8,
          38.1,
          15.5,
          24.549999999999997,
          28.4,
          36.5,
          47,
          43.5,
          23.5,
          33.400000000000006,
          40.9,
          22.8,
          44.3,
          58,
          52.2,
          28.5,
          7.6,
          28.25,
          33.1,
          117.5,
          31.1,
          16.7,
          40.2,
          49.7,
          43.9,
          36.3,
          38.1,
          35.2,
          25.6,
          49.8,
          69.7,
          39.7,
          41.2,
          40.9,
          56.8,
          24.6,
          38.6,
          15,
          70.1,
          44.5,
          58.8,
          47.3,
          43.8,
          14.4,
          32.9,
          55.3,
          25,
          55.9,
          29.3,
          36.7,
          40.6,
          30.950000000000003,
          51.6,
          38.4,
          12.9
         ],
         "xaxis": "x",
         "yaxis": "y"
        },
        {
         "alignmentgroup": "True",
         "boxpoints": "all",
         "fillcolor": "rgba(255,255,255,0)",
         "hoveron": "points",
         "hovertemplate": "variable=house_price_unit_area<br>value=%{x}<extra></extra>",
         "jitter": 0,
         "legendgroup": "house_price_unit_area",
         "line": {
          "color": "rgba(255,255,255,0)"
         },
         "marker": {
          "color": "#636efa",
          "line": {
           "color": "white",
           "width": 0.5
          },
          "symbol": "line-ns-open"
         },
         "name": "house_price_unit_area",
         "offsetgroup": "house_price_unit_area",
         "showlegend": false,
         "type": "box",
         "x": [
          26.9,
          39.5,
          25.5,
          44.05,
          40.3,
          23.1,
          49.6,
          30,
          28.8,
          45.5,
          45.3,
          23,
          29.400000000000002,
          48.1,
          47.4,
          78,
          41,
          51,
          31.1,
          46.4,
          21.8,
          43.4,
          35.8,
          21.3,
          26.2,
          35.599999999999994,
          44,
          25.4,
          29.8,
          39.4,
          49,
          23.1,
          39.099999999999994,
          11.6,
          30.6,
          27.9,
          62.9,
          31.7,
          57.1,
          31.85,
          48.2,
          33.1,
          22.8,
          51.4,
          40.3,
          37.3,
          53,
          43.1,
          42.849999999999994,
          59.05,
          23.9,
          12.2,
          35.7,
          38.55,
          27.3,
          32.1,
          25.3,
          34.3,
          30.7,
          62.2,
          27,
          21.5,
          43.2,
          28.6,
          29.049999999999997,
          40.8,
          16.1,
          32.55,
          42.5,
          44.8,
          42.4,
          23,
          42,
          36.9,
          43.55,
          50.85,
          39.7,
          40,
          32.400000000000006,
          42,
          15.9,
          19,
          43,
          49.3,
          37.4,
          33.4,
          56.25,
          38.3,
          37.9,
          39,
          67.7,
          40,
          42,
          40.2,
          32.8,
          20.9,
          22.3,
          15.8,
          24.8,
          53,
          42.5,
          52.5,
          47.7,
          37,
          15.4,
          37.2,
          27,
          42.3,
          24.7,
          35.6,
          45.5,
          33.35,
          52.2,
          42.25,
          26.7,
          58.1,
          40.1,
          46.35,
          25.3,
          51.7,
          61.5,
          40.9,
          47.1,
          54.8,
          24.7,
          18.3,
          32.9,
          46,
          41.9,
          24.7,
          41.05,
          40.5,
          23.5,
          21.8,
          31.3,
          31.9,
          26.6,
          55,
          48,
          18.8,
          27.3,
          38.2,
          50.75,
          23.8,
          11.2,
          33.6,
          27.75,
          42.650000000000006,
          45.7,
          45.4,
          26.5,
          35.5,
          51.8,
          21.6,
          34.7,
          30.35,
          35.75,
          20.5,
          42.7,
          23.6,
          25.7,
          27,
          41.2,
          28.8,
          20.7,
          45.1,
          22.1,
          54.4,
          42.9,
          45.4,
          39.3,
          13.7,
          37.4,
          28.4,
          42.4,
          34.2,
          23.2,
          49.5,
          44.7,
          47.1,
          27.7,
          29.7,
          22.1,
          44.2,
          34.6,
          63.2,
          54.4,
          42.95,
          49.3,
          63.9,
          28.9,
          26.6,
          18.3,
          40.3,
          61.9,
          43.5,
          25.9,
          22.3,
          31.3,
          43.65,
          22.9,
          56.2,
          48,
          47.2,
          28.55,
          44.55,
          49.65,
          42.3,
          24.85,
          53.3,
          26.5,
          59.5,
          52.7,
          37.8,
          22.6,
          45.75,
          50.4,
          22,
          20,
          53.7,
          17.7,
          78.3,
          24.049999999999997,
          37.5,
          51.7,
          37,
          40.1,
          46.6,
          63.3,
          37.15,
          13,
          54.4,
          40.8,
          35.95,
          47.7,
          31.3,
          13.2,
          32.2,
          35.3,
          37.7,
          46.2,
          45.2,
          42.2,
          40.6,
          42.650000000000006,
          27.7,
          27.3,
          51.8,
          37.8,
          36.8,
          40.5,
          42.3,
          23.8,
          50,
          43.8,
          29.3,
          41.55,
          15.6,
          46.1,
          29.3,
          36.2,
          50.2,
          42,
          25.6,
          55,
          55.2,
          53.9,
          34,
          34.25,
          27.7,
          44.9,
          50.5,
          51,
          56.8,
          38.1,
          15.5,
          24.549999999999997,
          28.4,
          36.5,
          47,
          43.5,
          23.5,
          33.400000000000006,
          40.9,
          22.8,
          44.3,
          58,
          52.2,
          28.5,
          7.6,
          28.25,
          33.1,
          117.5,
          31.1,
          16.7,
          40.2,
          49.7,
          43.9,
          36.3,
          38.1,
          35.2,
          25.6,
          49.8,
          69.7,
          39.7,
          41.2,
          40.9,
          56.8,
          24.6,
          38.6,
          15,
          70.1,
          44.5,
          58.8,
          47.3,
          43.8,
          14.4,
          32.9,
          55.3,
          25,
          55.9,
          29.3,
          36.7,
          40.6,
          30.950000000000003,
          51.6,
          38.4,
          12.9
         ],
         "xaxis": "x2",
         "yaxis": "y2"
        }
       ],
       "layout": {
        "barmode": "relative",
        "legend": {
         "title": {
          "text": "variable"
         },
         "tracegroupgap": 0
        },
        "margin": {
         "t": 60
        },
        "template": {
         "data": {
          "bar": [
           {
            "error_x": {
             "color": "#f2f5fa"
            },
            "error_y": {
             "color": "#f2f5fa"
            },
            "marker": {
             "line": {
              "color": "rgb(17,17,17)",
              "width": 0.5
             },
             "pattern": {
              "fillmode": "overlay",
              "size": 10,
              "solidity": 0.2
             }
            },
            "type": "bar"
           }
          ],
          "barpolar": [
           {
            "marker": {
             "line": {
              "color": "rgb(17,17,17)",
              "width": 0.5
             },
             "pattern": {
              "fillmode": "overlay",
              "size": 10,
              "solidity": 0.2
             }
            },
            "type": "barpolar"
           }
          ],
          "carpet": [
           {
            "aaxis": {
             "endlinecolor": "#A2B1C6",
             "gridcolor": "#506784",
             "linecolor": "#506784",
             "minorgridcolor": "#506784",
             "startlinecolor": "#A2B1C6"
            },
            "baxis": {
             "endlinecolor": "#A2B1C6",
             "gridcolor": "#506784",
             "linecolor": "#506784",
             "minorgridcolor": "#506784",
             "startlinecolor": "#A2B1C6"
            },
            "type": "carpet"
           }
          ],
          "choropleth": [
           {
            "colorbar": {
             "outlinewidth": 0,
             "ticks": ""
            },
            "type": "choropleth"
           }
          ],
          "contour": [
           {
            "colorbar": {
             "outlinewidth": 0,
             "ticks": ""
            },
            "colorscale": [
             [
              0,
              "#0d0887"
             ],
             [
              0.1111111111111111,
              "#46039f"
             ],
             [
              0.2222222222222222,
              "#7201a8"
             ],
             [
              0.3333333333333333,
              "#9c179e"
             ],
             [
              0.4444444444444444,
              "#bd3786"
             ],
             [
              0.5555555555555556,
              "#d8576b"
             ],
             [
              0.6666666666666666,
              "#ed7953"
             ],
             [
              0.7777777777777778,
              "#fb9f3a"
             ],
             [
              0.8888888888888888,
              "#fdca26"
             ],
             [
              1,
              "#f0f921"
             ]
            ],
            "type": "contour"
           }
          ],
          "contourcarpet": [
           {
            "colorbar": {
             "outlinewidth": 0,
             "ticks": ""
            },
            "type": "contourcarpet"
           }
          ],
          "heatmap": [
           {
            "colorbar": {
             "outlinewidth": 0,
             "ticks": ""
            },
            "colorscale": [
             [
              0,
              "#0d0887"
             ],
             [
              0.1111111111111111,
              "#46039f"
             ],
             [
              0.2222222222222222,
              "#7201a8"
             ],
             [
              0.3333333333333333,
              "#9c179e"
             ],
             [
              0.4444444444444444,
              "#bd3786"
             ],
             [
              0.5555555555555556,
              "#d8576b"
             ],
             [
              0.6666666666666666,
              "#ed7953"
             ],
             [
              0.7777777777777778,
              "#fb9f3a"
             ],
             [
              0.8888888888888888,
              "#fdca26"
             ],
             [
              1,
              "#f0f921"
             ]
            ],
            "type": "heatmap"
           }
          ],
          "heatmapgl": [
           {
            "colorbar": {
             "outlinewidth": 0,
             "ticks": ""
            },
            "colorscale": [
             [
              0,
              "#0d0887"
             ],
             [
              0.1111111111111111,
              "#46039f"
             ],
             [
              0.2222222222222222,
              "#7201a8"
             ],
             [
              0.3333333333333333,
              "#9c179e"
             ],
             [
              0.4444444444444444,
              "#bd3786"
             ],
             [
              0.5555555555555556,
              "#d8576b"
             ],
             [
              0.6666666666666666,
              "#ed7953"
             ],
             [
              0.7777777777777778,
              "#fb9f3a"
             ],
             [
              0.8888888888888888,
              "#fdca26"
             ],
             [
              1,
              "#f0f921"
             ]
            ],
            "type": "heatmapgl"
           }
          ],
          "histogram": [
           {
            "marker": {
             "pattern": {
              "fillmode": "overlay",
              "size": 10,
              "solidity": 0.2
             }
            },
            "type": "histogram"
           }
          ],
          "histogram2d": [
           {
            "colorbar": {
             "outlinewidth": 0,
             "ticks": ""
            },
            "colorscale": [
             [
              0,
              "#0d0887"
             ],
             [
              0.1111111111111111,
              "#46039f"
             ],
             [
              0.2222222222222222,
              "#7201a8"
             ],
             [
              0.3333333333333333,
              "#9c179e"
             ],
             [
              0.4444444444444444,
              "#bd3786"
             ],
             [
              0.5555555555555556,
              "#d8576b"
             ],
             [
              0.6666666666666666,
              "#ed7953"
             ],
             [
              0.7777777777777778,
              "#fb9f3a"
             ],
             [
              0.8888888888888888,
              "#fdca26"
             ],
             [
              1,
              "#f0f921"
             ]
            ],
            "type": "histogram2d"
           }
          ],
          "histogram2dcontour": [
           {
            "colorbar": {
             "outlinewidth": 0,
             "ticks": ""
            },
            "colorscale": [
             [
              0,
              "#0d0887"
             ],
             [
              0.1111111111111111,
              "#46039f"
             ],
             [
              0.2222222222222222,
              "#7201a8"
             ],
             [
              0.3333333333333333,
              "#9c179e"
             ],
             [
              0.4444444444444444,
              "#bd3786"
             ],
             [
              0.5555555555555556,
              "#d8576b"
             ],
             [
              0.6666666666666666,
              "#ed7953"
             ],
             [
              0.7777777777777778,
              "#fb9f3a"
             ],
             [
              0.8888888888888888,
              "#fdca26"
             ],
             [
              1,
              "#f0f921"
             ]
            ],
            "type": "histogram2dcontour"
           }
          ],
          "mesh3d": [
           {
            "colorbar": {
             "outlinewidth": 0,
             "ticks": ""
            },
            "type": "mesh3d"
           }
          ],
          "parcoords": [
           {
            "line": {
             "colorbar": {
              "outlinewidth": 0,
              "ticks": ""
             }
            },
            "type": "parcoords"
           }
          ],
          "pie": [
           {
            "automargin": true,
            "type": "pie"
           }
          ],
          "scatter": [
           {
            "marker": {
             "line": {
              "color": "#283442"
             }
            },
            "type": "scatter"
           }
          ],
          "scatter3d": [
           {
            "line": {
             "colorbar": {
              "outlinewidth": 0,
              "ticks": ""
             }
            },
            "marker": {
             "colorbar": {
              "outlinewidth": 0,
              "ticks": ""
             }
            },
            "type": "scatter3d"
           }
          ],
          "scattercarpet": [
           {
            "marker": {
             "colorbar": {
              "outlinewidth": 0,
              "ticks": ""
             }
            },
            "type": "scattercarpet"
           }
          ],
          "scattergeo": [
           {
            "marker": {
             "colorbar": {
              "outlinewidth": 0,
              "ticks": ""
             }
            },
            "type": "scattergeo"
           }
          ],
          "scattergl": [
           {
            "marker": {
             "line": {
              "color": "#283442"
             }
            },
            "type": "scattergl"
           }
          ],
          "scattermapbox": [
           {
            "marker": {
             "colorbar": {
              "outlinewidth": 0,
              "ticks": ""
             }
            },
            "type": "scattermapbox"
           }
          ],
          "scatterpolar": [
           {
            "marker": {
             "colorbar": {
              "outlinewidth": 0,
              "ticks": ""
             }
            },
            "type": "scatterpolar"
           }
          ],
          "scatterpolargl": [
           {
            "marker": {
             "colorbar": {
              "outlinewidth": 0,
              "ticks": ""
             }
            },
            "type": "scatterpolargl"
           }
          ],
          "scatterternary": [
           {
            "marker": {
             "colorbar": {
              "outlinewidth": 0,
              "ticks": ""
             }
            },
            "type": "scatterternary"
           }
          ],
          "surface": [
           {
            "colorbar": {
             "outlinewidth": 0,
             "ticks": ""
            },
            "colorscale": [
             [
              0,
              "#0d0887"
             ],
             [
              0.1111111111111111,
              "#46039f"
             ],
             [
              0.2222222222222222,
              "#7201a8"
             ],
             [
              0.3333333333333333,
              "#9c179e"
             ],
             [
              0.4444444444444444,
              "#bd3786"
             ],
             [
              0.5555555555555556,
              "#d8576b"
             ],
             [
              0.6666666666666666,
              "#ed7953"
             ],
             [
              0.7777777777777778,
              "#fb9f3a"
             ],
             [
              0.8888888888888888,
              "#fdca26"
             ],
             [
              1,
              "#f0f921"
             ]
            ],
            "type": "surface"
           }
          ],
          "table": [
           {
            "cells": {
             "fill": {
              "color": "#506784"
             },
             "line": {
              "color": "rgb(17,17,17)"
             }
            },
            "header": {
             "fill": {
              "color": "#2a3f5f"
             },
             "line": {
              "color": "rgb(17,17,17)"
             }
            },
            "type": "table"
           }
          ]
         },
         "layout": {
          "annotationdefaults": {
           "arrowcolor": "#f2f5fa",
           "arrowhead": 0,
           "arrowwidth": 1
          },
          "autotypenumbers": "strict",
          "coloraxis": {
           "colorbar": {
            "outlinewidth": 0,
            "ticks": ""
           }
          },
          "colorscale": {
           "diverging": [
            [
             0,
             "#8e0152"
            ],
            [
             0.1,
             "#c51b7d"
            ],
            [
             0.2,
             "#de77ae"
            ],
            [
             0.3,
             "#f1b6da"
            ],
            [
             0.4,
             "#fde0ef"
            ],
            [
             0.5,
             "#f7f7f7"
            ],
            [
             0.6,
             "#e6f5d0"
            ],
            [
             0.7,
             "#b8e186"
            ],
            [
             0.8,
             "#7fbc41"
            ],
            [
             0.9,
             "#4d9221"
            ],
            [
             1,
             "#276419"
            ]
           ],
           "sequential": [
            [
             0,
             "#0d0887"
            ],
            [
             0.1111111111111111,
             "#46039f"
            ],
            [
             0.2222222222222222,
             "#7201a8"
            ],
            [
             0.3333333333333333,
             "#9c179e"
            ],
            [
             0.4444444444444444,
             "#bd3786"
            ],
            [
             0.5555555555555556,
             "#d8576b"
            ],
            [
             0.6666666666666666,
             "#ed7953"
            ],
            [
             0.7777777777777778,
             "#fb9f3a"
            ],
            [
             0.8888888888888888,
             "#fdca26"
            ],
            [
             1,
             "#f0f921"
            ]
           ],
           "sequentialminus": [
            [
             0,
             "#0d0887"
            ],
            [
             0.1111111111111111,
             "#46039f"
            ],
            [
             0.2222222222222222,
             "#7201a8"
            ],
            [
             0.3333333333333333,
             "#9c179e"
            ],
            [
             0.4444444444444444,
             "#bd3786"
            ],
            [
             0.5555555555555556,
             "#d8576b"
            ],
            [
             0.6666666666666666,
             "#ed7953"
            ],
            [
             0.7777777777777778,
             "#fb9f3a"
            ],
            [
             0.8888888888888888,
             "#fdca26"
            ],
            [
             1,
             "#f0f921"
            ]
           ]
          },
          "colorway": [
           "#636efa",
           "#EF553B",
           "#00cc96",
           "#ab63fa",
           "#FFA15A",
           "#19d3f3",
           "#FF6692",
           "#B6E880",
           "#FF97FF",
           "#FECB52"
          ],
          "font": {
           "color": "#f2f5fa"
          },
          "geo": {
           "bgcolor": "rgb(17,17,17)",
           "lakecolor": "rgb(17,17,17)",
           "landcolor": "rgb(17,17,17)",
           "showlakes": true,
           "showland": true,
           "subunitcolor": "#506784"
          },
          "hoverlabel": {
           "align": "left"
          },
          "hovermode": "closest",
          "mapbox": {
           "style": "dark"
          },
          "paper_bgcolor": "rgb(17,17,17)",
          "plot_bgcolor": "rgb(17,17,17)",
          "polar": {
           "angularaxis": {
            "gridcolor": "#506784",
            "linecolor": "#506784",
            "ticks": ""
           },
           "bgcolor": "rgb(17,17,17)",
           "radialaxis": {
            "gridcolor": "#506784",
            "linecolor": "#506784",
            "ticks": ""
           }
          },
          "scene": {
           "xaxis": {
            "backgroundcolor": "rgb(17,17,17)",
            "gridcolor": "#506784",
            "gridwidth": 2,
            "linecolor": "#506784",
            "showbackground": true,
            "ticks": "",
            "zerolinecolor": "#C8D4E3"
           },
           "yaxis": {
            "backgroundcolor": "rgb(17,17,17)",
            "gridcolor": "#506784",
            "gridwidth": 2,
            "linecolor": "#506784",
            "showbackground": true,
            "ticks": "",
            "zerolinecolor": "#C8D4E3"
           },
           "zaxis": {
            "backgroundcolor": "rgb(17,17,17)",
            "gridcolor": "#506784",
            "gridwidth": 2,
            "linecolor": "#506784",
            "showbackground": true,
            "ticks": "",
            "zerolinecolor": "#C8D4E3"
           }
          },
          "shapedefaults": {
           "line": {
            "color": "#f2f5fa"
           }
          },
          "sliderdefaults": {
           "bgcolor": "#C8D4E3",
           "bordercolor": "rgb(17,17,17)",
           "borderwidth": 1,
           "tickwidth": 0
          },
          "ternary": {
           "aaxis": {
            "gridcolor": "#506784",
            "linecolor": "#506784",
            "ticks": ""
           },
           "baxis": {
            "gridcolor": "#506784",
            "linecolor": "#506784",
            "ticks": ""
           },
           "bgcolor": "rgb(17,17,17)",
           "caxis": {
            "gridcolor": "#506784",
            "linecolor": "#506784",
            "ticks": ""
           }
          },
          "title": {
           "x": 0.05
          },
          "updatemenudefaults": {
           "bgcolor": "#506784",
           "borderwidth": 0
          },
          "xaxis": {
           "automargin": true,
           "gridcolor": "#283442",
           "linecolor": "#506784",
           "ticks": "",
           "title": {
            "standoff": 15
           },
           "zerolinecolor": "#283442",
           "zerolinewidth": 2
          },
          "yaxis": {
           "automargin": true,
           "gridcolor": "#283442",
           "linecolor": "#506784",
           "ticks": "",
           "title": {
            "standoff": 15
           },
           "zerolinecolor": "#283442",
           "zerolinewidth": 2
          }
         }
        },
        "xaxis": {
         "anchor": "y",
         "domain": [
          0,
          1
         ],
         "title": {
          "text": "house_price_unit_area"
         }
        },
        "xaxis2": {
         "anchor": "y2",
         "domain": [
          0,
          1
         ],
         "matches": "x",
         "showgrid": true,
         "showticklabels": false
        },
        "yaxis": {
         "anchor": "x",
         "domain": [
          0,
          0.7326
         ],
         "title": {
          "text": "house_size"
         }
        },
        "yaxis2": {
         "anchor": "x2",
         "domain": [
          0.7426,
          1
         ],
         "matches": "y2",
         "showgrid": false,
         "showline": false,
         "showticklabels": false,
         "ticks": ""
        }
       }
      }
     },
     "metadata": {},
     "output_type": "display_data"
    },
    {
     "data": {
      "application/vnd.plotly.v1+json": {
       "config": {
        "plotlyServerURL": "https://plot.ly"
       },
       "data": [
        {
         "alignmentgroup": "True",
         "bingroup": "x",
         "hovertemplate": "variable=house_price_unit_area<br>value=%{x}<br>count=%{y}<extra></extra>",
         "legendgroup": "house_price_unit_area",
         "marker": {
          "color": "#636efa",
          "line": {
           "color": "white",
           "width": 0.5
          },
          "pattern": {
           "shape": ""
          }
         },
         "name": "house_price_unit_area",
         "offsetgroup": "house_price_unit_area",
         "orientation": "v",
         "showlegend": false,
         "type": "histogram",
         "x": [
          37.6,
          39.05
         ],
         "xaxis": "x",
         "yaxis": "y"
        },
        {
         "alignmentgroup": "True",
         "boxpoints": "all",
         "fillcolor": "rgba(255,255,255,0)",
         "hoveron": "points",
         "hovertemplate": "variable=house_price_unit_area<br>value=%{x}<extra></extra>",
         "jitter": 0,
         "legendgroup": "house_price_unit_area",
         "line": {
          "color": "rgba(255,255,255,0)"
         },
         "marker": {
          "color": "#636efa",
          "line": {
           "color": "white",
           "width": 0.5
          },
          "symbol": "line-ns-open"
         },
         "name": "house_price_unit_area",
         "offsetgroup": "house_price_unit_area",
         "showlegend": false,
         "type": "box",
         "x": [
          37.6,
          39.05
         ],
         "xaxis": "x2",
         "yaxis": "y2"
        }
       ],
       "layout": {
        "barmode": "relative",
        "legend": {
         "title": {
          "text": "variable"
         },
         "tracegroupgap": 0
        },
        "margin": {
         "t": 60
        },
        "template": {
         "data": {
          "bar": [
           {
            "error_x": {
             "color": "#f2f5fa"
            },
            "error_y": {
             "color": "#f2f5fa"
            },
            "marker": {
             "line": {
              "color": "rgb(17,17,17)",
              "width": 0.5
             },
             "pattern": {
              "fillmode": "overlay",
              "size": 10,
              "solidity": 0.2
             }
            },
            "type": "bar"
           }
          ],
          "barpolar": [
           {
            "marker": {
             "line": {
              "color": "rgb(17,17,17)",
              "width": 0.5
             },
             "pattern": {
              "fillmode": "overlay",
              "size": 10,
              "solidity": 0.2
             }
            },
            "type": "barpolar"
           }
          ],
          "carpet": [
           {
            "aaxis": {
             "endlinecolor": "#A2B1C6",
             "gridcolor": "#506784",
             "linecolor": "#506784",
             "minorgridcolor": "#506784",
             "startlinecolor": "#A2B1C6"
            },
            "baxis": {
             "endlinecolor": "#A2B1C6",
             "gridcolor": "#506784",
             "linecolor": "#506784",
             "minorgridcolor": "#506784",
             "startlinecolor": "#A2B1C6"
            },
            "type": "carpet"
           }
          ],
          "choropleth": [
           {
            "colorbar": {
             "outlinewidth": 0,
             "ticks": ""
            },
            "type": "choropleth"
           }
          ],
          "contour": [
           {
            "colorbar": {
             "outlinewidth": 0,
             "ticks": ""
            },
            "colorscale": [
             [
              0,
              "#0d0887"
             ],
             [
              0.1111111111111111,
              "#46039f"
             ],
             [
              0.2222222222222222,
              "#7201a8"
             ],
             [
              0.3333333333333333,
              "#9c179e"
             ],
             [
              0.4444444444444444,
              "#bd3786"
             ],
             [
              0.5555555555555556,
              "#d8576b"
             ],
             [
              0.6666666666666666,
              "#ed7953"
             ],
             [
              0.7777777777777778,
              "#fb9f3a"
             ],
             [
              0.8888888888888888,
              "#fdca26"
             ],
             [
              1,
              "#f0f921"
             ]
            ],
            "type": "contour"
           }
          ],
          "contourcarpet": [
           {
            "colorbar": {
             "outlinewidth": 0,
             "ticks": ""
            },
            "type": "contourcarpet"
           }
          ],
          "heatmap": [
           {
            "colorbar": {
             "outlinewidth": 0,
             "ticks": ""
            },
            "colorscale": [
             [
              0,
              "#0d0887"
             ],
             [
              0.1111111111111111,
              "#46039f"
             ],
             [
              0.2222222222222222,
              "#7201a8"
             ],
             [
              0.3333333333333333,
              "#9c179e"
             ],
             [
              0.4444444444444444,
              "#bd3786"
             ],
             [
              0.5555555555555556,
              "#d8576b"
             ],
             [
              0.6666666666666666,
              "#ed7953"
             ],
             [
              0.7777777777777778,
              "#fb9f3a"
             ],
             [
              0.8888888888888888,
              "#fdca26"
             ],
             [
              1,
              "#f0f921"
             ]
            ],
            "type": "heatmap"
           }
          ],
          "heatmapgl": [
           {
            "colorbar": {
             "outlinewidth": 0,
             "ticks": ""
            },
            "colorscale": [
             [
              0,
              "#0d0887"
             ],
             [
              0.1111111111111111,
              "#46039f"
             ],
             [
              0.2222222222222222,
              "#7201a8"
             ],
             [
              0.3333333333333333,
              "#9c179e"
             ],
             [
              0.4444444444444444,
              "#bd3786"
             ],
             [
              0.5555555555555556,
              "#d8576b"
             ],
             [
              0.6666666666666666,
              "#ed7953"
             ],
             [
              0.7777777777777778,
              "#fb9f3a"
             ],
             [
              0.8888888888888888,
              "#fdca26"
             ],
             [
              1,
              "#f0f921"
             ]
            ],
            "type": "heatmapgl"
           }
          ],
          "histogram": [
           {
            "marker": {
             "pattern": {
              "fillmode": "overlay",
              "size": 10,
              "solidity": 0.2
             }
            },
            "type": "histogram"
           }
          ],
          "histogram2d": [
           {
            "colorbar": {
             "outlinewidth": 0,
             "ticks": ""
            },
            "colorscale": [
             [
              0,
              "#0d0887"
             ],
             [
              0.1111111111111111,
              "#46039f"
             ],
             [
              0.2222222222222222,
              "#7201a8"
             ],
             [
              0.3333333333333333,
              "#9c179e"
             ],
             [
              0.4444444444444444,
              "#bd3786"
             ],
             [
              0.5555555555555556,
              "#d8576b"
             ],
             [
              0.6666666666666666,
              "#ed7953"
             ],
             [
              0.7777777777777778,
              "#fb9f3a"
             ],
             [
              0.8888888888888888,
              "#fdca26"
             ],
             [
              1,
              "#f0f921"
             ]
            ],
            "type": "histogram2d"
           }
          ],
          "histogram2dcontour": [
           {
            "colorbar": {
             "outlinewidth": 0,
             "ticks": ""
            },
            "colorscale": [
             [
              0,
              "#0d0887"
             ],
             [
              0.1111111111111111,
              "#46039f"
             ],
             [
              0.2222222222222222,
              "#7201a8"
             ],
             [
              0.3333333333333333,
              "#9c179e"
             ],
             [
              0.4444444444444444,
              "#bd3786"
             ],
             [
              0.5555555555555556,
              "#d8576b"
             ],
             [
              0.6666666666666666,
              "#ed7953"
             ],
             [
              0.7777777777777778,
              "#fb9f3a"
             ],
             [
              0.8888888888888888,
              "#fdca26"
             ],
             [
              1,
              "#f0f921"
             ]
            ],
            "type": "histogram2dcontour"
           }
          ],
          "mesh3d": [
           {
            "colorbar": {
             "outlinewidth": 0,
             "ticks": ""
            },
            "type": "mesh3d"
           }
          ],
          "parcoords": [
           {
            "line": {
             "colorbar": {
              "outlinewidth": 0,
              "ticks": ""
             }
            },
            "type": "parcoords"
           }
          ],
          "pie": [
           {
            "automargin": true,
            "type": "pie"
           }
          ],
          "scatter": [
           {
            "marker": {
             "line": {
              "color": "#283442"
             }
            },
            "type": "scatter"
           }
          ],
          "scatter3d": [
           {
            "line": {
             "colorbar": {
              "outlinewidth": 0,
              "ticks": ""
             }
            },
            "marker": {
             "colorbar": {
              "outlinewidth": 0,
              "ticks": ""
             }
            },
            "type": "scatter3d"
           }
          ],
          "scattercarpet": [
           {
            "marker": {
             "colorbar": {
              "outlinewidth": 0,
              "ticks": ""
             }
            },
            "type": "scattercarpet"
           }
          ],
          "scattergeo": [
           {
            "marker": {
             "colorbar": {
              "outlinewidth": 0,
              "ticks": ""
             }
            },
            "type": "scattergeo"
           }
          ],
          "scattergl": [
           {
            "marker": {
             "line": {
              "color": "#283442"
             }
            },
            "type": "scattergl"
           }
          ],
          "scattermapbox": [
           {
            "marker": {
             "colorbar": {
              "outlinewidth": 0,
              "ticks": ""
             }
            },
            "type": "scattermapbox"
           }
          ],
          "scatterpolar": [
           {
            "marker": {
             "colorbar": {
              "outlinewidth": 0,
              "ticks": ""
             }
            },
            "type": "scatterpolar"
           }
          ],
          "scatterpolargl": [
           {
            "marker": {
             "colorbar": {
              "outlinewidth": 0,
              "ticks": ""
             }
            },
            "type": "scatterpolargl"
           }
          ],
          "scatterternary": [
           {
            "marker": {
             "colorbar": {
              "outlinewidth": 0,
              "ticks": ""
             }
            },
            "type": "scatterternary"
           }
          ],
          "surface": [
           {
            "colorbar": {
             "outlinewidth": 0,
             "ticks": ""
            },
            "colorscale": [
             [
              0,
              "#0d0887"
             ],
             [
              0.1111111111111111,
              "#46039f"
             ],
             [
              0.2222222222222222,
              "#7201a8"
             ],
             [
              0.3333333333333333,
              "#9c179e"
             ],
             [
              0.4444444444444444,
              "#bd3786"
             ],
             [
              0.5555555555555556,
              "#d8576b"
             ],
             [
              0.6666666666666666,
              "#ed7953"
             ],
             [
              0.7777777777777778,
              "#fb9f3a"
             ],
             [
              0.8888888888888888,
              "#fdca26"
             ],
             [
              1,
              "#f0f921"
             ]
            ],
            "type": "surface"
           }
          ],
          "table": [
           {
            "cells": {
             "fill": {
              "color": "#506784"
             },
             "line": {
              "color": "rgb(17,17,17)"
             }
            },
            "header": {
             "fill": {
              "color": "#2a3f5f"
             },
             "line": {
              "color": "rgb(17,17,17)"
             }
            },
            "type": "table"
           }
          ]
         },
         "layout": {
          "annotationdefaults": {
           "arrowcolor": "#f2f5fa",
           "arrowhead": 0,
           "arrowwidth": 1
          },
          "autotypenumbers": "strict",
          "coloraxis": {
           "colorbar": {
            "outlinewidth": 0,
            "ticks": ""
           }
          },
          "colorscale": {
           "diverging": [
            [
             0,
             "#8e0152"
            ],
            [
             0.1,
             "#c51b7d"
            ],
            [
             0.2,
             "#de77ae"
            ],
            [
             0.3,
             "#f1b6da"
            ],
            [
             0.4,
             "#fde0ef"
            ],
            [
             0.5,
             "#f7f7f7"
            ],
            [
             0.6,
             "#e6f5d0"
            ],
            [
             0.7,
             "#b8e186"
            ],
            [
             0.8,
             "#7fbc41"
            ],
            [
             0.9,
             "#4d9221"
            ],
            [
             1,
             "#276419"
            ]
           ],
           "sequential": [
            [
             0,
             "#0d0887"
            ],
            [
             0.1111111111111111,
             "#46039f"
            ],
            [
             0.2222222222222222,
             "#7201a8"
            ],
            [
             0.3333333333333333,
             "#9c179e"
            ],
            [
             0.4444444444444444,
             "#bd3786"
            ],
            [
             0.5555555555555556,
             "#d8576b"
            ],
            [
             0.6666666666666666,
             "#ed7953"
            ],
            [
             0.7777777777777778,
             "#fb9f3a"
            ],
            [
             0.8888888888888888,
             "#fdca26"
            ],
            [
             1,
             "#f0f921"
            ]
           ],
           "sequentialminus": [
            [
             0,
             "#0d0887"
            ],
            [
             0.1111111111111111,
             "#46039f"
            ],
            [
             0.2222222222222222,
             "#7201a8"
            ],
            [
             0.3333333333333333,
             "#9c179e"
            ],
            [
             0.4444444444444444,
             "#bd3786"
            ],
            [
             0.5555555555555556,
             "#d8576b"
            ],
            [
             0.6666666666666666,
             "#ed7953"
            ],
            [
             0.7777777777777778,
             "#fb9f3a"
            ],
            [
             0.8888888888888888,
             "#fdca26"
            ],
            [
             1,
             "#f0f921"
            ]
           ]
          },
          "colorway": [
           "#636efa",
           "#EF553B",
           "#00cc96",
           "#ab63fa",
           "#FFA15A",
           "#19d3f3",
           "#FF6692",
           "#B6E880",
           "#FF97FF",
           "#FECB52"
          ],
          "font": {
           "color": "#f2f5fa"
          },
          "geo": {
           "bgcolor": "rgb(17,17,17)",
           "lakecolor": "rgb(17,17,17)",
           "landcolor": "rgb(17,17,17)",
           "showlakes": true,
           "showland": true,
           "subunitcolor": "#506784"
          },
          "hoverlabel": {
           "align": "left"
          },
          "hovermode": "closest",
          "mapbox": {
           "style": "dark"
          },
          "paper_bgcolor": "rgb(17,17,17)",
          "plot_bgcolor": "rgb(17,17,17)",
          "polar": {
           "angularaxis": {
            "gridcolor": "#506784",
            "linecolor": "#506784",
            "ticks": ""
           },
           "bgcolor": "rgb(17,17,17)",
           "radialaxis": {
            "gridcolor": "#506784",
            "linecolor": "#506784",
            "ticks": ""
           }
          },
          "scene": {
           "xaxis": {
            "backgroundcolor": "rgb(17,17,17)",
            "gridcolor": "#506784",
            "gridwidth": 2,
            "linecolor": "#506784",
            "showbackground": true,
            "ticks": "",
            "zerolinecolor": "#C8D4E3"
           },
           "yaxis": {
            "backgroundcolor": "rgb(17,17,17)",
            "gridcolor": "#506784",
            "gridwidth": 2,
            "linecolor": "#506784",
            "showbackground": true,
            "ticks": "",
            "zerolinecolor": "#C8D4E3"
           },
           "zaxis": {
            "backgroundcolor": "rgb(17,17,17)",
            "gridcolor": "#506784",
            "gridwidth": 2,
            "linecolor": "#506784",
            "showbackground": true,
            "ticks": "",
            "zerolinecolor": "#C8D4E3"
           }
          },
          "shapedefaults": {
           "line": {
            "color": "#f2f5fa"
           }
          },
          "sliderdefaults": {
           "bgcolor": "#C8D4E3",
           "bordercolor": "rgb(17,17,17)",
           "borderwidth": 1,
           "tickwidth": 0
          },
          "ternary": {
           "aaxis": {
            "gridcolor": "#506784",
            "linecolor": "#506784",
            "ticks": ""
           },
           "baxis": {
            "gridcolor": "#506784",
            "linecolor": "#506784",
            "ticks": ""
           },
           "bgcolor": "rgb(17,17,17)",
           "caxis": {
            "gridcolor": "#506784",
            "linecolor": "#506784",
            "ticks": ""
           }
          },
          "title": {
           "x": 0.05
          },
          "updatemenudefaults": {
           "bgcolor": "#506784",
           "borderwidth": 0
          },
          "xaxis": {
           "automargin": true,
           "gridcolor": "#283442",
           "linecolor": "#506784",
           "ticks": "",
           "title": {
            "standoff": 15
           },
           "zerolinecolor": "#283442",
           "zerolinewidth": 2
          },
          "yaxis": {
           "automargin": true,
           "gridcolor": "#283442",
           "linecolor": "#506784",
           "ticks": "",
           "title": {
            "standoff": 15
           },
           "zerolinecolor": "#283442",
           "zerolinewidth": 2
          }
         }
        },
        "xaxis": {
         "anchor": "y",
         "domain": [
          0,
          1
         ],
         "title": {
          "text": "house_price_unit_area"
         }
        },
        "xaxis2": {
         "anchor": "y2",
         "domain": [
          0,
          1
         ],
         "matches": "x",
         "showgrid": true,
         "showticklabels": false
        },
        "yaxis": {
         "anchor": "x",
         "domain": [
          0,
          0.7326
         ],
         "title": {
          "text": "transaction_year"
         }
        },
        "yaxis2": {
         "anchor": "x2",
         "domain": [
          0.7426,
          1
         ],
         "matches": "y2",
         "showgrid": false,
         "showline": false,
         "showticklabels": false,
         "ticks": ""
        }
       }
      }
     },
     "metadata": {},
     "output_type": "display_data"
    }
   ],
   "source": [
    "# wrt house_price_unit_area\n",
    "for feature in continuous_feature:\n",
    "    px.histogram(df.groupby(feature)[target].median(), marginal=\"rug\").update_traces(\n",
    "        marker_line_width=0.5, marker_line_color=\"white\", showlegend=False\n",
    "    ).update_layout(xaxis_title=\"house_price_unit_area\", yaxis_title=feature).show()\n"
   ]
  },
  {
   "cell_type": "markdown",
   "metadata": {},
   "source": [
    "**OBSERVATION**\n",
    "\n",
    "- Continuous feature wrt `house_price_unit_area` is showing Normal or uniform distribution with exception of 1 Outlier.\n"
   ]
  },
  {
   "cell_type": "markdown",
   "metadata": {},
   "source": [
    "## Regression Modelling\n"
   ]
  },
  {
   "cell_type": "markdown",
   "metadata": {},
   "source": [
    "### Importing Miscellaneous libraries\n"
   ]
  },
  {
   "cell_type": "code",
   "execution_count": 28,
   "metadata": {},
   "outputs": [],
   "source": [
    "from sklearn.preprocessing import StandardScaler, PolynomialFeatures\n",
    "from sklearn.model_selection import GridSearchCV, train_test_split\n",
    "from sklearn.pipeline import Pipeline\n",
    "from sklearn.compose import ColumnTransformer\n",
    "from sklearn.metrics import r2_score, mean_squared_error\n"
   ]
  },
  {
   "cell_type": "markdown",
   "metadata": {},
   "source": [
    "### Importing Model Libraries\n"
   ]
  },
  {
   "cell_type": "code",
   "execution_count": 29,
   "metadata": {},
   "outputs": [
    {
     "name": "stderr",
     "output_type": "stream",
     "text": [
      "c:\\Users\\GodWin\\anaconda3\\envs\\fsds\\lib\\site-packages\\xgboost\\compat.py:36: FutureWarning:\n",
      "\n",
      "pandas.Int64Index is deprecated and will be removed from pandas in a future version. Use pandas.Index with the appropriate dtype instead.\n",
      "\n"
     ]
    }
   ],
   "source": [
    "from sklearn.linear_model import (\n",
    "    LinearRegression,\n",
    "    ElasticNet,\n",
    "    Ridge,\n",
    "    Lasso,\n",
    ")  # // can use CV of regularization model but not using due to GridSearchCV approach\n",
    "from sklearn.tree import DecisionTreeRegressor\n",
    "from sklearn.ensemble import RandomForestRegressor, AdaBoostRegressor\n",
    "from xgboost import XGBRegressor\n",
    "from catboost import CatBoostRegressor\n"
   ]
  },
  {
   "cell_type": "markdown",
   "metadata": {},
   "source": [
    "### Feature and Target\n"
   ]
  },
  {
   "cell_type": "code",
   "execution_count": 30,
   "metadata": {},
   "outputs": [
    {
     "data": {
      "text/plain": [
       "'house_price_unit_area'"
      ]
     },
     "execution_count": 30,
     "metadata": {},
     "output_type": "execute_result"
    }
   ],
   "source": [
    "target\n"
   ]
  },
  {
   "cell_type": "code",
   "execution_count": 31,
   "metadata": {},
   "outputs": [
    {
     "data": {
      "text/plain": [
       "['house_age',\n",
       " 'metro_dist',\n",
       " 'n_conv_store',\n",
       " 'lat',\n",
       " 'long',\n",
       " 'n_bedrooms',\n",
       " 'house_size',\n",
       " 'transaction_year']"
      ]
     },
     "execution_count": 31,
     "metadata": {},
     "output_type": "execute_result"
    }
   ],
   "source": [
    "feature = [col for col in df.columns if col != target]\n",
    "feature\n"
   ]
  },
  {
   "cell_type": "markdown",
   "metadata": {},
   "source": [
    "### Splitting Dataset\n",
    "\n",
    "- To prevent data leakage\n",
    "- To validate/test against dataset never seen before during training\n"
   ]
  },
  {
   "cell_type": "code",
   "execution_count": 32,
   "metadata": {},
   "outputs": [],
   "source": [
    "X_train, X_test, y_train, y_test = train_test_split(df[feature], df[target], test_size=0.2, random_state=64)\n"
   ]
  },
  {
   "cell_type": "code",
   "execution_count": 33,
   "metadata": {},
   "outputs": [
    {
     "data": {
      "text/html": [
       "<div>\n",
       "<style scoped>\n",
       "    .dataframe tbody tr th:only-of-type {\n",
       "        vertical-align: middle;\n",
       "    }\n",
       "\n",
       "    .dataframe tbody tr th {\n",
       "        vertical-align: top;\n",
       "    }\n",
       "\n",
       "    .dataframe thead th {\n",
       "        text-align: right;\n",
       "    }\n",
       "</style>\n",
       "<table border=\"1\" class=\"dataframe\">\n",
       "  <thead>\n",
       "    <tr style=\"text-align: right;\">\n",
       "      <th></th>\n",
       "      <th>house_age</th>\n",
       "      <th>metro_dist</th>\n",
       "      <th>n_conv_store</th>\n",
       "      <th>lat</th>\n",
       "      <th>long</th>\n",
       "      <th>n_bedrooms</th>\n",
       "      <th>house_size</th>\n",
       "      <th>transaction_year</th>\n",
       "    </tr>\n",
       "  </thead>\n",
       "  <tbody>\n",
       "    <tr>\n",
       "      <th>7</th>\n",
       "      <td>20.3</td>\n",
       "      <td>287.6025</td>\n",
       "      <td>6</td>\n",
       "      <td>24.98042</td>\n",
       "      <td>121.54228</td>\n",
       "      <td>3</td>\n",
       "      <td>1316</td>\n",
       "      <td>2013</td>\n",
       "    </tr>\n",
       "    <tr>\n",
       "      <th>235</th>\n",
       "      <td>12.9</td>\n",
       "      <td>250.6310</td>\n",
       "      <td>7</td>\n",
       "      <td>24.96606</td>\n",
       "      <td>121.54297</td>\n",
       "      <td>2</td>\n",
       "      <td>1035</td>\n",
       "      <td>2012</td>\n",
       "    </tr>\n",
       "    <tr>\n",
       "      <th>186</th>\n",
       "      <td>20.9</td>\n",
       "      <td>2185.1280</td>\n",
       "      <td>3</td>\n",
       "      <td>24.96322</td>\n",
       "      <td>121.51237</td>\n",
       "      <td>1</td>\n",
       "      <td>436</td>\n",
       "      <td>2013</td>\n",
       "    </tr>\n",
       "    <tr>\n",
       "      <th>127</th>\n",
       "      <td>3.8</td>\n",
       "      <td>383.8624</td>\n",
       "      <td>5</td>\n",
       "      <td>24.98085</td>\n",
       "      <td>121.54391</td>\n",
       "      <td>2</td>\n",
       "      <td>1136</td>\n",
       "      <td>2013</td>\n",
       "    </tr>\n",
       "    <tr>\n",
       "      <th>277</th>\n",
       "      <td>21.2</td>\n",
       "      <td>2185.1280</td>\n",
       "      <td>3</td>\n",
       "      <td>24.96322</td>\n",
       "      <td>121.51237</td>\n",
       "      <td>3</td>\n",
       "      <td>1318</td>\n",
       "      <td>2013</td>\n",
       "    </tr>\n",
       "    <tr>\n",
       "      <th>...</th>\n",
       "      <td>...</td>\n",
       "      <td>...</td>\n",
       "      <td>...</td>\n",
       "      <td>...</td>\n",
       "      <td>...</td>\n",
       "      <td>...</td>\n",
       "      <td>...</td>\n",
       "      <td>...</td>\n",
       "    </tr>\n",
       "    <tr>\n",
       "      <th>85</th>\n",
       "      <td>0.0</td>\n",
       "      <td>338.9679</td>\n",
       "      <td>9</td>\n",
       "      <td>24.96853</td>\n",
       "      <td>121.54413</td>\n",
       "      <td>2</td>\n",
       "      <td>1145</td>\n",
       "      <td>2012</td>\n",
       "    </tr>\n",
       "    <tr>\n",
       "      <th>307</th>\n",
       "      <td>10.3</td>\n",
       "      <td>3079.8900</td>\n",
       "      <td>0</td>\n",
       "      <td>24.95460</td>\n",
       "      <td>121.56627</td>\n",
       "      <td>2</td>\n",
       "      <td>812</td>\n",
       "      <td>2012</td>\n",
       "    </tr>\n",
       "    <tr>\n",
       "      <th>54</th>\n",
       "      <td>16.1</td>\n",
       "      <td>289.3248</td>\n",
       "      <td>5</td>\n",
       "      <td>24.98203</td>\n",
       "      <td>121.54348</td>\n",
       "      <td>2</td>\n",
       "      <td>1193</td>\n",
       "      <td>2013</td>\n",
       "    </tr>\n",
       "    <tr>\n",
       "      <th>166</th>\n",
       "      <td>0.0</td>\n",
       "      <td>292.9978</td>\n",
       "      <td>6</td>\n",
       "      <td>24.97744</td>\n",
       "      <td>121.54458</td>\n",
       "      <td>3</td>\n",
       "      <td>1448</td>\n",
       "      <td>2013</td>\n",
       "    </tr>\n",
       "    <tr>\n",
       "      <th>119</th>\n",
       "      <td>16.6</td>\n",
       "      <td>289.3248</td>\n",
       "      <td>5</td>\n",
       "      <td>24.98203</td>\n",
       "      <td>121.54348</td>\n",
       "      <td>1</td>\n",
       "      <td>548</td>\n",
       "      <td>2013</td>\n",
       "    </tr>\n",
       "  </tbody>\n",
       "</table>\n",
       "<p>331 rows × 8 columns</p>\n",
       "</div>"
      ],
      "text/plain": [
       "     house_age  metro_dist  n_conv_store       lat       long  n_bedrooms  \\\n",
       "7         20.3    287.6025             6  24.98042  121.54228           3   \n",
       "235       12.9    250.6310             7  24.96606  121.54297           2   \n",
       "186       20.9   2185.1280             3  24.96322  121.51237           1   \n",
       "127        3.8    383.8624             5  24.98085  121.54391           2   \n",
       "277       21.2   2185.1280             3  24.96322  121.51237           3   \n",
       "..         ...         ...           ...       ...        ...         ...   \n",
       "85         0.0    338.9679             9  24.96853  121.54413           2   \n",
       "307       10.3   3079.8900             0  24.95460  121.56627           2   \n",
       "54        16.1    289.3248             5  24.98203  121.54348           2   \n",
       "166        0.0    292.9978             6  24.97744  121.54458           3   \n",
       "119       16.6    289.3248             5  24.98203  121.54348           1   \n",
       "\n",
       "     house_size  transaction_year  \n",
       "7          1316              2013  \n",
       "235        1035              2012  \n",
       "186         436              2013  \n",
       "127        1136              2013  \n",
       "277        1318              2013  \n",
       "..          ...               ...  \n",
       "85         1145              2012  \n",
       "307         812              2012  \n",
       "54         1193              2013  \n",
       "166        1448              2013  \n",
       "119         548              2013  \n",
       "\n",
       "[331 rows x 8 columns]"
      ]
     },
     "execution_count": 33,
     "metadata": {},
     "output_type": "execute_result"
    }
   ],
   "source": [
    "X_train\n"
   ]
  },
  {
   "cell_type": "code",
   "execution_count": 34,
   "metadata": {},
   "outputs": [
    {
     "data": {
      "text/plain": [
       "7      46.7\n",
       "235    39.3\n",
       "186    25.7\n",
       "127    55.0\n",
       "277    27.7\n",
       "       ... \n",
       "85     50.8\n",
       "307    24.7\n",
       "54     51.7\n",
       "166    73.6\n",
       "119    59.6\n",
       "Name: house_price_unit_area, Length: 331, dtype: float64"
      ]
     },
     "execution_count": 34,
     "metadata": {},
     "output_type": "execute_result"
    }
   ],
   "source": [
    "y_train\n"
   ]
  },
  {
   "cell_type": "markdown",
   "metadata": {},
   "source": [
    "### Model Evaluator\n",
    "\n",
    "- **Preprocessing**\n",
    "  - Applying standard scaler on feature to standardize values to same scale across all features.\n",
    "    - We can apply to all feature except `n_conv_store` and `n_bedrooms` if we consider it as explicitly ordinal but it won't affect much.\n",
    "  - Preprocessing only on `Training Dataset`.\n",
    "- **Model**\n",
    "  - Different Regression model will be used to evaluate.\n",
    "  - $R^2$ Score will be used to compare across different models.\n",
    "    - Adj. $R^2$ can be used for penalizing no. of feature but we have less feature it will be okay in this case and will decrease computation to ome extent.\n",
    "  - `GridSearchCV` will be used for hyperparameter tuning of each model.\n"
   ]
  },
  {
   "cell_type": "code",
   "execution_count": 35,
   "metadata": {},
   "outputs": [],
   "source": [
    "class ModelEvaluate:\n",
    "    __model_names = []\n",
    "    __model_report = []\n",
    "\n",
    "    def __init__(self, model_obj, model_name: str):\n",
    "        self.__unique_model_name(model_name)\n",
    "        self.model_obj = model_obj\n",
    "        self.model_name = model_name\n",
    "        self.gscv = None\n",
    "        self.pipe = None\n",
    "        self.scaler = StandardScaler()\n",
    "\n",
    "    def initialize_gscv(\n",
    "        self, params: dict, *, scoring: str = \"r2\", cv: int = 5\n",
    "    ):  # using r2 as it's easy to compare between different models\n",
    "        \"\"\"Initialize Grid Search CV Object\n",
    "\n",
    "        Args:\n",
    "            params (dict): parameter of model object for hyperparameter tuning\n",
    "            scoring (str, optional): Scoring string. Defaults to \"r2\".\n",
    "            cv (int, optional): No. of iteration in cross validation. Defaults to 5.\n",
    "        \"\"\"\n",
    "        self.gscv = GridSearchCV(\n",
    "            self.model_obj, param_grid=params, scoring=scoring, cv=cv, refit=False, verbose=1\n",
    "        )  # refit=False means it will not fit the model with best perimeter,\n",
    "        # i.e. we cannot use score or predict method, it's advisable to use it only when you want to calculate score\n",
    "\n",
    "    def initialize_pipeline(self):\n",
    "        \"\"\"Initialize Pipeline with preprocessor obj and gscv obj\"\"\"\n",
    "        self.pipe = Pipeline(steps=[(\"std_scaler\", self.scaler), (\"gscv\", self.gscv)])\n",
    "\n",
    "    def fit_pipeline(self, X: pd.DataFrame, y: pd.Series) -> dict:\n",
    "        \"\"\"Train the pipeline on `X` and `y`\n",
    "\n",
    "        Args:\n",
    "            X (pd.DataFrame): Features\n",
    "            y (pd.Series): Target\n",
    "\n",
    "        Returns:\n",
    "            dict: Returns best score and best parameter\n",
    "        \"\"\"\n",
    "        self.pipe.fit(X, y)\n",
    "        self.__model_report.append(\n",
    "            {\"Model Name\": self.model_name, \"Best Score (R2)\": self.pipe.named_steps[\"gscv\"].best_score_}\n",
    "        )\n",
    "        return self.get_best()\n",
    "\n",
    "    def get_best(self) -> dict:\n",
    "        \"\"\"Returns best score and best parameter\n",
    "\n",
    "        Returns:\n",
    "            dict: best score and best parameter\n",
    "        \"\"\"\n",
    "        return {\"score\": self.pipe.named_steps[\"gscv\"].best_score_, \"param\": self.pipe.named_steps[\"gscv\"].best_params_}\n",
    "\n",
    "    def __unique_model_name(self, model_name: str):\n",
    "        if model_name in self.__model_names:\n",
    "            raise Exception(f\"{model_name} already exists. model_name should be unique.\")\n",
    "        self.__model_names.append(model_name)\n",
    "\n",
    "    @staticmethod\n",
    "    def get_model_names() -> list:\n",
    "        \"\"\"Return list of existing model names\n",
    "\n",
    "        Returns:\n",
    "            list: model names\n",
    "        \"\"\"\n",
    "        return ModelEvaluate.__model_names\n",
    "\n",
    "    @staticmethod\n",
    "    def get_model_report() -> pd.DataFrame or str:\n",
    "        \"\"\"Returns model report with Model Name and Best Score\n",
    "\n",
    "        Returns:\n",
    "            pd.DataFrame or str: Model report\n",
    "        \"\"\"\n",
    "        if ModelEvaluate.__model_report:\n",
    "            return pd.DataFrame(ModelEvaluate.__model_report)\n",
    "        return \"No Model Evaluated\"\n"
   ]
  },
  {
   "cell_type": "markdown",
   "metadata": {},
   "source": [
    "#### Linear Regression\n"
   ]
  },
  {
   "cell_type": "code",
   "execution_count": 36,
   "metadata": {},
   "outputs": [
    {
     "name": "stdout",
     "output_type": "stream",
     "text": [
      "Fitting 5 folds for each of 1 candidates, totalling 5 fits\n"
     ]
    },
    {
     "data": {
      "text/plain": [
       "{'score': 0.5719709277593429, 'param': {}}"
      ]
     },
     "execution_count": 36,
     "metadata": {},
     "output_type": "execute_result"
    }
   ],
   "source": [
    "linear_param = {}\n",
    "linear_regressor = ModelEvaluate(LinearRegression(), \"linear regression\")\n",
    "linear_regressor.initialize_gscv(linear_param)\n",
    "linear_regressor.initialize_pipeline()\n",
    "linear_regressor.fit_pipeline(X_train, y_train)\n"
   ]
  },
  {
   "cell_type": "markdown",
   "metadata": {},
   "source": [
    "**OBSERVATION**\n",
    "\n",
    "- Does not perform well as feature is not linearly related with target (skewed and outlier)\n"
   ]
  },
  {
   "cell_type": "markdown",
   "metadata": {},
   "source": [
    "#### Lasso Regression\n"
   ]
  },
  {
   "cell_type": "code",
   "execution_count": 37,
   "metadata": {},
   "outputs": [
    {
     "name": "stdout",
     "output_type": "stream",
     "text": [
      "Fitting 5 folds for each of 28 candidates, totalling 140 fits\n"
     ]
    },
    {
     "data": {
      "text/plain": [
       "{'score': 0.5793037794381211, 'param': {'alpha': 0.5, 'random_state': 48}}"
      ]
     },
     "execution_count": 37,
     "metadata": {},
     "output_type": "execute_result"
    }
   ],
   "source": [
    "lasso_param = {\n",
    "    \"alpha\": [1e-3, 1e-2, 3e-2, 4e-2, 5e-2, 8e-2, 1e-1, 0.5, 0.8, 1, 1.2, 1.5, 1.8, 2],\n",
    "    \"random_state\": [48, 64],\n",
    "}\n",
    "lasso_regressor = ModelEvaluate(Lasso(), \"lasso regression\")\n",
    "lasso_regressor.initialize_gscv(lasso_param)\n",
    "lasso_regressor.initialize_pipeline()\n",
    "lasso_regressor.fit_pipeline(X_train, y_train)\n"
   ]
  },
  {
   "cell_type": "markdown",
   "metadata": {},
   "source": [
    "**OBSERVATION**\n",
    "\n",
    "- Does not perform well as feature is not linearly related with target (skewed and outlier)\n"
   ]
  },
  {
   "cell_type": "markdown",
   "metadata": {},
   "source": [
    "#### Ridge Regression\n"
   ]
  },
  {
   "cell_type": "code",
   "execution_count": 38,
   "metadata": {},
   "outputs": [
    {
     "name": "stdout",
     "output_type": "stream",
     "text": [
      "Fitting 5 folds for each of 30 candidates, totalling 150 fits\n"
     ]
    },
    {
     "data": {
      "text/plain": [
       "{'score': 0.5735439968721764, 'param': {'alpha': 17.6, 'random_state': 48}}"
      ]
     },
     "execution_count": 38,
     "metadata": {},
     "output_type": "execute_result"
    }
   ],
   "source": [
    "ridge_param = {\"alpha\": np.arange(0.1, 50, 3.5), \"random_state\": [48, 64]}\n",
    "ridge_regressor = ModelEvaluate(Ridge(), \"ridge regression\")\n",
    "ridge_regressor.initialize_gscv(ridge_param)\n",
    "ridge_regressor.initialize_pipeline()\n",
    "ridge_regressor.fit_pipeline(X_train, y_train)\n"
   ]
  },
  {
   "cell_type": "markdown",
   "metadata": {},
   "source": [
    "**OBSERVATION**\n",
    "\n",
    "- Does not perform well as feature is not linearly related with target (skewed and outlier)\n"
   ]
  },
  {
   "cell_type": "markdown",
   "metadata": {},
   "source": [
    "#### ElasticNet Regression\n"
   ]
  },
  {
   "cell_type": "code",
   "execution_count": 39,
   "metadata": {},
   "outputs": [
    {
     "name": "stdout",
     "output_type": "stream",
     "text": [
      "Fitting 5 folds for each of 406 candidates, totalling 2030 fits\n"
     ]
    },
    {
     "data": {
      "text/plain": [
       "{'score': 0.5780248733325916,\n",
       " 'param': {'alpha': 0.1, 'l1_ratio': 0.9000000000000001, 'random_state': 48}}"
      ]
     },
     "execution_count": 39,
     "metadata": {},
     "output_type": "execute_result"
    }
   ],
   "source": [
    "elasticNet_param = {\n",
    "    \"alpha\": [*lasso_param[\"alpha\"], *ridge_param[\"alpha\"]],\n",
    "    \"l1_ratio\": np.arange(0.3, 1, 0.1),\n",
    "    \"random_state\": [48, 64],\n",
    "}\n",
    "elasticNet_regressor = ModelEvaluate(ElasticNet(), \"elasticNet regression\")\n",
    "elasticNet_regressor.initialize_gscv(elasticNet_param)\n",
    "elasticNet_regressor.initialize_pipeline()\n",
    "elasticNet_regressor.fit_pipeline(X_train, y_train)\n"
   ]
  },
  {
   "cell_type": "markdown",
   "metadata": {},
   "source": [
    "**OBSERVATION**\n",
    "\n",
    "- Does not perform well as feature is not linearly related with target (skewed and outlier)\n"
   ]
  },
  {
   "cell_type": "markdown",
   "metadata": {},
   "source": [
    "#### Decision Tree Regression\n"
   ]
  },
  {
   "cell_type": "code",
   "execution_count": 40,
   "metadata": {},
   "outputs": [
    {
     "name": "stdout",
     "output_type": "stream",
     "text": [
      "Fitting 5 folds for each of 288 candidates, totalling 1440 fits\n"
     ]
    },
    {
     "data": {
      "text/plain": [
       "{'score': 0.663103206163574,\n",
       " 'param': {'criterion': 'absolute_error',\n",
       "  'max_depth': None,\n",
       "  'max_features': 'log2',\n",
       "  'min_samples_leaf': 3,\n",
       "  'random_state': 48}}"
      ]
     },
     "execution_count": 40,
     "metadata": {},
     "output_type": "execute_result"
    }
   ],
   "source": [
    "decision_tree_param = {\n",
    "    \"criterion\": [\"squared_error\", \"absolute_error\", \"poisson\"],\n",
    "    \"max_depth\": [None, 2, 3, 4],\n",
    "    \"min_samples_leaf\": [3, 5, 8, 10],\n",
    "    \"max_features\": [None, \"log2\", \"sqrt\"],\n",
    "    \"random_state\": [48, 64],\n",
    "}\n",
    "decision_tree_regressor = ModelEvaluate(DecisionTreeRegressor(), \"decision tree regression\")\n",
    "decision_tree_regressor.initialize_gscv(decision_tree_param)\n",
    "decision_tree_regressor.initialize_pipeline()\n",
    "decision_tree_regressor.fit_pipeline(X_train, y_train)\n"
   ]
  },
  {
   "cell_type": "markdown",
   "metadata": {},
   "source": [
    "**OBSERVATION**\n",
    "\n",
    "- Requires more amount of data to find pattern and do better split.\n",
    "- Prone to overfitting\n"
   ]
  },
  {
   "cell_type": "markdown",
   "metadata": {},
   "source": [
    "#### Random Forest Regression\n"
   ]
  },
  {
   "cell_type": "code",
   "execution_count": 41,
   "metadata": {},
   "outputs": [
    {
     "name": "stdout",
     "output_type": "stream",
     "text": [
      "Fitting 5 folds for each of 72 candidates, totalling 360 fits\n"
     ]
    },
    {
     "data": {
      "text/plain": [
       "{'score': 0.7085029553168807,\n",
       " 'param': {'criterion': 'squared_error',\n",
       "  'max_depth': None,\n",
       "  'max_features': 'log2',\n",
       "  'min_samples_leaf': 3,\n",
       "  'n_estimators': 200,\n",
       "  'random_state': 64}}"
      ]
     },
     "execution_count": 41,
     "metadata": {},
     "output_type": "execute_result"
    }
   ],
   "source": [
    "random_forest_param = {\n",
    "    \"n_estimators\": np.arange(50, 201, 50),\n",
    "    \"criterion\": [\"squared_error\"],\n",
    "    \"max_depth\": [None, 2, 5],\n",
    "    \"min_samples_leaf\": [3, 8],\n",
    "    \"max_features\": [None, \"log2\", \"sqrt\"],\n",
    "    \"random_state\": [64],\n",
    "}\n",
    "random_forest_regressor = ModelEvaluate(RandomForestRegressor(), \"random forest regression\")\n",
    "random_forest_regressor.initialize_gscv(random_forest_param)\n",
    "random_forest_regressor.initialize_pipeline()\n",
    "random_forest_regressor.fit_pipeline(X_train, y_train)\n"
   ]
  },
  {
   "cell_type": "markdown",
   "metadata": {},
   "source": [
    "**OBSERVATION**\n",
    "\n",
    "- Requires more amount of data to find optimal criteria for split.\n",
    "- Prone to overfitting.\n",
    "- Performs well compare to Decision Tree due to Ensemble Technique (Bagging).\n"
   ]
  },
  {
   "cell_type": "markdown",
   "metadata": {},
   "source": [
    "#### AdaBoost Regression\n"
   ]
  },
  {
   "cell_type": "code",
   "execution_count": 42,
   "metadata": {},
   "outputs": [
    {
     "name": "stdout",
     "output_type": "stream",
     "text": [
      "Fitting 5 folds for each of 24 candidates, totalling 120 fits\n"
     ]
    },
    {
     "data": {
      "text/plain": [
       "{'score': 0.6553149136087062,\n",
       " 'param': {'learning_rate': 0.1,\n",
       "  'loss': 'square',\n",
       "  'n_estimators': 200,\n",
       "  'random_state': 48}}"
      ]
     },
     "execution_count": 42,
     "metadata": {},
     "output_type": "execute_result"
    }
   ],
   "source": [
    "ada_boost_param = {\n",
    "    \"n_estimators\": np.arange(50, 201, 50),\n",
    "    \"learning_rate\": [0.1, 0.5],\n",
    "    \"loss\": [\"linear\", \"square\", \"exponential\"],\n",
    "    \"random_state\": [48],\n",
    "}\n",
    "ada_boost_regressor = ModelEvaluate(AdaBoostRegressor(), \"ada boost regression\")\n",
    "ada_boost_regressor.initialize_gscv(ada_boost_param)\n",
    "ada_boost_regressor.initialize_pipeline()\n",
    "ada_boost_regressor.fit_pipeline(X_train, y_train)\n"
   ]
  },
  {
   "cell_type": "markdown",
   "metadata": {},
   "source": [
    "**OBSERVATION**\n",
    "\n",
    "- Requires more amount of data to learn hidden pattern and relation.\n",
    "- Performs well compare to Decision Tree due to Ensemble Technique (Boosting).\n"
   ]
  },
  {
   "cell_type": "markdown",
   "metadata": {},
   "source": [
    "#### XGBoost Regression\n"
   ]
  },
  {
   "cell_type": "code",
   "execution_count": 43,
   "metadata": {},
   "outputs": [
    {
     "name": "stdout",
     "output_type": "stream",
     "text": [
      "Fitting 5 folds for each of 24 candidates, totalling 120 fits\n"
     ]
    },
    {
     "data": {
      "text/plain": [
       "{'score': 0.6854628336356724,\n",
       " 'param': {'learning_rate': 0.1,\n",
       "  'max_depth': 2,\n",
       "  'n_estimators': 50,\n",
       "  'random_state': 64}}"
      ]
     },
     "execution_count": 43,
     "metadata": {},
     "output_type": "execute_result"
    }
   ],
   "source": [
    "xg_boost_param = {\n",
    "    \"n_estimators\": np.arange(50, 201, 50),\n",
    "    \"max_depth\": [2, 5],\n",
    "    \"learning_rate\": [0.1, 0.5, 1],\n",
    "    \"random_state\": [64],\n",
    "}\n",
    "xg_boost_regressor = ModelEvaluate(XGBRegressor(), \"xg boost regression\")\n",
    "xg_boost_regressor.initialize_gscv(xg_boost_param)\n",
    "xg_boost_regressor.initialize_pipeline()\n",
    "xg_boost_regressor.fit_pipeline(X_train, y_train)\n"
   ]
  },
  {
   "cell_type": "markdown",
   "metadata": {},
   "source": [
    "**OBSERVATION**\n",
    "\n",
    "- Requires more amount of data to learn hidden pattern and relation.\n",
    "- Performs well compare to Decision Tree due to Ensemble Technique (Boosting).\n"
   ]
  },
  {
   "cell_type": "markdown",
   "metadata": {},
   "source": [
    "#### CATBoost Regression\n"
   ]
  },
  {
   "cell_type": "code",
   "execution_count": 44,
   "metadata": {},
   "outputs": [
    {
     "name": "stdout",
     "output_type": "stream",
     "text": [
      "Fitting 5 folds for each of 120 candidates, totalling 600 fits\n"
     ]
    },
    {
     "data": {
      "text/plain": [
       "{'score': 0.6945343343046028,\n",
       " 'param': {'depth': 3,\n",
       "  'iterations': 50,\n",
       "  'learning_rate': 0.1,\n",
       "  'random_seed': 64,\n",
       "  'verbose': False}}"
      ]
     },
     "execution_count": 44,
     "metadata": {},
     "output_type": "execute_result"
    }
   ],
   "source": [
    "cat_boost_param = {\n",
    "    \"iterations\": [50, 100, 200],\n",
    "    \"depth\": [2, 3, 5, 6],\n",
    "    \"learning_rate\": [0.1, 0.3, 0.5, 0.8, 1],\n",
    "    \"random_seed\": [48, 64],\n",
    "    \"verbose\": [False],\n",
    "}\n",
    "cat_boost_regressor = ModelEvaluate(CatBoostRegressor(), \"cat boost regression\")\n",
    "cat_boost_regressor.initialize_gscv(cat_boost_param)\n",
    "cat_boost_regressor.initialize_pipeline()\n",
    "cat_boost_regressor.fit_pipeline(X_train, y_train)\n"
   ]
  },
  {
   "cell_type": "markdown",
   "metadata": {},
   "source": [
    "**OBSERVATION**\n",
    "\n",
    "- Requires more amount of data to learn hidden pattern and relation.\n",
    "- Performs well compare to Decision Tree due to Ensemble Technique (Boosting).\n",
    "- CATBoost algorithm does hyperparameter tuning in it's own algorithm itself and stores previous iteration for faster computation in next iteration.\n"
   ]
  },
  {
   "cell_type": "code",
   "execution_count": 45,
   "metadata": {},
   "outputs": [
    {
     "data": {
      "text/html": [
       "<div>\n",
       "<style scoped>\n",
       "    .dataframe tbody tr th:only-of-type {\n",
       "        vertical-align: middle;\n",
       "    }\n",
       "\n",
       "    .dataframe tbody tr th {\n",
       "        vertical-align: top;\n",
       "    }\n",
       "\n",
       "    .dataframe thead th {\n",
       "        text-align: right;\n",
       "    }\n",
       "</style>\n",
       "<table border=\"1\" class=\"dataframe\">\n",
       "  <thead>\n",
       "    <tr style=\"text-align: right;\">\n",
       "      <th></th>\n",
       "      <th>Model Name</th>\n",
       "      <th>Best Score (R2)</th>\n",
       "    </tr>\n",
       "  </thead>\n",
       "  <tbody>\n",
       "    <tr>\n",
       "      <th>5</th>\n",
       "      <td>random forest regression</td>\n",
       "      <td>0.708503</td>\n",
       "    </tr>\n",
       "    <tr>\n",
       "      <th>8</th>\n",
       "      <td>cat boost regression</td>\n",
       "      <td>0.694534</td>\n",
       "    </tr>\n",
       "    <tr>\n",
       "      <th>7</th>\n",
       "      <td>xg boost regression</td>\n",
       "      <td>0.685463</td>\n",
       "    </tr>\n",
       "    <tr>\n",
       "      <th>4</th>\n",
       "      <td>decision tree regression</td>\n",
       "      <td>0.663103</td>\n",
       "    </tr>\n",
       "    <tr>\n",
       "      <th>6</th>\n",
       "      <td>ada boost regression</td>\n",
       "      <td>0.655315</td>\n",
       "    </tr>\n",
       "    <tr>\n",
       "      <th>1</th>\n",
       "      <td>lasso regression</td>\n",
       "      <td>0.579304</td>\n",
       "    </tr>\n",
       "    <tr>\n",
       "      <th>3</th>\n",
       "      <td>elasticNet regression</td>\n",
       "      <td>0.578025</td>\n",
       "    </tr>\n",
       "    <tr>\n",
       "      <th>2</th>\n",
       "      <td>ridge regression</td>\n",
       "      <td>0.573544</td>\n",
       "    </tr>\n",
       "    <tr>\n",
       "      <th>0</th>\n",
       "      <td>linear regression</td>\n",
       "      <td>0.571971</td>\n",
       "    </tr>\n",
       "  </tbody>\n",
       "</table>\n",
       "</div>"
      ],
      "text/plain": [
       "                 Model Name  Best Score (R2)\n",
       "5  random forest regression         0.708503\n",
       "8      cat boost regression         0.694534\n",
       "7       xg boost regression         0.685463\n",
       "4  decision tree regression         0.663103\n",
       "6      ada boost regression         0.655315\n",
       "1          lasso regression         0.579304\n",
       "3     elasticNet regression         0.578025\n",
       "2          ridge regression         0.573544\n",
       "0         linear regression         0.571971"
      ]
     },
     "execution_count": 45,
     "metadata": {},
     "output_type": "execute_result"
    }
   ],
   "source": [
    "ModelEvaluate.get_model_report().sort_values(\"Best Score (R2)\", ascending=False)\n"
   ]
  },
  {
   "cell_type": "markdown",
   "metadata": {},
   "source": [
    "**OBSERVATION**\n",
    "\n",
    "- $r^2$ score of `random forest`, `cat boost regressor` and `xg boost regressor` are close.\n",
    "- Classic regression model did not perform well.\n",
    "\n",
    "**TODO**\n",
    "\n",
    "- Calculate `RMSE` of three models and decide final model based on `RMSE`.\n"
   ]
  },
  {
   "cell_type": "markdown",
   "metadata": {},
   "source": [
    "#### Final Evaluation\n"
   ]
  },
  {
   "cell_type": "code",
   "execution_count": 46,
   "metadata": {},
   "outputs": [],
   "source": [
    "class RMSE_Model:\n",
    "    __model_names = []\n",
    "    __model_rmse = []\n",
    "\n",
    "    def __init__(self, model_obj, model_name):\n",
    "        self.__unique_model_name(model_name)\n",
    "        self.model_obj = model_obj\n",
    "        self.model_name = model_name\n",
    "\n",
    "    def fit_model(self, X: pd.DataFrame = X_train, y: pd.Series = y_train):\n",
    "        \"\"\"Train model with `X` features against `y` target\n",
    "\n",
    "        Args:\n",
    "            X (pd.DataFrame, optional): Feature. Defaults to X_train.\n",
    "            y (pd.Series, optional): Target. Defaults to y_train.\n",
    "        \"\"\"\n",
    "        self.model_obj.fit(X, y)\n",
    "\n",
    "    def calc_rmse(self, X: pd.DataFrame = X_test, y: pd.Series = y_test) -> float:\n",
    "        \"\"\"Calculate rmse of model given `X` and `y`\n",
    "\n",
    "        Args:\n",
    "            X (pd.DataFrame, optional): Feature. Defaults to X_test.\n",
    "            y (pd.Series, optional): Target. Defaults to y_test.\n",
    "\n",
    "        Returns:\n",
    "            float: RMSE value\n",
    "        \"\"\"\n",
    "        rmse = mean_squared_error(y_true=y, y_pred=self.model_obj.predict(X), squared=False)\n",
    "        self.__model_rmse.append({\"Model Name\": self.model_name, \"RMSE\": rmse})\n",
    "        return rmse\n",
    "\n",
    "    def __unique_model_name(self, model_name: str):\n",
    "        if model_name in self.__model_names:\n",
    "            raise Exception(f\"{model_name} already exists. model_name should be unique.\")\n",
    "        self.__model_names.append(model_name)\n",
    "\n",
    "    @staticmethod\n",
    "    def get_model_names() -> list:\n",
    "        \"\"\"Return list of existing model names\n",
    "\n",
    "        Returns:\n",
    "            list: model names\n",
    "        \"\"\"\n",
    "        return RMSE_Model.__model_names\n",
    "\n",
    "    @staticmethod\n",
    "    def get_RMSE_report() -> pd.DataFrame or str:\n",
    "        \"\"\"Return Model name and it's rmse score\n",
    "\n",
    "        Returns:\n",
    "            pd.DataFrame or str: Model name and rmse score\n",
    "        \"\"\"\n",
    "        if RMSE_Model.__model_rmse:\n",
    "            return pd.DataFrame(RMSE_Model.__model_rmse)\n",
    "        return \"No Model Evaluated\"\n"
   ]
  },
  {
   "cell_type": "code",
   "execution_count": 47,
   "metadata": {},
   "outputs": [
    {
     "name": "stderr",
     "output_type": "stream",
     "text": [
      "c:\\Users\\GodWin\\anaconda3\\envs\\fsds\\lib\\site-packages\\xgboost\\data.py:250: FutureWarning:\n",
      "\n",
      "pandas.Int64Index is deprecated and will be removed from pandas in a future version. Use pandas.Index with the appropriate dtype instead.\n",
      "\n"
     ]
    },
    {
     "data": {
      "text/html": [
       "<div>\n",
       "<style scoped>\n",
       "    .dataframe tbody tr th:only-of-type {\n",
       "        vertical-align: middle;\n",
       "    }\n",
       "\n",
       "    .dataframe tbody tr th {\n",
       "        vertical-align: top;\n",
       "    }\n",
       "\n",
       "    .dataframe thead th {\n",
       "        text-align: right;\n",
       "    }\n",
       "</style>\n",
       "<table border=\"1\" class=\"dataframe\">\n",
       "  <thead>\n",
       "    <tr style=\"text-align: right;\">\n",
       "      <th></th>\n",
       "      <th>Model Name</th>\n",
       "      <th>RMSE</th>\n",
       "    </tr>\n",
       "  </thead>\n",
       "  <tbody>\n",
       "    <tr>\n",
       "      <th>0</th>\n",
       "      <td>Random Forest Regressor</td>\n",
       "      <td>6.876381</td>\n",
       "    </tr>\n",
       "    <tr>\n",
       "      <th>1</th>\n",
       "      <td>CatBoost Regressor</td>\n",
       "      <td>7.273574</td>\n",
       "    </tr>\n",
       "    <tr>\n",
       "      <th>2</th>\n",
       "      <td>XgBoost Regressor</td>\n",
       "      <td>7.567613</td>\n",
       "    </tr>\n",
       "  </tbody>\n",
       "</table>\n",
       "</div>"
      ],
      "text/plain": [
       "                Model Name      RMSE\n",
       "0  Random Forest Regressor  6.876381\n",
       "1       CatBoost Regressor  7.273574\n",
       "2        XgBoost Regressor  7.567613"
      ]
     },
     "execution_count": 47,
     "metadata": {},
     "output_type": "execute_result"
    }
   ],
   "source": [
    "# Random Forest Regressor\n",
    "final_random_forest = RMSE_Model(\n",
    "    RandomForestRegressor(**random_forest_regressor.gscv.best_params_), \"Random Forest Regressor\"\n",
    ")\n",
    "final_random_forest.fit_model()\n",
    "final_random_forest.calc_rmse()\n",
    "\n",
    "# CatBoost Regressor\n",
    "final_catboost = RMSE_Model(CatBoostRegressor(**cat_boost_regressor.gscv.best_params_), \"CatBoost Regressor\")\n",
    "final_catboost.fit_model()\n",
    "final_catboost.calc_rmse()\n",
    "\n",
    "# XgBoost Regressor\n",
    "final_xg_boost = RMSE_Model(XGBRegressor(**xg_boost_regressor.gscv.best_params_), \"XgBoost Regressor\")\n",
    "final_xg_boost.fit_model()\n",
    "final_xg_boost.calc_rmse()\n",
    "\n",
    "RMSE_Model.get_RMSE_report()\n"
   ]
  },
  {
   "cell_type": "markdown",
   "metadata": {},
   "source": [
    "**OBSERVATION**\n",
    "\n",
    "- `Random Forest Regressor` has lower `RMSE` value compare to other models.\n",
    "\n",
    "**CONCLUSION**\n",
    "\n",
    "- Ensemble Model requires sufficiently large amount of training data to detect pattern and tune it's parameter.\n",
    "- Linear statistical model requires linear relationship among independent feature and dependent target.\n",
    "- Naive Bayes model works well with categorical feature, this dataset does not have any categorical feature hence it was not trained.\n",
    "- We can select `Random Forest Regressor`, but there are high chances model is over-fitted due to less data and it's fully grown.\n",
    "- We can select any one from final three model if we have sufficient data to train we can see one of this model outperforming other models.\n"
   ]
  }
 ],
 "metadata": {
  "kernelspec": {
   "display_name": "Python 3.8.10 ('fsds')",
   "language": "python",
   "name": "python3"
  },
  "language_info": {
   "codemirror_mode": {
    "name": "ipython",
    "version": 3
   },
   "file_extension": ".py",
   "mimetype": "text/x-python",
   "name": "python",
   "nbconvert_exporter": "python",
   "pygments_lexer": "ipython3",
   "version": "3.8.10"
  },
  "orig_nbformat": 4,
  "vscode": {
   "interpreter": {
    "hash": "20f5f825ba7e1e0138bea706cf7ce76ba178632e6be331b5251920b13e58ac94"
   }
  }
 },
 "nbformat": 4,
 "nbformat_minor": 2
}
